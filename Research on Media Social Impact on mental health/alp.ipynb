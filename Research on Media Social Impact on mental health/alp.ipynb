{
 "cells": [
  {
   "cell_type": "markdown",
   "metadata": {
    "id": "lLgu_A2kObgL"
   },
   "source": [
    "# ISB02303402 Data Science\n",
    "## ALP - Social Media Usage and Emotional Well-Being"
   ]
  },
  {
   "cell_type": "markdown",
   "metadata": {},
   "source": [
    "### What is this data :\n",
    "This data was made by AI Inventor Emirhan BULUT. The data shows how social media engagements affects the mental wellbeing of the user. This dataset contains 3 files : \n",
    "\n",
    "-train.csv: Data for training models.\n",
    "\n",
    "-test.csv: Data for testing models.\n",
    "\n",
    "-val.csv: Data for validation purposes.\n",
    "\n",
    "##### Dataset source : https://www.kaggle.com/datasets/emirhanai/social-media-usage-and-emotional-well-being/code"
   ]
  },
  {
   "cell_type": "markdown",
   "metadata": {
    "id": "Aeb6oQGbOTM8"
   },
   "source": [
    "### Import Libraries"
   ]
  },
  {
   "cell_type": "code",
   "execution_count": 1,
   "metadata": {
    "id": "M18rMzGVTi6l"
   },
   "outputs": [],
   "source": [
    "import numpy as np\n",
    "import pandas as pd\n",
    "\n",
    "import matplotlib.pyplot as plt\n",
    "import seaborn as sns\n",
    "\n",
    "import scipy.stats as st\n",
    "import plotly.express as px"
   ]
  },
  {
   "cell_type": "code",
   "execution_count": 2,
   "metadata": {},
   "outputs": [],
   "source": [
    "import warnings\n",
    "warnings.filterwarnings(\"ignore\")"
   ]
  },
  {
   "cell_type": "markdown",
   "metadata": {
    "id": "W2GjxZ4wT8Tt"
   },
   "source": [
    "### Loading the dataset"
   ]
  },
  {
   "cell_type": "code",
   "execution_count": null,
   "metadata": {},
   "outputs": [],
   "source": []
  },
  {
   "cell_type": "code",
   "execution_count": 3,
   "metadata": {},
   "outputs": [],
   "source": [
    "# Change the Path before coding\n",
    "\n",
    "train_path = r'C:\\Users\\{...}. Tugas\\Data Science\\ALP\\archive\\train.csv'\n",
    "test_path = r'C:\\Users\\{...}. Tugas\\Data Science\\ALP\\archive\\test.csv'\n",
    "val_path = r'C:\\Users\\{...}. Tugas\\Data Science\\ALP\\archive\\val.csv'"
   ]
  },
  {
   "cell_type": "code",
   "execution_count": 4,
   "metadata": {
    "id": "ZTEluG97UBa_"
   },
   "outputs": [],
   "source": [
    "train_df = pd.read_csv(train_path, on_bad_lines='skip')\n",
    "test_df = pd.read_csv(test_path, on_bad_lines='skip')\n",
    "val_df = pd.read_csv(val_path, on_bad_lines='skip')"
   ]
  },
  {
   "cell_type": "code",
   "execution_count": 5,
   "metadata": {},
   "outputs": [
    {
     "name": "stdout",
     "output_type": "stream",
     "text": [
      "Training Data:\n"
     ]
    },
    {
     "data": {
      "text/html": [
       "<div>\n",
       "<style scoped>\n",
       "    .dataframe tbody tr th:only-of-type {\n",
       "        vertical-align: middle;\n",
       "    }\n",
       "\n",
       "    .dataframe tbody tr th {\n",
       "        vertical-align: top;\n",
       "    }\n",
       "\n",
       "    .dataframe thead th {\n",
       "        text-align: right;\n",
       "    }\n",
       "</style>\n",
       "<table border=\"1\" class=\"dataframe\">\n",
       "  <thead>\n",
       "    <tr style=\"text-align: right;\">\n",
       "      <th></th>\n",
       "      <th>User_ID</th>\n",
       "      <th>Age</th>\n",
       "      <th>Gender</th>\n",
       "      <th>Platform</th>\n",
       "      <th>Daily_Usage_Time (minutes)</th>\n",
       "      <th>Posts_Per_Day</th>\n",
       "      <th>Likes_Received_Per_Day</th>\n",
       "      <th>Comments_Received_Per_Day</th>\n",
       "      <th>Messages_Sent_Per_Day</th>\n",
       "      <th>Dominant_Emotion</th>\n",
       "    </tr>\n",
       "  </thead>\n",
       "  <tbody>\n",
       "    <tr>\n",
       "      <th>0</th>\n",
       "      <td>1</td>\n",
       "      <td>25</td>\n",
       "      <td>Female</td>\n",
       "      <td>Instagram</td>\n",
       "      <td>120.0</td>\n",
       "      <td>3.0</td>\n",
       "      <td>45.0</td>\n",
       "      <td>10.0</td>\n",
       "      <td>12.0</td>\n",
       "      <td>Happiness</td>\n",
       "    </tr>\n",
       "    <tr>\n",
       "      <th>1</th>\n",
       "      <td>2</td>\n",
       "      <td>30</td>\n",
       "      <td>Male</td>\n",
       "      <td>Twitter</td>\n",
       "      <td>90.0</td>\n",
       "      <td>5.0</td>\n",
       "      <td>20.0</td>\n",
       "      <td>25.0</td>\n",
       "      <td>30.0</td>\n",
       "      <td>Anger</td>\n",
       "    </tr>\n",
       "    <tr>\n",
       "      <th>2</th>\n",
       "      <td>3</td>\n",
       "      <td>22</td>\n",
       "      <td>Non-binary</td>\n",
       "      <td>Facebook</td>\n",
       "      <td>60.0</td>\n",
       "      <td>2.0</td>\n",
       "      <td>15.0</td>\n",
       "      <td>5.0</td>\n",
       "      <td>20.0</td>\n",
       "      <td>Neutral</td>\n",
       "    </tr>\n",
       "    <tr>\n",
       "      <th>3</th>\n",
       "      <td>4</td>\n",
       "      <td>28</td>\n",
       "      <td>Female</td>\n",
       "      <td>Instagram</td>\n",
       "      <td>200.0</td>\n",
       "      <td>8.0</td>\n",
       "      <td>100.0</td>\n",
       "      <td>30.0</td>\n",
       "      <td>50.0</td>\n",
       "      <td>Anxiety</td>\n",
       "    </tr>\n",
       "    <tr>\n",
       "      <th>4</th>\n",
       "      <td>5</td>\n",
       "      <td>33</td>\n",
       "      <td>Male</td>\n",
       "      <td>LinkedIn</td>\n",
       "      <td>45.0</td>\n",
       "      <td>1.0</td>\n",
       "      <td>5.0</td>\n",
       "      <td>2.0</td>\n",
       "      <td>10.0</td>\n",
       "      <td>Boredom</td>\n",
       "    </tr>\n",
       "    <tr>\n",
       "      <th>...</th>\n",
       "      <td>...</td>\n",
       "      <td>...</td>\n",
       "      <td>...</td>\n",
       "      <td>...</td>\n",
       "      <td>...</td>\n",
       "      <td>...</td>\n",
       "      <td>...</td>\n",
       "      <td>...</td>\n",
       "      <td>...</td>\n",
       "      <td>...</td>\n",
       "    </tr>\n",
       "    <tr>\n",
       "      <th>996</th>\n",
       "      <td>996</td>\n",
       "      <td>33</td>\n",
       "      <td>Non-binary</td>\n",
       "      <td>Twitter</td>\n",
       "      <td>85.0</td>\n",
       "      <td>4.0</td>\n",
       "      <td>35.0</td>\n",
       "      <td>18.0</td>\n",
       "      <td>18.0</td>\n",
       "      <td>Boredom</td>\n",
       "    </tr>\n",
       "    <tr>\n",
       "      <th>997</th>\n",
       "      <td>997</td>\n",
       "      <td>22</td>\n",
       "      <td>Female</td>\n",
       "      <td>Facebook</td>\n",
       "      <td>70.0</td>\n",
       "      <td>1.0</td>\n",
       "      <td>14.0</td>\n",
       "      <td>6.0</td>\n",
       "      <td>10.0</td>\n",
       "      <td>Neutral</td>\n",
       "    </tr>\n",
       "    <tr>\n",
       "      <th>998</th>\n",
       "      <td>998</td>\n",
       "      <td>35</td>\n",
       "      <td>Male</td>\n",
       "      <td>Whatsapp</td>\n",
       "      <td>110.0</td>\n",
       "      <td>3.0</td>\n",
       "      <td>50.0</td>\n",
       "      <td>25.0</td>\n",
       "      <td>25.0</td>\n",
       "      <td>Happiness</td>\n",
       "    </tr>\n",
       "    <tr>\n",
       "      <th>999</th>\n",
       "      <td>999</td>\n",
       "      <td>28</td>\n",
       "      <td>Non-binary</td>\n",
       "      <td>Telegram</td>\n",
       "      <td>60.0</td>\n",
       "      <td>2.0</td>\n",
       "      <td>18.0</td>\n",
       "      <td>8.0</td>\n",
       "      <td>18.0</td>\n",
       "      <td>Anger</td>\n",
       "    </tr>\n",
       "    <tr>\n",
       "      <th>1000</th>\n",
       "      <td>1000</td>\n",
       "      <td>27</td>\n",
       "      <td>Female</td>\n",
       "      <td>Snapchat</td>\n",
       "      <td>120.0</td>\n",
       "      <td>4.0</td>\n",
       "      <td>40.0</td>\n",
       "      <td>18.0</td>\n",
       "      <td>22.0</td>\n",
       "      <td>Neutral</td>\n",
       "    </tr>\n",
       "  </tbody>\n",
       "</table>\n",
       "<p>1001 rows × 10 columns</p>\n",
       "</div>"
      ],
      "text/plain": [
       "     User_ID Age      Gender   Platform  Daily_Usage_Time (minutes)  \\\n",
       "0          1  25      Female  Instagram                       120.0   \n",
       "1          2  30        Male    Twitter                        90.0   \n",
       "2          3  22  Non-binary   Facebook                        60.0   \n",
       "3          4  28      Female  Instagram                       200.0   \n",
       "4          5  33        Male   LinkedIn                        45.0   \n",
       "...      ...  ..         ...        ...                         ...   \n",
       "996      996  33  Non-binary    Twitter                        85.0   \n",
       "997      997  22      Female   Facebook                        70.0   \n",
       "998      998  35        Male   Whatsapp                       110.0   \n",
       "999      999  28  Non-binary   Telegram                        60.0   \n",
       "1000    1000  27      Female   Snapchat                       120.0   \n",
       "\n",
       "      Posts_Per_Day  Likes_Received_Per_Day  Comments_Received_Per_Day  \\\n",
       "0               3.0                    45.0                       10.0   \n",
       "1               5.0                    20.0                       25.0   \n",
       "2               2.0                    15.0                        5.0   \n",
       "3               8.0                   100.0                       30.0   \n",
       "4               1.0                     5.0                        2.0   \n",
       "...             ...                     ...                        ...   \n",
       "996             4.0                    35.0                       18.0   \n",
       "997             1.0                    14.0                        6.0   \n",
       "998             3.0                    50.0                       25.0   \n",
       "999             2.0                    18.0                        8.0   \n",
       "1000            4.0                    40.0                       18.0   \n",
       "\n",
       "      Messages_Sent_Per_Day Dominant_Emotion  \n",
       "0                      12.0        Happiness  \n",
       "1                      30.0            Anger  \n",
       "2                      20.0          Neutral  \n",
       "3                      50.0          Anxiety  \n",
       "4                      10.0          Boredom  \n",
       "...                     ...              ...  \n",
       "996                    18.0          Boredom  \n",
       "997                    10.0          Neutral  \n",
       "998                    25.0        Happiness  \n",
       "999                    18.0            Anger  \n",
       "1000                   22.0          Neutral  \n",
       "\n",
       "[1001 rows x 10 columns]"
      ]
     },
     "metadata": {},
     "output_type": "display_data"
    },
    {
     "name": "stdout",
     "output_type": "stream",
     "text": [
      "----------------------------------------------------------------------\n",
      "Testing Data:\n"
     ]
    },
    {
     "data": {
      "text/html": [
       "<div>\n",
       "<style scoped>\n",
       "    .dataframe tbody tr th:only-of-type {\n",
       "        vertical-align: middle;\n",
       "    }\n",
       "\n",
       "    .dataframe tbody tr th {\n",
       "        vertical-align: top;\n",
       "    }\n",
       "\n",
       "    .dataframe thead th {\n",
       "        text-align: right;\n",
       "    }\n",
       "</style>\n",
       "<table border=\"1\" class=\"dataframe\">\n",
       "  <thead>\n",
       "    <tr style=\"text-align: right;\">\n",
       "      <th></th>\n",
       "      <th>User_ID</th>\n",
       "      <th>Age</th>\n",
       "      <th>Gender</th>\n",
       "      <th>Platform</th>\n",
       "      <th>Daily_Usage_Time (minutes)</th>\n",
       "      <th>Posts_Per_Day</th>\n",
       "      <th>Likes_Received_Per_Day</th>\n",
       "      <th>Comments_Received_Per_Day</th>\n",
       "      <th>Messages_Sent_Per_Day</th>\n",
       "      <th>Dominant_Emotion</th>\n",
       "    </tr>\n",
       "  </thead>\n",
       "  <tbody>\n",
       "    <tr>\n",
       "      <th>0</th>\n",
       "      <td>500</td>\n",
       "      <td>27</td>\n",
       "      <td>Female</td>\n",
       "      <td>Snapchat</td>\n",
       "      <td>120</td>\n",
       "      <td>4</td>\n",
       "      <td>40</td>\n",
       "      <td>18</td>\n",
       "      <td>22</td>\n",
       "      <td>Neutral</td>\n",
       "    </tr>\n",
       "    <tr>\n",
       "      <th>1</th>\n",
       "      <td>488</td>\n",
       "      <td>21</td>\n",
       "      <td>Non-binary</td>\n",
       "      <td>Snapchat</td>\n",
       "      <td>60</td>\n",
       "      <td>1</td>\n",
       "      <td>18</td>\n",
       "      <td>7</td>\n",
       "      <td>12</td>\n",
       "      <td>Neutral</td>\n",
       "    </tr>\n",
       "    <tr>\n",
       "      <th>2</th>\n",
       "      <td>776</td>\n",
       "      <td>28</td>\n",
       "      <td>Non-binary</td>\n",
       "      <td>Snapchat</td>\n",
       "      <td>115</td>\n",
       "      <td>3</td>\n",
       "      <td>38</td>\n",
       "      <td>18</td>\n",
       "      <td>27</td>\n",
       "      <td>Anxiety</td>\n",
       "    </tr>\n",
       "    <tr>\n",
       "      <th>3</th>\n",
       "      <td>869</td>\n",
       "      <td>27</td>\n",
       "      <td>Male</td>\n",
       "      <td>Telegram</td>\n",
       "      <td>105</td>\n",
       "      <td>3</td>\n",
       "      <td>48</td>\n",
       "      <td>20</td>\n",
       "      <td>28</td>\n",
       "      <td>Anxiety</td>\n",
       "    </tr>\n",
       "    <tr>\n",
       "      <th>4</th>\n",
       "      <td>573</td>\n",
       "      <td>21</td>\n",
       "      <td>Non-binary</td>\n",
       "      <td>Facebook</td>\n",
       "      <td>55</td>\n",
       "      <td>3</td>\n",
       "      <td>17</td>\n",
       "      <td>7</td>\n",
       "      <td>12</td>\n",
       "      <td>Neutral</td>\n",
       "    </tr>\n",
       "    <tr>\n",
       "      <th>...</th>\n",
       "      <td>...</td>\n",
       "      <td>...</td>\n",
       "      <td>...</td>\n",
       "      <td>...</td>\n",
       "      <td>...</td>\n",
       "      <td>...</td>\n",
       "      <td>...</td>\n",
       "      <td>...</td>\n",
       "      <td>...</td>\n",
       "      <td>...</td>\n",
       "    </tr>\n",
       "    <tr>\n",
       "      <th>98</th>\n",
       "      <td>184</td>\n",
       "      <td>22</td>\n",
       "      <td>Male</td>\n",
       "      <td>Twitter</td>\n",
       "      <td>70</td>\n",
       "      <td>1</td>\n",
       "      <td>20</td>\n",
       "      <td>5</td>\n",
       "      <td>22</td>\n",
       "      <td>Neutral</td>\n",
       "    </tr>\n",
       "    <tr>\n",
       "      <th>99</th>\n",
       "      <td>896</td>\n",
       "      <td>33</td>\n",
       "      <td>Male</td>\n",
       "      <td>LinkedIn</td>\n",
       "      <td>85</td>\n",
       "      <td>4</td>\n",
       "      <td>35</td>\n",
       "      <td>18</td>\n",
       "      <td>18</td>\n",
       "      <td>Boredom</td>\n",
       "    </tr>\n",
       "    <tr>\n",
       "      <th>100</th>\n",
       "      <td>708</td>\n",
       "      <td>24</td>\n",
       "      <td>Non-binary</td>\n",
       "      <td>Facebook</td>\n",
       "      <td>110</td>\n",
       "      <td>6</td>\n",
       "      <td>35</td>\n",
       "      <td>23</td>\n",
       "      <td>25</td>\n",
       "      <td>Sadness</td>\n",
       "    </tr>\n",
       "    <tr>\n",
       "      <th>101</th>\n",
       "      <td>993</td>\n",
       "      <td>24</td>\n",
       "      <td>Male</td>\n",
       "      <td>Telegram</td>\n",
       "      <td>75</td>\n",
       "      <td>3</td>\n",
       "      <td>37</td>\n",
       "      <td>16</td>\n",
       "      <td>22</td>\n",
       "      <td>Neutral</td>\n",
       "    </tr>\n",
       "    <tr>\n",
       "      <th>102</th>\n",
       "      <td>60</td>\n",
       "      <td>27</td>\n",
       "      <td>Male</td>\n",
       "      <td>Facebook</td>\n",
       "      <td>60</td>\n",
       "      <td>1</td>\n",
       "      <td>10</td>\n",
       "      <td>4</td>\n",
       "      <td>15</td>\n",
       "      <td>Boredom</td>\n",
       "    </tr>\n",
       "  </tbody>\n",
       "</table>\n",
       "<p>103 rows × 10 columns</p>\n",
       "</div>"
      ],
      "text/plain": [
       "     User_ID  Age      Gender  Platform  Daily_Usage_Time (minutes)  \\\n",
       "0        500   27      Female  Snapchat                         120   \n",
       "1        488   21  Non-binary  Snapchat                          60   \n",
       "2        776   28  Non-binary  Snapchat                         115   \n",
       "3        869   27        Male  Telegram                         105   \n",
       "4        573   21  Non-binary  Facebook                          55   \n",
       "..       ...  ...         ...       ...                         ...   \n",
       "98       184   22        Male   Twitter                          70   \n",
       "99       896   33        Male  LinkedIn                          85   \n",
       "100      708   24  Non-binary  Facebook                         110   \n",
       "101      993   24        Male  Telegram                          75   \n",
       "102       60   27        Male  Facebook                          60   \n",
       "\n",
       "     Posts_Per_Day  Likes_Received_Per_Day  Comments_Received_Per_Day  \\\n",
       "0                4                      40                         18   \n",
       "1                1                      18                          7   \n",
       "2                3                      38                         18   \n",
       "3                3                      48                         20   \n",
       "4                3                      17                          7   \n",
       "..             ...                     ...                        ...   \n",
       "98               1                      20                          5   \n",
       "99               4                      35                         18   \n",
       "100              6                      35                         23   \n",
       "101              3                      37                         16   \n",
       "102              1                      10                          4   \n",
       "\n",
       "     Messages_Sent_Per_Day Dominant_Emotion  \n",
       "0                       22          Neutral  \n",
       "1                       12          Neutral  \n",
       "2                       27          Anxiety  \n",
       "3                       28          Anxiety  \n",
       "4                       12          Neutral  \n",
       "..                     ...              ...  \n",
       "98                      22          Neutral  \n",
       "99                      18          Boredom  \n",
       "100                     25          Sadness  \n",
       "101                     22          Neutral  \n",
       "102                     15          Boredom  \n",
       "\n",
       "[103 rows x 10 columns]"
      ]
     },
     "metadata": {},
     "output_type": "display_data"
    },
    {
     "name": "stdout",
     "output_type": "stream",
     "text": [
      "----------------------------------------------------------------------\n",
      "Validation Data:\n"
     ]
    },
    {
     "data": {
      "text/html": [
       "<div>\n",
       "<style scoped>\n",
       "    .dataframe tbody tr th:only-of-type {\n",
       "        vertical-align: middle;\n",
       "    }\n",
       "\n",
       "    .dataframe tbody tr th {\n",
       "        vertical-align: top;\n",
       "    }\n",
       "\n",
       "    .dataframe thead th {\n",
       "        text-align: right;\n",
       "    }\n",
       "</style>\n",
       "<table border=\"1\" class=\"dataframe\">\n",
       "  <thead>\n",
       "    <tr style=\"text-align: right;\">\n",
       "      <th></th>\n",
       "      <th>User_ID</th>\n",
       "      <th>Age</th>\n",
       "      <th>Gender</th>\n",
       "      <th>Platform</th>\n",
       "      <th>Daily_Usage_Time (minutes)</th>\n",
       "      <th>Posts_Per_Day</th>\n",
       "      <th>Likes_Received_Per_Day</th>\n",
       "      <th>Comments_Received_Per_Day</th>\n",
       "      <th>Messages_Sent_Per_Day</th>\n",
       "      <th>Dominant_Emotion</th>\n",
       "    </tr>\n",
       "  </thead>\n",
       "  <tbody>\n",
       "    <tr>\n",
       "      <th>0</th>\n",
       "      <td>10</td>\n",
       "      <td>31</td>\n",
       "      <td>Male</td>\n",
       "      <td>Instagram</td>\n",
       "      <td>170</td>\n",
       "      <td>5</td>\n",
       "      <td>80</td>\n",
       "      <td>20</td>\n",
       "      <td>35</td>\n",
       "      <td>Happiness</td>\n",
       "    </tr>\n",
       "    <tr>\n",
       "      <th>1</th>\n",
       "      <td>877</td>\n",
       "      <td>32</td>\n",
       "      <td>Female</td>\n",
       "      <td>Instagram</td>\n",
       "      <td>155</td>\n",
       "      <td>6</td>\n",
       "      <td>75</td>\n",
       "      <td>25</td>\n",
       "      <td>38</td>\n",
       "      <td>Happiness</td>\n",
       "    </tr>\n",
       "    <tr>\n",
       "      <th>2</th>\n",
       "      <td>230</td>\n",
       "      <td>26</td>\n",
       "      <td>Non-binary</td>\n",
       "      <td>Facebook</td>\n",
       "      <td>45</td>\n",
       "      <td>1</td>\n",
       "      <td>8</td>\n",
       "      <td>4</td>\n",
       "      <td>12</td>\n",
       "      <td>Sadness</td>\n",
       "    </tr>\n",
       "    <tr>\n",
       "      <th>3</th>\n",
       "      <td>876</td>\n",
       "      <td>28</td>\n",
       "      <td>Non-binary</td>\n",
       "      <td>Snapchat</td>\n",
       "      <td>115</td>\n",
       "      <td>3</td>\n",
       "      <td>38</td>\n",
       "      <td>18</td>\n",
       "      <td>27</td>\n",
       "      <td>Anxiety</td>\n",
       "    </tr>\n",
       "    <tr>\n",
       "      <th>4</th>\n",
       "      <td>376</td>\n",
       "      <td>28</td>\n",
       "      <td>Non-binary</td>\n",
       "      <td>Snapchat</td>\n",
       "      <td>115</td>\n",
       "      <td>3</td>\n",
       "      <td>38</td>\n",
       "      <td>18</td>\n",
       "      <td>27</td>\n",
       "      <td>Anxiety</td>\n",
       "    </tr>\n",
       "    <tr>\n",
       "      <th>...</th>\n",
       "      <td>...</td>\n",
       "      <td>...</td>\n",
       "      <td>...</td>\n",
       "      <td>...</td>\n",
       "      <td>...</td>\n",
       "      <td>...</td>\n",
       "      <td>...</td>\n",
       "      <td>...</td>\n",
       "      <td>...</td>\n",
       "      <td>...</td>\n",
       "    </tr>\n",
       "    <tr>\n",
       "      <th>140</th>\n",
       "      <td>277</td>\n",
       "      <td>27</td>\n",
       "      <td>Non-binary</td>\n",
       "      <td>LinkedIn</td>\n",
       "      <td>55</td>\n",
       "      <td>1</td>\n",
       "      <td>9</td>\n",
       "      <td>2</td>\n",
       "      <td>11</td>\n",
       "      <td>Anxiety</td>\n",
       "    </tr>\n",
       "    <tr>\n",
       "      <th>141</th>\n",
       "      <td>830</td>\n",
       "      <td>26</td>\n",
       "      <td>Non-binary</td>\n",
       "      <td>Facebook</td>\n",
       "      <td>45</td>\n",
       "      <td>1</td>\n",
       "      <td>8</td>\n",
       "      <td>4</td>\n",
       "      <td>12</td>\n",
       "      <td>Sadness</td>\n",
       "    </tr>\n",
       "    <tr>\n",
       "      <th>142</th>\n",
       "      <td>109</td>\n",
       "      <td>29</td>\n",
       "      <td>Female</td>\n",
       "      <td>LinkedIn</td>\n",
       "      <td>55</td>\n",
       "      <td>2</td>\n",
       "      <td>15</td>\n",
       "      <td>5</td>\n",
       "      <td>10</td>\n",
       "      <td>Neutral</td>\n",
       "    </tr>\n",
       "    <tr>\n",
       "      <th>143</th>\n",
       "      <td>99</td>\n",
       "      <td>21</td>\n",
       "      <td>Female</td>\n",
       "      <td>Facebook</td>\n",
       "      <td>75</td>\n",
       "      <td>2</td>\n",
       "      <td>25</td>\n",
       "      <td>13</td>\n",
       "      <td>19</td>\n",
       "      <td>Anxiety</td>\n",
       "    </tr>\n",
       "    <tr>\n",
       "      <th>144</th>\n",
       "      <td>493</td>\n",
       "      <td>24</td>\n",
       "      <td>Female</td>\n",
       "      <td>Instagram</td>\n",
       "      <td>200</td>\n",
       "      <td>6</td>\n",
       "      <td>100</td>\n",
       "      <td>18</td>\n",
       "      <td>39</td>\n",
       "      <td>Neutral</td>\n",
       "    </tr>\n",
       "  </tbody>\n",
       "</table>\n",
       "<p>145 rows × 10 columns</p>\n",
       "</div>"
      ],
      "text/plain": [
       "     User_ID Age      Gender   Platform  Daily_Usage_Time (minutes)  \\\n",
       "0         10  31        Male  Instagram                         170   \n",
       "1        877  32      Female  Instagram                         155   \n",
       "2        230  26  Non-binary   Facebook                          45   \n",
       "3        876  28  Non-binary   Snapchat                         115   \n",
       "4        376  28  Non-binary   Snapchat                         115   \n",
       "..       ...  ..         ...        ...                         ...   \n",
       "140      277  27  Non-binary   LinkedIn                          55   \n",
       "141      830  26  Non-binary   Facebook                          45   \n",
       "142      109  29      Female   LinkedIn                          55   \n",
       "143       99  21      Female   Facebook                          75   \n",
       "144      493  24      Female  Instagram                         200   \n",
       "\n",
       "     Posts_Per_Day  Likes_Received_Per_Day  Comments_Received_Per_Day  \\\n",
       "0                5                      80                         20   \n",
       "1                6                      75                         25   \n",
       "2                1                       8                          4   \n",
       "3                3                      38                         18   \n",
       "4                3                      38                         18   \n",
       "..             ...                     ...                        ...   \n",
       "140              1                       9                          2   \n",
       "141              1                       8                          4   \n",
       "142              2                      15                          5   \n",
       "143              2                      25                         13   \n",
       "144              6                     100                         18   \n",
       "\n",
       "    Messages_Sent_Per_Day Dominant_Emotion  \n",
       "0                      35        Happiness  \n",
       "1                      38        Happiness  \n",
       "2                      12          Sadness  \n",
       "3                      27          Anxiety  \n",
       "4                      27          Anxiety  \n",
       "..                    ...              ...  \n",
       "140                    11          Anxiety  \n",
       "141                    12          Sadness  \n",
       "142                    10          Neutral  \n",
       "143                    19          Anxiety  \n",
       "144                    39          Neutral  \n",
       "\n",
       "[145 rows x 10 columns]"
      ]
     },
     "metadata": {},
     "output_type": "display_data"
    }
   ],
   "source": [
    "print(\"Training Data:\")\n",
    "display(train_df)\n",
    "print(\"----------------------------------------------------------------------\")\n",
    "print(\"Testing Data:\")\n",
    "display(test_df)\n",
    "print(\"----------------------------------------------------------------------\")\n",
    "print(\"Validation Data:\")\n",
    "display(val_df)"
   ]
  },
  {
   "cell_type": "code",
   "execution_count": 6,
   "metadata": {},
   "outputs": [
    {
     "name": "stdout",
     "output_type": "stream",
     "text": [
      "<class 'pandas.core.frame.DataFrame'>\n",
      "RangeIndex: 1001 entries, 0 to 1000\n",
      "Data columns (total 10 columns):\n",
      " #   Column                      Non-Null Count  Dtype  \n",
      "---  ------                      --------------  -----  \n",
      " 0   User_ID                     1001 non-null   object \n",
      " 1   Age                         1001 non-null   object \n",
      " 2   Gender                      1000 non-null   object \n",
      " 3   Platform                    1000 non-null   object \n",
      " 4   Daily_Usage_Time (minutes)  1000 non-null   float64\n",
      " 5   Posts_Per_Day               1000 non-null   float64\n",
      " 6   Likes_Received_Per_Day      1000 non-null   float64\n",
      " 7   Comments_Received_Per_Day   1000 non-null   float64\n",
      " 8   Messages_Sent_Per_Day       1000 non-null   float64\n",
      " 9   Dominant_Emotion            1000 non-null   object \n",
      "dtypes: float64(5), object(5)\n",
      "memory usage: 78.3+ KB\n"
     ]
    }
   ],
   "source": [
    "train_df.info()"
   ]
  },
  {
   "cell_type": "code",
   "execution_count": 7,
   "metadata": {},
   "outputs": [
    {
     "name": "stdout",
     "output_type": "stream",
     "text": [
      "<class 'pandas.core.frame.DataFrame'>\n",
      "RangeIndex: 103 entries, 0 to 102\n",
      "Data columns (total 10 columns):\n",
      " #   Column                      Non-Null Count  Dtype \n",
      "---  ------                      --------------  ----- \n",
      " 0   User_ID                     103 non-null    int64 \n",
      " 1   Age                         103 non-null    int64 \n",
      " 2   Gender                      103 non-null    object\n",
      " 3   Platform                    103 non-null    object\n",
      " 4   Daily_Usage_Time (minutes)  103 non-null    int64 \n",
      " 5   Posts_Per_Day               103 non-null    int64 \n",
      " 6   Likes_Received_Per_Day      103 non-null    int64 \n",
      " 7   Comments_Received_Per_Day   103 non-null    int64 \n",
      " 8   Messages_Sent_Per_Day       103 non-null    int64 \n",
      " 9   Dominant_Emotion            103 non-null    object\n",
      "dtypes: int64(7), object(3)\n",
      "memory usage: 8.2+ KB\n"
     ]
    }
   ],
   "source": [
    "test_df.info()"
   ]
  },
  {
   "cell_type": "code",
   "execution_count": 8,
   "metadata": {},
   "outputs": [
    {
     "name": "stdout",
     "output_type": "stream",
     "text": [
      "<class 'pandas.core.frame.DataFrame'>\n",
      "RangeIndex: 145 entries, 0 to 144\n",
      "Data columns (total 10 columns):\n",
      " #   Column                      Non-Null Count  Dtype \n",
      "---  ------                      --------------  ----- \n",
      " 0   User_ID                     145 non-null    int64 \n",
      " 1   Age                         145 non-null    object\n",
      " 2   Gender                      145 non-null    object\n",
      " 3   Platform                    145 non-null    object\n",
      " 4   Daily_Usage_Time (minutes)  145 non-null    int64 \n",
      " 5   Posts_Per_Day               145 non-null    int64 \n",
      " 6   Likes_Received_Per_Day      145 non-null    int64 \n",
      " 7   Comments_Received_Per_Day   145 non-null    int64 \n",
      " 8   Messages_Sent_Per_Day       145 non-null    object\n",
      " 9   Dominant_Emotion            144 non-null    object\n",
      "dtypes: int64(5), object(5)\n",
      "memory usage: 11.5+ KB\n"
     ]
    }
   ],
   "source": [
    "val_df.info()"
   ]
  },
  {
   "cell_type": "markdown",
   "metadata": {},
   "source": [
    "#### Cheking the amount of rows in each csv file"
   ]
  },
  {
   "cell_type": "code",
   "execution_count": 9,
   "metadata": {},
   "outputs": [
    {
     "name": "stdout",
     "output_type": "stream",
     "text": [
      "There are 1001 rows and 10 columns in the training data.\n",
      "There are 103 rows and 10 columns in the testing data.\n",
      "There are 145 rows and 10 columns in the validation data.\n"
     ]
    }
   ],
   "source": [
    "print(f\"There are {train_df.shape[0]} rows and {train_df.shape[1]} columns in the training data.\")\n",
    "print(f\"There are {test_df.shape[0]} rows and {test_df.shape[1]} columns in the testing data.\")\n",
    "print(f\"There are {val_df.shape[0]} rows and {val_df.shape[1]} columns in the validation data.\")"
   ]
  },
  {
   "cell_type": "markdown",
   "metadata": {},
   "source": [
    "#### Checking if there is any null values"
   ]
  },
  {
   "cell_type": "code",
   "execution_count": 10,
   "metadata": {},
   "outputs": [
    {
     "name": "stdout",
     "output_type": "stream",
     "text": [
      "Training Data:\n"
     ]
    },
    {
     "data": {
      "text/plain": [
       "User_ID                       0\n",
       "Age                           0\n",
       "Gender                        1\n",
       "Platform                      1\n",
       "Daily_Usage_Time (minutes)    1\n",
       "Posts_Per_Day                 1\n",
       "Likes_Received_Per_Day        1\n",
       "Comments_Received_Per_Day     1\n",
       "Messages_Sent_Per_Day         1\n",
       "Dominant_Emotion              1\n",
       "dtype: int64"
      ]
     },
     "execution_count": 10,
     "metadata": {},
     "output_type": "execute_result"
    }
   ],
   "source": [
    "print(\"Training Data:\")\n",
    "train_df.isnull().sum()"
   ]
  },
  {
   "cell_type": "code",
   "execution_count": 11,
   "metadata": {},
   "outputs": [
    {
     "name": "stdout",
     "output_type": "stream",
     "text": [
      "Testing Data:\n"
     ]
    },
    {
     "data": {
      "text/plain": [
       "User_ID                       0\n",
       "Age                           0\n",
       "Gender                        0\n",
       "Platform                      0\n",
       "Daily_Usage_Time (minutes)    0\n",
       "Posts_Per_Day                 0\n",
       "Likes_Received_Per_Day        0\n",
       "Comments_Received_Per_Day     0\n",
       "Messages_Sent_Per_Day         0\n",
       "Dominant_Emotion              0\n",
       "dtype: int64"
      ]
     },
     "execution_count": 11,
     "metadata": {},
     "output_type": "execute_result"
    }
   ],
   "source": [
    "print(\"Testing Data:\")\n",
    "test_df.isnull().sum()"
   ]
  },
  {
   "cell_type": "code",
   "execution_count": 12,
   "metadata": {},
   "outputs": [
    {
     "name": "stdout",
     "output_type": "stream",
     "text": [
      "Validation Data:\n"
     ]
    },
    {
     "data": {
      "text/plain": [
       "User_ID                       0\n",
       "Age                           0\n",
       "Gender                        0\n",
       "Platform                      0\n",
       "Daily_Usage_Time (minutes)    0\n",
       "Posts_Per_Day                 0\n",
       "Likes_Received_Per_Day        0\n",
       "Comments_Received_Per_Day     0\n",
       "Messages_Sent_Per_Day         0\n",
       "Dominant_Emotion              1\n",
       "dtype: int64"
      ]
     },
     "execution_count": 12,
     "metadata": {},
     "output_type": "execute_result"
    }
   ],
   "source": [
    "print(\"Validation Data:\")\n",
    "val_df.isnull().sum()"
   ]
  },
  {
   "cell_type": "markdown",
   "metadata": {},
   "source": [
    "#### Here we found some null values. We decided to fill the nulls with either mean, median or mode. We also found irrelevant values in the gender collumn so we will will drop them too."
   ]
  },
  {
   "cell_type": "markdown",
   "metadata": {},
   "source": [
    "##### Checking the values before modification"
   ]
  },
  {
   "cell_type": "code",
   "execution_count": 13,
   "metadata": {},
   "outputs": [
    {
     "data": {
      "text/plain": [
       "array(['25', '30', '22', '28', '33', '21', '27', '24', '29', '31', '23',\n",
       "       '26', '34', '35', '32', 'Male', 'Female', 'Non-binary',\n",
       "       ' işte mevcut veri kümesini 1000 satıra tamamlıyorum:'],\n",
       "      dtype=object)"
      ]
     },
     "execution_count": 13,
     "metadata": {},
     "output_type": "execute_result"
    }
   ],
   "source": [
    "train_df['Age'].unique()"
   ]
  },
  {
   "cell_type": "code",
   "execution_count": 14,
   "metadata": {},
   "outputs": [
    {
     "data": {
      "text/plain": [
       "array(['Female', 'Male', 'Non-binary', '27', '24', '29', '33', '31', '22',\n",
       "       '25', '28', '30', '23', '34', '26', '35', '21', '32', nan],\n",
       "      dtype=object)"
      ]
     },
     "execution_count": 14,
     "metadata": {},
     "output_type": "execute_result"
    }
   ],
   "source": [
    "train_df['Gender'].unique()"
   ]
  },
  {
   "cell_type": "code",
   "execution_count": 15,
   "metadata": {},
   "outputs": [
    {
     "data": {
      "text/plain": [
       "array(['Instagram', 'Twitter', 'Facebook', 'LinkedIn', 'Whatsapp',\n",
       "       'Telegram', 'Snapchat', nan], dtype=object)"
      ]
     },
     "execution_count": 15,
     "metadata": {},
     "output_type": "execute_result"
    }
   ],
   "source": [
    "train_df['Platform'].unique()"
   ]
  },
  {
   "cell_type": "code",
   "execution_count": 16,
   "metadata": {},
   "outputs": [
    {
     "data": {
      "text/plain": [
       "array([ 3.,  5.,  2.,  8.,  1.,  4.,  6.,  7., nan])"
      ]
     },
     "execution_count": 16,
     "metadata": {},
     "output_type": "execute_result"
    }
   ],
   "source": [
    "train_df['Posts_Per_Day'].unique()"
   ]
  },
  {
   "cell_type": "code",
   "execution_count": 17,
   "metadata": {},
   "outputs": [
    {
     "data": {
      "text/plain": [
       "array([ 45.,  20.,  15., 100.,   5.,  60.,  30.,  25.,  10.,  80.,  35.,\n",
       "        12.,  90.,  40.,  55.,  33.,   8.,  70.,  28.,  11.,  95.,  18.,\n",
       "         9.,  85.,  38.,   6.,  13.,  75.,  27.,  88.,  22.,  78.,  29.,\n",
       "        50.,  36.,  72.,  65., 110.,  14.,  17., 105.,  43.,  37.,  42.,\n",
       "        48.,  21.,  24.,  23.,  83.,  nan])"
      ]
     },
     "execution_count": 17,
     "metadata": {},
     "output_type": "execute_result"
    }
   ],
   "source": [
    "train_df['Likes_Received_Per_Day'].unique()"
   ]
  },
  {
   "cell_type": "code",
   "execution_count": 18,
   "metadata": {},
   "outputs": [
    {
     "data": {
      "text/plain": [
       "array([10., 25.,  5., 30.,  2., 15., 12.,  3., 20.,  7.,  4., 23., 18.,\n",
       "       22., 14., 26.,  8., 19., 17., 11.,  6.,  9., 13., 40., 16., 35.,\n",
       "       38., 28., 36., 33., nan])"
      ]
     },
     "execution_count": 18,
     "metadata": {},
     "output_type": "execute_result"
    }
   ],
   "source": [
    "train_df['Comments_Received_Per_Day'].unique()"
   ]
  },
  {
   "cell_type": "code",
   "execution_count": 19,
   "metadata": {},
   "outputs": [
    {
     "data": {
      "text/plain": [
       "array([12., 30., 20., 50., 10., 25., 18., 22.,  8., 35., 15., 40., 28.,\n",
       "       33., 17., 45., 21., 11., 32., 24., 14.,  9., 38., 31., 27., 19.,\n",
       "       26., 29., 23., nan])"
      ]
     },
     "execution_count": 19,
     "metadata": {},
     "output_type": "execute_result"
    }
   ],
   "source": [
    "train_df['Messages_Sent_Per_Day'].unique()"
   ]
  },
  {
   "cell_type": "code",
   "execution_count": 20,
   "metadata": {},
   "outputs": [
    {
     "data": {
      "text/plain": [
       "array(['Happiness', 'Anger', 'Neutral', 'Anxiety', 'Boredom', 'Sadness',\n",
       "       nan], dtype=object)"
      ]
     },
     "execution_count": 20,
     "metadata": {},
     "output_type": "execute_result"
    }
   ],
   "source": [
    "train_df['Dominant_Emotion'].unique()"
   ]
  },
  {
   "cell_type": "code",
   "execution_count": 21,
   "metadata": {},
   "outputs": [
    {
     "data": {
      "text/plain": [
       "User_ID                       0\n",
       "Age                           0\n",
       "Gender                        1\n",
       "Platform                      1\n",
       "Daily_Usage_Time (minutes)    1\n",
       "Posts_Per_Day                 1\n",
       "Likes_Received_Per_Day        1\n",
       "Comments_Received_Per_Day     1\n",
       "Messages_Sent_Per_Day         1\n",
       "Dominant_Emotion              1\n",
       "dtype: int64"
      ]
     },
     "execution_count": 21,
     "metadata": {},
     "output_type": "execute_result"
    }
   ],
   "source": [
    "train_df.isnull().sum()"
   ]
  },
  {
   "cell_type": "markdown",
   "metadata": {},
   "source": [
    "#### Modifications"
   ]
  },
  {
   "cell_type": "code",
   "execution_count": 22,
   "metadata": {},
   "outputs": [],
   "source": [
    "train_df['Age'] = pd.to_numeric(train_df['Age'], errors='coerce')\n",
    "train_df['Age'].fillna(train_df['Age'].median(), inplace=True)"
   ]
  },
  {
   "cell_type": "code",
   "execution_count": 23,
   "metadata": {},
   "outputs": [],
   "source": [
    "def clean_gender_column(gender_value):\n",
    "    try:\n",
    "        float(gender_value)\n",
    "        return np.nan\n",
    "    except ValueError:\n",
    "        return gender_value\n",
    "\n",
    "train_df['Gender'] = train_df['Gender'].apply(clean_gender_column)\n",
    "train_df['Gender'].fillna('Unknown', inplace=True)"
   ]
  },
  {
   "cell_type": "code",
   "execution_count": 24,
   "metadata": {},
   "outputs": [],
   "source": [
    "train_df['Platform'].fillna(train_df['Platform'].mode()[0], inplace=True)"
   ]
  },
  {
   "cell_type": "code",
   "execution_count": 25,
   "metadata": {},
   "outputs": [],
   "source": [
    "train_df['Posts_Per_Day'].fillna(train_df['Posts_Per_Day'].mode()[0], inplace=True)"
   ]
  },
  {
   "cell_type": "code",
   "execution_count": 26,
   "metadata": {},
   "outputs": [],
   "source": [
    "train_df['Likes_Received_Per_Day'].fillna(train_df['Likes_Received_Per_Day'].mode()[0], inplace=True)"
   ]
  },
  {
   "cell_type": "code",
   "execution_count": 27,
   "metadata": {},
   "outputs": [],
   "source": [
    "train_df['Comments_Received_Per_Day'].fillna(train_df['Comments_Received_Per_Day'].mode()[0], inplace=True)"
   ]
  },
  {
   "cell_type": "code",
   "execution_count": 28,
   "metadata": {},
   "outputs": [],
   "source": [
    "train_df['Messages_Sent_Per_Day'].fillna(train_df['Messages_Sent_Per_Day'].mode()[0], inplace= True)"
   ]
  },
  {
   "cell_type": "code",
   "execution_count": 29,
   "metadata": {},
   "outputs": [],
   "source": [
    "train_df['Dominant_Emotion'].fillna(train_df['Dominant_Emotion'].mode()[0], inplace=True)"
   ]
  },
  {
   "cell_type": "code",
   "execution_count": 30,
   "metadata": {},
   "outputs": [],
   "source": [
    "train_df.dropna(inplace=True)"
   ]
  },
  {
   "cell_type": "markdown",
   "metadata": {},
   "source": [
    "#### Modifications Result"
   ]
  },
  {
   "cell_type": "code",
   "execution_count": 31,
   "metadata": {},
   "outputs": [
    {
     "data": {
      "text/plain": [
       "array([25., 30., 22., 28., 33., 21., 27., 24., 29., 31., 23., 26., 34.,\n",
       "       35., 32.])"
      ]
     },
     "execution_count": 31,
     "metadata": {},
     "output_type": "execute_result"
    }
   ],
   "source": [
    "train_df['Age'].unique()"
   ]
  },
  {
   "cell_type": "code",
   "execution_count": 32,
   "metadata": {},
   "outputs": [
    {
     "data": {
      "text/plain": [
       "array(['Female', 'Male', 'Non-binary', 'Unknown'], dtype=object)"
      ]
     },
     "execution_count": 32,
     "metadata": {},
     "output_type": "execute_result"
    }
   ],
   "source": [
    "train_df['Gender'].unique()"
   ]
  },
  {
   "cell_type": "code",
   "execution_count": 33,
   "metadata": {},
   "outputs": [
    {
     "data": {
      "text/plain": [
       "array(['Instagram', 'Twitter', 'Facebook', 'LinkedIn', 'Whatsapp',\n",
       "       'Telegram', 'Snapchat'], dtype=object)"
      ]
     },
     "execution_count": 33,
     "metadata": {},
     "output_type": "execute_result"
    }
   ],
   "source": [
    "train_df['Platform'].unique()"
   ]
  },
  {
   "cell_type": "code",
   "execution_count": 34,
   "metadata": {},
   "outputs": [
    {
     "data": {
      "text/plain": [
       "array([3., 5., 2., 8., 1., 4., 6., 7.])"
      ]
     },
     "execution_count": 34,
     "metadata": {},
     "output_type": "execute_result"
    }
   ],
   "source": [
    "train_df['Posts_Per_Day'].unique()"
   ]
  },
  {
   "cell_type": "code",
   "execution_count": 35,
   "metadata": {},
   "outputs": [
    {
     "data": {
      "text/plain": [
       "array([ 45.,  20.,  15., 100.,   5.,  60.,  30.,  25.,  10.,  80.,  35.,\n",
       "        12.,  90.,  40.,  55.,  33.,   8.,  70.,  28.,  11.,  95.,  18.,\n",
       "         9.,  85.,  38.,   6.,  13.,  75.,  27.,  88.,  22.,  78.,  29.,\n",
       "        50.,  36.,  72.,  65., 110.,  14.,  17., 105.,  43.,  37.,  42.,\n",
       "        48.,  21.,  24.,  23.,  83.])"
      ]
     },
     "execution_count": 35,
     "metadata": {},
     "output_type": "execute_result"
    }
   ],
   "source": [
    "train_df['Likes_Received_Per_Day'].unique()"
   ]
  },
  {
   "cell_type": "code",
   "execution_count": 36,
   "metadata": {},
   "outputs": [
    {
     "data": {
      "text/plain": [
       "array([10., 25.,  5., 30.,  2., 15., 12.,  3., 20.,  7.,  4., 23., 18.,\n",
       "       22., 14., 26.,  8., 19., 17., 11.,  6.,  9., 13., 40., 16., 35.,\n",
       "       38., 28., 36., 33.])"
      ]
     },
     "execution_count": 36,
     "metadata": {},
     "output_type": "execute_result"
    }
   ],
   "source": [
    "train_df['Comments_Received_Per_Day'].unique()"
   ]
  },
  {
   "cell_type": "code",
   "execution_count": 37,
   "metadata": {},
   "outputs": [
    {
     "data": {
      "text/plain": [
       "array([12., 30., 20., 50., 10., 25., 18., 22.,  8., 35., 15., 40., 28.,\n",
       "       33., 17., 45., 21., 11., 32., 24., 14.,  9., 38., 31., 27., 19.,\n",
       "       26., 29., 23.])"
      ]
     },
     "execution_count": 37,
     "metadata": {},
     "output_type": "execute_result"
    }
   ],
   "source": [
    "train_df['Messages_Sent_Per_Day'].unique()"
   ]
  },
  {
   "cell_type": "code",
   "execution_count": 38,
   "metadata": {},
   "outputs": [
    {
     "data": {
      "text/plain": [
       "array(['Happiness', 'Anger', 'Neutral', 'Anxiety', 'Boredom', 'Sadness'],\n",
       "      dtype=object)"
      ]
     },
     "execution_count": 38,
     "metadata": {},
     "output_type": "execute_result"
    }
   ],
   "source": [
    "train_df['Dominant_Emotion'].unique()"
   ]
  },
  {
   "cell_type": "code",
   "execution_count": 39,
   "metadata": {},
   "outputs": [
    {
     "data": {
      "text/plain": [
       "User_ID                       0\n",
       "Age                           0\n",
       "Gender                        0\n",
       "Platform                      0\n",
       "Daily_Usage_Time (minutes)    0\n",
       "Posts_Per_Day                 0\n",
       "Likes_Received_Per_Day        0\n",
       "Comments_Received_Per_Day     0\n",
       "Messages_Sent_Per_Day         0\n",
       "Dominant_Emotion              0\n",
       "dtype: int64"
      ]
     },
     "execution_count": 39,
     "metadata": {},
     "output_type": "execute_result"
    }
   ],
   "source": [
    "train_df.isnull().sum()"
   ]
  },
  {
   "cell_type": "markdown",
   "metadata": {},
   "source": [
    "#### The data now is clean and ready to use. "
   ]
  },
  {
   "cell_type": "markdown",
   "metadata": {},
   "source": [
    "#### We are going to do EDA with training data."
   ]
  },
  {
   "cell_type": "code",
   "execution_count": 40,
   "metadata": {},
   "outputs": [
    {
     "data": {
      "text/html": [
       "<div>\n",
       "<style scoped>\n",
       "    .dataframe tbody tr th:only-of-type {\n",
       "        vertical-align: middle;\n",
       "    }\n",
       "\n",
       "    .dataframe tbody tr th {\n",
       "        vertical-align: top;\n",
       "    }\n",
       "\n",
       "    .dataframe thead th {\n",
       "        text-align: right;\n",
       "    }\n",
       "</style>\n",
       "<table border=\"1\" class=\"dataframe\">\n",
       "  <thead>\n",
       "    <tr style=\"text-align: right;\">\n",
       "      <th></th>\n",
       "      <th>Age</th>\n",
       "      <th>Daily_Usage_Time (minutes)</th>\n",
       "      <th>Posts_Per_Day</th>\n",
       "      <th>Likes_Received_Per_Day</th>\n",
       "      <th>Comments_Received_Per_Day</th>\n",
       "      <th>Messages_Sent_Per_Day</th>\n",
       "    </tr>\n",
       "  </thead>\n",
       "  <tbody>\n",
       "    <tr>\n",
       "      <th>count</th>\n",
       "      <td>1000.000000</td>\n",
       "      <td>1000.000000</td>\n",
       "      <td>1000.000000</td>\n",
       "      <td>1000.000000</td>\n",
       "      <td>1000.000000</td>\n",
       "      <td>1000.000000</td>\n",
       "    </tr>\n",
       "    <tr>\n",
       "      <th>mean</th>\n",
       "      <td>27.462000</td>\n",
       "      <td>95.950000</td>\n",
       "      <td>3.321000</td>\n",
       "      <td>39.898000</td>\n",
       "      <td>15.611000</td>\n",
       "      <td>22.560000</td>\n",
       "    </tr>\n",
       "    <tr>\n",
       "      <th>std</th>\n",
       "      <td>3.790901</td>\n",
       "      <td>38.850442</td>\n",
       "      <td>1.914582</td>\n",
       "      <td>26.393867</td>\n",
       "      <td>8.819493</td>\n",
       "      <td>8.516274</td>\n",
       "    </tr>\n",
       "    <tr>\n",
       "      <th>min</th>\n",
       "      <td>21.000000</td>\n",
       "      <td>40.000000</td>\n",
       "      <td>1.000000</td>\n",
       "      <td>5.000000</td>\n",
       "      <td>2.000000</td>\n",
       "      <td>8.000000</td>\n",
       "    </tr>\n",
       "    <tr>\n",
       "      <th>25%</th>\n",
       "      <td>25.000000</td>\n",
       "      <td>65.000000</td>\n",
       "      <td>2.000000</td>\n",
       "      <td>20.000000</td>\n",
       "      <td>8.000000</td>\n",
       "      <td>17.750000</td>\n",
       "    </tr>\n",
       "    <tr>\n",
       "      <th>50%</th>\n",
       "      <td>27.000000</td>\n",
       "      <td>85.000000</td>\n",
       "      <td>3.000000</td>\n",
       "      <td>33.000000</td>\n",
       "      <td>14.000000</td>\n",
       "      <td>22.000000</td>\n",
       "    </tr>\n",
       "    <tr>\n",
       "      <th>75%</th>\n",
       "      <td>30.000000</td>\n",
       "      <td>120.000000</td>\n",
       "      <td>4.000000</td>\n",
       "      <td>55.000000</td>\n",
       "      <td>22.000000</td>\n",
       "      <td>28.000000</td>\n",
       "    </tr>\n",
       "    <tr>\n",
       "      <th>max</th>\n",
       "      <td>35.000000</td>\n",
       "      <td>200.000000</td>\n",
       "      <td>8.000000</td>\n",
       "      <td>110.000000</td>\n",
       "      <td>40.000000</td>\n",
       "      <td>50.000000</td>\n",
       "    </tr>\n",
       "  </tbody>\n",
       "</table>\n",
       "</div>"
      ],
      "text/plain": [
       "               Age  Daily_Usage_Time (minutes)  Posts_Per_Day  \\\n",
       "count  1000.000000                 1000.000000    1000.000000   \n",
       "mean     27.462000                   95.950000       3.321000   \n",
       "std       3.790901                   38.850442       1.914582   \n",
       "min      21.000000                   40.000000       1.000000   \n",
       "25%      25.000000                   65.000000       2.000000   \n",
       "50%      27.000000                   85.000000       3.000000   \n",
       "75%      30.000000                  120.000000       4.000000   \n",
       "max      35.000000                  200.000000       8.000000   \n",
       "\n",
       "       Likes_Received_Per_Day  Comments_Received_Per_Day  \\\n",
       "count             1000.000000                1000.000000   \n",
       "mean                39.898000                  15.611000   \n",
       "std                 26.393867                   8.819493   \n",
       "min                  5.000000                   2.000000   \n",
       "25%                 20.000000                   8.000000   \n",
       "50%                 33.000000                  14.000000   \n",
       "75%                 55.000000                  22.000000   \n",
       "max                110.000000                  40.000000   \n",
       "\n",
       "       Messages_Sent_Per_Day  \n",
       "count            1000.000000  \n",
       "mean               22.560000  \n",
       "std                 8.516274  \n",
       "min                 8.000000  \n",
       "25%                17.750000  \n",
       "50%                22.000000  \n",
       "75%                28.000000  \n",
       "max                50.000000  "
      ]
     },
     "execution_count": 40,
     "metadata": {},
     "output_type": "execute_result"
    }
   ],
   "source": [
    "train_df.describe()"
   ]
  },
  {
   "cell_type": "markdown",
   "metadata": {},
   "source": [
    "##### Writer's Note : We found a library that is easier to use (less codes, simpler design, and interactive)"
   ]
  },
  {
   "cell_type": "code",
   "execution_count": 41,
   "metadata": {},
   "outputs": [
    {
     "data": {
      "application/vnd.plotly.v1+json": {
       "config": {
        "plotlyServerURL": "https://plot.ly"
       },
       "data": [
        {
         "alignmentgroup": "True",
         "bingroup": "x",
         "hovertemplate": "Age=%{x}<br>count=%{y}<extra></extra>",
         "legendgroup": "",
         "marker": {
          "color": "#636efa",
          "pattern": {
           "shape": ""
          }
         },
         "name": "",
         "offsetgroup": "",
         "orientation": "v",
         "showlegend": false,
         "type": "histogram",
         "x": [
          25,
          30,
          22,
          28,
          33,
          21,
          27,
          24,
          29,
          31,
          23,
          26,
          34,
          22,
          28,
          21,
          35,
          27,
          23,
          32,
          26,
          24,
          29,
          33,
          22,
          31,
          27,
          25,
          30,
          26,
          34,
          28,
          23,
          21,
          29,
          24,
          33,
          27,
          22,
          28,
          31,
          25,
          29,
          23,
          35,
          30,
          21,
          26,
          32,
          28,
          27,
          24,
          29,
          33,
          31,
          22,
          25,
          29,
          28,
          27,
          30,
          23,
          34,
          26,
          25,
          29,
          28,
          31,
          27,
          22,
          24,
          35,
          21,
          29,
          25,
          28,
          32,
          26,
          33,
          27,
          31,
          24,
          34,
          22,
          29,
          28,
          31,
          21,
          25,
          30,
          27,
          32,
          24,
          29,
          26,
          33,
          22,
          35,
          28,
          27,
          25,
          30,
          22,
          28,
          33,
          21,
          27,
          24,
          29,
          31,
          23,
          26,
          34,
          22,
          28,
          21,
          35,
          27,
          23,
          32,
          26,
          24,
          29,
          33,
          22,
          31,
          27,
          25,
          30,
          26,
          34,
          28,
          23,
          21,
          29,
          24,
          33,
          27,
          22,
          28,
          31,
          25,
          29,
          23,
          35,
          30,
          21,
          26,
          32,
          28,
          27,
          24,
          29,
          33,
          31,
          22,
          25,
          29,
          28,
          27,
          30,
          23,
          34,
          26,
          25,
          29,
          28,
          31,
          27,
          22,
          24,
          35,
          21,
          29,
          25,
          28,
          32,
          26,
          33,
          27,
          31,
          24,
          34,
          22,
          29,
          28,
          31,
          21,
          25,
          30,
          27,
          32,
          24,
          29,
          26,
          33,
          22,
          35,
          28,
          27,
          25,
          30,
          22,
          28,
          33,
          21,
          27,
          24,
          29,
          31,
          23,
          26,
          34,
          22,
          28,
          21,
          35,
          27,
          23,
          32,
          26,
          24,
          29,
          33,
          22,
          31,
          27,
          25,
          30,
          26,
          34,
          28,
          23,
          21,
          29,
          24,
          33,
          27,
          22,
          28,
          31,
          25,
          29,
          23,
          35,
          30,
          21,
          26,
          32,
          28,
          27,
          27,
          27,
          27,
          27,
          27,
          27,
          27,
          27,
          27,
          27,
          27,
          27,
          27,
          27,
          27,
          27,
          27,
          27,
          27,
          27,
          27,
          27,
          27,
          27,
          27,
          27,
          27,
          27,
          27,
          27,
          27,
          27,
          27,
          27,
          27,
          27,
          27,
          25,
          30,
          27,
          32,
          24,
          29,
          26,
          33,
          22,
          35,
          28,
          27,
          25,
          30,
          22,
          28,
          33,
          21,
          27,
          24,
          29,
          31,
          23,
          26,
          34,
          22,
          28,
          21,
          35,
          27,
          23,
          32,
          26,
          24,
          29,
          33,
          22,
          31,
          27,
          25,
          30,
          26,
          34,
          28,
          23,
          21,
          29,
          24,
          33,
          27,
          22,
          28,
          31,
          25,
          29,
          23,
          35,
          30,
          21,
          26,
          32,
          28,
          27,
          24,
          29,
          33,
          31,
          22,
          25,
          29,
          28,
          27,
          30,
          23,
          34,
          26,
          25,
          29,
          28,
          31,
          27,
          22,
          24,
          35,
          21,
          29,
          25,
          28,
          32,
          26,
          33,
          27,
          31,
          24,
          34,
          22,
          29,
          28,
          31,
          21,
          25,
          30,
          27,
          32,
          24,
          29,
          26,
          33,
          22,
          35,
          28,
          27,
          25,
          30,
          22,
          28,
          33,
          21,
          27,
          24,
          29,
          31,
          23,
          26,
          34,
          22,
          28,
          21,
          35,
          27,
          23,
          32,
          26,
          24,
          29,
          33,
          22,
          31,
          27,
          25,
          30,
          26,
          34,
          28,
          23,
          21,
          29,
          24,
          33,
          27,
          22,
          28,
          31,
          25,
          29,
          23,
          35,
          30,
          21,
          26,
          32,
          28,
          27,
          24,
          29,
          33,
          31,
          22,
          25,
          29,
          28,
          27,
          30,
          23,
          34,
          26,
          25,
          29,
          28,
          31,
          27,
          22,
          24,
          35,
          21,
          29,
          25,
          28,
          32,
          26,
          33,
          27,
          31,
          24,
          34,
          22,
          29,
          28,
          31,
          21,
          25,
          30,
          27,
          32,
          24,
          29,
          26,
          33,
          22,
          35,
          28,
          27,
          25,
          30,
          22,
          28,
          33,
          21,
          27,
          24,
          29,
          31,
          23,
          26,
          34,
          22,
          28,
          21,
          35,
          27,
          23,
          32,
          26,
          24,
          29,
          33,
          22,
          31,
          27,
          25,
          30,
          26,
          34,
          28,
          23,
          21,
          29,
          24,
          33,
          27,
          22,
          28,
          31,
          25,
          29,
          23,
          35,
          30,
          21,
          26,
          32,
          28,
          27,
          24,
          29,
          33,
          31,
          22,
          25,
          29,
          28,
          27,
          30,
          23,
          34,
          26,
          25,
          29,
          28,
          31,
          27,
          22,
          24,
          35,
          21,
          29,
          25,
          28,
          32,
          26,
          33,
          27,
          31,
          24,
          34,
          22,
          29,
          28,
          31,
          21,
          25,
          30,
          27,
          32,
          24,
          29,
          26,
          33,
          22,
          35,
          28,
          27,
          25,
          30,
          22,
          28,
          33,
          21,
          27,
          24,
          29,
          31,
          23,
          26,
          34,
          22,
          28,
          21,
          35,
          27,
          23,
          32,
          26,
          24,
          29,
          33,
          22,
          31,
          27,
          25,
          30,
          26,
          34,
          28,
          23,
          21,
          29,
          24,
          33,
          27,
          22,
          28,
          31,
          25,
          29,
          23,
          35,
          30,
          21,
          26,
          32,
          28,
          27,
          24,
          29,
          33,
          31,
          22,
          25,
          29,
          28,
          27,
          30,
          23,
          34,
          26,
          25,
          29,
          28,
          31,
          27,
          22,
          24,
          35,
          21,
          29,
          25,
          28,
          32,
          26,
          33,
          27,
          31,
          24,
          34,
          22,
          29,
          28,
          31,
          21,
          25,
          30,
          27,
          32,
          24,
          29,
          26,
          33,
          22,
          35,
          28,
          27,
          25,
          30,
          22,
          28,
          33,
          21,
          27,
          24,
          29,
          31,
          23,
          26,
          34,
          22,
          28,
          21,
          35,
          27,
          23,
          32,
          26,
          24,
          29,
          33,
          22,
          31,
          27,
          25,
          30,
          26,
          34,
          28,
          23,
          21,
          29,
          24,
          33,
          27,
          22,
          28,
          31,
          25,
          29,
          23,
          35,
          30,
          21,
          26,
          32,
          28,
          27,
          27,
          27,
          27,
          27,
          27,
          27,
          27,
          27,
          27,
          27,
          27,
          27,
          27,
          27,
          27,
          27,
          27,
          27,
          27,
          27,
          27,
          27,
          27,
          27,
          27,
          27,
          27,
          27,
          27,
          27,
          27,
          27,
          27,
          27,
          27,
          27,
          27,
          25,
          30,
          27,
          32,
          24,
          29,
          26,
          33,
          22,
          35,
          28,
          27,
          25,
          30,
          22,
          28,
          33,
          21,
          27,
          24,
          29,
          31,
          23,
          26,
          34,
          22,
          28,
          21,
          35,
          27,
          23,
          32,
          26,
          24,
          29,
          33,
          22,
          31,
          27,
          25,
          30,
          26,
          34,
          28,
          23,
          21,
          29,
          24,
          33,
          27,
          22,
          28,
          31,
          25,
          29,
          23,
          35,
          30,
          21,
          26,
          32,
          28,
          27,
          24,
          29,
          33,
          31,
          22,
          25,
          29,
          28,
          27,
          30,
          23,
          34,
          26,
          25,
          29,
          28,
          31,
          27,
          22,
          24,
          35,
          21,
          29,
          25,
          28,
          32,
          26,
          33,
          27,
          31,
          24,
          34,
          22,
          29,
          28,
          31,
          21,
          25,
          30,
          27,
          32,
          24,
          29,
          26,
          33,
          22,
          35,
          28,
          27,
          25,
          30,
          22,
          28,
          33,
          21,
          27,
          24,
          29,
          31,
          23,
          26,
          34,
          22,
          28,
          21,
          35,
          27,
          23,
          32,
          26,
          24,
          29,
          33,
          22,
          31,
          27,
          25,
          30,
          26,
          34,
          28,
          23,
          21,
          29,
          24,
          33,
          27,
          22,
          28,
          31,
          25,
          29,
          23,
          35,
          30,
          21,
          26,
          32,
          28,
          27,
          24,
          29,
          33,
          31,
          22,
          25,
          29,
          28,
          27,
          30,
          23,
          34,
          26,
          25,
          29,
          28,
          31,
          27,
          22,
          24,
          35,
          21,
          29,
          25,
          28,
          32,
          26,
          33,
          27,
          31,
          24,
          34,
          22,
          29,
          28,
          31,
          21,
          25,
          30,
          27,
          32,
          24,
          29,
          26,
          33,
          22,
          35,
          28,
          27
         ],
         "xaxis": "x",
         "yaxis": "y"
        }
       ],
       "layout": {
        "barmode": "relative",
        "legend": {
         "tracegroupgap": 0
        },
        "template": {
         "data": {
          "bar": [
           {
            "error_x": {
             "color": "#2a3f5f"
            },
            "error_y": {
             "color": "#2a3f5f"
            },
            "marker": {
             "line": {
              "color": "#E5ECF6",
              "width": 0.5
             },
             "pattern": {
              "fillmode": "overlay",
              "size": 10,
              "solidity": 0.2
             }
            },
            "type": "bar"
           }
          ],
          "barpolar": [
           {
            "marker": {
             "line": {
              "color": "#E5ECF6",
              "width": 0.5
             },
             "pattern": {
              "fillmode": "overlay",
              "size": 10,
              "solidity": 0.2
             }
            },
            "type": "barpolar"
           }
          ],
          "carpet": [
           {
            "aaxis": {
             "endlinecolor": "#2a3f5f",
             "gridcolor": "white",
             "linecolor": "white",
             "minorgridcolor": "white",
             "startlinecolor": "#2a3f5f"
            },
            "baxis": {
             "endlinecolor": "#2a3f5f",
             "gridcolor": "white",
             "linecolor": "white",
             "minorgridcolor": "white",
             "startlinecolor": "#2a3f5f"
            },
            "type": "carpet"
           }
          ],
          "choropleth": [
           {
            "colorbar": {
             "outlinewidth": 0,
             "ticks": ""
            },
            "type": "choropleth"
           }
          ],
          "contour": [
           {
            "colorbar": {
             "outlinewidth": 0,
             "ticks": ""
            },
            "colorscale": [
             [
              0,
              "#0d0887"
             ],
             [
              0.1111111111111111,
              "#46039f"
             ],
             [
              0.2222222222222222,
              "#7201a8"
             ],
             [
              0.3333333333333333,
              "#9c179e"
             ],
             [
              0.4444444444444444,
              "#bd3786"
             ],
             [
              0.5555555555555556,
              "#d8576b"
             ],
             [
              0.6666666666666666,
              "#ed7953"
             ],
             [
              0.7777777777777778,
              "#fb9f3a"
             ],
             [
              0.8888888888888888,
              "#fdca26"
             ],
             [
              1,
              "#f0f921"
             ]
            ],
            "type": "contour"
           }
          ],
          "contourcarpet": [
           {
            "colorbar": {
             "outlinewidth": 0,
             "ticks": ""
            },
            "type": "contourcarpet"
           }
          ],
          "heatmap": [
           {
            "colorbar": {
             "outlinewidth": 0,
             "ticks": ""
            },
            "colorscale": [
             [
              0,
              "#0d0887"
             ],
             [
              0.1111111111111111,
              "#46039f"
             ],
             [
              0.2222222222222222,
              "#7201a8"
             ],
             [
              0.3333333333333333,
              "#9c179e"
             ],
             [
              0.4444444444444444,
              "#bd3786"
             ],
             [
              0.5555555555555556,
              "#d8576b"
             ],
             [
              0.6666666666666666,
              "#ed7953"
             ],
             [
              0.7777777777777778,
              "#fb9f3a"
             ],
             [
              0.8888888888888888,
              "#fdca26"
             ],
             [
              1,
              "#f0f921"
             ]
            ],
            "type": "heatmap"
           }
          ],
          "heatmapgl": [
           {
            "colorbar": {
             "outlinewidth": 0,
             "ticks": ""
            },
            "colorscale": [
             [
              0,
              "#0d0887"
             ],
             [
              0.1111111111111111,
              "#46039f"
             ],
             [
              0.2222222222222222,
              "#7201a8"
             ],
             [
              0.3333333333333333,
              "#9c179e"
             ],
             [
              0.4444444444444444,
              "#bd3786"
             ],
             [
              0.5555555555555556,
              "#d8576b"
             ],
             [
              0.6666666666666666,
              "#ed7953"
             ],
             [
              0.7777777777777778,
              "#fb9f3a"
             ],
             [
              0.8888888888888888,
              "#fdca26"
             ],
             [
              1,
              "#f0f921"
             ]
            ],
            "type": "heatmapgl"
           }
          ],
          "histogram": [
           {
            "marker": {
             "pattern": {
              "fillmode": "overlay",
              "size": 10,
              "solidity": 0.2
             }
            },
            "type": "histogram"
           }
          ],
          "histogram2d": [
           {
            "colorbar": {
             "outlinewidth": 0,
             "ticks": ""
            },
            "colorscale": [
             [
              0,
              "#0d0887"
             ],
             [
              0.1111111111111111,
              "#46039f"
             ],
             [
              0.2222222222222222,
              "#7201a8"
             ],
             [
              0.3333333333333333,
              "#9c179e"
             ],
             [
              0.4444444444444444,
              "#bd3786"
             ],
             [
              0.5555555555555556,
              "#d8576b"
             ],
             [
              0.6666666666666666,
              "#ed7953"
             ],
             [
              0.7777777777777778,
              "#fb9f3a"
             ],
             [
              0.8888888888888888,
              "#fdca26"
             ],
             [
              1,
              "#f0f921"
             ]
            ],
            "type": "histogram2d"
           }
          ],
          "histogram2dcontour": [
           {
            "colorbar": {
             "outlinewidth": 0,
             "ticks": ""
            },
            "colorscale": [
             [
              0,
              "#0d0887"
             ],
             [
              0.1111111111111111,
              "#46039f"
             ],
             [
              0.2222222222222222,
              "#7201a8"
             ],
             [
              0.3333333333333333,
              "#9c179e"
             ],
             [
              0.4444444444444444,
              "#bd3786"
             ],
             [
              0.5555555555555556,
              "#d8576b"
             ],
             [
              0.6666666666666666,
              "#ed7953"
             ],
             [
              0.7777777777777778,
              "#fb9f3a"
             ],
             [
              0.8888888888888888,
              "#fdca26"
             ],
             [
              1,
              "#f0f921"
             ]
            ],
            "type": "histogram2dcontour"
           }
          ],
          "mesh3d": [
           {
            "colorbar": {
             "outlinewidth": 0,
             "ticks": ""
            },
            "type": "mesh3d"
           }
          ],
          "parcoords": [
           {
            "line": {
             "colorbar": {
              "outlinewidth": 0,
              "ticks": ""
             }
            },
            "type": "parcoords"
           }
          ],
          "pie": [
           {
            "automargin": true,
            "type": "pie"
           }
          ],
          "scatter": [
           {
            "fillpattern": {
             "fillmode": "overlay",
             "size": 10,
             "solidity": 0.2
            },
            "type": "scatter"
           }
          ],
          "scatter3d": [
           {
            "line": {
             "colorbar": {
              "outlinewidth": 0,
              "ticks": ""
             }
            },
            "marker": {
             "colorbar": {
              "outlinewidth": 0,
              "ticks": ""
             }
            },
            "type": "scatter3d"
           }
          ],
          "scattercarpet": [
           {
            "marker": {
             "colorbar": {
              "outlinewidth": 0,
              "ticks": ""
             }
            },
            "type": "scattercarpet"
           }
          ],
          "scattergeo": [
           {
            "marker": {
             "colorbar": {
              "outlinewidth": 0,
              "ticks": ""
             }
            },
            "type": "scattergeo"
           }
          ],
          "scattergl": [
           {
            "marker": {
             "colorbar": {
              "outlinewidth": 0,
              "ticks": ""
             }
            },
            "type": "scattergl"
           }
          ],
          "scattermapbox": [
           {
            "marker": {
             "colorbar": {
              "outlinewidth": 0,
              "ticks": ""
             }
            },
            "type": "scattermapbox"
           }
          ],
          "scatterpolar": [
           {
            "marker": {
             "colorbar": {
              "outlinewidth": 0,
              "ticks": ""
             }
            },
            "type": "scatterpolar"
           }
          ],
          "scatterpolargl": [
           {
            "marker": {
             "colorbar": {
              "outlinewidth": 0,
              "ticks": ""
             }
            },
            "type": "scatterpolargl"
           }
          ],
          "scatterternary": [
           {
            "marker": {
             "colorbar": {
              "outlinewidth": 0,
              "ticks": ""
             }
            },
            "type": "scatterternary"
           }
          ],
          "surface": [
           {
            "colorbar": {
             "outlinewidth": 0,
             "ticks": ""
            },
            "colorscale": [
             [
              0,
              "#0d0887"
             ],
             [
              0.1111111111111111,
              "#46039f"
             ],
             [
              0.2222222222222222,
              "#7201a8"
             ],
             [
              0.3333333333333333,
              "#9c179e"
             ],
             [
              0.4444444444444444,
              "#bd3786"
             ],
             [
              0.5555555555555556,
              "#d8576b"
             ],
             [
              0.6666666666666666,
              "#ed7953"
             ],
             [
              0.7777777777777778,
              "#fb9f3a"
             ],
             [
              0.8888888888888888,
              "#fdca26"
             ],
             [
              1,
              "#f0f921"
             ]
            ],
            "type": "surface"
           }
          ],
          "table": [
           {
            "cells": {
             "fill": {
              "color": "#EBF0F8"
             },
             "line": {
              "color": "white"
             }
            },
            "header": {
             "fill": {
              "color": "#C8D4E3"
             },
             "line": {
              "color": "white"
             }
            },
            "type": "table"
           }
          ]
         },
         "layout": {
          "annotationdefaults": {
           "arrowcolor": "#2a3f5f",
           "arrowhead": 0,
           "arrowwidth": 1
          },
          "autotypenumbers": "strict",
          "coloraxis": {
           "colorbar": {
            "outlinewidth": 0,
            "ticks": ""
           }
          },
          "colorscale": {
           "diverging": [
            [
             0,
             "#8e0152"
            ],
            [
             0.1,
             "#c51b7d"
            ],
            [
             0.2,
             "#de77ae"
            ],
            [
             0.3,
             "#f1b6da"
            ],
            [
             0.4,
             "#fde0ef"
            ],
            [
             0.5,
             "#f7f7f7"
            ],
            [
             0.6,
             "#e6f5d0"
            ],
            [
             0.7,
             "#b8e186"
            ],
            [
             0.8,
             "#7fbc41"
            ],
            [
             0.9,
             "#4d9221"
            ],
            [
             1,
             "#276419"
            ]
           ],
           "sequential": [
            [
             0,
             "#0d0887"
            ],
            [
             0.1111111111111111,
             "#46039f"
            ],
            [
             0.2222222222222222,
             "#7201a8"
            ],
            [
             0.3333333333333333,
             "#9c179e"
            ],
            [
             0.4444444444444444,
             "#bd3786"
            ],
            [
             0.5555555555555556,
             "#d8576b"
            ],
            [
             0.6666666666666666,
             "#ed7953"
            ],
            [
             0.7777777777777778,
             "#fb9f3a"
            ],
            [
             0.8888888888888888,
             "#fdca26"
            ],
            [
             1,
             "#f0f921"
            ]
           ],
           "sequentialminus": [
            [
             0,
             "#0d0887"
            ],
            [
             0.1111111111111111,
             "#46039f"
            ],
            [
             0.2222222222222222,
             "#7201a8"
            ],
            [
             0.3333333333333333,
             "#9c179e"
            ],
            [
             0.4444444444444444,
             "#bd3786"
            ],
            [
             0.5555555555555556,
             "#d8576b"
            ],
            [
             0.6666666666666666,
             "#ed7953"
            ],
            [
             0.7777777777777778,
             "#fb9f3a"
            ],
            [
             0.8888888888888888,
             "#fdca26"
            ],
            [
             1,
             "#f0f921"
            ]
           ]
          },
          "colorway": [
           "#636efa",
           "#EF553B",
           "#00cc96",
           "#ab63fa",
           "#FFA15A",
           "#19d3f3",
           "#FF6692",
           "#B6E880",
           "#FF97FF",
           "#FECB52"
          ],
          "font": {
           "color": "#2a3f5f"
          },
          "geo": {
           "bgcolor": "white",
           "lakecolor": "white",
           "landcolor": "#E5ECF6",
           "showlakes": true,
           "showland": true,
           "subunitcolor": "white"
          },
          "hoverlabel": {
           "align": "left"
          },
          "hovermode": "closest",
          "mapbox": {
           "style": "light"
          },
          "paper_bgcolor": "white",
          "plot_bgcolor": "#E5ECF6",
          "polar": {
           "angularaxis": {
            "gridcolor": "white",
            "linecolor": "white",
            "ticks": ""
           },
           "bgcolor": "#E5ECF6",
           "radialaxis": {
            "gridcolor": "white",
            "linecolor": "white",
            "ticks": ""
           }
          },
          "scene": {
           "xaxis": {
            "backgroundcolor": "#E5ECF6",
            "gridcolor": "white",
            "gridwidth": 2,
            "linecolor": "white",
            "showbackground": true,
            "ticks": "",
            "zerolinecolor": "white"
           },
           "yaxis": {
            "backgroundcolor": "#E5ECF6",
            "gridcolor": "white",
            "gridwidth": 2,
            "linecolor": "white",
            "showbackground": true,
            "ticks": "",
            "zerolinecolor": "white"
           },
           "zaxis": {
            "backgroundcolor": "#E5ECF6",
            "gridcolor": "white",
            "gridwidth": 2,
            "linecolor": "white",
            "showbackground": true,
            "ticks": "",
            "zerolinecolor": "white"
           }
          },
          "shapedefaults": {
           "line": {
            "color": "#2a3f5f"
           }
          },
          "ternary": {
           "aaxis": {
            "gridcolor": "white",
            "linecolor": "white",
            "ticks": ""
           },
           "baxis": {
            "gridcolor": "white",
            "linecolor": "white",
            "ticks": ""
           },
           "bgcolor": "#E5ECF6",
           "caxis": {
            "gridcolor": "white",
            "linecolor": "white",
            "ticks": ""
           }
          },
          "title": {
           "x": 0.05
          },
          "xaxis": {
           "automargin": true,
           "gridcolor": "white",
           "linecolor": "white",
           "ticks": "",
           "title": {
            "standoff": 15
           },
           "zerolinecolor": "white",
           "zerolinewidth": 2
          },
          "yaxis": {
           "automargin": true,
           "gridcolor": "white",
           "linecolor": "white",
           "ticks": "",
           "title": {
            "standoff": 15
           },
           "zerolinecolor": "white",
           "zerolinewidth": 2
          }
         }
        },
        "title": {
         "text": "Age Distribution"
        },
        "xaxis": {
         "anchor": "y",
         "domain": [
          0,
          1
         ],
         "title": {
          "text": "Age"
         }
        },
        "yaxis": {
         "anchor": "x",
         "domain": [
          0,
          1
         ],
         "title": {
          "text": "count"
         }
        }
       }
      }
     },
     "metadata": {},
     "output_type": "display_data"
    }
   ],
   "source": [
    "plt = px.histogram(train_df, x='Age', title='Age Distribution')\n",
    "plt.show()"
   ]
  },
  {
   "cell_type": "code",
   "execution_count": 42,
   "metadata": {},
   "outputs": [
    {
     "data": {
      "application/vnd.plotly.v1+json": {
       "config": {
        "plotlyServerURL": "https://plot.ly"
       },
       "data": [
        {
         "alignmentgroup": "True",
         "bingroup": "x",
         "hovertemplate": "Gender=%{x}<br>count=%{y}<extra></extra>",
         "legendgroup": "",
         "marker": {
          "color": "#636efa",
          "pattern": {
           "shape": ""
          }
         },
         "name": "",
         "offsetgroup": "",
         "orientation": "v",
         "showlegend": false,
         "type": "histogram",
         "x": [
          "Female",
          "Male",
          "Non-binary",
          "Female",
          "Male",
          "Male",
          "Female",
          "Non-binary",
          "Female",
          "Male",
          "Female",
          "Non-binary",
          "Male",
          "Female",
          "Male",
          "Non-binary",
          "Female",
          "Male",
          "Non-binary",
          "Female",
          "Male",
          "Female",
          "Male",
          "Non-binary",
          "Female",
          "Male",
          "Non-binary",
          "Female",
          "Male",
          "Non-binary",
          "Female",
          "Male",
          "Non-binary",
          "Female",
          "Male",
          "Non-binary",
          "Female",
          "Male",
          "Female",
          "Non-binary",
          "Male",
          "Female",
          "Male",
          "Non-binary",
          "Female",
          "Male",
          "Female",
          "Non-binary",
          "Male",
          "Female",
          "Male",
          "Female",
          "Non-binary",
          "Female",
          "Male",
          "Female",
          "Male",
          "Non-binary",
          "Female",
          "Male",
          "Female",
          "Male",
          "Non-binary",
          "Female",
          "Male",
          "Non-binary",
          "Male",
          "Female",
          "Male",
          "Non-binary",
          "Female",
          "Male",
          "Non-binary",
          "Female",
          "Male",
          "Non-binary",
          "Female",
          "Male",
          "Non-binary",
          "Female",
          "Male",
          "Non-binary",
          "Female",
          "Male",
          "Non-binary",
          "Female",
          "Male",
          "Non-binary",
          "Female",
          "Male",
          "Non-binary",
          "Female",
          "Male",
          "Female",
          "Male",
          "Non-binary",
          "Female",
          "Male",
          "Non-binary",
          "Female",
          "Female",
          "Male",
          "Non-binary",
          "Female",
          "Male",
          "Male",
          "Female",
          "Non-binary",
          "Female",
          "Male",
          "Female",
          "Non-binary",
          "Male",
          "Female",
          "Male",
          "Non-binary",
          "Female",
          "Male",
          "Non-binary",
          "Female",
          "Male",
          "Female",
          "Male",
          "Non-binary",
          "Female",
          "Male",
          "Non-binary",
          "Female",
          "Male",
          "Non-binary",
          "Female",
          "Male",
          "Non-binary",
          "Female",
          "Male",
          "Non-binary",
          "Female",
          "Male",
          "Female",
          "Non-binary",
          "Male",
          "Female",
          "Male",
          "Non-binary",
          "Female",
          "Male",
          "Female",
          "Non-binary",
          "Male",
          "Female",
          "Male",
          "Female",
          "Non-binary",
          "Female",
          "Male",
          "Female",
          "Male",
          "Non-binary",
          "Female",
          "Male",
          "Female",
          "Male",
          "Non-binary",
          "Female",
          "Male",
          "Non-binary",
          "Male",
          "Female",
          "Male",
          "Non-binary",
          "Female",
          "Male",
          "Non-binary",
          "Female",
          "Male",
          "Non-binary",
          "Female",
          "Male",
          "Non-binary",
          "Female",
          "Male",
          "Non-binary",
          "Female",
          "Male",
          "Non-binary",
          "Female",
          "Male",
          "Non-binary",
          "Female",
          "Male",
          "Non-binary",
          "Female",
          "Male",
          "Female",
          "Male",
          "Non-binary",
          "Female",
          "Male",
          "Non-binary",
          "Female",
          "Female",
          "Male",
          "Non-binary",
          "Female",
          "Male",
          "Male",
          "Female",
          "Non-binary",
          "Female",
          "Male",
          "Female",
          "Non-binary",
          "Male",
          "Female",
          "Male",
          "Non-binary",
          "Female",
          "Male",
          "Non-binary",
          "Female",
          "Male",
          "Female",
          "Male",
          "Non-binary",
          "Female",
          "Male",
          "Non-binary",
          "Female",
          "Male",
          "Non-binary",
          "Female",
          "Male",
          "Non-binary",
          "Female",
          "Male",
          "Non-binary",
          "Female",
          "Male",
          "Female",
          "Non-binary",
          "Male",
          "Female",
          "Male",
          "Non-binary",
          "Female",
          "Male",
          "Female",
          "Non-binary",
          "Male",
          "Female",
          "Unknown",
          "Unknown",
          "Unknown",
          "Unknown",
          "Unknown",
          "Unknown",
          "Unknown",
          "Unknown",
          "Unknown",
          "Unknown",
          "Unknown",
          "Unknown",
          "Unknown",
          "Unknown",
          "Unknown",
          "Unknown",
          "Unknown",
          "Unknown",
          "Unknown",
          "Unknown",
          "Unknown",
          "Unknown",
          "Unknown",
          "Unknown",
          "Unknown",
          "Unknown",
          "Unknown",
          "Unknown",
          "Unknown",
          "Unknown",
          "Unknown",
          "Unknown",
          "Unknown",
          "Unknown",
          "Unknown",
          "Unknown",
          "Unknown",
          "Unknown",
          "Female",
          "Male",
          "Non-binary",
          "Female",
          "Male",
          "Female",
          "Male",
          "Non-binary",
          "Female",
          "Male",
          "Non-binary",
          "Female",
          "Female",
          "Male",
          "Non-binary",
          "Female",
          "Male",
          "Male",
          "Female",
          "Non-binary",
          "Female",
          "Male",
          "Female",
          "Non-binary",
          "Male",
          "Female",
          "Male",
          "Non-binary",
          "Female",
          "Male",
          "Non-binary",
          "Female",
          "Male",
          "Female",
          "Male",
          "Non-binary",
          "Female",
          "Male",
          "Non-binary",
          "Female",
          "Male",
          "Non-binary",
          "Female",
          "Male",
          "Non-binary",
          "Female",
          "Male",
          "Non-binary",
          "Female",
          "Male",
          "Female",
          "Non-binary",
          "Male",
          "Female",
          "Male",
          "Non-binary",
          "Female",
          "Male",
          "Female",
          "Non-binary",
          "Male",
          "Female",
          "Male",
          "Female",
          "Non-binary",
          "Female",
          "Male",
          "Female",
          "Male",
          "Non-binary",
          "Female",
          "Male",
          "Female",
          "Male",
          "Non-binary",
          "Female",
          "Male",
          "Non-binary",
          "Male",
          "Female",
          "Male",
          "Non-binary",
          "Female",
          "Male",
          "Non-binary",
          "Female",
          "Male",
          "Non-binary",
          "Female",
          "Male",
          "Non-binary",
          "Female",
          "Male",
          "Non-binary",
          "Female",
          "Male",
          "Non-binary",
          "Female",
          "Male",
          "Non-binary",
          "Female",
          "Male",
          "Non-binary",
          "Female",
          "Male",
          "Female",
          "Male",
          "Non-binary",
          "Female",
          "Male",
          "Non-binary",
          "Female",
          "Female",
          "Male",
          "Non-binary",
          "Female",
          "Male",
          "Male",
          "Female",
          "Non-binary",
          "Female",
          "Male",
          "Female",
          "Non-binary",
          "Male",
          "Female",
          "Male",
          "Non-binary",
          "Female",
          "Male",
          "Non-binary",
          "Female",
          "Male",
          "Female",
          "Male",
          "Non-binary",
          "Female",
          "Male",
          "Non-binary",
          "Female",
          "Male",
          "Non-binary",
          "Female",
          "Male",
          "Non-binary",
          "Female",
          "Male",
          "Non-binary",
          "Female",
          "Male",
          "Female",
          "Non-binary",
          "Male",
          "Female",
          "Male",
          "Non-binary",
          "Female",
          "Male",
          "Female",
          "Non-binary",
          "Male",
          "Female",
          "Male",
          "Female",
          "Non-binary",
          "Female",
          "Male",
          "Female",
          "Male",
          "Non-binary",
          "Female",
          "Male",
          "Female",
          "Male",
          "Non-binary",
          "Female",
          "Male",
          "Non-binary",
          "Male",
          "Female",
          "Male",
          "Non-binary",
          "Female",
          "Male",
          "Non-binary",
          "Female",
          "Male",
          "Non-binary",
          "Female",
          "Male",
          "Non-binary",
          "Female",
          "Male",
          "Non-binary",
          "Female",
          "Male",
          "Non-binary",
          "Female",
          "Male",
          "Non-binary",
          "Female",
          "Male",
          "Non-binary",
          "Female",
          "Male",
          "Female",
          "Male",
          "Non-binary",
          "Female",
          "Male",
          "Non-binary",
          "Female",
          "Female",
          "Male",
          "Non-binary",
          "Female",
          "Male",
          "Male",
          "Female",
          "Non-binary",
          "Female",
          "Male",
          "Female",
          "Non-binary",
          "Male",
          "Female",
          "Male",
          "Non-binary",
          "Female",
          "Male",
          "Non-binary",
          "Female",
          "Male",
          "Female",
          "Male",
          "Non-binary",
          "Female",
          "Male",
          "Non-binary",
          "Female",
          "Male",
          "Non-binary",
          "Female",
          "Male",
          "Non-binary",
          "Female",
          "Male",
          "Non-binary",
          "Female",
          "Male",
          "Female",
          "Non-binary",
          "Male",
          "Female",
          "Male",
          "Non-binary",
          "Female",
          "Male",
          "Female",
          "Non-binary",
          "Male",
          "Female",
          "Male",
          "Female",
          "Non-binary",
          "Female",
          "Male",
          "Female",
          "Male",
          "Non-binary",
          "Female",
          "Male",
          "Female",
          "Male",
          "Non-binary",
          "Female",
          "Male",
          "Non-binary",
          "Male",
          "Female",
          "Male",
          "Non-binary",
          "Female",
          "Male",
          "Non-binary",
          "Female",
          "Male",
          "Non-binary",
          "Female",
          "Male",
          "Non-binary",
          "Female",
          "Male",
          "Non-binary",
          "Female",
          "Male",
          "Non-binary",
          "Female",
          "Male",
          "Non-binary",
          "Female",
          "Male",
          "Non-binary",
          "Female",
          "Male",
          "Female",
          "Male",
          "Non-binary",
          "Female",
          "Male",
          "Non-binary",
          "Female",
          "Female",
          "Male",
          "Non-binary",
          "Female",
          "Male",
          "Male",
          "Female",
          "Non-binary",
          "Female",
          "Male",
          "Female",
          "Non-binary",
          "Male",
          "Female",
          "Male",
          "Non-binary",
          "Female",
          "Male",
          "Non-binary",
          "Female",
          "Male",
          "Female",
          "Male",
          "Non-binary",
          "Female",
          "Male",
          "Non-binary",
          "Female",
          "Male",
          "Non-binary",
          "Female",
          "Male",
          "Non-binary",
          "Female",
          "Male",
          "Non-binary",
          "Female",
          "Male",
          "Female",
          "Non-binary",
          "Male",
          "Female",
          "Male",
          "Non-binary",
          "Female",
          "Male",
          "Female",
          "Non-binary",
          "Male",
          "Female",
          "Male",
          "Female",
          "Non-binary",
          "Female",
          "Male",
          "Female",
          "Male",
          "Non-binary",
          "Female",
          "Male",
          "Female",
          "Male",
          "Non-binary",
          "Female",
          "Male",
          "Non-binary",
          "Male",
          "Female",
          "Male",
          "Non-binary",
          "Female",
          "Male",
          "Non-binary",
          "Female",
          "Male",
          "Non-binary",
          "Female",
          "Male",
          "Non-binary",
          "Female",
          "Male",
          "Non-binary",
          "Female",
          "Male",
          "Non-binary",
          "Female",
          "Male",
          "Non-binary",
          "Female",
          "Male",
          "Non-binary",
          "Female",
          "Male",
          "Female",
          "Male",
          "Non-binary",
          "Female",
          "Male",
          "Non-binary",
          "Female",
          "Female",
          "Male",
          "Non-binary",
          "Female",
          "Male",
          "Male",
          "Female",
          "Non-binary",
          "Female",
          "Male",
          "Female",
          "Non-binary",
          "Male",
          "Female",
          "Male",
          "Non-binary",
          "Female",
          "Male",
          "Non-binary",
          "Female",
          "Male",
          "Female",
          "Male",
          "Non-binary",
          "Female",
          "Male",
          "Non-binary",
          "Female",
          "Male",
          "Non-binary",
          "Female",
          "Male",
          "Non-binary",
          "Female",
          "Male",
          "Non-binary",
          "Female",
          "Male",
          "Female",
          "Non-binary",
          "Male",
          "Female",
          "Male",
          "Non-binary",
          "Female",
          "Male",
          "Female",
          "Non-binary",
          "Male",
          "Female",
          "Unknown",
          "Unknown",
          "Unknown",
          "Unknown",
          "Unknown",
          "Unknown",
          "Unknown",
          "Unknown",
          "Unknown",
          "Unknown",
          "Unknown",
          "Unknown",
          "Unknown",
          "Unknown",
          "Unknown",
          "Unknown",
          "Unknown",
          "Unknown",
          "Unknown",
          "Unknown",
          "Unknown",
          "Unknown",
          "Unknown",
          "Unknown",
          "Unknown",
          "Unknown",
          "Unknown",
          "Unknown",
          "Unknown",
          "Unknown",
          "Unknown",
          "Unknown",
          "Unknown",
          "Unknown",
          "Unknown",
          "Unknown",
          "Unknown",
          "Unknown",
          "Female",
          "Male",
          "Non-binary",
          "Female",
          "Male",
          "Female",
          "Male",
          "Non-binary",
          "Female",
          "Male",
          "Non-binary",
          "Female",
          "Female",
          "Male",
          "Non-binary",
          "Female",
          "Male",
          "Male",
          "Female",
          "Non-binary",
          "Female",
          "Male",
          "Female",
          "Non-binary",
          "Male",
          "Female",
          "Male",
          "Non-binary",
          "Female",
          "Male",
          "Non-binary",
          "Female",
          "Male",
          "Female",
          "Male",
          "Non-binary",
          "Female",
          "Male",
          "Non-binary",
          "Female",
          "Male",
          "Non-binary",
          "Female",
          "Male",
          "Non-binary",
          "Female",
          "Male",
          "Non-binary",
          "Female",
          "Male",
          "Female",
          "Non-binary",
          "Male",
          "Female",
          "Male",
          "Non-binary",
          "Female",
          "Male",
          "Female",
          "Non-binary",
          "Male",
          "Female",
          "Male",
          "Female",
          "Non-binary",
          "Female",
          "Male",
          "Female",
          "Male",
          "Non-binary",
          "Female",
          "Male",
          "Female",
          "Male",
          "Non-binary",
          "Female",
          "Male",
          "Non-binary",
          "Male",
          "Female",
          "Male",
          "Non-binary",
          "Female",
          "Male",
          "Non-binary",
          "Female",
          "Male",
          "Non-binary",
          "Female",
          "Male",
          "Non-binary",
          "Female",
          "Male",
          "Non-binary",
          "Female",
          "Male",
          "Non-binary",
          "Female",
          "Male",
          "Non-binary",
          "Female",
          "Male",
          "Non-binary",
          "Female",
          "Male",
          "Female",
          "Male",
          "Non-binary",
          "Female",
          "Male",
          "Non-binary",
          "Female",
          "Female",
          "Male",
          "Non-binary",
          "Female",
          "Male",
          "Male",
          "Female",
          "Non-binary",
          "Female",
          "Male",
          "Female",
          "Non-binary",
          "Male",
          "Female",
          "Male",
          "Non-binary",
          "Female",
          "Male",
          "Non-binary",
          "Female",
          "Male",
          "Female",
          "Male",
          "Non-binary",
          "Female",
          "Male",
          "Non-binary",
          "Female",
          "Male",
          "Non-binary",
          "Female",
          "Male",
          "Non-binary",
          "Female",
          "Male",
          "Non-binary",
          "Female",
          "Male",
          "Female",
          "Non-binary",
          "Male",
          "Female",
          "Male",
          "Non-binary",
          "Female",
          "Male",
          "Female",
          "Non-binary",
          "Male",
          "Female",
          "Male",
          "Female",
          "Non-binary",
          "Female",
          "Male",
          "Female",
          "Male",
          "Non-binary",
          "Female",
          "Male",
          "Female",
          "Male",
          "Non-binary",
          "Female",
          "Male",
          "Non-binary",
          "Male",
          "Female",
          "Male",
          "Non-binary",
          "Female",
          "Male",
          "Non-binary",
          "Female",
          "Male",
          "Non-binary",
          "Female",
          "Male",
          "Non-binary",
          "Female",
          "Male",
          "Non-binary",
          "Female",
          "Male",
          "Non-binary",
          "Female",
          "Male",
          "Non-binary",
          "Female",
          "Male",
          "Non-binary",
          "Female",
          "Male",
          "Female",
          "Male",
          "Non-binary",
          "Female",
          "Male",
          "Non-binary",
          "Female"
         ],
         "xaxis": "x",
         "yaxis": "y"
        }
       ],
       "layout": {
        "barmode": "relative",
        "legend": {
         "tracegroupgap": 0
        },
        "template": {
         "data": {
          "bar": [
           {
            "error_x": {
             "color": "#2a3f5f"
            },
            "error_y": {
             "color": "#2a3f5f"
            },
            "marker": {
             "line": {
              "color": "#E5ECF6",
              "width": 0.5
             },
             "pattern": {
              "fillmode": "overlay",
              "size": 10,
              "solidity": 0.2
             }
            },
            "type": "bar"
           }
          ],
          "barpolar": [
           {
            "marker": {
             "line": {
              "color": "#E5ECF6",
              "width": 0.5
             },
             "pattern": {
              "fillmode": "overlay",
              "size": 10,
              "solidity": 0.2
             }
            },
            "type": "barpolar"
           }
          ],
          "carpet": [
           {
            "aaxis": {
             "endlinecolor": "#2a3f5f",
             "gridcolor": "white",
             "linecolor": "white",
             "minorgridcolor": "white",
             "startlinecolor": "#2a3f5f"
            },
            "baxis": {
             "endlinecolor": "#2a3f5f",
             "gridcolor": "white",
             "linecolor": "white",
             "minorgridcolor": "white",
             "startlinecolor": "#2a3f5f"
            },
            "type": "carpet"
           }
          ],
          "choropleth": [
           {
            "colorbar": {
             "outlinewidth": 0,
             "ticks": ""
            },
            "type": "choropleth"
           }
          ],
          "contour": [
           {
            "colorbar": {
             "outlinewidth": 0,
             "ticks": ""
            },
            "colorscale": [
             [
              0,
              "#0d0887"
             ],
             [
              0.1111111111111111,
              "#46039f"
             ],
             [
              0.2222222222222222,
              "#7201a8"
             ],
             [
              0.3333333333333333,
              "#9c179e"
             ],
             [
              0.4444444444444444,
              "#bd3786"
             ],
             [
              0.5555555555555556,
              "#d8576b"
             ],
             [
              0.6666666666666666,
              "#ed7953"
             ],
             [
              0.7777777777777778,
              "#fb9f3a"
             ],
             [
              0.8888888888888888,
              "#fdca26"
             ],
             [
              1,
              "#f0f921"
             ]
            ],
            "type": "contour"
           }
          ],
          "contourcarpet": [
           {
            "colorbar": {
             "outlinewidth": 0,
             "ticks": ""
            },
            "type": "contourcarpet"
           }
          ],
          "heatmap": [
           {
            "colorbar": {
             "outlinewidth": 0,
             "ticks": ""
            },
            "colorscale": [
             [
              0,
              "#0d0887"
             ],
             [
              0.1111111111111111,
              "#46039f"
             ],
             [
              0.2222222222222222,
              "#7201a8"
             ],
             [
              0.3333333333333333,
              "#9c179e"
             ],
             [
              0.4444444444444444,
              "#bd3786"
             ],
             [
              0.5555555555555556,
              "#d8576b"
             ],
             [
              0.6666666666666666,
              "#ed7953"
             ],
             [
              0.7777777777777778,
              "#fb9f3a"
             ],
             [
              0.8888888888888888,
              "#fdca26"
             ],
             [
              1,
              "#f0f921"
             ]
            ],
            "type": "heatmap"
           }
          ],
          "heatmapgl": [
           {
            "colorbar": {
             "outlinewidth": 0,
             "ticks": ""
            },
            "colorscale": [
             [
              0,
              "#0d0887"
             ],
             [
              0.1111111111111111,
              "#46039f"
             ],
             [
              0.2222222222222222,
              "#7201a8"
             ],
             [
              0.3333333333333333,
              "#9c179e"
             ],
             [
              0.4444444444444444,
              "#bd3786"
             ],
             [
              0.5555555555555556,
              "#d8576b"
             ],
             [
              0.6666666666666666,
              "#ed7953"
             ],
             [
              0.7777777777777778,
              "#fb9f3a"
             ],
             [
              0.8888888888888888,
              "#fdca26"
             ],
             [
              1,
              "#f0f921"
             ]
            ],
            "type": "heatmapgl"
           }
          ],
          "histogram": [
           {
            "marker": {
             "pattern": {
              "fillmode": "overlay",
              "size": 10,
              "solidity": 0.2
             }
            },
            "type": "histogram"
           }
          ],
          "histogram2d": [
           {
            "colorbar": {
             "outlinewidth": 0,
             "ticks": ""
            },
            "colorscale": [
             [
              0,
              "#0d0887"
             ],
             [
              0.1111111111111111,
              "#46039f"
             ],
             [
              0.2222222222222222,
              "#7201a8"
             ],
             [
              0.3333333333333333,
              "#9c179e"
             ],
             [
              0.4444444444444444,
              "#bd3786"
             ],
             [
              0.5555555555555556,
              "#d8576b"
             ],
             [
              0.6666666666666666,
              "#ed7953"
             ],
             [
              0.7777777777777778,
              "#fb9f3a"
             ],
             [
              0.8888888888888888,
              "#fdca26"
             ],
             [
              1,
              "#f0f921"
             ]
            ],
            "type": "histogram2d"
           }
          ],
          "histogram2dcontour": [
           {
            "colorbar": {
             "outlinewidth": 0,
             "ticks": ""
            },
            "colorscale": [
             [
              0,
              "#0d0887"
             ],
             [
              0.1111111111111111,
              "#46039f"
             ],
             [
              0.2222222222222222,
              "#7201a8"
             ],
             [
              0.3333333333333333,
              "#9c179e"
             ],
             [
              0.4444444444444444,
              "#bd3786"
             ],
             [
              0.5555555555555556,
              "#d8576b"
             ],
             [
              0.6666666666666666,
              "#ed7953"
             ],
             [
              0.7777777777777778,
              "#fb9f3a"
             ],
             [
              0.8888888888888888,
              "#fdca26"
             ],
             [
              1,
              "#f0f921"
             ]
            ],
            "type": "histogram2dcontour"
           }
          ],
          "mesh3d": [
           {
            "colorbar": {
             "outlinewidth": 0,
             "ticks": ""
            },
            "type": "mesh3d"
           }
          ],
          "parcoords": [
           {
            "line": {
             "colorbar": {
              "outlinewidth": 0,
              "ticks": ""
             }
            },
            "type": "parcoords"
           }
          ],
          "pie": [
           {
            "automargin": true,
            "type": "pie"
           }
          ],
          "scatter": [
           {
            "fillpattern": {
             "fillmode": "overlay",
             "size": 10,
             "solidity": 0.2
            },
            "type": "scatter"
           }
          ],
          "scatter3d": [
           {
            "line": {
             "colorbar": {
              "outlinewidth": 0,
              "ticks": ""
             }
            },
            "marker": {
             "colorbar": {
              "outlinewidth": 0,
              "ticks": ""
             }
            },
            "type": "scatter3d"
           }
          ],
          "scattercarpet": [
           {
            "marker": {
             "colorbar": {
              "outlinewidth": 0,
              "ticks": ""
             }
            },
            "type": "scattercarpet"
           }
          ],
          "scattergeo": [
           {
            "marker": {
             "colorbar": {
              "outlinewidth": 0,
              "ticks": ""
             }
            },
            "type": "scattergeo"
           }
          ],
          "scattergl": [
           {
            "marker": {
             "colorbar": {
              "outlinewidth": 0,
              "ticks": ""
             }
            },
            "type": "scattergl"
           }
          ],
          "scattermapbox": [
           {
            "marker": {
             "colorbar": {
              "outlinewidth": 0,
              "ticks": ""
             }
            },
            "type": "scattermapbox"
           }
          ],
          "scatterpolar": [
           {
            "marker": {
             "colorbar": {
              "outlinewidth": 0,
              "ticks": ""
             }
            },
            "type": "scatterpolar"
           }
          ],
          "scatterpolargl": [
           {
            "marker": {
             "colorbar": {
              "outlinewidth": 0,
              "ticks": ""
             }
            },
            "type": "scatterpolargl"
           }
          ],
          "scatterternary": [
           {
            "marker": {
             "colorbar": {
              "outlinewidth": 0,
              "ticks": ""
             }
            },
            "type": "scatterternary"
           }
          ],
          "surface": [
           {
            "colorbar": {
             "outlinewidth": 0,
             "ticks": ""
            },
            "colorscale": [
             [
              0,
              "#0d0887"
             ],
             [
              0.1111111111111111,
              "#46039f"
             ],
             [
              0.2222222222222222,
              "#7201a8"
             ],
             [
              0.3333333333333333,
              "#9c179e"
             ],
             [
              0.4444444444444444,
              "#bd3786"
             ],
             [
              0.5555555555555556,
              "#d8576b"
             ],
             [
              0.6666666666666666,
              "#ed7953"
             ],
             [
              0.7777777777777778,
              "#fb9f3a"
             ],
             [
              0.8888888888888888,
              "#fdca26"
             ],
             [
              1,
              "#f0f921"
             ]
            ],
            "type": "surface"
           }
          ],
          "table": [
           {
            "cells": {
             "fill": {
              "color": "#EBF0F8"
             },
             "line": {
              "color": "white"
             }
            },
            "header": {
             "fill": {
              "color": "#C8D4E3"
             },
             "line": {
              "color": "white"
             }
            },
            "type": "table"
           }
          ]
         },
         "layout": {
          "annotationdefaults": {
           "arrowcolor": "#2a3f5f",
           "arrowhead": 0,
           "arrowwidth": 1
          },
          "autotypenumbers": "strict",
          "coloraxis": {
           "colorbar": {
            "outlinewidth": 0,
            "ticks": ""
           }
          },
          "colorscale": {
           "diverging": [
            [
             0,
             "#8e0152"
            ],
            [
             0.1,
             "#c51b7d"
            ],
            [
             0.2,
             "#de77ae"
            ],
            [
             0.3,
             "#f1b6da"
            ],
            [
             0.4,
             "#fde0ef"
            ],
            [
             0.5,
             "#f7f7f7"
            ],
            [
             0.6,
             "#e6f5d0"
            ],
            [
             0.7,
             "#b8e186"
            ],
            [
             0.8,
             "#7fbc41"
            ],
            [
             0.9,
             "#4d9221"
            ],
            [
             1,
             "#276419"
            ]
           ],
           "sequential": [
            [
             0,
             "#0d0887"
            ],
            [
             0.1111111111111111,
             "#46039f"
            ],
            [
             0.2222222222222222,
             "#7201a8"
            ],
            [
             0.3333333333333333,
             "#9c179e"
            ],
            [
             0.4444444444444444,
             "#bd3786"
            ],
            [
             0.5555555555555556,
             "#d8576b"
            ],
            [
             0.6666666666666666,
             "#ed7953"
            ],
            [
             0.7777777777777778,
             "#fb9f3a"
            ],
            [
             0.8888888888888888,
             "#fdca26"
            ],
            [
             1,
             "#f0f921"
            ]
           ],
           "sequentialminus": [
            [
             0,
             "#0d0887"
            ],
            [
             0.1111111111111111,
             "#46039f"
            ],
            [
             0.2222222222222222,
             "#7201a8"
            ],
            [
             0.3333333333333333,
             "#9c179e"
            ],
            [
             0.4444444444444444,
             "#bd3786"
            ],
            [
             0.5555555555555556,
             "#d8576b"
            ],
            [
             0.6666666666666666,
             "#ed7953"
            ],
            [
             0.7777777777777778,
             "#fb9f3a"
            ],
            [
             0.8888888888888888,
             "#fdca26"
            ],
            [
             1,
             "#f0f921"
            ]
           ]
          },
          "colorway": [
           "#636efa",
           "#EF553B",
           "#00cc96",
           "#ab63fa",
           "#FFA15A",
           "#19d3f3",
           "#FF6692",
           "#B6E880",
           "#FF97FF",
           "#FECB52"
          ],
          "font": {
           "color": "#2a3f5f"
          },
          "geo": {
           "bgcolor": "white",
           "lakecolor": "white",
           "landcolor": "#E5ECF6",
           "showlakes": true,
           "showland": true,
           "subunitcolor": "white"
          },
          "hoverlabel": {
           "align": "left"
          },
          "hovermode": "closest",
          "mapbox": {
           "style": "light"
          },
          "paper_bgcolor": "white",
          "plot_bgcolor": "#E5ECF6",
          "polar": {
           "angularaxis": {
            "gridcolor": "white",
            "linecolor": "white",
            "ticks": ""
           },
           "bgcolor": "#E5ECF6",
           "radialaxis": {
            "gridcolor": "white",
            "linecolor": "white",
            "ticks": ""
           }
          },
          "scene": {
           "xaxis": {
            "backgroundcolor": "#E5ECF6",
            "gridcolor": "white",
            "gridwidth": 2,
            "linecolor": "white",
            "showbackground": true,
            "ticks": "",
            "zerolinecolor": "white"
           },
           "yaxis": {
            "backgroundcolor": "#E5ECF6",
            "gridcolor": "white",
            "gridwidth": 2,
            "linecolor": "white",
            "showbackground": true,
            "ticks": "",
            "zerolinecolor": "white"
           },
           "zaxis": {
            "backgroundcolor": "#E5ECF6",
            "gridcolor": "white",
            "gridwidth": 2,
            "linecolor": "white",
            "showbackground": true,
            "ticks": "",
            "zerolinecolor": "white"
           }
          },
          "shapedefaults": {
           "line": {
            "color": "#2a3f5f"
           }
          },
          "ternary": {
           "aaxis": {
            "gridcolor": "white",
            "linecolor": "white",
            "ticks": ""
           },
           "baxis": {
            "gridcolor": "white",
            "linecolor": "white",
            "ticks": ""
           },
           "bgcolor": "#E5ECF6",
           "caxis": {
            "gridcolor": "white",
            "linecolor": "white",
            "ticks": ""
           }
          },
          "title": {
           "x": 0.05
          },
          "xaxis": {
           "automargin": true,
           "gridcolor": "white",
           "linecolor": "white",
           "ticks": "",
           "title": {
            "standoff": 15
           },
           "zerolinecolor": "white",
           "zerolinewidth": 2
          },
          "yaxis": {
           "automargin": true,
           "gridcolor": "white",
           "linecolor": "white",
           "ticks": "",
           "title": {
            "standoff": 15
           },
           "zerolinecolor": "white",
           "zerolinewidth": 2
          }
         }
        },
        "title": {
         "text": "Gender Distribution"
        },
        "xaxis": {
         "anchor": "y",
         "domain": [
          0,
          1
         ],
         "title": {
          "text": "Gender"
         }
        },
        "yaxis": {
         "anchor": "x",
         "domain": [
          0,
          1
         ],
         "title": {
          "text": "count"
         }
        }
       }
      }
     },
     "metadata": {},
     "output_type": "display_data"
    }
   ],
   "source": [
    "plt = px.histogram(train_df, x='Gender', title='Gender Distribution')\n",
    "plt.show()"
   ]
  },
  {
   "cell_type": "code",
   "execution_count": 43,
   "metadata": {},
   "outputs": [
    {
     "data": {
      "application/vnd.plotly.v1+json": {
       "config": {
        "plotlyServerURL": "https://plot.ly"
       },
       "data": [
        {
         "alignmentgroup": "True",
         "bingroup": "x",
         "hovertemplate": "Platform=%{x}<br>count=%{y}<extra></extra>",
         "legendgroup": "",
         "marker": {
          "color": "#636efa",
          "pattern": {
           "shape": ""
          }
         },
         "name": "",
         "offsetgroup": "",
         "orientation": "v",
         "showlegend": false,
         "type": "histogram",
         "x": [
          "Instagram",
          "Twitter",
          "Facebook",
          "Instagram",
          "LinkedIn",
          "Instagram",
          "Twitter",
          "Facebook",
          "LinkedIn",
          "Instagram",
          "Twitter",
          "Facebook",
          "LinkedIn",
          "Instagram",
          "Twitter",
          "Facebook",
          "Instagram",
          "Twitter",
          "LinkedIn",
          "Instagram",
          "Facebook",
          "Twitter",
          "LinkedIn",
          "Instagram",
          "Twitter",
          "Facebook",
          "LinkedIn",
          "Instagram",
          "Twitter",
          "Facebook",
          "LinkedIn",
          "Instagram",
          "Twitter",
          "Instagram",
          "Facebook",
          "LinkedIn",
          "Instagram",
          "Twitter",
          "Instagram",
          "Facebook",
          "LinkedIn",
          "Instagram",
          "Twitter",
          "Facebook",
          "LinkedIn",
          "Instagram",
          "Twitter",
          "Facebook",
          "Instagram",
          "LinkedIn",
          "Instagram",
          "Twitter",
          "Facebook",
          "Instagram",
          "LinkedIn",
          "Whatsapp",
          "Telegram",
          "Snapchat",
          "Twitter",
          "Facebook",
          "Instagram",
          "Whatsapp",
          "Telegram",
          "Snapchat",
          "Twitter",
          "Facebook",
          "Instagram",
          "Whatsapp",
          "Telegram",
          "Snapchat",
          "Instagram",
          "Twitter",
          "Facebook",
          "Whatsapp",
          "Telegram",
          "Snapchat",
          "Instagram",
          "Twitter",
          "Facebook",
          "Whatsapp",
          "Telegram",
          "Snapchat",
          "Instagram",
          "Twitter",
          "Facebook",
          "Whatsapp",
          "Telegram",
          "Snapchat",
          "Instagram",
          "Twitter",
          "Facebook",
          "Whatsapp",
          "Telegram",
          "Snapchat",
          "Instagram",
          "Twitter",
          "Facebook",
          "Whatsapp",
          "Telegram",
          "Snapchat",
          "Instagram",
          "Twitter",
          "Facebook",
          "Instagram",
          "LinkedIn",
          "Instagram",
          "Twitter",
          "Facebook",
          "LinkedIn",
          "Instagram",
          "Twitter",
          "Facebook",
          "LinkedIn",
          "Instagram",
          "Twitter",
          "Facebook",
          "Instagram",
          "Twitter",
          "LinkedIn",
          "Instagram",
          "Facebook",
          "Twitter",
          "LinkedIn",
          "Instagram",
          "Twitter",
          "Facebook",
          "LinkedIn",
          "Instagram",
          "Twitter",
          "Facebook",
          "LinkedIn",
          "Instagram",
          "Twitter",
          "Instagram",
          "Facebook",
          "LinkedIn",
          "Instagram",
          "Twitter",
          "Instagram",
          "Facebook",
          "LinkedIn",
          "Instagram",
          "Twitter",
          "Facebook",
          "LinkedIn",
          "Instagram",
          "Twitter",
          "Facebook",
          "Instagram",
          "LinkedIn",
          "Instagram",
          "Twitter",
          "Facebook",
          "Instagram",
          "LinkedIn",
          "Whatsapp",
          "Telegram",
          "Snapchat",
          "Twitter",
          "Facebook",
          "Instagram",
          "Whatsapp",
          "Telegram",
          "Snapchat",
          "Twitter",
          "Facebook",
          "Instagram",
          "Whatsapp",
          "Telegram",
          "Snapchat",
          "Instagram",
          "Twitter",
          "Facebook",
          "Whatsapp",
          "Telegram",
          "Snapchat",
          "Instagram",
          "Twitter",
          "Facebook",
          "Whatsapp",
          "Telegram",
          "Snapchat",
          "Instagram",
          "Twitter",
          "Facebook",
          "Whatsapp",
          "Telegram",
          "Snapchat",
          "Instagram",
          "Twitter",
          "Facebook",
          "Whatsapp",
          "Telegram",
          "Snapchat",
          "Instagram",
          "Twitter",
          "Facebook",
          "Whatsapp",
          "Telegram",
          "Snapchat",
          "Instagram",
          "Twitter",
          "Facebook",
          "Instagram",
          "LinkedIn",
          "Instagram",
          "Twitter",
          "Facebook",
          "LinkedIn",
          "Instagram",
          "Twitter",
          "Facebook",
          "LinkedIn",
          "Instagram",
          "Twitter",
          "Facebook",
          "Instagram",
          "Twitter",
          "LinkedIn",
          "Instagram",
          "Facebook",
          "Twitter",
          "LinkedIn",
          "Instagram",
          "Twitter",
          "Facebook",
          "LinkedIn",
          "Instagram",
          "Twitter",
          "Facebook",
          "LinkedIn",
          "Instagram",
          "Twitter",
          "Instagram",
          "Facebook",
          "LinkedIn",
          "Instagram",
          "Twitter",
          "Instagram",
          "Facebook",
          "LinkedIn",
          "Instagram",
          "Twitter",
          "Facebook",
          "LinkedIn",
          "Instagram",
          "Twitter",
          "Facebook",
          "Instagram",
          "LinkedIn",
          "Instagram",
          "Twitter",
          "Facebook",
          "Instagram",
          "LinkedIn",
          "Whatsapp",
          "Telegram",
          "Snapchat",
          "Twitter",
          "Facebook",
          "Instagram",
          "Whatsapp",
          "Telegram",
          "Snapchat",
          "Twitter",
          "Facebook",
          "Instagram",
          "Whatsapp",
          "Telegram",
          "Snapchat",
          "Instagram",
          "Twitter",
          "Facebook",
          "Whatsapp",
          "Telegram",
          "Snapchat",
          "Instagram",
          "Twitter",
          "Facebook",
          "Whatsapp",
          "Telegram",
          "Snapchat",
          "Instagram",
          "Twitter",
          "Facebook",
          "Whatsapp",
          "Telegram",
          "Snapchat",
          "Instagram",
          "Twitter",
          "Facebook",
          "Whatsapp",
          "Telegram",
          "Snapchat",
          "Instagram",
          "Twitter",
          "Facebook",
          "Whatsapp",
          "Telegram",
          "Snapchat",
          "Instagram",
          "Twitter",
          "Facebook",
          "Instagram",
          "LinkedIn",
          "Instagram",
          "Twitter",
          "Facebook",
          "LinkedIn",
          "Instagram",
          "Twitter",
          "Facebook",
          "LinkedIn",
          "Instagram",
          "Twitter",
          "Facebook",
          "Instagram",
          "Twitter",
          "LinkedIn",
          "Instagram",
          "Facebook",
          "Twitter",
          "LinkedIn",
          "Instagram",
          "Twitter",
          "Facebook",
          "LinkedIn",
          "Instagram",
          "Twitter",
          "Facebook",
          "LinkedIn",
          "Instagram",
          "Twitter",
          "Instagram",
          "Facebook",
          "LinkedIn",
          "Instagram",
          "Twitter",
          "Instagram",
          "Facebook",
          "LinkedIn",
          "Instagram",
          "Twitter",
          "Facebook",
          "LinkedIn",
          "Instagram",
          "Twitter",
          "Facebook",
          "Instagram",
          "LinkedIn",
          "Instagram",
          "Twitter",
          "Facebook",
          "Instagram",
          "LinkedIn",
          "Whatsapp",
          "Telegram",
          "Snapchat",
          "Twitter",
          "Facebook",
          "Instagram",
          "Whatsapp",
          "Telegram",
          "Snapchat",
          "Twitter",
          "Facebook",
          "Instagram",
          "Whatsapp",
          "Telegram",
          "Snapchat",
          "Instagram",
          "Twitter",
          "Facebook",
          "Whatsapp",
          "Telegram",
          "Snapchat",
          "Instagram",
          "Twitter",
          "Facebook",
          "Whatsapp",
          "Telegram",
          "Snapchat",
          "Instagram",
          "Twitter",
          "Facebook",
          "Whatsapp",
          "Telegram",
          "Snapchat",
          "Instagram",
          "Twitter",
          "Facebook",
          "Whatsapp",
          "Telegram",
          "Snapchat",
          "Instagram",
          "Twitter",
          "Facebook",
          "Whatsapp",
          "Telegram",
          "Snapchat",
          "Instagram",
          "Twitter",
          "Facebook",
          "Instagram",
          "LinkedIn",
          "Instagram",
          "Twitter",
          "Facebook",
          "LinkedIn",
          "Instagram",
          "Twitter",
          "Facebook",
          "LinkedIn",
          "Instagram",
          "Twitter",
          "Facebook",
          "Instagram",
          "Twitter",
          "LinkedIn",
          "Instagram",
          "Facebook",
          "Twitter",
          "LinkedIn",
          "Instagram",
          "Twitter",
          "Facebook",
          "LinkedIn",
          "Instagram",
          "Twitter",
          "Facebook",
          "LinkedIn",
          "Instagram",
          "Twitter",
          "Instagram",
          "Facebook",
          "LinkedIn",
          "Instagram",
          "Twitter",
          "Instagram",
          "Facebook",
          "LinkedIn",
          "Instagram",
          "Twitter",
          "Facebook",
          "LinkedIn",
          "Instagram",
          "Twitter",
          "Facebook",
          "Instagram",
          "LinkedIn",
          "Instagram",
          "Twitter",
          "Facebook",
          "Instagram",
          "LinkedIn",
          "Whatsapp",
          "Telegram",
          "Snapchat",
          "Twitter",
          "Facebook",
          "Instagram",
          "Whatsapp",
          "Telegram",
          "Snapchat",
          "Twitter",
          "Facebook",
          "Instagram",
          "Whatsapp",
          "Telegram",
          "Snapchat",
          "Instagram",
          "Twitter",
          "Facebook",
          "Whatsapp",
          "Telegram",
          "Snapchat",
          "Instagram",
          "Twitter",
          "Facebook",
          "Whatsapp",
          "Telegram",
          "Snapchat",
          "Instagram",
          "Twitter",
          "Facebook",
          "Whatsapp",
          "Telegram",
          "Snapchat",
          "Instagram",
          "Twitter",
          "Facebook",
          "Whatsapp",
          "Telegram",
          "Snapchat",
          "Instagram",
          "Twitter",
          "Facebook",
          "Whatsapp",
          "Telegram",
          "Snapchat",
          "Instagram",
          "Twitter",
          "Facebook",
          "Instagram",
          "LinkedIn",
          "Instagram",
          "Twitter",
          "Facebook",
          "LinkedIn",
          "Instagram",
          "Twitter",
          "Facebook",
          "LinkedIn",
          "Instagram",
          "Twitter",
          "Facebook",
          "Instagram",
          "Twitter",
          "LinkedIn",
          "Instagram",
          "Facebook",
          "Twitter",
          "LinkedIn",
          "Instagram",
          "Twitter",
          "Facebook",
          "LinkedIn",
          "Instagram",
          "Twitter",
          "Facebook",
          "LinkedIn",
          "Instagram",
          "Twitter",
          "Instagram",
          "Facebook",
          "LinkedIn",
          "Instagram",
          "Twitter",
          "Instagram",
          "Facebook",
          "LinkedIn",
          "Instagram",
          "Twitter",
          "Facebook",
          "LinkedIn",
          "Instagram",
          "Twitter",
          "Facebook",
          "Instagram",
          "LinkedIn",
          "Instagram",
          "Twitter",
          "Facebook",
          "Instagram",
          "LinkedIn",
          "Whatsapp",
          "Telegram",
          "Snapchat",
          "Twitter",
          "Facebook",
          "Instagram",
          "Whatsapp",
          "Telegram",
          "Snapchat",
          "Twitter",
          "Facebook",
          "Instagram",
          "Whatsapp",
          "Telegram",
          "Snapchat",
          "Instagram",
          "Twitter",
          "Facebook",
          "Whatsapp",
          "Telegram",
          "Snapchat",
          "Instagram",
          "Twitter",
          "Facebook",
          "Whatsapp",
          "Telegram",
          "Snapchat",
          "Instagram",
          "Twitter",
          "Facebook",
          "Whatsapp",
          "Telegram",
          "Snapchat",
          "Instagram",
          "Twitter",
          "Facebook",
          "Whatsapp",
          "Telegram",
          "Snapchat",
          "Instagram",
          "Twitter",
          "Facebook",
          "Whatsapp",
          "Telegram",
          "Snapchat",
          "Instagram",
          "Twitter",
          "Facebook",
          "Instagram",
          "LinkedIn",
          "Instagram",
          "Twitter",
          "Facebook",
          "LinkedIn",
          "Instagram",
          "Twitter",
          "Facebook",
          "LinkedIn",
          "Instagram",
          "Twitter",
          "Facebook",
          "Instagram",
          "Twitter",
          "LinkedIn",
          "Instagram",
          "Facebook",
          "Twitter",
          "LinkedIn",
          "Instagram",
          "Twitter",
          "Facebook",
          "LinkedIn",
          "Instagram",
          "Twitter",
          "Facebook",
          "LinkedIn",
          "Instagram",
          "Twitter",
          "Instagram",
          "Facebook",
          "LinkedIn",
          "Instagram",
          "Twitter",
          "Instagram",
          "Facebook",
          "LinkedIn",
          "Instagram",
          "Twitter",
          "Facebook",
          "LinkedIn",
          "Instagram",
          "Twitter",
          "Facebook",
          "Instagram",
          "LinkedIn",
          "Instagram",
          "Twitter",
          "Facebook",
          "Instagram",
          "LinkedIn",
          "Whatsapp",
          "Telegram",
          "Snapchat",
          "Twitter",
          "Facebook",
          "Instagram",
          "Whatsapp",
          "Telegram",
          "Snapchat",
          "Twitter",
          "Facebook",
          "Instagram",
          "Whatsapp",
          "Telegram",
          "Snapchat",
          "Instagram",
          "Twitter",
          "Facebook",
          "Whatsapp",
          "Telegram",
          "Snapchat",
          "Instagram",
          "Twitter",
          "Facebook",
          "Whatsapp",
          "Telegram",
          "Snapchat",
          "Instagram",
          "Twitter",
          "Facebook",
          "Whatsapp",
          "Telegram",
          "Snapchat",
          "Instagram",
          "Twitter",
          "Facebook",
          "Whatsapp",
          "Telegram",
          "Snapchat",
          "Instagram",
          "Twitter",
          "Facebook",
          "Whatsapp",
          "Telegram",
          "Snapchat",
          "Instagram",
          "Twitter",
          "Facebook",
          "Instagram",
          "LinkedIn",
          "Instagram",
          "Twitter",
          "Facebook",
          "LinkedIn",
          "Instagram",
          "Twitter",
          "Facebook",
          "LinkedIn",
          "Instagram",
          "Twitter",
          "Facebook",
          "Instagram",
          "Twitter",
          "LinkedIn",
          "Instagram",
          "Facebook",
          "Twitter",
          "LinkedIn",
          "Instagram",
          "Twitter",
          "Facebook",
          "LinkedIn",
          "Instagram",
          "Twitter",
          "Facebook",
          "LinkedIn",
          "Instagram",
          "Twitter",
          "Instagram",
          "Facebook",
          "LinkedIn",
          "Instagram",
          "Twitter",
          "Instagram",
          "Facebook",
          "LinkedIn",
          "Instagram",
          "Twitter",
          "Facebook",
          "LinkedIn",
          "Instagram",
          "Twitter",
          "Facebook",
          "Instagram",
          "LinkedIn",
          "Instagram",
          "Twitter",
          "Facebook",
          "Instagram",
          "LinkedIn",
          "Whatsapp",
          "Telegram",
          "Snapchat",
          "Twitter",
          "Facebook",
          "Instagram",
          "Whatsapp",
          "Telegram",
          "Snapchat",
          "Twitter",
          "Facebook",
          "Instagram",
          "Whatsapp",
          "Telegram",
          "Snapchat",
          "Instagram",
          "Twitter",
          "Facebook",
          "Whatsapp",
          "Telegram",
          "Snapchat",
          "Instagram",
          "Twitter",
          "Facebook",
          "Whatsapp",
          "Telegram",
          "Snapchat",
          "Instagram",
          "Twitter",
          "Facebook",
          "Whatsapp",
          "Telegram",
          "Snapchat",
          "Instagram",
          "Twitter",
          "Facebook",
          "Whatsapp",
          "Telegram",
          "Snapchat",
          "Instagram",
          "Twitter",
          "Facebook",
          "Whatsapp",
          "Telegram",
          "Snapchat",
          "Instagram",
          "Twitter",
          "Facebook",
          "Instagram",
          "LinkedIn",
          "Instagram",
          "Twitter",
          "Facebook",
          "LinkedIn",
          "Instagram",
          "Twitter",
          "Facebook",
          "LinkedIn",
          "Instagram",
          "Twitter",
          "Facebook",
          "Instagram",
          "Twitter",
          "LinkedIn",
          "Instagram",
          "Facebook",
          "Twitter",
          "LinkedIn",
          "Instagram",
          "Twitter",
          "Facebook",
          "LinkedIn",
          "Instagram",
          "Twitter",
          "Facebook",
          "LinkedIn",
          "Instagram",
          "Twitter",
          "Instagram",
          "Facebook",
          "LinkedIn",
          "Instagram",
          "Twitter",
          "Instagram",
          "Facebook",
          "LinkedIn",
          "Instagram",
          "Twitter",
          "Facebook",
          "LinkedIn",
          "Instagram",
          "Twitter",
          "Facebook",
          "Instagram",
          "LinkedIn",
          "Instagram",
          "Twitter",
          "Facebook",
          "Instagram",
          "LinkedIn",
          "Whatsapp",
          "Telegram",
          "Snapchat",
          "Twitter",
          "Facebook",
          "Instagram",
          "Whatsapp",
          "Telegram",
          "Snapchat",
          "Twitter",
          "Facebook",
          "Instagram",
          "Whatsapp",
          "Telegram",
          "Snapchat",
          "Instagram",
          "Twitter",
          "Facebook",
          "Whatsapp",
          "Telegram",
          "Snapchat",
          "Instagram",
          "Twitter",
          "Facebook",
          "Whatsapp",
          "Telegram",
          "Snapchat",
          "Instagram",
          "Twitter",
          "Facebook",
          "Whatsapp",
          "Telegram",
          "Snapchat",
          "Instagram",
          "Twitter",
          "Facebook",
          "Whatsapp",
          "Telegram",
          "Snapchat",
          "Instagram",
          "Twitter",
          "Facebook",
          "Whatsapp",
          "Telegram",
          "Snapchat",
          "Instagram",
          "Twitter",
          "Facebook",
          "Instagram",
          "LinkedIn",
          "Instagram",
          "Twitter",
          "Facebook",
          "LinkedIn",
          "Instagram",
          "Twitter",
          "Facebook",
          "LinkedIn",
          "Instagram",
          "Twitter",
          "Facebook",
          "Instagram",
          "Twitter",
          "LinkedIn",
          "Instagram",
          "Facebook",
          "Twitter",
          "LinkedIn",
          "Instagram",
          "Twitter",
          "Facebook",
          "LinkedIn",
          "Instagram",
          "Twitter",
          "Facebook",
          "LinkedIn",
          "Instagram",
          "Twitter",
          "Instagram",
          "Facebook",
          "LinkedIn",
          "Instagram",
          "Twitter",
          "Instagram",
          "Facebook",
          "LinkedIn",
          "Instagram",
          "Twitter",
          "Facebook",
          "LinkedIn",
          "Instagram",
          "Twitter",
          "Facebook",
          "Instagram",
          "LinkedIn",
          "Instagram",
          "Twitter",
          "Facebook",
          "Instagram",
          "LinkedIn",
          "Whatsapp",
          "Telegram",
          "Snapchat",
          "Twitter",
          "Facebook",
          "Instagram",
          "Whatsapp",
          "Telegram",
          "Snapchat",
          "Twitter",
          "Facebook",
          "Instagram",
          "Whatsapp",
          "Telegram",
          "Snapchat",
          "Instagram",
          "Twitter",
          "Facebook",
          "Whatsapp",
          "Telegram",
          "Snapchat",
          "Instagram",
          "Twitter",
          "Facebook",
          "Whatsapp",
          "Telegram",
          "Snapchat",
          "Instagram",
          "Twitter",
          "Facebook",
          "Whatsapp",
          "Telegram",
          "Snapchat",
          "Instagram",
          "Twitter",
          "Facebook",
          "Whatsapp",
          "Telegram",
          "Snapchat",
          "Instagram",
          "Twitter",
          "Facebook",
          "Whatsapp",
          "Telegram",
          "Snapchat"
         ],
         "xaxis": "x",
         "yaxis": "y"
        }
       ],
       "layout": {
        "barmode": "relative",
        "legend": {
         "tracegroupgap": 0
        },
        "template": {
         "data": {
          "bar": [
           {
            "error_x": {
             "color": "#2a3f5f"
            },
            "error_y": {
             "color": "#2a3f5f"
            },
            "marker": {
             "line": {
              "color": "#E5ECF6",
              "width": 0.5
             },
             "pattern": {
              "fillmode": "overlay",
              "size": 10,
              "solidity": 0.2
             }
            },
            "type": "bar"
           }
          ],
          "barpolar": [
           {
            "marker": {
             "line": {
              "color": "#E5ECF6",
              "width": 0.5
             },
             "pattern": {
              "fillmode": "overlay",
              "size": 10,
              "solidity": 0.2
             }
            },
            "type": "barpolar"
           }
          ],
          "carpet": [
           {
            "aaxis": {
             "endlinecolor": "#2a3f5f",
             "gridcolor": "white",
             "linecolor": "white",
             "minorgridcolor": "white",
             "startlinecolor": "#2a3f5f"
            },
            "baxis": {
             "endlinecolor": "#2a3f5f",
             "gridcolor": "white",
             "linecolor": "white",
             "minorgridcolor": "white",
             "startlinecolor": "#2a3f5f"
            },
            "type": "carpet"
           }
          ],
          "choropleth": [
           {
            "colorbar": {
             "outlinewidth": 0,
             "ticks": ""
            },
            "type": "choropleth"
           }
          ],
          "contour": [
           {
            "colorbar": {
             "outlinewidth": 0,
             "ticks": ""
            },
            "colorscale": [
             [
              0,
              "#0d0887"
             ],
             [
              0.1111111111111111,
              "#46039f"
             ],
             [
              0.2222222222222222,
              "#7201a8"
             ],
             [
              0.3333333333333333,
              "#9c179e"
             ],
             [
              0.4444444444444444,
              "#bd3786"
             ],
             [
              0.5555555555555556,
              "#d8576b"
             ],
             [
              0.6666666666666666,
              "#ed7953"
             ],
             [
              0.7777777777777778,
              "#fb9f3a"
             ],
             [
              0.8888888888888888,
              "#fdca26"
             ],
             [
              1,
              "#f0f921"
             ]
            ],
            "type": "contour"
           }
          ],
          "contourcarpet": [
           {
            "colorbar": {
             "outlinewidth": 0,
             "ticks": ""
            },
            "type": "contourcarpet"
           }
          ],
          "heatmap": [
           {
            "colorbar": {
             "outlinewidth": 0,
             "ticks": ""
            },
            "colorscale": [
             [
              0,
              "#0d0887"
             ],
             [
              0.1111111111111111,
              "#46039f"
             ],
             [
              0.2222222222222222,
              "#7201a8"
             ],
             [
              0.3333333333333333,
              "#9c179e"
             ],
             [
              0.4444444444444444,
              "#bd3786"
             ],
             [
              0.5555555555555556,
              "#d8576b"
             ],
             [
              0.6666666666666666,
              "#ed7953"
             ],
             [
              0.7777777777777778,
              "#fb9f3a"
             ],
             [
              0.8888888888888888,
              "#fdca26"
             ],
             [
              1,
              "#f0f921"
             ]
            ],
            "type": "heatmap"
           }
          ],
          "heatmapgl": [
           {
            "colorbar": {
             "outlinewidth": 0,
             "ticks": ""
            },
            "colorscale": [
             [
              0,
              "#0d0887"
             ],
             [
              0.1111111111111111,
              "#46039f"
             ],
             [
              0.2222222222222222,
              "#7201a8"
             ],
             [
              0.3333333333333333,
              "#9c179e"
             ],
             [
              0.4444444444444444,
              "#bd3786"
             ],
             [
              0.5555555555555556,
              "#d8576b"
             ],
             [
              0.6666666666666666,
              "#ed7953"
             ],
             [
              0.7777777777777778,
              "#fb9f3a"
             ],
             [
              0.8888888888888888,
              "#fdca26"
             ],
             [
              1,
              "#f0f921"
             ]
            ],
            "type": "heatmapgl"
           }
          ],
          "histogram": [
           {
            "marker": {
             "pattern": {
              "fillmode": "overlay",
              "size": 10,
              "solidity": 0.2
             }
            },
            "type": "histogram"
           }
          ],
          "histogram2d": [
           {
            "colorbar": {
             "outlinewidth": 0,
             "ticks": ""
            },
            "colorscale": [
             [
              0,
              "#0d0887"
             ],
             [
              0.1111111111111111,
              "#46039f"
             ],
             [
              0.2222222222222222,
              "#7201a8"
             ],
             [
              0.3333333333333333,
              "#9c179e"
             ],
             [
              0.4444444444444444,
              "#bd3786"
             ],
             [
              0.5555555555555556,
              "#d8576b"
             ],
             [
              0.6666666666666666,
              "#ed7953"
             ],
             [
              0.7777777777777778,
              "#fb9f3a"
             ],
             [
              0.8888888888888888,
              "#fdca26"
             ],
             [
              1,
              "#f0f921"
             ]
            ],
            "type": "histogram2d"
           }
          ],
          "histogram2dcontour": [
           {
            "colorbar": {
             "outlinewidth": 0,
             "ticks": ""
            },
            "colorscale": [
             [
              0,
              "#0d0887"
             ],
             [
              0.1111111111111111,
              "#46039f"
             ],
             [
              0.2222222222222222,
              "#7201a8"
             ],
             [
              0.3333333333333333,
              "#9c179e"
             ],
             [
              0.4444444444444444,
              "#bd3786"
             ],
             [
              0.5555555555555556,
              "#d8576b"
             ],
             [
              0.6666666666666666,
              "#ed7953"
             ],
             [
              0.7777777777777778,
              "#fb9f3a"
             ],
             [
              0.8888888888888888,
              "#fdca26"
             ],
             [
              1,
              "#f0f921"
             ]
            ],
            "type": "histogram2dcontour"
           }
          ],
          "mesh3d": [
           {
            "colorbar": {
             "outlinewidth": 0,
             "ticks": ""
            },
            "type": "mesh3d"
           }
          ],
          "parcoords": [
           {
            "line": {
             "colorbar": {
              "outlinewidth": 0,
              "ticks": ""
             }
            },
            "type": "parcoords"
           }
          ],
          "pie": [
           {
            "automargin": true,
            "type": "pie"
           }
          ],
          "scatter": [
           {
            "fillpattern": {
             "fillmode": "overlay",
             "size": 10,
             "solidity": 0.2
            },
            "type": "scatter"
           }
          ],
          "scatter3d": [
           {
            "line": {
             "colorbar": {
              "outlinewidth": 0,
              "ticks": ""
             }
            },
            "marker": {
             "colorbar": {
              "outlinewidth": 0,
              "ticks": ""
             }
            },
            "type": "scatter3d"
           }
          ],
          "scattercarpet": [
           {
            "marker": {
             "colorbar": {
              "outlinewidth": 0,
              "ticks": ""
             }
            },
            "type": "scattercarpet"
           }
          ],
          "scattergeo": [
           {
            "marker": {
             "colorbar": {
              "outlinewidth": 0,
              "ticks": ""
             }
            },
            "type": "scattergeo"
           }
          ],
          "scattergl": [
           {
            "marker": {
             "colorbar": {
              "outlinewidth": 0,
              "ticks": ""
             }
            },
            "type": "scattergl"
           }
          ],
          "scattermapbox": [
           {
            "marker": {
             "colorbar": {
              "outlinewidth": 0,
              "ticks": ""
             }
            },
            "type": "scattermapbox"
           }
          ],
          "scatterpolar": [
           {
            "marker": {
             "colorbar": {
              "outlinewidth": 0,
              "ticks": ""
             }
            },
            "type": "scatterpolar"
           }
          ],
          "scatterpolargl": [
           {
            "marker": {
             "colorbar": {
              "outlinewidth": 0,
              "ticks": ""
             }
            },
            "type": "scatterpolargl"
           }
          ],
          "scatterternary": [
           {
            "marker": {
             "colorbar": {
              "outlinewidth": 0,
              "ticks": ""
             }
            },
            "type": "scatterternary"
           }
          ],
          "surface": [
           {
            "colorbar": {
             "outlinewidth": 0,
             "ticks": ""
            },
            "colorscale": [
             [
              0,
              "#0d0887"
             ],
             [
              0.1111111111111111,
              "#46039f"
             ],
             [
              0.2222222222222222,
              "#7201a8"
             ],
             [
              0.3333333333333333,
              "#9c179e"
             ],
             [
              0.4444444444444444,
              "#bd3786"
             ],
             [
              0.5555555555555556,
              "#d8576b"
             ],
             [
              0.6666666666666666,
              "#ed7953"
             ],
             [
              0.7777777777777778,
              "#fb9f3a"
             ],
             [
              0.8888888888888888,
              "#fdca26"
             ],
             [
              1,
              "#f0f921"
             ]
            ],
            "type": "surface"
           }
          ],
          "table": [
           {
            "cells": {
             "fill": {
              "color": "#EBF0F8"
             },
             "line": {
              "color": "white"
             }
            },
            "header": {
             "fill": {
              "color": "#C8D4E3"
             },
             "line": {
              "color": "white"
             }
            },
            "type": "table"
           }
          ]
         },
         "layout": {
          "annotationdefaults": {
           "arrowcolor": "#2a3f5f",
           "arrowhead": 0,
           "arrowwidth": 1
          },
          "autotypenumbers": "strict",
          "coloraxis": {
           "colorbar": {
            "outlinewidth": 0,
            "ticks": ""
           }
          },
          "colorscale": {
           "diverging": [
            [
             0,
             "#8e0152"
            ],
            [
             0.1,
             "#c51b7d"
            ],
            [
             0.2,
             "#de77ae"
            ],
            [
             0.3,
             "#f1b6da"
            ],
            [
             0.4,
             "#fde0ef"
            ],
            [
             0.5,
             "#f7f7f7"
            ],
            [
             0.6,
             "#e6f5d0"
            ],
            [
             0.7,
             "#b8e186"
            ],
            [
             0.8,
             "#7fbc41"
            ],
            [
             0.9,
             "#4d9221"
            ],
            [
             1,
             "#276419"
            ]
           ],
           "sequential": [
            [
             0,
             "#0d0887"
            ],
            [
             0.1111111111111111,
             "#46039f"
            ],
            [
             0.2222222222222222,
             "#7201a8"
            ],
            [
             0.3333333333333333,
             "#9c179e"
            ],
            [
             0.4444444444444444,
             "#bd3786"
            ],
            [
             0.5555555555555556,
             "#d8576b"
            ],
            [
             0.6666666666666666,
             "#ed7953"
            ],
            [
             0.7777777777777778,
             "#fb9f3a"
            ],
            [
             0.8888888888888888,
             "#fdca26"
            ],
            [
             1,
             "#f0f921"
            ]
           ],
           "sequentialminus": [
            [
             0,
             "#0d0887"
            ],
            [
             0.1111111111111111,
             "#46039f"
            ],
            [
             0.2222222222222222,
             "#7201a8"
            ],
            [
             0.3333333333333333,
             "#9c179e"
            ],
            [
             0.4444444444444444,
             "#bd3786"
            ],
            [
             0.5555555555555556,
             "#d8576b"
            ],
            [
             0.6666666666666666,
             "#ed7953"
            ],
            [
             0.7777777777777778,
             "#fb9f3a"
            ],
            [
             0.8888888888888888,
             "#fdca26"
            ],
            [
             1,
             "#f0f921"
            ]
           ]
          },
          "colorway": [
           "#636efa",
           "#EF553B",
           "#00cc96",
           "#ab63fa",
           "#FFA15A",
           "#19d3f3",
           "#FF6692",
           "#B6E880",
           "#FF97FF",
           "#FECB52"
          ],
          "font": {
           "color": "#2a3f5f"
          },
          "geo": {
           "bgcolor": "white",
           "lakecolor": "white",
           "landcolor": "#E5ECF6",
           "showlakes": true,
           "showland": true,
           "subunitcolor": "white"
          },
          "hoverlabel": {
           "align": "left"
          },
          "hovermode": "closest",
          "mapbox": {
           "style": "light"
          },
          "paper_bgcolor": "white",
          "plot_bgcolor": "#E5ECF6",
          "polar": {
           "angularaxis": {
            "gridcolor": "white",
            "linecolor": "white",
            "ticks": ""
           },
           "bgcolor": "#E5ECF6",
           "radialaxis": {
            "gridcolor": "white",
            "linecolor": "white",
            "ticks": ""
           }
          },
          "scene": {
           "xaxis": {
            "backgroundcolor": "#E5ECF6",
            "gridcolor": "white",
            "gridwidth": 2,
            "linecolor": "white",
            "showbackground": true,
            "ticks": "",
            "zerolinecolor": "white"
           },
           "yaxis": {
            "backgroundcolor": "#E5ECF6",
            "gridcolor": "white",
            "gridwidth": 2,
            "linecolor": "white",
            "showbackground": true,
            "ticks": "",
            "zerolinecolor": "white"
           },
           "zaxis": {
            "backgroundcolor": "#E5ECF6",
            "gridcolor": "white",
            "gridwidth": 2,
            "linecolor": "white",
            "showbackground": true,
            "ticks": "",
            "zerolinecolor": "white"
           }
          },
          "shapedefaults": {
           "line": {
            "color": "#2a3f5f"
           }
          },
          "ternary": {
           "aaxis": {
            "gridcolor": "white",
            "linecolor": "white",
            "ticks": ""
           },
           "baxis": {
            "gridcolor": "white",
            "linecolor": "white",
            "ticks": ""
           },
           "bgcolor": "#E5ECF6",
           "caxis": {
            "gridcolor": "white",
            "linecolor": "white",
            "ticks": ""
           }
          },
          "title": {
           "x": 0.05
          },
          "xaxis": {
           "automargin": true,
           "gridcolor": "white",
           "linecolor": "white",
           "ticks": "",
           "title": {
            "standoff": 15
           },
           "zerolinecolor": "white",
           "zerolinewidth": 2
          },
          "yaxis": {
           "automargin": true,
           "gridcolor": "white",
           "linecolor": "white",
           "ticks": "",
           "title": {
            "standoff": 15
           },
           "zerolinecolor": "white",
           "zerolinewidth": 2
          }
         }
        },
        "title": {
         "text": "Platform Distribution"
        },
        "xaxis": {
         "anchor": "y",
         "domain": [
          0,
          1
         ],
         "title": {
          "text": "Platform"
         }
        },
        "yaxis": {
         "anchor": "x",
         "domain": [
          0,
          1
         ],
         "title": {
          "text": "count"
         }
        }
       }
      }
     },
     "metadata": {},
     "output_type": "display_data"
    }
   ],
   "source": [
    "plt = px.histogram(train_df, x='Platform', title='Platform Distribution')\n",
    "plt.show()"
   ]
  },
  {
   "cell_type": "code",
   "execution_count": 44,
   "metadata": {},
   "outputs": [
    {
     "data": {
      "application/vnd.plotly.v1+json": {
       "config": {
        "plotlyServerURL": "https://plot.ly"
       },
       "data": [
        {
         "alignmentgroup": "True",
         "bingroup": "x",
         "hovertemplate": "Daily_Usage_Time (minutes)=%{x}<br>count=%{y}<extra></extra>",
         "legendgroup": "",
         "marker": {
          "color": "#636efa",
          "pattern": {
           "shape": ""
          }
         },
         "name": "",
         "offsetgroup": "",
         "orientation": "v",
         "showlegend": false,
         "type": "histogram",
         "x": [
          120,
          90,
          60,
          200,
          45,
          150,
          85,
          110,
          55,
          170,
          75,
          95,
          65,
          180,
          100,
          40,
          125,
          90,
          50,
          140,
          75,
          105,
          60,
          190,
          70,
          80,
          55,
          160,
          90,
          45,
          65,
          145,
          70,
          130,
          65,
          55,
          170,
          85,
          115,
          100,
          45,
          150,
          95,
          105,
          60,
          175,
          90,
          75,
          130,
          55,
          165,
          75,
          85,
          145,
          60,
          70,
          90,
          50,
          95,
          60,
          175,
          70,
          80,
          120,
          90,
          60,
          165,
          65,
          105,
          75,
          140,
          70,
          55,
          90,
          80,
          115,
          155,
          75,
          65,
          90,
          50,
          85,
          120,
          70,
          75,
          100,
          85,
          60,
          170,
          70,
          50,
          105,
          75,
          95,
          150,
          85,
          70,
          110,
          60,
          120,
          120,
          90,
          60,
          200,
          45,
          150,
          85,
          110,
          55,
          170,
          75,
          95,
          65,
          180,
          100,
          40,
          125,
          90,
          50,
          140,
          75,
          105,
          60,
          190,
          70,
          80,
          55,
          160,
          90,
          45,
          65,
          145,
          70,
          130,
          65,
          55,
          170,
          85,
          115,
          100,
          45,
          150,
          95,
          105,
          60,
          175,
          90,
          75,
          130,
          55,
          165,
          75,
          85,
          145,
          60,
          70,
          90,
          50,
          95,
          60,
          175,
          70,
          80,
          120,
          90,
          60,
          165,
          65,
          105,
          75,
          140,
          70,
          55,
          90,
          80,
          115,
          155,
          75,
          65,
          90,
          50,
          85,
          120,
          70,
          75,
          100,
          85,
          60,
          170,
          70,
          50,
          105,
          75,
          95,
          150,
          85,
          70,
          110,
          60,
          120,
          120,
          90,
          60,
          200,
          45,
          150,
          85,
          110,
          55,
          170,
          75,
          95,
          65,
          180,
          100,
          40,
          125,
          90,
          50,
          140,
          75,
          105,
          60,
          190,
          70,
          80,
          55,
          160,
          90,
          45,
          65,
          145,
          70,
          130,
          65,
          55,
          170,
          85,
          115,
          100,
          45,
          150,
          95,
          105,
          60,
          175,
          90,
          75,
          130,
          55,
          165,
          75,
          85,
          145,
          60,
          70,
          90,
          50,
          95,
          60,
          175,
          70,
          80,
          120,
          90,
          60,
          165,
          65,
          105,
          75,
          140,
          70,
          55,
          90,
          80,
          115,
          155,
          75,
          65,
          90,
          50,
          85,
          120,
          70,
          75,
          100,
          85,
          60,
          170,
          70,
          50,
          105,
          75,
          95,
          150,
          85,
          70,
          110,
          60,
          120,
          120,
          90,
          60,
          200,
          45,
          150,
          85,
          110,
          55,
          170,
          75,
          95,
          65,
          180,
          100,
          40,
          125,
          90,
          50,
          140,
          75,
          105,
          60,
          190,
          70,
          80,
          55,
          160,
          90,
          45,
          65,
          145,
          70,
          130,
          65,
          55,
          170,
          85,
          115,
          100,
          45,
          150,
          95,
          105,
          60,
          175,
          90,
          75,
          130,
          55,
          165,
          75,
          85,
          145,
          60,
          70,
          90,
          50,
          95,
          60,
          175,
          70,
          80,
          120,
          90,
          60,
          165,
          65,
          105,
          75,
          140,
          70,
          55,
          90,
          80,
          115,
          155,
          75,
          65,
          90,
          50,
          85,
          120,
          70,
          75,
          100,
          85,
          60,
          170,
          70,
          50,
          105,
          75,
          95,
          150,
          85,
          70,
          110,
          60,
          120,
          120,
          90,
          60,
          200,
          45,
          150,
          85,
          110,
          55,
          170,
          75,
          95,
          65,
          180,
          100,
          40,
          125,
          90,
          50,
          140,
          75,
          105,
          60,
          190,
          70,
          80,
          55,
          160,
          90,
          45,
          65,
          145,
          70,
          130,
          65,
          55,
          170,
          85,
          115,
          100,
          45,
          150,
          95,
          105,
          60,
          175,
          90,
          75,
          130,
          55,
          165,
          75,
          85,
          145,
          60,
          70,
          90,
          50,
          95,
          60,
          175,
          70,
          80,
          120,
          90,
          60,
          165,
          65,
          105,
          75,
          140,
          70,
          55,
          90,
          80,
          115,
          155,
          75,
          65,
          90,
          50,
          85,
          120,
          70,
          75,
          100,
          85,
          60,
          170,
          70,
          50,
          105,
          75,
          95,
          150,
          85,
          70,
          110,
          60,
          120,
          120,
          90,
          60,
          200,
          45,
          150,
          85,
          110,
          55,
          170,
          75,
          95,
          65,
          180,
          100,
          40,
          125,
          90,
          50,
          140,
          75,
          105,
          60,
          190,
          70,
          80,
          55,
          160,
          90,
          45,
          65,
          145,
          70,
          130,
          65,
          55,
          170,
          85,
          115,
          100,
          45,
          150,
          95,
          105,
          60,
          175,
          90,
          75,
          130,
          55,
          165,
          75,
          85,
          145,
          60,
          70,
          90,
          50,
          95,
          60,
          175,
          70,
          80,
          120,
          90,
          60,
          165,
          65,
          105,
          75,
          140,
          70,
          55,
          90,
          80,
          115,
          155,
          75,
          65,
          90,
          50,
          85,
          120,
          70,
          75,
          100,
          85,
          60,
          170,
          70,
          50,
          105,
          75,
          95,
          150,
          85,
          70,
          110,
          60,
          120,
          120,
          90,
          60,
          200,
          45,
          150,
          85,
          110,
          55,
          170,
          75,
          95,
          65,
          180,
          100,
          40,
          125,
          90,
          50,
          140,
          75,
          105,
          60,
          190,
          70,
          80,
          55,
          160,
          90,
          45,
          65,
          145,
          70,
          130,
          65,
          55,
          170,
          85,
          115,
          100,
          45,
          150,
          95,
          105,
          60,
          175,
          90,
          75,
          130,
          55,
          165,
          75,
          85,
          145,
          60,
          70,
          90,
          50,
          95,
          60,
          175,
          70,
          80,
          120,
          90,
          60,
          165,
          65,
          105,
          75,
          140,
          70,
          55,
          90,
          80,
          115,
          155,
          75,
          65,
          90,
          50,
          85,
          120,
          70,
          75,
          100,
          85,
          60,
          170,
          70,
          50,
          105,
          75,
          95,
          150,
          85,
          70,
          110,
          60,
          120,
          120,
          90,
          60,
          200,
          45,
          150,
          85,
          110,
          55,
          170,
          75,
          95,
          65,
          180,
          100,
          40,
          125,
          90,
          50,
          140,
          75,
          105,
          60,
          190,
          70,
          80,
          55,
          160,
          90,
          45,
          65,
          145,
          70,
          130,
          65,
          55,
          170,
          85,
          115,
          100,
          45,
          150,
          95,
          105,
          60,
          175,
          90,
          75,
          130,
          55,
          165,
          75,
          85,
          145,
          60,
          70,
          90,
          50,
          95,
          60,
          175,
          70,
          80,
          120,
          90,
          60,
          165,
          65,
          105,
          75,
          140,
          70,
          55,
          90,
          80,
          115,
          155,
          75,
          65,
          90,
          50,
          85,
          120,
          70,
          75,
          100,
          85,
          60,
          170,
          70,
          50,
          105,
          75,
          95,
          150,
          85,
          70,
          110,
          60,
          120,
          120,
          90,
          60,
          200,
          45,
          150,
          85,
          110,
          55,
          170,
          75,
          95,
          65,
          180,
          100,
          40,
          125,
          90,
          50,
          140,
          75,
          105,
          60,
          190,
          70,
          80,
          55,
          160,
          90,
          45,
          65,
          145,
          70,
          130,
          65,
          55,
          170,
          85,
          115,
          100,
          45,
          150,
          95,
          105,
          60,
          175,
          90,
          75,
          130,
          55,
          165,
          75,
          85,
          145,
          60,
          70,
          90,
          50,
          95,
          60,
          175,
          70,
          80,
          120,
          90,
          60,
          165,
          65,
          105,
          75,
          140,
          70,
          55,
          90,
          80,
          115,
          155,
          75,
          65,
          90,
          50,
          85,
          120,
          70,
          75,
          100,
          85,
          60,
          170,
          70,
          50,
          105,
          75,
          95,
          150,
          85,
          70,
          110,
          60,
          120,
          120,
          90,
          60,
          200,
          45,
          150,
          85,
          110,
          55,
          170,
          75,
          95,
          65,
          180,
          100,
          40,
          125,
          90,
          50,
          140,
          75,
          105,
          60,
          190,
          70,
          80,
          55,
          160,
          90,
          45,
          65,
          145,
          70,
          130,
          65,
          55,
          170,
          85,
          115,
          100,
          45,
          150,
          95,
          105,
          60,
          175,
          90,
          75,
          130,
          55,
          165,
          75,
          85,
          145,
          60,
          70,
          90,
          50,
          95,
          60,
          175,
          70,
          80,
          120,
          90,
          60,
          165,
          65,
          105,
          75,
          140,
          70,
          55,
          90,
          80,
          115,
          155,
          75,
          65,
          90,
          50,
          85,
          120,
          70,
          75,
          100,
          85,
          60,
          170,
          70,
          50,
          105,
          75,
          95,
          150,
          85,
          70,
          110,
          60,
          120
         ],
         "xaxis": "x",
         "yaxis": "y"
        }
       ],
       "layout": {
        "barmode": "relative",
        "legend": {
         "tracegroupgap": 0
        },
        "template": {
         "data": {
          "bar": [
           {
            "error_x": {
             "color": "#2a3f5f"
            },
            "error_y": {
             "color": "#2a3f5f"
            },
            "marker": {
             "line": {
              "color": "#E5ECF6",
              "width": 0.5
             },
             "pattern": {
              "fillmode": "overlay",
              "size": 10,
              "solidity": 0.2
             }
            },
            "type": "bar"
           }
          ],
          "barpolar": [
           {
            "marker": {
             "line": {
              "color": "#E5ECF6",
              "width": 0.5
             },
             "pattern": {
              "fillmode": "overlay",
              "size": 10,
              "solidity": 0.2
             }
            },
            "type": "barpolar"
           }
          ],
          "carpet": [
           {
            "aaxis": {
             "endlinecolor": "#2a3f5f",
             "gridcolor": "white",
             "linecolor": "white",
             "minorgridcolor": "white",
             "startlinecolor": "#2a3f5f"
            },
            "baxis": {
             "endlinecolor": "#2a3f5f",
             "gridcolor": "white",
             "linecolor": "white",
             "minorgridcolor": "white",
             "startlinecolor": "#2a3f5f"
            },
            "type": "carpet"
           }
          ],
          "choropleth": [
           {
            "colorbar": {
             "outlinewidth": 0,
             "ticks": ""
            },
            "type": "choropleth"
           }
          ],
          "contour": [
           {
            "colorbar": {
             "outlinewidth": 0,
             "ticks": ""
            },
            "colorscale": [
             [
              0,
              "#0d0887"
             ],
             [
              0.1111111111111111,
              "#46039f"
             ],
             [
              0.2222222222222222,
              "#7201a8"
             ],
             [
              0.3333333333333333,
              "#9c179e"
             ],
             [
              0.4444444444444444,
              "#bd3786"
             ],
             [
              0.5555555555555556,
              "#d8576b"
             ],
             [
              0.6666666666666666,
              "#ed7953"
             ],
             [
              0.7777777777777778,
              "#fb9f3a"
             ],
             [
              0.8888888888888888,
              "#fdca26"
             ],
             [
              1,
              "#f0f921"
             ]
            ],
            "type": "contour"
           }
          ],
          "contourcarpet": [
           {
            "colorbar": {
             "outlinewidth": 0,
             "ticks": ""
            },
            "type": "contourcarpet"
           }
          ],
          "heatmap": [
           {
            "colorbar": {
             "outlinewidth": 0,
             "ticks": ""
            },
            "colorscale": [
             [
              0,
              "#0d0887"
             ],
             [
              0.1111111111111111,
              "#46039f"
             ],
             [
              0.2222222222222222,
              "#7201a8"
             ],
             [
              0.3333333333333333,
              "#9c179e"
             ],
             [
              0.4444444444444444,
              "#bd3786"
             ],
             [
              0.5555555555555556,
              "#d8576b"
             ],
             [
              0.6666666666666666,
              "#ed7953"
             ],
             [
              0.7777777777777778,
              "#fb9f3a"
             ],
             [
              0.8888888888888888,
              "#fdca26"
             ],
             [
              1,
              "#f0f921"
             ]
            ],
            "type": "heatmap"
           }
          ],
          "heatmapgl": [
           {
            "colorbar": {
             "outlinewidth": 0,
             "ticks": ""
            },
            "colorscale": [
             [
              0,
              "#0d0887"
             ],
             [
              0.1111111111111111,
              "#46039f"
             ],
             [
              0.2222222222222222,
              "#7201a8"
             ],
             [
              0.3333333333333333,
              "#9c179e"
             ],
             [
              0.4444444444444444,
              "#bd3786"
             ],
             [
              0.5555555555555556,
              "#d8576b"
             ],
             [
              0.6666666666666666,
              "#ed7953"
             ],
             [
              0.7777777777777778,
              "#fb9f3a"
             ],
             [
              0.8888888888888888,
              "#fdca26"
             ],
             [
              1,
              "#f0f921"
             ]
            ],
            "type": "heatmapgl"
           }
          ],
          "histogram": [
           {
            "marker": {
             "pattern": {
              "fillmode": "overlay",
              "size": 10,
              "solidity": 0.2
             }
            },
            "type": "histogram"
           }
          ],
          "histogram2d": [
           {
            "colorbar": {
             "outlinewidth": 0,
             "ticks": ""
            },
            "colorscale": [
             [
              0,
              "#0d0887"
             ],
             [
              0.1111111111111111,
              "#46039f"
             ],
             [
              0.2222222222222222,
              "#7201a8"
             ],
             [
              0.3333333333333333,
              "#9c179e"
             ],
             [
              0.4444444444444444,
              "#bd3786"
             ],
             [
              0.5555555555555556,
              "#d8576b"
             ],
             [
              0.6666666666666666,
              "#ed7953"
             ],
             [
              0.7777777777777778,
              "#fb9f3a"
             ],
             [
              0.8888888888888888,
              "#fdca26"
             ],
             [
              1,
              "#f0f921"
             ]
            ],
            "type": "histogram2d"
           }
          ],
          "histogram2dcontour": [
           {
            "colorbar": {
             "outlinewidth": 0,
             "ticks": ""
            },
            "colorscale": [
             [
              0,
              "#0d0887"
             ],
             [
              0.1111111111111111,
              "#46039f"
             ],
             [
              0.2222222222222222,
              "#7201a8"
             ],
             [
              0.3333333333333333,
              "#9c179e"
             ],
             [
              0.4444444444444444,
              "#bd3786"
             ],
             [
              0.5555555555555556,
              "#d8576b"
             ],
             [
              0.6666666666666666,
              "#ed7953"
             ],
             [
              0.7777777777777778,
              "#fb9f3a"
             ],
             [
              0.8888888888888888,
              "#fdca26"
             ],
             [
              1,
              "#f0f921"
             ]
            ],
            "type": "histogram2dcontour"
           }
          ],
          "mesh3d": [
           {
            "colorbar": {
             "outlinewidth": 0,
             "ticks": ""
            },
            "type": "mesh3d"
           }
          ],
          "parcoords": [
           {
            "line": {
             "colorbar": {
              "outlinewidth": 0,
              "ticks": ""
             }
            },
            "type": "parcoords"
           }
          ],
          "pie": [
           {
            "automargin": true,
            "type": "pie"
           }
          ],
          "scatter": [
           {
            "fillpattern": {
             "fillmode": "overlay",
             "size": 10,
             "solidity": 0.2
            },
            "type": "scatter"
           }
          ],
          "scatter3d": [
           {
            "line": {
             "colorbar": {
              "outlinewidth": 0,
              "ticks": ""
             }
            },
            "marker": {
             "colorbar": {
              "outlinewidth": 0,
              "ticks": ""
             }
            },
            "type": "scatter3d"
           }
          ],
          "scattercarpet": [
           {
            "marker": {
             "colorbar": {
              "outlinewidth": 0,
              "ticks": ""
             }
            },
            "type": "scattercarpet"
           }
          ],
          "scattergeo": [
           {
            "marker": {
             "colorbar": {
              "outlinewidth": 0,
              "ticks": ""
             }
            },
            "type": "scattergeo"
           }
          ],
          "scattergl": [
           {
            "marker": {
             "colorbar": {
              "outlinewidth": 0,
              "ticks": ""
             }
            },
            "type": "scattergl"
           }
          ],
          "scattermapbox": [
           {
            "marker": {
             "colorbar": {
              "outlinewidth": 0,
              "ticks": ""
             }
            },
            "type": "scattermapbox"
           }
          ],
          "scatterpolar": [
           {
            "marker": {
             "colorbar": {
              "outlinewidth": 0,
              "ticks": ""
             }
            },
            "type": "scatterpolar"
           }
          ],
          "scatterpolargl": [
           {
            "marker": {
             "colorbar": {
              "outlinewidth": 0,
              "ticks": ""
             }
            },
            "type": "scatterpolargl"
           }
          ],
          "scatterternary": [
           {
            "marker": {
             "colorbar": {
              "outlinewidth": 0,
              "ticks": ""
             }
            },
            "type": "scatterternary"
           }
          ],
          "surface": [
           {
            "colorbar": {
             "outlinewidth": 0,
             "ticks": ""
            },
            "colorscale": [
             [
              0,
              "#0d0887"
             ],
             [
              0.1111111111111111,
              "#46039f"
             ],
             [
              0.2222222222222222,
              "#7201a8"
             ],
             [
              0.3333333333333333,
              "#9c179e"
             ],
             [
              0.4444444444444444,
              "#bd3786"
             ],
             [
              0.5555555555555556,
              "#d8576b"
             ],
             [
              0.6666666666666666,
              "#ed7953"
             ],
             [
              0.7777777777777778,
              "#fb9f3a"
             ],
             [
              0.8888888888888888,
              "#fdca26"
             ],
             [
              1,
              "#f0f921"
             ]
            ],
            "type": "surface"
           }
          ],
          "table": [
           {
            "cells": {
             "fill": {
              "color": "#EBF0F8"
             },
             "line": {
              "color": "white"
             }
            },
            "header": {
             "fill": {
              "color": "#C8D4E3"
             },
             "line": {
              "color": "white"
             }
            },
            "type": "table"
           }
          ]
         },
         "layout": {
          "annotationdefaults": {
           "arrowcolor": "#2a3f5f",
           "arrowhead": 0,
           "arrowwidth": 1
          },
          "autotypenumbers": "strict",
          "coloraxis": {
           "colorbar": {
            "outlinewidth": 0,
            "ticks": ""
           }
          },
          "colorscale": {
           "diverging": [
            [
             0,
             "#8e0152"
            ],
            [
             0.1,
             "#c51b7d"
            ],
            [
             0.2,
             "#de77ae"
            ],
            [
             0.3,
             "#f1b6da"
            ],
            [
             0.4,
             "#fde0ef"
            ],
            [
             0.5,
             "#f7f7f7"
            ],
            [
             0.6,
             "#e6f5d0"
            ],
            [
             0.7,
             "#b8e186"
            ],
            [
             0.8,
             "#7fbc41"
            ],
            [
             0.9,
             "#4d9221"
            ],
            [
             1,
             "#276419"
            ]
           ],
           "sequential": [
            [
             0,
             "#0d0887"
            ],
            [
             0.1111111111111111,
             "#46039f"
            ],
            [
             0.2222222222222222,
             "#7201a8"
            ],
            [
             0.3333333333333333,
             "#9c179e"
            ],
            [
             0.4444444444444444,
             "#bd3786"
            ],
            [
             0.5555555555555556,
             "#d8576b"
            ],
            [
             0.6666666666666666,
             "#ed7953"
            ],
            [
             0.7777777777777778,
             "#fb9f3a"
            ],
            [
             0.8888888888888888,
             "#fdca26"
            ],
            [
             1,
             "#f0f921"
            ]
           ],
           "sequentialminus": [
            [
             0,
             "#0d0887"
            ],
            [
             0.1111111111111111,
             "#46039f"
            ],
            [
             0.2222222222222222,
             "#7201a8"
            ],
            [
             0.3333333333333333,
             "#9c179e"
            ],
            [
             0.4444444444444444,
             "#bd3786"
            ],
            [
             0.5555555555555556,
             "#d8576b"
            ],
            [
             0.6666666666666666,
             "#ed7953"
            ],
            [
             0.7777777777777778,
             "#fb9f3a"
            ],
            [
             0.8888888888888888,
             "#fdca26"
            ],
            [
             1,
             "#f0f921"
            ]
           ]
          },
          "colorway": [
           "#636efa",
           "#EF553B",
           "#00cc96",
           "#ab63fa",
           "#FFA15A",
           "#19d3f3",
           "#FF6692",
           "#B6E880",
           "#FF97FF",
           "#FECB52"
          ],
          "font": {
           "color": "#2a3f5f"
          },
          "geo": {
           "bgcolor": "white",
           "lakecolor": "white",
           "landcolor": "#E5ECF6",
           "showlakes": true,
           "showland": true,
           "subunitcolor": "white"
          },
          "hoverlabel": {
           "align": "left"
          },
          "hovermode": "closest",
          "mapbox": {
           "style": "light"
          },
          "paper_bgcolor": "white",
          "plot_bgcolor": "#E5ECF6",
          "polar": {
           "angularaxis": {
            "gridcolor": "white",
            "linecolor": "white",
            "ticks": ""
           },
           "bgcolor": "#E5ECF6",
           "radialaxis": {
            "gridcolor": "white",
            "linecolor": "white",
            "ticks": ""
           }
          },
          "scene": {
           "xaxis": {
            "backgroundcolor": "#E5ECF6",
            "gridcolor": "white",
            "gridwidth": 2,
            "linecolor": "white",
            "showbackground": true,
            "ticks": "",
            "zerolinecolor": "white"
           },
           "yaxis": {
            "backgroundcolor": "#E5ECF6",
            "gridcolor": "white",
            "gridwidth": 2,
            "linecolor": "white",
            "showbackground": true,
            "ticks": "",
            "zerolinecolor": "white"
           },
           "zaxis": {
            "backgroundcolor": "#E5ECF6",
            "gridcolor": "white",
            "gridwidth": 2,
            "linecolor": "white",
            "showbackground": true,
            "ticks": "",
            "zerolinecolor": "white"
           }
          },
          "shapedefaults": {
           "line": {
            "color": "#2a3f5f"
           }
          },
          "ternary": {
           "aaxis": {
            "gridcolor": "white",
            "linecolor": "white",
            "ticks": ""
           },
           "baxis": {
            "gridcolor": "white",
            "linecolor": "white",
            "ticks": ""
           },
           "bgcolor": "#E5ECF6",
           "caxis": {
            "gridcolor": "white",
            "linecolor": "white",
            "ticks": ""
           }
          },
          "title": {
           "x": 0.05
          },
          "xaxis": {
           "automargin": true,
           "gridcolor": "white",
           "linecolor": "white",
           "ticks": "",
           "title": {
            "standoff": 15
           },
           "zerolinecolor": "white",
           "zerolinewidth": 2
          },
          "yaxis": {
           "automargin": true,
           "gridcolor": "white",
           "linecolor": "white",
           "ticks": "",
           "title": {
            "standoff": 15
           },
           "zerolinecolor": "white",
           "zerolinewidth": 2
          }
         }
        },
        "title": {
         "text": "Daily Usage Time Distribution"
        },
        "xaxis": {
         "anchor": "y",
         "domain": [
          0,
          1
         ],
         "title": {
          "text": "Daily_Usage_Time (minutes)"
         }
        },
        "yaxis": {
         "anchor": "x",
         "domain": [
          0,
          1
         ],
         "title": {
          "text": "count"
         }
        }
       }
      }
     },
     "metadata": {},
     "output_type": "display_data"
    }
   ],
   "source": [
    "plt = px.histogram(train_df, x='Daily_Usage_Time (minutes)', title='Daily Usage Time Distribution')\n",
    "plt.show()"
   ]
  },
  {
   "cell_type": "code",
   "execution_count": 45,
   "metadata": {},
   "outputs": [
    {
     "data": {
      "application/vnd.plotly.v1+json": {
       "config": {
        "plotlyServerURL": "https://plot.ly"
       },
       "data": [
        {
         "alignmentgroup": "True",
         "bingroup": "x",
         "hovertemplate": "Posts_Per_Day=%{x}<br>count=%{y}<extra></extra>",
         "legendgroup": "",
         "marker": {
          "color": "#636efa",
          "pattern": {
           "shape": ""
          }
         },
         "name": "",
         "offsetgroup": "",
         "orientation": "v",
         "showlegend": false,
         "type": "histogram",
         "x": [
          3,
          5,
          2,
          8,
          1,
          4,
          3,
          6,
          2,
          5,
          4,
          3,
          1,
          7,
          6,
          1,
          4,
          3,
          1,
          5,
          2,
          4,
          2,
          8,
          3,
          2,
          1,
          6,
          4,
          1,
          2,
          5,
          3,
          6,
          2,
          1,
          7,
          4,
          3,
          2,
          1,
          6,
          4,
          2,
          1,
          7,
          3,
          2,
          5,
          1,
          6,
          3,
          2,
          4,
          1,
          2,
          3,
          2,
          4,
          1,
          6,
          3,
          2,
          4,
          6,
          1,
          5,
          2,
          3,
          2,
          4,
          1,
          3,
          2,
          4,
          3,
          6,
          2,
          1,
          4,
          2,
          3,
          5,
          1,
          2,
          4,
          3,
          1,
          6,
          2,
          1,
          4,
          3,
          2,
          5,
          4,
          1,
          3,
          2,
          4,
          5,
          4,
          2,
          8,
          1,
          5,
          3,
          6,
          2,
          7,
          4,
          3,
          1,
          8,
          6,
          1,
          5,
          3,
          1,
          6,
          2,
          4,
          2,
          8,
          3,
          2,
          1,
          6,
          4,
          1,
          2,
          7,
          3,
          6,
          2,
          1,
          7,
          4,
          3,
          2,
          1,
          6,
          4,
          2,
          1,
          7,
          3,
          2,
          5,
          1,
          6,
          3,
          2,
          4,
          1,
          2,
          3,
          2,
          4,
          1,
          6,
          3,
          2,
          4,
          6,
          1,
          5,
          2,
          3,
          2,
          4,
          1,
          3,
          2,
          4,
          3,
          6,
          2,
          1,
          4,
          2,
          3,
          5,
          1,
          2,
          4,
          3,
          1,
          6,
          2,
          1,
          4,
          3,
          2,
          5,
          4,
          1,
          3,
          2,
          4,
          5,
          4,
          2,
          8,
          1,
          5,
          3,
          6,
          2,
          7,
          4,
          3,
          1,
          8,
          6,
          1,
          5,
          3,
          1,
          6,
          2,
          4,
          2,
          8,
          3,
          2,
          1,
          6,
          4,
          1,
          2,
          7,
          3,
          6,
          2,
          1,
          7,
          4,
          3,
          2,
          1,
          6,
          4,
          2,
          1,
          7,
          3,
          2,
          5,
          1,
          6,
          3,
          2,
          4,
          1,
          2,
          3,
          2,
          4,
          1,
          6,
          3,
          2,
          4,
          6,
          1,
          5,
          2,
          3,
          2,
          4,
          1,
          3,
          2,
          4,
          3,
          6,
          2,
          1,
          4,
          2,
          3,
          5,
          1,
          2,
          4,
          3,
          1,
          6,
          2,
          1,
          4,
          3,
          2,
          5,
          4,
          1,
          3,
          2,
          4,
          5,
          4,
          2,
          8,
          1,
          5,
          3,
          6,
          2,
          7,
          4,
          3,
          1,
          8,
          6,
          1,
          5,
          3,
          1,
          6,
          2,
          4,
          2,
          8,
          3,
          2,
          1,
          6,
          4,
          1,
          2,
          7,
          3,
          6,
          2,
          1,
          7,
          4,
          3,
          2,
          1,
          6,
          4,
          2,
          1,
          7,
          3,
          2,
          5,
          1,
          6,
          3,
          2,
          4,
          1,
          2,
          3,
          2,
          4,
          1,
          6,
          3,
          2,
          4,
          6,
          1,
          5,
          2,
          3,
          2,
          4,
          1,
          3,
          2,
          4,
          3,
          6,
          2,
          1,
          4,
          2,
          3,
          5,
          1,
          2,
          4,
          3,
          1,
          6,
          2,
          1,
          4,
          3,
          2,
          5,
          4,
          1,
          3,
          2,
          4,
          5,
          4,
          2,
          8,
          1,
          5,
          3,
          6,
          2,
          7,
          4,
          3,
          1,
          8,
          6,
          1,
          5,
          3,
          1,
          6,
          2,
          4,
          2,
          8,
          3,
          2,
          1,
          6,
          4,
          1,
          2,
          7,
          3,
          6,
          2,
          1,
          7,
          4,
          3,
          2,
          1,
          6,
          4,
          2,
          1,
          7,
          3,
          2,
          5,
          1,
          6,
          3,
          2,
          4,
          1,
          2,
          3,
          2,
          4,
          1,
          6,
          3,
          2,
          4,
          6,
          1,
          5,
          2,
          3,
          2,
          4,
          1,
          3,
          2,
          4,
          3,
          6,
          2,
          1,
          4,
          2,
          3,
          5,
          1,
          2,
          4,
          3,
          1,
          6,
          2,
          1,
          4,
          3,
          2,
          5,
          4,
          1,
          3,
          2,
          4,
          5,
          4,
          2,
          8,
          1,
          5,
          3,
          6,
          2,
          7,
          4,
          3,
          1,
          8,
          6,
          1,
          5,
          3,
          1,
          6,
          2,
          4,
          2,
          8,
          3,
          2,
          1,
          6,
          4,
          1,
          2,
          7,
          3,
          6,
          2,
          1,
          7,
          4,
          3,
          2,
          1,
          6,
          4,
          2,
          1,
          7,
          3,
          2,
          5,
          1,
          6,
          3,
          2,
          4,
          1,
          2,
          3,
          2,
          4,
          1,
          6,
          3,
          2,
          4,
          6,
          1,
          5,
          2,
          3,
          2,
          4,
          1,
          3,
          2,
          4,
          3,
          6,
          2,
          1,
          4,
          2,
          3,
          5,
          1,
          2,
          4,
          3,
          1,
          6,
          2,
          1,
          4,
          3,
          2,
          5,
          4,
          1,
          3,
          2,
          4,
          5,
          4,
          2,
          8,
          1,
          5,
          3,
          6,
          2,
          7,
          4,
          3,
          1,
          8,
          6,
          1,
          5,
          3,
          1,
          6,
          2,
          4,
          2,
          8,
          3,
          2,
          1,
          6,
          4,
          1,
          2,
          7,
          3,
          6,
          2,
          1,
          7,
          4,
          3,
          2,
          1,
          6,
          4,
          2,
          1,
          7,
          3,
          2,
          5,
          1,
          6,
          3,
          2,
          4,
          1,
          2,
          3,
          2,
          4,
          1,
          6,
          3,
          2,
          4,
          6,
          1,
          5,
          2,
          3,
          2,
          4,
          1,
          3,
          2,
          4,
          3,
          6,
          2,
          1,
          4,
          2,
          3,
          5,
          1,
          2,
          4,
          3,
          1,
          6,
          2,
          1,
          4,
          3,
          2,
          5,
          4,
          1,
          3,
          2,
          4,
          5,
          4,
          2,
          8,
          1,
          5,
          3,
          6,
          2,
          7,
          4,
          3,
          1,
          8,
          6,
          1,
          5,
          3,
          1,
          6,
          2,
          4,
          2,
          8,
          3,
          2,
          1,
          6,
          4,
          1,
          2,
          7,
          3,
          6,
          2,
          1,
          7,
          4,
          3,
          2,
          1,
          6,
          4,
          2,
          1,
          7,
          3,
          2,
          5,
          1,
          6,
          3,
          2,
          4,
          1,
          2,
          3,
          2,
          4,
          1,
          6,
          3,
          2,
          4,
          6,
          1,
          5,
          2,
          3,
          2,
          4,
          1,
          3,
          2,
          4,
          3,
          6,
          2,
          1,
          4,
          2,
          3,
          5,
          1,
          2,
          4,
          3,
          1,
          6,
          2,
          1,
          4,
          3,
          2,
          5,
          4,
          1,
          3,
          2,
          4,
          5,
          4,
          2,
          8,
          1,
          5,
          3,
          6,
          2,
          7,
          4,
          3,
          1,
          8,
          6,
          1,
          5,
          3,
          1,
          6,
          2,
          4,
          2,
          8,
          3,
          2,
          1,
          6,
          4,
          1,
          2,
          7,
          3,
          6,
          2,
          1,
          7,
          4,
          3,
          2,
          1,
          6,
          4,
          2,
          1,
          7,
          3,
          2,
          5,
          1,
          6,
          3,
          2,
          4,
          1,
          2,
          3,
          2,
          4,
          1,
          6,
          3,
          2,
          4,
          6,
          1,
          5,
          2,
          3,
          2,
          4,
          1,
          3,
          2,
          4,
          3,
          6,
          2,
          1,
          4,
          2,
          3,
          5,
          1,
          2,
          4,
          3,
          1,
          6,
          2,
          1,
          4,
          3,
          2,
          5,
          4,
          1,
          3,
          2,
          4,
          5,
          4,
          2,
          8,
          1,
          5,
          3,
          6,
          2,
          7,
          4,
          3,
          1,
          8,
          6,
          1,
          5,
          3,
          1,
          6,
          2,
          4,
          2,
          8,
          3,
          2,
          1,
          6,
          4,
          1,
          2,
          7,
          3,
          6,
          2,
          1,
          7,
          4,
          3,
          2,
          1,
          6,
          4,
          2,
          1,
          7,
          3,
          2,
          5,
          1,
          6,
          3,
          2,
          4,
          1,
          2,
          3,
          2,
          4,
          1,
          6,
          3,
          2,
          4,
          6,
          1,
          5,
          2,
          3,
          2,
          4,
          1,
          3,
          2,
          4,
          3,
          6,
          2,
          1,
          4,
          2,
          3,
          5,
          1,
          2,
          4,
          3,
          1,
          6,
          2,
          1,
          4,
          3,
          2,
          5,
          4,
          1,
          3,
          2,
          4
         ],
         "xaxis": "x",
         "yaxis": "y"
        }
       ],
       "layout": {
        "barmode": "relative",
        "legend": {
         "tracegroupgap": 0
        },
        "template": {
         "data": {
          "bar": [
           {
            "error_x": {
             "color": "#2a3f5f"
            },
            "error_y": {
             "color": "#2a3f5f"
            },
            "marker": {
             "line": {
              "color": "#E5ECF6",
              "width": 0.5
             },
             "pattern": {
              "fillmode": "overlay",
              "size": 10,
              "solidity": 0.2
             }
            },
            "type": "bar"
           }
          ],
          "barpolar": [
           {
            "marker": {
             "line": {
              "color": "#E5ECF6",
              "width": 0.5
             },
             "pattern": {
              "fillmode": "overlay",
              "size": 10,
              "solidity": 0.2
             }
            },
            "type": "barpolar"
           }
          ],
          "carpet": [
           {
            "aaxis": {
             "endlinecolor": "#2a3f5f",
             "gridcolor": "white",
             "linecolor": "white",
             "minorgridcolor": "white",
             "startlinecolor": "#2a3f5f"
            },
            "baxis": {
             "endlinecolor": "#2a3f5f",
             "gridcolor": "white",
             "linecolor": "white",
             "minorgridcolor": "white",
             "startlinecolor": "#2a3f5f"
            },
            "type": "carpet"
           }
          ],
          "choropleth": [
           {
            "colorbar": {
             "outlinewidth": 0,
             "ticks": ""
            },
            "type": "choropleth"
           }
          ],
          "contour": [
           {
            "colorbar": {
             "outlinewidth": 0,
             "ticks": ""
            },
            "colorscale": [
             [
              0,
              "#0d0887"
             ],
             [
              0.1111111111111111,
              "#46039f"
             ],
             [
              0.2222222222222222,
              "#7201a8"
             ],
             [
              0.3333333333333333,
              "#9c179e"
             ],
             [
              0.4444444444444444,
              "#bd3786"
             ],
             [
              0.5555555555555556,
              "#d8576b"
             ],
             [
              0.6666666666666666,
              "#ed7953"
             ],
             [
              0.7777777777777778,
              "#fb9f3a"
             ],
             [
              0.8888888888888888,
              "#fdca26"
             ],
             [
              1,
              "#f0f921"
             ]
            ],
            "type": "contour"
           }
          ],
          "contourcarpet": [
           {
            "colorbar": {
             "outlinewidth": 0,
             "ticks": ""
            },
            "type": "contourcarpet"
           }
          ],
          "heatmap": [
           {
            "colorbar": {
             "outlinewidth": 0,
             "ticks": ""
            },
            "colorscale": [
             [
              0,
              "#0d0887"
             ],
             [
              0.1111111111111111,
              "#46039f"
             ],
             [
              0.2222222222222222,
              "#7201a8"
             ],
             [
              0.3333333333333333,
              "#9c179e"
             ],
             [
              0.4444444444444444,
              "#bd3786"
             ],
             [
              0.5555555555555556,
              "#d8576b"
             ],
             [
              0.6666666666666666,
              "#ed7953"
             ],
             [
              0.7777777777777778,
              "#fb9f3a"
             ],
             [
              0.8888888888888888,
              "#fdca26"
             ],
             [
              1,
              "#f0f921"
             ]
            ],
            "type": "heatmap"
           }
          ],
          "heatmapgl": [
           {
            "colorbar": {
             "outlinewidth": 0,
             "ticks": ""
            },
            "colorscale": [
             [
              0,
              "#0d0887"
             ],
             [
              0.1111111111111111,
              "#46039f"
             ],
             [
              0.2222222222222222,
              "#7201a8"
             ],
             [
              0.3333333333333333,
              "#9c179e"
             ],
             [
              0.4444444444444444,
              "#bd3786"
             ],
             [
              0.5555555555555556,
              "#d8576b"
             ],
             [
              0.6666666666666666,
              "#ed7953"
             ],
             [
              0.7777777777777778,
              "#fb9f3a"
             ],
             [
              0.8888888888888888,
              "#fdca26"
             ],
             [
              1,
              "#f0f921"
             ]
            ],
            "type": "heatmapgl"
           }
          ],
          "histogram": [
           {
            "marker": {
             "pattern": {
              "fillmode": "overlay",
              "size": 10,
              "solidity": 0.2
             }
            },
            "type": "histogram"
           }
          ],
          "histogram2d": [
           {
            "colorbar": {
             "outlinewidth": 0,
             "ticks": ""
            },
            "colorscale": [
             [
              0,
              "#0d0887"
             ],
             [
              0.1111111111111111,
              "#46039f"
             ],
             [
              0.2222222222222222,
              "#7201a8"
             ],
             [
              0.3333333333333333,
              "#9c179e"
             ],
             [
              0.4444444444444444,
              "#bd3786"
             ],
             [
              0.5555555555555556,
              "#d8576b"
             ],
             [
              0.6666666666666666,
              "#ed7953"
             ],
             [
              0.7777777777777778,
              "#fb9f3a"
             ],
             [
              0.8888888888888888,
              "#fdca26"
             ],
             [
              1,
              "#f0f921"
             ]
            ],
            "type": "histogram2d"
           }
          ],
          "histogram2dcontour": [
           {
            "colorbar": {
             "outlinewidth": 0,
             "ticks": ""
            },
            "colorscale": [
             [
              0,
              "#0d0887"
             ],
             [
              0.1111111111111111,
              "#46039f"
             ],
             [
              0.2222222222222222,
              "#7201a8"
             ],
             [
              0.3333333333333333,
              "#9c179e"
             ],
             [
              0.4444444444444444,
              "#bd3786"
             ],
             [
              0.5555555555555556,
              "#d8576b"
             ],
             [
              0.6666666666666666,
              "#ed7953"
             ],
             [
              0.7777777777777778,
              "#fb9f3a"
             ],
             [
              0.8888888888888888,
              "#fdca26"
             ],
             [
              1,
              "#f0f921"
             ]
            ],
            "type": "histogram2dcontour"
           }
          ],
          "mesh3d": [
           {
            "colorbar": {
             "outlinewidth": 0,
             "ticks": ""
            },
            "type": "mesh3d"
           }
          ],
          "parcoords": [
           {
            "line": {
             "colorbar": {
              "outlinewidth": 0,
              "ticks": ""
             }
            },
            "type": "parcoords"
           }
          ],
          "pie": [
           {
            "automargin": true,
            "type": "pie"
           }
          ],
          "scatter": [
           {
            "fillpattern": {
             "fillmode": "overlay",
             "size": 10,
             "solidity": 0.2
            },
            "type": "scatter"
           }
          ],
          "scatter3d": [
           {
            "line": {
             "colorbar": {
              "outlinewidth": 0,
              "ticks": ""
             }
            },
            "marker": {
             "colorbar": {
              "outlinewidth": 0,
              "ticks": ""
             }
            },
            "type": "scatter3d"
           }
          ],
          "scattercarpet": [
           {
            "marker": {
             "colorbar": {
              "outlinewidth": 0,
              "ticks": ""
             }
            },
            "type": "scattercarpet"
           }
          ],
          "scattergeo": [
           {
            "marker": {
             "colorbar": {
              "outlinewidth": 0,
              "ticks": ""
             }
            },
            "type": "scattergeo"
           }
          ],
          "scattergl": [
           {
            "marker": {
             "colorbar": {
              "outlinewidth": 0,
              "ticks": ""
             }
            },
            "type": "scattergl"
           }
          ],
          "scattermapbox": [
           {
            "marker": {
             "colorbar": {
              "outlinewidth": 0,
              "ticks": ""
             }
            },
            "type": "scattermapbox"
           }
          ],
          "scatterpolar": [
           {
            "marker": {
             "colorbar": {
              "outlinewidth": 0,
              "ticks": ""
             }
            },
            "type": "scatterpolar"
           }
          ],
          "scatterpolargl": [
           {
            "marker": {
             "colorbar": {
              "outlinewidth": 0,
              "ticks": ""
             }
            },
            "type": "scatterpolargl"
           }
          ],
          "scatterternary": [
           {
            "marker": {
             "colorbar": {
              "outlinewidth": 0,
              "ticks": ""
             }
            },
            "type": "scatterternary"
           }
          ],
          "surface": [
           {
            "colorbar": {
             "outlinewidth": 0,
             "ticks": ""
            },
            "colorscale": [
             [
              0,
              "#0d0887"
             ],
             [
              0.1111111111111111,
              "#46039f"
             ],
             [
              0.2222222222222222,
              "#7201a8"
             ],
             [
              0.3333333333333333,
              "#9c179e"
             ],
             [
              0.4444444444444444,
              "#bd3786"
             ],
             [
              0.5555555555555556,
              "#d8576b"
             ],
             [
              0.6666666666666666,
              "#ed7953"
             ],
             [
              0.7777777777777778,
              "#fb9f3a"
             ],
             [
              0.8888888888888888,
              "#fdca26"
             ],
             [
              1,
              "#f0f921"
             ]
            ],
            "type": "surface"
           }
          ],
          "table": [
           {
            "cells": {
             "fill": {
              "color": "#EBF0F8"
             },
             "line": {
              "color": "white"
             }
            },
            "header": {
             "fill": {
              "color": "#C8D4E3"
             },
             "line": {
              "color": "white"
             }
            },
            "type": "table"
           }
          ]
         },
         "layout": {
          "annotationdefaults": {
           "arrowcolor": "#2a3f5f",
           "arrowhead": 0,
           "arrowwidth": 1
          },
          "autotypenumbers": "strict",
          "coloraxis": {
           "colorbar": {
            "outlinewidth": 0,
            "ticks": ""
           }
          },
          "colorscale": {
           "diverging": [
            [
             0,
             "#8e0152"
            ],
            [
             0.1,
             "#c51b7d"
            ],
            [
             0.2,
             "#de77ae"
            ],
            [
             0.3,
             "#f1b6da"
            ],
            [
             0.4,
             "#fde0ef"
            ],
            [
             0.5,
             "#f7f7f7"
            ],
            [
             0.6,
             "#e6f5d0"
            ],
            [
             0.7,
             "#b8e186"
            ],
            [
             0.8,
             "#7fbc41"
            ],
            [
             0.9,
             "#4d9221"
            ],
            [
             1,
             "#276419"
            ]
           ],
           "sequential": [
            [
             0,
             "#0d0887"
            ],
            [
             0.1111111111111111,
             "#46039f"
            ],
            [
             0.2222222222222222,
             "#7201a8"
            ],
            [
             0.3333333333333333,
             "#9c179e"
            ],
            [
             0.4444444444444444,
             "#bd3786"
            ],
            [
             0.5555555555555556,
             "#d8576b"
            ],
            [
             0.6666666666666666,
             "#ed7953"
            ],
            [
             0.7777777777777778,
             "#fb9f3a"
            ],
            [
             0.8888888888888888,
             "#fdca26"
            ],
            [
             1,
             "#f0f921"
            ]
           ],
           "sequentialminus": [
            [
             0,
             "#0d0887"
            ],
            [
             0.1111111111111111,
             "#46039f"
            ],
            [
             0.2222222222222222,
             "#7201a8"
            ],
            [
             0.3333333333333333,
             "#9c179e"
            ],
            [
             0.4444444444444444,
             "#bd3786"
            ],
            [
             0.5555555555555556,
             "#d8576b"
            ],
            [
             0.6666666666666666,
             "#ed7953"
            ],
            [
             0.7777777777777778,
             "#fb9f3a"
            ],
            [
             0.8888888888888888,
             "#fdca26"
            ],
            [
             1,
             "#f0f921"
            ]
           ]
          },
          "colorway": [
           "#636efa",
           "#EF553B",
           "#00cc96",
           "#ab63fa",
           "#FFA15A",
           "#19d3f3",
           "#FF6692",
           "#B6E880",
           "#FF97FF",
           "#FECB52"
          ],
          "font": {
           "color": "#2a3f5f"
          },
          "geo": {
           "bgcolor": "white",
           "lakecolor": "white",
           "landcolor": "#E5ECF6",
           "showlakes": true,
           "showland": true,
           "subunitcolor": "white"
          },
          "hoverlabel": {
           "align": "left"
          },
          "hovermode": "closest",
          "mapbox": {
           "style": "light"
          },
          "paper_bgcolor": "white",
          "plot_bgcolor": "#E5ECF6",
          "polar": {
           "angularaxis": {
            "gridcolor": "white",
            "linecolor": "white",
            "ticks": ""
           },
           "bgcolor": "#E5ECF6",
           "radialaxis": {
            "gridcolor": "white",
            "linecolor": "white",
            "ticks": ""
           }
          },
          "scene": {
           "xaxis": {
            "backgroundcolor": "#E5ECF6",
            "gridcolor": "white",
            "gridwidth": 2,
            "linecolor": "white",
            "showbackground": true,
            "ticks": "",
            "zerolinecolor": "white"
           },
           "yaxis": {
            "backgroundcolor": "#E5ECF6",
            "gridcolor": "white",
            "gridwidth": 2,
            "linecolor": "white",
            "showbackground": true,
            "ticks": "",
            "zerolinecolor": "white"
           },
           "zaxis": {
            "backgroundcolor": "#E5ECF6",
            "gridcolor": "white",
            "gridwidth": 2,
            "linecolor": "white",
            "showbackground": true,
            "ticks": "",
            "zerolinecolor": "white"
           }
          },
          "shapedefaults": {
           "line": {
            "color": "#2a3f5f"
           }
          },
          "ternary": {
           "aaxis": {
            "gridcolor": "white",
            "linecolor": "white",
            "ticks": ""
           },
           "baxis": {
            "gridcolor": "white",
            "linecolor": "white",
            "ticks": ""
           },
           "bgcolor": "#E5ECF6",
           "caxis": {
            "gridcolor": "white",
            "linecolor": "white",
            "ticks": ""
           }
          },
          "title": {
           "x": 0.05
          },
          "xaxis": {
           "automargin": true,
           "gridcolor": "white",
           "linecolor": "white",
           "ticks": "",
           "title": {
            "standoff": 15
           },
           "zerolinecolor": "white",
           "zerolinewidth": 2
          },
          "yaxis": {
           "automargin": true,
           "gridcolor": "white",
           "linecolor": "white",
           "ticks": "",
           "title": {
            "standoff": 15
           },
           "zerolinecolor": "white",
           "zerolinewidth": 2
          }
         }
        },
        "title": {
         "text": "Post per Day Distribution"
        },
        "xaxis": {
         "anchor": "y",
         "domain": [
          0,
          1
         ],
         "title": {
          "text": "Posts_Per_Day"
         }
        },
        "yaxis": {
         "anchor": "x",
         "domain": [
          0,
          1
         ],
         "title": {
          "text": "count"
         }
        }
       }
      }
     },
     "metadata": {},
     "output_type": "display_data"
    }
   ],
   "source": [
    "plt = px.histogram(train_df, x='Posts_Per_Day', title = 'Post per Day Distribution')\n",
    "plt.show()"
   ]
  },
  {
   "cell_type": "code",
   "execution_count": 46,
   "metadata": {},
   "outputs": [
    {
     "data": {
      "application/vnd.plotly.v1+json": {
       "config": {
        "plotlyServerURL": "https://plot.ly"
       },
       "data": [
        {
         "alignmentgroup": "True",
         "bingroup": "x",
         "hovertemplate": "Likes_Received_Per_Day=%{x}<br>count=%{y}<extra></extra>",
         "legendgroup": "",
         "marker": {
          "color": "#636efa",
          "pattern": {
           "shape": ""
          }
         },
         "name": "",
         "offsetgroup": "",
         "orientation": "v",
         "showlegend": false,
         "type": "histogram",
         "x": [
          45,
          20,
          15,
          100,
          5,
          60,
          30,
          25,
          10,
          80,
          35,
          20,
          12,
          90,
          40,
          5,
          55,
          33,
          8,
          70,
          25,
          28,
          11,
          95,
          20,
          18,
          9,
          85,
          38,
          6,
          13,
          75,
          27,
          88,
          22,
          10,
          90,
          35,
          55,
          18,
          6,
          80,
          40,
          20,
          12,
          85,
          33,
          28,
          70,
          8,
          78,
          29,
          25,
          60,
          10,
          40,
          20,
          15,
          45,
          10,
          70,
          20,
          18,
          50,
          40,
          8,
          75,
          25,
          45,
          18,
          60,
          12,
          15,
          20,
          28,
          36,
          72,
          22,
          12,
          35,
          18,
          30,
          55,
          20,
          18,
          35,
          40,
          15,
          78,
          28,
          8,
          50,
          33,
          20,
          65,
          30,
          12,
          45,
          15,
          38,
          50,
          30,
          20,
          110,
          10,
          65,
          40,
          35,
          15,
          90,
          45,
          30,
          14,
          100,
          50,
          10,
          65,
          40,
          12,
          75,
          30,
          35,
          17,
          105,
          25,
          20,
          12,
          85,
          43,
          8,
          17,
          80,
          30,
          95,
          27,
          11,
          95,
          45,
          60,
          22,
          9,
          90,
          50,
          25,
          15,
          100,
          37,
          30,
          80,
          12,
          85,
          33,
          27,
          65,
          15,
          42,
          22,
          18,
          48,
          12,
          72,
          22,
          21,
          55,
          42,
          12,
          78,
          27,
          48,
          21,
          65,
          13,
          17,
          24,
          30,
          38,
          75,
          23,
          13,
          37,
          20,
          33,
          60,
          22,
          20,
          37,
          45,
          18,
          83,
          30,
          10,
          55,
          37,
          23,
          70,
          35,
          14,
          50,
          18,
          40,
          50,
          30,
          20,
          110,
          10,
          65,
          40,
          35,
          15,
          90,
          45,
          30,
          14,
          100,
          50,
          10,
          65,
          40,
          12,
          75,
          30,
          35,
          17,
          105,
          25,
          20,
          12,
          85,
          43,
          8,
          17,
          80,
          30,
          95,
          27,
          11,
          95,
          45,
          60,
          22,
          9,
          90,
          50,
          25,
          15,
          100,
          37,
          30,
          80,
          12,
          85,
          33,
          27,
          65,
          15,
          42,
          22,
          18,
          48,
          12,
          72,
          22,
          21,
          55,
          42,
          12,
          78,
          27,
          48,
          21,
          65,
          13,
          17,
          24,
          30,
          38,
          75,
          23,
          13,
          37,
          20,
          33,
          60,
          22,
          20,
          37,
          45,
          18,
          83,
          30,
          10,
          55,
          37,
          23,
          70,
          35,
          14,
          50,
          18,
          40,
          50,
          30,
          20,
          110,
          10,
          65,
          40,
          35,
          15,
          90,
          45,
          30,
          14,
          100,
          50,
          10,
          65,
          40,
          12,
          75,
          30,
          35,
          17,
          105,
          25,
          20,
          12,
          85,
          43,
          8,
          17,
          80,
          30,
          95,
          27,
          11,
          95,
          45,
          60,
          22,
          9,
          90,
          50,
          25,
          15,
          100,
          37,
          30,
          80,
          12,
          85,
          33,
          27,
          65,
          15,
          42,
          22,
          18,
          48,
          12,
          72,
          22,
          21,
          55,
          42,
          12,
          78,
          27,
          48,
          21,
          65,
          13,
          17,
          24,
          30,
          38,
          75,
          23,
          13,
          37,
          20,
          33,
          60,
          22,
          20,
          37,
          45,
          18,
          83,
          30,
          10,
          55,
          37,
          23,
          70,
          35,
          14,
          50,
          18,
          40,
          50,
          30,
          20,
          110,
          10,
          65,
          40,
          35,
          15,
          90,
          45,
          30,
          14,
          100,
          50,
          10,
          65,
          40,
          12,
          75,
          30,
          35,
          17,
          105,
          25,
          20,
          12,
          85,
          43,
          8,
          17,
          80,
          30,
          95,
          27,
          11,
          95,
          45,
          60,
          22,
          9,
          90,
          50,
          25,
          15,
          100,
          37,
          30,
          80,
          12,
          85,
          33,
          27,
          65,
          15,
          42,
          22,
          18,
          48,
          12,
          72,
          22,
          21,
          55,
          42,
          12,
          78,
          27,
          48,
          21,
          65,
          13,
          17,
          24,
          30,
          38,
          75,
          23,
          13,
          37,
          20,
          33,
          60,
          22,
          20,
          37,
          45,
          18,
          83,
          30,
          10,
          55,
          37,
          23,
          70,
          35,
          14,
          50,
          18,
          40,
          50,
          30,
          20,
          110,
          10,
          65,
          40,
          35,
          15,
          90,
          45,
          30,
          14,
          100,
          50,
          10,
          65,
          40,
          12,
          75,
          30,
          35,
          17,
          105,
          25,
          20,
          12,
          85,
          43,
          8,
          17,
          80,
          30,
          95,
          27,
          11,
          95,
          45,
          60,
          22,
          9,
          90,
          50,
          25,
          15,
          100,
          37,
          30,
          80,
          12,
          85,
          33,
          27,
          65,
          15,
          42,
          22,
          18,
          48,
          12,
          72,
          22,
          21,
          55,
          42,
          12,
          78,
          27,
          48,
          21,
          65,
          13,
          17,
          24,
          30,
          38,
          75,
          23,
          13,
          37,
          20,
          33,
          60,
          22,
          20,
          37,
          45,
          18,
          83,
          30,
          10,
          55,
          37,
          23,
          70,
          35,
          14,
          50,
          18,
          40,
          50,
          30,
          20,
          110,
          10,
          65,
          40,
          35,
          15,
          90,
          45,
          30,
          14,
          100,
          50,
          10,
          65,
          40,
          12,
          75,
          30,
          35,
          17,
          105,
          25,
          20,
          12,
          85,
          43,
          8,
          17,
          80,
          30,
          95,
          27,
          11,
          95,
          45,
          60,
          22,
          9,
          90,
          50,
          25,
          15,
          100,
          37,
          30,
          80,
          12,
          85,
          33,
          27,
          65,
          15,
          42,
          22,
          18,
          48,
          12,
          72,
          22,
          21,
          55,
          42,
          12,
          78,
          27,
          48,
          21,
          65,
          13,
          17,
          24,
          30,
          38,
          75,
          23,
          13,
          37,
          20,
          33,
          60,
          22,
          20,
          37,
          45,
          18,
          83,
          30,
          10,
          55,
          37,
          23,
          70,
          35,
          14,
          50,
          18,
          40,
          50,
          30,
          20,
          110,
          10,
          65,
          40,
          35,
          15,
          90,
          45,
          30,
          14,
          100,
          50,
          10,
          65,
          40,
          12,
          75,
          30,
          35,
          17,
          105,
          25,
          20,
          12,
          85,
          43,
          8,
          17,
          80,
          30,
          95,
          27,
          11,
          95,
          45,
          60,
          22,
          9,
          90,
          50,
          25,
          15,
          100,
          37,
          30,
          80,
          12,
          85,
          33,
          27,
          65,
          15,
          42,
          22,
          18,
          48,
          12,
          72,
          22,
          21,
          55,
          42,
          12,
          78,
          27,
          48,
          21,
          65,
          13,
          17,
          24,
          30,
          38,
          75,
          23,
          13,
          37,
          20,
          33,
          60,
          22,
          20,
          37,
          45,
          18,
          83,
          30,
          10,
          55,
          37,
          23,
          70,
          35,
          14,
          50,
          18,
          40,
          50,
          30,
          20,
          110,
          10,
          65,
          40,
          35,
          15,
          90,
          45,
          30,
          14,
          100,
          50,
          10,
          65,
          40,
          12,
          75,
          30,
          35,
          17,
          105,
          25,
          20,
          12,
          85,
          43,
          8,
          17,
          80,
          30,
          95,
          27,
          11,
          95,
          45,
          60,
          22,
          9,
          90,
          50,
          25,
          15,
          100,
          37,
          30,
          80,
          12,
          85,
          33,
          27,
          65,
          15,
          42,
          22,
          18,
          48,
          12,
          72,
          22,
          21,
          55,
          42,
          12,
          78,
          27,
          48,
          21,
          65,
          13,
          17,
          24,
          30,
          38,
          75,
          23,
          13,
          37,
          20,
          33,
          60,
          22,
          20,
          37,
          45,
          18,
          83,
          30,
          10,
          55,
          37,
          23,
          70,
          35,
          14,
          50,
          18,
          40,
          50,
          30,
          20,
          110,
          10,
          65,
          40,
          35,
          15,
          90,
          45,
          30,
          14,
          100,
          50,
          10,
          65,
          40,
          12,
          75,
          30,
          35,
          17,
          105,
          25,
          20,
          12,
          85,
          43,
          8,
          17,
          80,
          30,
          95,
          27,
          11,
          95,
          45,
          60,
          22,
          9,
          90,
          50,
          25,
          15,
          100,
          37,
          30,
          80,
          12,
          85,
          33,
          27,
          65,
          15,
          42,
          22,
          18,
          48,
          12,
          72,
          22,
          21,
          55,
          42,
          12,
          78,
          27,
          48,
          21,
          65,
          13,
          17,
          24,
          30,
          38,
          75,
          23,
          13,
          37,
          20,
          33,
          60,
          22,
          20,
          37,
          45,
          18,
          83,
          30,
          10,
          55,
          37,
          23,
          70,
          35,
          14,
          50,
          18,
          40
         ],
         "xaxis": "x",
         "yaxis": "y"
        }
       ],
       "layout": {
        "barmode": "relative",
        "legend": {
         "tracegroupgap": 0
        },
        "template": {
         "data": {
          "bar": [
           {
            "error_x": {
             "color": "#2a3f5f"
            },
            "error_y": {
             "color": "#2a3f5f"
            },
            "marker": {
             "line": {
              "color": "#E5ECF6",
              "width": 0.5
             },
             "pattern": {
              "fillmode": "overlay",
              "size": 10,
              "solidity": 0.2
             }
            },
            "type": "bar"
           }
          ],
          "barpolar": [
           {
            "marker": {
             "line": {
              "color": "#E5ECF6",
              "width": 0.5
             },
             "pattern": {
              "fillmode": "overlay",
              "size": 10,
              "solidity": 0.2
             }
            },
            "type": "barpolar"
           }
          ],
          "carpet": [
           {
            "aaxis": {
             "endlinecolor": "#2a3f5f",
             "gridcolor": "white",
             "linecolor": "white",
             "minorgridcolor": "white",
             "startlinecolor": "#2a3f5f"
            },
            "baxis": {
             "endlinecolor": "#2a3f5f",
             "gridcolor": "white",
             "linecolor": "white",
             "minorgridcolor": "white",
             "startlinecolor": "#2a3f5f"
            },
            "type": "carpet"
           }
          ],
          "choropleth": [
           {
            "colorbar": {
             "outlinewidth": 0,
             "ticks": ""
            },
            "type": "choropleth"
           }
          ],
          "contour": [
           {
            "colorbar": {
             "outlinewidth": 0,
             "ticks": ""
            },
            "colorscale": [
             [
              0,
              "#0d0887"
             ],
             [
              0.1111111111111111,
              "#46039f"
             ],
             [
              0.2222222222222222,
              "#7201a8"
             ],
             [
              0.3333333333333333,
              "#9c179e"
             ],
             [
              0.4444444444444444,
              "#bd3786"
             ],
             [
              0.5555555555555556,
              "#d8576b"
             ],
             [
              0.6666666666666666,
              "#ed7953"
             ],
             [
              0.7777777777777778,
              "#fb9f3a"
             ],
             [
              0.8888888888888888,
              "#fdca26"
             ],
             [
              1,
              "#f0f921"
             ]
            ],
            "type": "contour"
           }
          ],
          "contourcarpet": [
           {
            "colorbar": {
             "outlinewidth": 0,
             "ticks": ""
            },
            "type": "contourcarpet"
           }
          ],
          "heatmap": [
           {
            "colorbar": {
             "outlinewidth": 0,
             "ticks": ""
            },
            "colorscale": [
             [
              0,
              "#0d0887"
             ],
             [
              0.1111111111111111,
              "#46039f"
             ],
             [
              0.2222222222222222,
              "#7201a8"
             ],
             [
              0.3333333333333333,
              "#9c179e"
             ],
             [
              0.4444444444444444,
              "#bd3786"
             ],
             [
              0.5555555555555556,
              "#d8576b"
             ],
             [
              0.6666666666666666,
              "#ed7953"
             ],
             [
              0.7777777777777778,
              "#fb9f3a"
             ],
             [
              0.8888888888888888,
              "#fdca26"
             ],
             [
              1,
              "#f0f921"
             ]
            ],
            "type": "heatmap"
           }
          ],
          "heatmapgl": [
           {
            "colorbar": {
             "outlinewidth": 0,
             "ticks": ""
            },
            "colorscale": [
             [
              0,
              "#0d0887"
             ],
             [
              0.1111111111111111,
              "#46039f"
             ],
             [
              0.2222222222222222,
              "#7201a8"
             ],
             [
              0.3333333333333333,
              "#9c179e"
             ],
             [
              0.4444444444444444,
              "#bd3786"
             ],
             [
              0.5555555555555556,
              "#d8576b"
             ],
             [
              0.6666666666666666,
              "#ed7953"
             ],
             [
              0.7777777777777778,
              "#fb9f3a"
             ],
             [
              0.8888888888888888,
              "#fdca26"
             ],
             [
              1,
              "#f0f921"
             ]
            ],
            "type": "heatmapgl"
           }
          ],
          "histogram": [
           {
            "marker": {
             "pattern": {
              "fillmode": "overlay",
              "size": 10,
              "solidity": 0.2
             }
            },
            "type": "histogram"
           }
          ],
          "histogram2d": [
           {
            "colorbar": {
             "outlinewidth": 0,
             "ticks": ""
            },
            "colorscale": [
             [
              0,
              "#0d0887"
             ],
             [
              0.1111111111111111,
              "#46039f"
             ],
             [
              0.2222222222222222,
              "#7201a8"
             ],
             [
              0.3333333333333333,
              "#9c179e"
             ],
             [
              0.4444444444444444,
              "#bd3786"
             ],
             [
              0.5555555555555556,
              "#d8576b"
             ],
             [
              0.6666666666666666,
              "#ed7953"
             ],
             [
              0.7777777777777778,
              "#fb9f3a"
             ],
             [
              0.8888888888888888,
              "#fdca26"
             ],
             [
              1,
              "#f0f921"
             ]
            ],
            "type": "histogram2d"
           }
          ],
          "histogram2dcontour": [
           {
            "colorbar": {
             "outlinewidth": 0,
             "ticks": ""
            },
            "colorscale": [
             [
              0,
              "#0d0887"
             ],
             [
              0.1111111111111111,
              "#46039f"
             ],
             [
              0.2222222222222222,
              "#7201a8"
             ],
             [
              0.3333333333333333,
              "#9c179e"
             ],
             [
              0.4444444444444444,
              "#bd3786"
             ],
             [
              0.5555555555555556,
              "#d8576b"
             ],
             [
              0.6666666666666666,
              "#ed7953"
             ],
             [
              0.7777777777777778,
              "#fb9f3a"
             ],
             [
              0.8888888888888888,
              "#fdca26"
             ],
             [
              1,
              "#f0f921"
             ]
            ],
            "type": "histogram2dcontour"
           }
          ],
          "mesh3d": [
           {
            "colorbar": {
             "outlinewidth": 0,
             "ticks": ""
            },
            "type": "mesh3d"
           }
          ],
          "parcoords": [
           {
            "line": {
             "colorbar": {
              "outlinewidth": 0,
              "ticks": ""
             }
            },
            "type": "parcoords"
           }
          ],
          "pie": [
           {
            "automargin": true,
            "type": "pie"
           }
          ],
          "scatter": [
           {
            "fillpattern": {
             "fillmode": "overlay",
             "size": 10,
             "solidity": 0.2
            },
            "type": "scatter"
           }
          ],
          "scatter3d": [
           {
            "line": {
             "colorbar": {
              "outlinewidth": 0,
              "ticks": ""
             }
            },
            "marker": {
             "colorbar": {
              "outlinewidth": 0,
              "ticks": ""
             }
            },
            "type": "scatter3d"
           }
          ],
          "scattercarpet": [
           {
            "marker": {
             "colorbar": {
              "outlinewidth": 0,
              "ticks": ""
             }
            },
            "type": "scattercarpet"
           }
          ],
          "scattergeo": [
           {
            "marker": {
             "colorbar": {
              "outlinewidth": 0,
              "ticks": ""
             }
            },
            "type": "scattergeo"
           }
          ],
          "scattergl": [
           {
            "marker": {
             "colorbar": {
              "outlinewidth": 0,
              "ticks": ""
             }
            },
            "type": "scattergl"
           }
          ],
          "scattermapbox": [
           {
            "marker": {
             "colorbar": {
              "outlinewidth": 0,
              "ticks": ""
             }
            },
            "type": "scattermapbox"
           }
          ],
          "scatterpolar": [
           {
            "marker": {
             "colorbar": {
              "outlinewidth": 0,
              "ticks": ""
             }
            },
            "type": "scatterpolar"
           }
          ],
          "scatterpolargl": [
           {
            "marker": {
             "colorbar": {
              "outlinewidth": 0,
              "ticks": ""
             }
            },
            "type": "scatterpolargl"
           }
          ],
          "scatterternary": [
           {
            "marker": {
             "colorbar": {
              "outlinewidth": 0,
              "ticks": ""
             }
            },
            "type": "scatterternary"
           }
          ],
          "surface": [
           {
            "colorbar": {
             "outlinewidth": 0,
             "ticks": ""
            },
            "colorscale": [
             [
              0,
              "#0d0887"
             ],
             [
              0.1111111111111111,
              "#46039f"
             ],
             [
              0.2222222222222222,
              "#7201a8"
             ],
             [
              0.3333333333333333,
              "#9c179e"
             ],
             [
              0.4444444444444444,
              "#bd3786"
             ],
             [
              0.5555555555555556,
              "#d8576b"
             ],
             [
              0.6666666666666666,
              "#ed7953"
             ],
             [
              0.7777777777777778,
              "#fb9f3a"
             ],
             [
              0.8888888888888888,
              "#fdca26"
             ],
             [
              1,
              "#f0f921"
             ]
            ],
            "type": "surface"
           }
          ],
          "table": [
           {
            "cells": {
             "fill": {
              "color": "#EBF0F8"
             },
             "line": {
              "color": "white"
             }
            },
            "header": {
             "fill": {
              "color": "#C8D4E3"
             },
             "line": {
              "color": "white"
             }
            },
            "type": "table"
           }
          ]
         },
         "layout": {
          "annotationdefaults": {
           "arrowcolor": "#2a3f5f",
           "arrowhead": 0,
           "arrowwidth": 1
          },
          "autotypenumbers": "strict",
          "coloraxis": {
           "colorbar": {
            "outlinewidth": 0,
            "ticks": ""
           }
          },
          "colorscale": {
           "diverging": [
            [
             0,
             "#8e0152"
            ],
            [
             0.1,
             "#c51b7d"
            ],
            [
             0.2,
             "#de77ae"
            ],
            [
             0.3,
             "#f1b6da"
            ],
            [
             0.4,
             "#fde0ef"
            ],
            [
             0.5,
             "#f7f7f7"
            ],
            [
             0.6,
             "#e6f5d0"
            ],
            [
             0.7,
             "#b8e186"
            ],
            [
             0.8,
             "#7fbc41"
            ],
            [
             0.9,
             "#4d9221"
            ],
            [
             1,
             "#276419"
            ]
           ],
           "sequential": [
            [
             0,
             "#0d0887"
            ],
            [
             0.1111111111111111,
             "#46039f"
            ],
            [
             0.2222222222222222,
             "#7201a8"
            ],
            [
             0.3333333333333333,
             "#9c179e"
            ],
            [
             0.4444444444444444,
             "#bd3786"
            ],
            [
             0.5555555555555556,
             "#d8576b"
            ],
            [
             0.6666666666666666,
             "#ed7953"
            ],
            [
             0.7777777777777778,
             "#fb9f3a"
            ],
            [
             0.8888888888888888,
             "#fdca26"
            ],
            [
             1,
             "#f0f921"
            ]
           ],
           "sequentialminus": [
            [
             0,
             "#0d0887"
            ],
            [
             0.1111111111111111,
             "#46039f"
            ],
            [
             0.2222222222222222,
             "#7201a8"
            ],
            [
             0.3333333333333333,
             "#9c179e"
            ],
            [
             0.4444444444444444,
             "#bd3786"
            ],
            [
             0.5555555555555556,
             "#d8576b"
            ],
            [
             0.6666666666666666,
             "#ed7953"
            ],
            [
             0.7777777777777778,
             "#fb9f3a"
            ],
            [
             0.8888888888888888,
             "#fdca26"
            ],
            [
             1,
             "#f0f921"
            ]
           ]
          },
          "colorway": [
           "#636efa",
           "#EF553B",
           "#00cc96",
           "#ab63fa",
           "#FFA15A",
           "#19d3f3",
           "#FF6692",
           "#B6E880",
           "#FF97FF",
           "#FECB52"
          ],
          "font": {
           "color": "#2a3f5f"
          },
          "geo": {
           "bgcolor": "white",
           "lakecolor": "white",
           "landcolor": "#E5ECF6",
           "showlakes": true,
           "showland": true,
           "subunitcolor": "white"
          },
          "hoverlabel": {
           "align": "left"
          },
          "hovermode": "closest",
          "mapbox": {
           "style": "light"
          },
          "paper_bgcolor": "white",
          "plot_bgcolor": "#E5ECF6",
          "polar": {
           "angularaxis": {
            "gridcolor": "white",
            "linecolor": "white",
            "ticks": ""
           },
           "bgcolor": "#E5ECF6",
           "radialaxis": {
            "gridcolor": "white",
            "linecolor": "white",
            "ticks": ""
           }
          },
          "scene": {
           "xaxis": {
            "backgroundcolor": "#E5ECF6",
            "gridcolor": "white",
            "gridwidth": 2,
            "linecolor": "white",
            "showbackground": true,
            "ticks": "",
            "zerolinecolor": "white"
           },
           "yaxis": {
            "backgroundcolor": "#E5ECF6",
            "gridcolor": "white",
            "gridwidth": 2,
            "linecolor": "white",
            "showbackground": true,
            "ticks": "",
            "zerolinecolor": "white"
           },
           "zaxis": {
            "backgroundcolor": "#E5ECF6",
            "gridcolor": "white",
            "gridwidth": 2,
            "linecolor": "white",
            "showbackground": true,
            "ticks": "",
            "zerolinecolor": "white"
           }
          },
          "shapedefaults": {
           "line": {
            "color": "#2a3f5f"
           }
          },
          "ternary": {
           "aaxis": {
            "gridcolor": "white",
            "linecolor": "white",
            "ticks": ""
           },
           "baxis": {
            "gridcolor": "white",
            "linecolor": "white",
            "ticks": ""
           },
           "bgcolor": "#E5ECF6",
           "caxis": {
            "gridcolor": "white",
            "linecolor": "white",
            "ticks": ""
           }
          },
          "title": {
           "x": 0.05
          },
          "xaxis": {
           "automargin": true,
           "gridcolor": "white",
           "linecolor": "white",
           "ticks": "",
           "title": {
            "standoff": 15
           },
           "zerolinecolor": "white",
           "zerolinewidth": 2
          },
          "yaxis": {
           "automargin": true,
           "gridcolor": "white",
           "linecolor": "white",
           "ticks": "",
           "title": {
            "standoff": 15
           },
           "zerolinecolor": "white",
           "zerolinewidth": 2
          }
         }
        },
        "title": {
         "text": "Likes Received per Day Distribution"
        },
        "xaxis": {
         "anchor": "y",
         "domain": [
          0,
          1
         ],
         "title": {
          "text": "Likes_Received_Per_Day"
         }
        },
        "yaxis": {
         "anchor": "x",
         "domain": [
          0,
          1
         ],
         "title": {
          "text": "count"
         }
        }
       }
      }
     },
     "metadata": {},
     "output_type": "display_data"
    }
   ],
   "source": [
    "plt = px.histogram(train_df, x='Likes_Received_Per_Day', title = 'Likes Received per Day Distribution')\n",
    "plt.show()"
   ]
  },
  {
   "cell_type": "code",
   "execution_count": 47,
   "metadata": {},
   "outputs": [
    {
     "data": {
      "application/vnd.plotly.v1+json": {
       "config": {
        "plotlyServerURL": "https://plot.ly"
       },
       "data": [
        {
         "alignmentgroup": "True",
         "bingroup": "x",
         "hovertemplate": "Messages_Sent_Per_Day=%{x}<br>count=%{y}<extra></extra>",
         "legendgroup": "",
         "marker": {
          "color": "#636efa",
          "pattern": {
           "shape": ""
          }
         },
         "name": "",
         "offsetgroup": "",
         "orientation": "v",
         "showlegend": false,
         "type": "histogram",
         "x": [
          12,
          30,
          20,
          50,
          10,
          25,
          18,
          22,
          8,
          35,
          20,
          18,
          15,
          40,
          28,
          10,
          30,
          25,
          12,
          33,
          18,
          20,
          17,
          45,
          15,
          21,
          11,
          32,
          24,
          10,
          14,
          35,
          18,
          30,
          20,
          11,
          40,
          20,
          25,
          22,
          9,
          30,
          22,
          18,
          14,
          38,
          20,
          18,
          31,
          10,
          27,
          19,
          20,
          35,
          17,
          21,
          22,
          18,
          25,
          15,
          33,
          18,
          20,
          30,
          26,
          12,
          35,
          20,
          28,
          20,
          30,
          10,
          12,
          22,
          25,
          27,
          38,
          18,
          14,
          20,
          12,
          18,
          25,
          22,
          20,
          26,
          28,
          12,
          33,
          20,
          10,
          25,
          22,
          28,
          30,
          18,
          10,
          25,
          18,
          22,
          25,
          22,
          15,
          45,
          12,
          30,
          20,
          25,
          10,
          40,
          25,
          18,
          15,
          45,
          29,
          12,
          28,
          24,
          12,
          30,
          20,
          23,
          15,
          50,
          15,
          20,
          11,
          30,
          24,
          12,
          14,
          35,
          18,
          28,
          22,
          11,
          38,
          24,
          30,
          25,
          10,
          30,
          22,
          18,
          14,
          38,
          20,
          18,
          31,
          10,
          28,
          19,
          20,
          35,
          17,
          21,
          22,
          18,
          25,
          15,
          33,
          18,
          20,
          30,
          26,
          12,
          35,
          20,
          28,
          20,
          30,
          10,
          12,
          22,
          25,
          27,
          38,
          18,
          14,
          20,
          12,
          18,
          25,
          22,
          20,
          26,
          28,
          12,
          33,
          20,
          10,
          25,
          22,
          28,
          30,
          18,
          10,
          25,
          18,
          22,
          25,
          22,
          15,
          45,
          12,
          30,
          20,
          25,
          10,
          40,
          25,
          18,
          15,
          45,
          29,
          12,
          28,
          24,
          12,
          30,
          20,
          23,
          15,
          50,
          15,
          20,
          11,
          30,
          24,
          12,
          14,
          35,
          18,
          28,
          22,
          11,
          38,
          24,
          30,
          25,
          10,
          30,
          22,
          18,
          14,
          38,
          20,
          18,
          31,
          10,
          28,
          19,
          20,
          35,
          17,
          21,
          22,
          18,
          25,
          15,
          33,
          18,
          20,
          30,
          26,
          12,
          35,
          20,
          28,
          20,
          30,
          10,
          12,
          22,
          25,
          27,
          38,
          18,
          14,
          20,
          12,
          18,
          25,
          22,
          20,
          26,
          28,
          12,
          33,
          20,
          10,
          25,
          22,
          28,
          30,
          18,
          10,
          25,
          18,
          22,
          25,
          22,
          15,
          45,
          12,
          30,
          20,
          25,
          10,
          40,
          25,
          18,
          15,
          45,
          29,
          12,
          28,
          24,
          12,
          30,
          20,
          23,
          15,
          50,
          15,
          20,
          11,
          30,
          24,
          12,
          14,
          35,
          18,
          28,
          22,
          11,
          38,
          24,
          30,
          25,
          10,
          30,
          22,
          18,
          14,
          38,
          20,
          18,
          31,
          10,
          28,
          19,
          20,
          35,
          17,
          21,
          22,
          18,
          25,
          15,
          33,
          18,
          20,
          30,
          26,
          12,
          35,
          20,
          28,
          20,
          30,
          10,
          12,
          22,
          25,
          27,
          38,
          18,
          14,
          20,
          12,
          18,
          25,
          22,
          20,
          26,
          28,
          12,
          33,
          20,
          10,
          25,
          22,
          28,
          30,
          18,
          10,
          25,
          18,
          22,
          25,
          22,
          15,
          45,
          12,
          30,
          20,
          25,
          10,
          40,
          25,
          18,
          15,
          45,
          29,
          12,
          28,
          24,
          12,
          30,
          20,
          23,
          15,
          50,
          15,
          20,
          11,
          30,
          24,
          12,
          14,
          35,
          18,
          28,
          22,
          11,
          38,
          24,
          30,
          25,
          10,
          30,
          22,
          18,
          14,
          38,
          20,
          18,
          31,
          10,
          28,
          19,
          20,
          35,
          17,
          21,
          22,
          18,
          25,
          15,
          33,
          18,
          20,
          30,
          26,
          12,
          35,
          20,
          28,
          20,
          30,
          10,
          12,
          22,
          25,
          27,
          38,
          18,
          14,
          20,
          12,
          18,
          25,
          22,
          20,
          26,
          28,
          12,
          33,
          20,
          10,
          25,
          22,
          28,
          30,
          18,
          10,
          25,
          18,
          22,
          25,
          22,
          15,
          45,
          12,
          30,
          20,
          25,
          10,
          40,
          25,
          18,
          15,
          45,
          29,
          12,
          28,
          24,
          12,
          30,
          20,
          23,
          15,
          50,
          15,
          20,
          11,
          30,
          24,
          12,
          14,
          35,
          18,
          28,
          22,
          11,
          38,
          24,
          30,
          25,
          10,
          30,
          22,
          18,
          14,
          38,
          20,
          18,
          31,
          10,
          28,
          19,
          20,
          35,
          17,
          21,
          22,
          18,
          25,
          15,
          33,
          18,
          20,
          30,
          26,
          12,
          35,
          20,
          28,
          20,
          30,
          10,
          12,
          22,
          25,
          27,
          38,
          18,
          14,
          20,
          12,
          18,
          25,
          22,
          20,
          26,
          28,
          12,
          33,
          20,
          10,
          25,
          22,
          28,
          30,
          18,
          10,
          25,
          18,
          22,
          25,
          22,
          15,
          45,
          12,
          30,
          20,
          25,
          10,
          40,
          25,
          18,
          15,
          45,
          29,
          12,
          28,
          24,
          12,
          30,
          20,
          23,
          15,
          50,
          15,
          20,
          11,
          30,
          24,
          12,
          14,
          35,
          18,
          28,
          22,
          11,
          38,
          24,
          30,
          25,
          10,
          30,
          22,
          18,
          14,
          38,
          20,
          18,
          31,
          10,
          28,
          19,
          20,
          35,
          17,
          21,
          22,
          18,
          25,
          15,
          33,
          18,
          20,
          30,
          26,
          12,
          35,
          20,
          28,
          20,
          30,
          10,
          12,
          22,
          25,
          27,
          38,
          18,
          14,
          20,
          12,
          18,
          25,
          22,
          20,
          26,
          28,
          12,
          33,
          20,
          10,
          25,
          22,
          28,
          30,
          18,
          10,
          25,
          18,
          22,
          25,
          22,
          15,
          45,
          12,
          30,
          20,
          25,
          10,
          40,
          25,
          18,
          15,
          45,
          29,
          12,
          28,
          24,
          12,
          30,
          20,
          23,
          15,
          50,
          15,
          20,
          11,
          30,
          24,
          12,
          14,
          35,
          18,
          28,
          22,
          11,
          38,
          24,
          30,
          25,
          10,
          30,
          22,
          18,
          14,
          38,
          20,
          18,
          31,
          10,
          28,
          19,
          20,
          35,
          17,
          21,
          22,
          18,
          25,
          15,
          33,
          18,
          20,
          30,
          26,
          12,
          35,
          20,
          28,
          20,
          30,
          10,
          12,
          22,
          25,
          27,
          38,
          18,
          14,
          20,
          12,
          18,
          25,
          22,
          20,
          26,
          28,
          12,
          33,
          20,
          10,
          25,
          22,
          28,
          30,
          18,
          10,
          25,
          18,
          22,
          25,
          22,
          15,
          45,
          12,
          30,
          20,
          25,
          10,
          40,
          25,
          18,
          15,
          45,
          29,
          12,
          28,
          24,
          12,
          30,
          20,
          23,
          15,
          50,
          15,
          20,
          11,
          30,
          24,
          12,
          14,
          35,
          18,
          28,
          22,
          11,
          38,
          24,
          30,
          25,
          10,
          30,
          22,
          18,
          14,
          38,
          20,
          18,
          31,
          10,
          28,
          19,
          20,
          35,
          17,
          21,
          22,
          18,
          25,
          15,
          33,
          18,
          20,
          30,
          26,
          12,
          35,
          20,
          28,
          20,
          30,
          10,
          12,
          22,
          25,
          27,
          38,
          18,
          14,
          20,
          12,
          18,
          25,
          22,
          20,
          26,
          28,
          12,
          33,
          20,
          10,
          25,
          22,
          28,
          30,
          18,
          10,
          25,
          18,
          22,
          25,
          22,
          15,
          45,
          12,
          30,
          20,
          25,
          10,
          40,
          25,
          18,
          15,
          45,
          29,
          12,
          28,
          24,
          12,
          30,
          20,
          23,
          15,
          50,
          15,
          20,
          11,
          30,
          24,
          12,
          14,
          35,
          18,
          28,
          22,
          11,
          38,
          24,
          30,
          25,
          10,
          30,
          22,
          18,
          14,
          38,
          20,
          18,
          31,
          10,
          28,
          19,
          20,
          35,
          17,
          21,
          22,
          18,
          25,
          15,
          33,
          18,
          20,
          30,
          26,
          12,
          35,
          20,
          28,
          20,
          30,
          10,
          12,
          22,
          25,
          27,
          38,
          18,
          14,
          20,
          12,
          18,
          25,
          22,
          20,
          26,
          28,
          12,
          33,
          20,
          10,
          25,
          22,
          28,
          30,
          18,
          10,
          25,
          18,
          22
         ],
         "xaxis": "x",
         "yaxis": "y"
        }
       ],
       "layout": {
        "barmode": "relative",
        "legend": {
         "tracegroupgap": 0
        },
        "template": {
         "data": {
          "bar": [
           {
            "error_x": {
             "color": "#2a3f5f"
            },
            "error_y": {
             "color": "#2a3f5f"
            },
            "marker": {
             "line": {
              "color": "#E5ECF6",
              "width": 0.5
             },
             "pattern": {
              "fillmode": "overlay",
              "size": 10,
              "solidity": 0.2
             }
            },
            "type": "bar"
           }
          ],
          "barpolar": [
           {
            "marker": {
             "line": {
              "color": "#E5ECF6",
              "width": 0.5
             },
             "pattern": {
              "fillmode": "overlay",
              "size": 10,
              "solidity": 0.2
             }
            },
            "type": "barpolar"
           }
          ],
          "carpet": [
           {
            "aaxis": {
             "endlinecolor": "#2a3f5f",
             "gridcolor": "white",
             "linecolor": "white",
             "minorgridcolor": "white",
             "startlinecolor": "#2a3f5f"
            },
            "baxis": {
             "endlinecolor": "#2a3f5f",
             "gridcolor": "white",
             "linecolor": "white",
             "minorgridcolor": "white",
             "startlinecolor": "#2a3f5f"
            },
            "type": "carpet"
           }
          ],
          "choropleth": [
           {
            "colorbar": {
             "outlinewidth": 0,
             "ticks": ""
            },
            "type": "choropleth"
           }
          ],
          "contour": [
           {
            "colorbar": {
             "outlinewidth": 0,
             "ticks": ""
            },
            "colorscale": [
             [
              0,
              "#0d0887"
             ],
             [
              0.1111111111111111,
              "#46039f"
             ],
             [
              0.2222222222222222,
              "#7201a8"
             ],
             [
              0.3333333333333333,
              "#9c179e"
             ],
             [
              0.4444444444444444,
              "#bd3786"
             ],
             [
              0.5555555555555556,
              "#d8576b"
             ],
             [
              0.6666666666666666,
              "#ed7953"
             ],
             [
              0.7777777777777778,
              "#fb9f3a"
             ],
             [
              0.8888888888888888,
              "#fdca26"
             ],
             [
              1,
              "#f0f921"
             ]
            ],
            "type": "contour"
           }
          ],
          "contourcarpet": [
           {
            "colorbar": {
             "outlinewidth": 0,
             "ticks": ""
            },
            "type": "contourcarpet"
           }
          ],
          "heatmap": [
           {
            "colorbar": {
             "outlinewidth": 0,
             "ticks": ""
            },
            "colorscale": [
             [
              0,
              "#0d0887"
             ],
             [
              0.1111111111111111,
              "#46039f"
             ],
             [
              0.2222222222222222,
              "#7201a8"
             ],
             [
              0.3333333333333333,
              "#9c179e"
             ],
             [
              0.4444444444444444,
              "#bd3786"
             ],
             [
              0.5555555555555556,
              "#d8576b"
             ],
             [
              0.6666666666666666,
              "#ed7953"
             ],
             [
              0.7777777777777778,
              "#fb9f3a"
             ],
             [
              0.8888888888888888,
              "#fdca26"
             ],
             [
              1,
              "#f0f921"
             ]
            ],
            "type": "heatmap"
           }
          ],
          "heatmapgl": [
           {
            "colorbar": {
             "outlinewidth": 0,
             "ticks": ""
            },
            "colorscale": [
             [
              0,
              "#0d0887"
             ],
             [
              0.1111111111111111,
              "#46039f"
             ],
             [
              0.2222222222222222,
              "#7201a8"
             ],
             [
              0.3333333333333333,
              "#9c179e"
             ],
             [
              0.4444444444444444,
              "#bd3786"
             ],
             [
              0.5555555555555556,
              "#d8576b"
             ],
             [
              0.6666666666666666,
              "#ed7953"
             ],
             [
              0.7777777777777778,
              "#fb9f3a"
             ],
             [
              0.8888888888888888,
              "#fdca26"
             ],
             [
              1,
              "#f0f921"
             ]
            ],
            "type": "heatmapgl"
           }
          ],
          "histogram": [
           {
            "marker": {
             "pattern": {
              "fillmode": "overlay",
              "size": 10,
              "solidity": 0.2
             }
            },
            "type": "histogram"
           }
          ],
          "histogram2d": [
           {
            "colorbar": {
             "outlinewidth": 0,
             "ticks": ""
            },
            "colorscale": [
             [
              0,
              "#0d0887"
             ],
             [
              0.1111111111111111,
              "#46039f"
             ],
             [
              0.2222222222222222,
              "#7201a8"
             ],
             [
              0.3333333333333333,
              "#9c179e"
             ],
             [
              0.4444444444444444,
              "#bd3786"
             ],
             [
              0.5555555555555556,
              "#d8576b"
             ],
             [
              0.6666666666666666,
              "#ed7953"
             ],
             [
              0.7777777777777778,
              "#fb9f3a"
             ],
             [
              0.8888888888888888,
              "#fdca26"
             ],
             [
              1,
              "#f0f921"
             ]
            ],
            "type": "histogram2d"
           }
          ],
          "histogram2dcontour": [
           {
            "colorbar": {
             "outlinewidth": 0,
             "ticks": ""
            },
            "colorscale": [
             [
              0,
              "#0d0887"
             ],
             [
              0.1111111111111111,
              "#46039f"
             ],
             [
              0.2222222222222222,
              "#7201a8"
             ],
             [
              0.3333333333333333,
              "#9c179e"
             ],
             [
              0.4444444444444444,
              "#bd3786"
             ],
             [
              0.5555555555555556,
              "#d8576b"
             ],
             [
              0.6666666666666666,
              "#ed7953"
             ],
             [
              0.7777777777777778,
              "#fb9f3a"
             ],
             [
              0.8888888888888888,
              "#fdca26"
             ],
             [
              1,
              "#f0f921"
             ]
            ],
            "type": "histogram2dcontour"
           }
          ],
          "mesh3d": [
           {
            "colorbar": {
             "outlinewidth": 0,
             "ticks": ""
            },
            "type": "mesh3d"
           }
          ],
          "parcoords": [
           {
            "line": {
             "colorbar": {
              "outlinewidth": 0,
              "ticks": ""
             }
            },
            "type": "parcoords"
           }
          ],
          "pie": [
           {
            "automargin": true,
            "type": "pie"
           }
          ],
          "scatter": [
           {
            "fillpattern": {
             "fillmode": "overlay",
             "size": 10,
             "solidity": 0.2
            },
            "type": "scatter"
           }
          ],
          "scatter3d": [
           {
            "line": {
             "colorbar": {
              "outlinewidth": 0,
              "ticks": ""
             }
            },
            "marker": {
             "colorbar": {
              "outlinewidth": 0,
              "ticks": ""
             }
            },
            "type": "scatter3d"
           }
          ],
          "scattercarpet": [
           {
            "marker": {
             "colorbar": {
              "outlinewidth": 0,
              "ticks": ""
             }
            },
            "type": "scattercarpet"
           }
          ],
          "scattergeo": [
           {
            "marker": {
             "colorbar": {
              "outlinewidth": 0,
              "ticks": ""
             }
            },
            "type": "scattergeo"
           }
          ],
          "scattergl": [
           {
            "marker": {
             "colorbar": {
              "outlinewidth": 0,
              "ticks": ""
             }
            },
            "type": "scattergl"
           }
          ],
          "scattermapbox": [
           {
            "marker": {
             "colorbar": {
              "outlinewidth": 0,
              "ticks": ""
             }
            },
            "type": "scattermapbox"
           }
          ],
          "scatterpolar": [
           {
            "marker": {
             "colorbar": {
              "outlinewidth": 0,
              "ticks": ""
             }
            },
            "type": "scatterpolar"
           }
          ],
          "scatterpolargl": [
           {
            "marker": {
             "colorbar": {
              "outlinewidth": 0,
              "ticks": ""
             }
            },
            "type": "scatterpolargl"
           }
          ],
          "scatterternary": [
           {
            "marker": {
             "colorbar": {
              "outlinewidth": 0,
              "ticks": ""
             }
            },
            "type": "scatterternary"
           }
          ],
          "surface": [
           {
            "colorbar": {
             "outlinewidth": 0,
             "ticks": ""
            },
            "colorscale": [
             [
              0,
              "#0d0887"
             ],
             [
              0.1111111111111111,
              "#46039f"
             ],
             [
              0.2222222222222222,
              "#7201a8"
             ],
             [
              0.3333333333333333,
              "#9c179e"
             ],
             [
              0.4444444444444444,
              "#bd3786"
             ],
             [
              0.5555555555555556,
              "#d8576b"
             ],
             [
              0.6666666666666666,
              "#ed7953"
             ],
             [
              0.7777777777777778,
              "#fb9f3a"
             ],
             [
              0.8888888888888888,
              "#fdca26"
             ],
             [
              1,
              "#f0f921"
             ]
            ],
            "type": "surface"
           }
          ],
          "table": [
           {
            "cells": {
             "fill": {
              "color": "#EBF0F8"
             },
             "line": {
              "color": "white"
             }
            },
            "header": {
             "fill": {
              "color": "#C8D4E3"
             },
             "line": {
              "color": "white"
             }
            },
            "type": "table"
           }
          ]
         },
         "layout": {
          "annotationdefaults": {
           "arrowcolor": "#2a3f5f",
           "arrowhead": 0,
           "arrowwidth": 1
          },
          "autotypenumbers": "strict",
          "coloraxis": {
           "colorbar": {
            "outlinewidth": 0,
            "ticks": ""
           }
          },
          "colorscale": {
           "diverging": [
            [
             0,
             "#8e0152"
            ],
            [
             0.1,
             "#c51b7d"
            ],
            [
             0.2,
             "#de77ae"
            ],
            [
             0.3,
             "#f1b6da"
            ],
            [
             0.4,
             "#fde0ef"
            ],
            [
             0.5,
             "#f7f7f7"
            ],
            [
             0.6,
             "#e6f5d0"
            ],
            [
             0.7,
             "#b8e186"
            ],
            [
             0.8,
             "#7fbc41"
            ],
            [
             0.9,
             "#4d9221"
            ],
            [
             1,
             "#276419"
            ]
           ],
           "sequential": [
            [
             0,
             "#0d0887"
            ],
            [
             0.1111111111111111,
             "#46039f"
            ],
            [
             0.2222222222222222,
             "#7201a8"
            ],
            [
             0.3333333333333333,
             "#9c179e"
            ],
            [
             0.4444444444444444,
             "#bd3786"
            ],
            [
             0.5555555555555556,
             "#d8576b"
            ],
            [
             0.6666666666666666,
             "#ed7953"
            ],
            [
             0.7777777777777778,
             "#fb9f3a"
            ],
            [
             0.8888888888888888,
             "#fdca26"
            ],
            [
             1,
             "#f0f921"
            ]
           ],
           "sequentialminus": [
            [
             0,
             "#0d0887"
            ],
            [
             0.1111111111111111,
             "#46039f"
            ],
            [
             0.2222222222222222,
             "#7201a8"
            ],
            [
             0.3333333333333333,
             "#9c179e"
            ],
            [
             0.4444444444444444,
             "#bd3786"
            ],
            [
             0.5555555555555556,
             "#d8576b"
            ],
            [
             0.6666666666666666,
             "#ed7953"
            ],
            [
             0.7777777777777778,
             "#fb9f3a"
            ],
            [
             0.8888888888888888,
             "#fdca26"
            ],
            [
             1,
             "#f0f921"
            ]
           ]
          },
          "colorway": [
           "#636efa",
           "#EF553B",
           "#00cc96",
           "#ab63fa",
           "#FFA15A",
           "#19d3f3",
           "#FF6692",
           "#B6E880",
           "#FF97FF",
           "#FECB52"
          ],
          "font": {
           "color": "#2a3f5f"
          },
          "geo": {
           "bgcolor": "white",
           "lakecolor": "white",
           "landcolor": "#E5ECF6",
           "showlakes": true,
           "showland": true,
           "subunitcolor": "white"
          },
          "hoverlabel": {
           "align": "left"
          },
          "hovermode": "closest",
          "mapbox": {
           "style": "light"
          },
          "paper_bgcolor": "white",
          "plot_bgcolor": "#E5ECF6",
          "polar": {
           "angularaxis": {
            "gridcolor": "white",
            "linecolor": "white",
            "ticks": ""
           },
           "bgcolor": "#E5ECF6",
           "radialaxis": {
            "gridcolor": "white",
            "linecolor": "white",
            "ticks": ""
           }
          },
          "scene": {
           "xaxis": {
            "backgroundcolor": "#E5ECF6",
            "gridcolor": "white",
            "gridwidth": 2,
            "linecolor": "white",
            "showbackground": true,
            "ticks": "",
            "zerolinecolor": "white"
           },
           "yaxis": {
            "backgroundcolor": "#E5ECF6",
            "gridcolor": "white",
            "gridwidth": 2,
            "linecolor": "white",
            "showbackground": true,
            "ticks": "",
            "zerolinecolor": "white"
           },
           "zaxis": {
            "backgroundcolor": "#E5ECF6",
            "gridcolor": "white",
            "gridwidth": 2,
            "linecolor": "white",
            "showbackground": true,
            "ticks": "",
            "zerolinecolor": "white"
           }
          },
          "shapedefaults": {
           "line": {
            "color": "#2a3f5f"
           }
          },
          "ternary": {
           "aaxis": {
            "gridcolor": "white",
            "linecolor": "white",
            "ticks": ""
           },
           "baxis": {
            "gridcolor": "white",
            "linecolor": "white",
            "ticks": ""
           },
           "bgcolor": "#E5ECF6",
           "caxis": {
            "gridcolor": "white",
            "linecolor": "white",
            "ticks": ""
           }
          },
          "title": {
           "x": 0.05
          },
          "xaxis": {
           "automargin": true,
           "gridcolor": "white",
           "linecolor": "white",
           "ticks": "",
           "title": {
            "standoff": 15
           },
           "zerolinecolor": "white",
           "zerolinewidth": 2
          },
          "yaxis": {
           "automargin": true,
           "gridcolor": "white",
           "linecolor": "white",
           "ticks": "",
           "title": {
            "standoff": 15
           },
           "zerolinecolor": "white",
           "zerolinewidth": 2
          }
         }
        },
        "title": {
         "text": "Messages Sent per Day Distribution"
        },
        "xaxis": {
         "anchor": "y",
         "domain": [
          0,
          1
         ],
         "title": {
          "text": "Messages_Sent_Per_Day"
         }
        },
        "yaxis": {
         "anchor": "x",
         "domain": [
          0,
          1
         ],
         "title": {
          "text": "count"
         }
        }
       }
      }
     },
     "metadata": {},
     "output_type": "display_data"
    }
   ],
   "source": [
    "plt = px.histogram(train_df, x='Messages_Sent_Per_Day', title = 'Messages Sent per Day Distribution')\n",
    "plt.show()"
   ]
  },
  {
   "cell_type": "code",
   "execution_count": 48,
   "metadata": {},
   "outputs": [
    {
     "data": {
      "application/vnd.plotly.v1+json": {
       "config": {
        "plotlyServerURL": "https://plot.ly"
       },
       "data": [
        {
         "domain": {
          "x": [
           0,
           1
          ],
          "y": [
           0,
           1
          ]
         },
         "hovertemplate": "Dominant_Emotion=%{label}<extra></extra>",
         "labels": [
          "Happiness",
          "Anger",
          "Neutral",
          "Anxiety",
          "Boredom",
          "Happiness",
          "Anger",
          "Sadness",
          "Neutral",
          "Happiness",
          "Anxiety",
          "Sadness",
          "Boredom",
          "Happiness",
          "Anger",
          "Neutral",
          "Anxiety",
          "Sadness",
          "Neutral",
          "Happiness",
          "Anxiety",
          "Anger",
          "Boredom",
          "Happiness",
          "Sadness",
          "Neutral",
          "Anxiety",
          "Happiness",
          "Anger",
          "Sadness",
          "Boredom",
          "Happiness",
          "Neutral",
          "Sadness",
          "Anxiety",
          "Boredom",
          "Happiness",
          "Anger",
          "Neutral",
          "Anxiety",
          "Sadness",
          "Happiness",
          "Anger",
          "Neutral",
          "Boredom",
          "Happiness",
          "Sadness",
          "Anxiety",
          "Neutral",
          "Boredom",
          "Happiness",
          "Anger",
          "Neutral",
          "Sadness",
          "Anxiety",
          "Anxiety",
          "Boredom",
          "Sadness",
          "Happiness",
          "Boredom",
          "Happiness",
          "Anger",
          "Neutral",
          "Anxiety",
          "Sadness",
          "Boredom",
          "Happiness",
          "Neutral",
          "Anxiety",
          "Sadness",
          "Happiness",
          "Boredom",
          "Neutral",
          "Anger",
          "Neutral",
          "Anxiety",
          "Happiness",
          "Sadness",
          "Anxiety",
          "Neutral",
          "Sadness",
          "Happiness",
          "Anger",
          "Neutral",
          "Boredom",
          "Anxiety",
          "Sadness",
          "Neutral",
          "Happiness",
          "Anxiety",
          "Boredom",
          "Anger",
          "Neutral",
          "Sadness",
          "Anxiety",
          "Boredom",
          "Neutral",
          "Happiness",
          "Anger",
          "Neutral",
          "Happiness",
          "Anger",
          "Neutral",
          "Anxiety",
          "Boredom",
          "Happiness",
          "Anger",
          "Sadness",
          "Neutral",
          "Happiness",
          "Anxiety",
          "Sadness",
          "Boredom",
          "Happiness",
          "Anger",
          "Neutral",
          "Anxiety",
          "Sadness",
          "Neutral",
          "Happiness",
          "Anxiety",
          "Anger",
          "Boredom",
          "Happiness",
          "Sadness",
          "Neutral",
          "Anxiety",
          "Happiness",
          "Anger",
          "Sadness",
          "Boredom",
          "Happiness",
          "Neutral",
          "Sadness",
          "Anxiety",
          "Boredom",
          "Happiness",
          "Anger",
          "Neutral",
          "Anxiety",
          "Sadness",
          "Happiness",
          "Anger",
          "Neutral",
          "Boredom",
          "Happiness",
          "Sadness",
          "Anxiety",
          "Neutral",
          "Boredom",
          "Happiness",
          "Anger",
          "Neutral",
          "Sadness",
          "Anxiety",
          "Anxiety",
          "Boredom",
          "Sadness",
          "Happiness",
          "Boredom",
          "Happiness",
          "Anger",
          "Neutral",
          "Anxiety",
          "Sadness",
          "Boredom",
          "Happiness",
          "Neutral",
          "Anxiety",
          "Sadness",
          "Happiness",
          "Boredom",
          "Neutral",
          "Anger",
          "Neutral",
          "Anxiety",
          "Happiness",
          "Sadness",
          "Anxiety",
          "Neutral",
          "Sadness",
          "Happiness",
          "Anger",
          "Neutral",
          "Boredom",
          "Anxiety",
          "Sadness",
          "Neutral",
          "Happiness",
          "Anxiety",
          "Boredom",
          "Anger",
          "Neutral",
          "Sadness",
          "Anxiety",
          "Boredom",
          "Neutral",
          "Happiness",
          "Anger",
          "Neutral",
          "Happiness",
          "Anger",
          "Neutral",
          "Anxiety",
          "Boredom",
          "Happiness",
          "Anger",
          "Sadness",
          "Neutral",
          "Happiness",
          "Anxiety",
          "Sadness",
          "Boredom",
          "Happiness",
          "Anger",
          "Neutral",
          "Anxiety",
          "Sadness",
          "Neutral",
          "Happiness",
          "Anxiety",
          "Anger",
          "Boredom",
          "Happiness",
          "Sadness",
          "Neutral",
          "Anxiety",
          "Happiness",
          "Anger",
          "Sadness",
          "Boredom",
          "Happiness",
          "Neutral",
          "Sadness",
          "Anxiety",
          "Boredom",
          "Happiness",
          "Anger",
          "Neutral",
          "Anxiety",
          "Sadness",
          "Happiness",
          "Anger",
          "Neutral",
          "Boredom",
          "Happiness",
          "Sadness",
          "Anxiety",
          "Neutral",
          "Boredom",
          "Happiness",
          "Anger",
          "Neutral",
          "Sadness",
          "Anxiety",
          "Anxiety",
          "Boredom",
          "Sadness",
          "Happiness",
          "Boredom",
          "Happiness",
          "Anger",
          "Neutral",
          "Anxiety",
          "Sadness",
          "Boredom",
          "Happiness",
          "Neutral",
          "Anxiety",
          "Sadness",
          "Happiness",
          "Boredom",
          "Neutral",
          "Anger",
          "Neutral",
          "Anxiety",
          "Happiness",
          "Sadness",
          "Anxiety",
          "Neutral",
          "Sadness",
          "Happiness",
          "Anger",
          "Neutral",
          "Boredom",
          "Anxiety",
          "Sadness",
          "Neutral",
          "Happiness",
          "Anxiety",
          "Boredom",
          "Anger",
          "Neutral",
          "Sadness",
          "Anxiety",
          "Boredom",
          "Neutral",
          "Happiness",
          "Anger",
          "Neutral",
          "Happiness",
          "Anger",
          "Neutral",
          "Anxiety",
          "Boredom",
          "Happiness",
          "Anger",
          "Sadness",
          "Neutral",
          "Happiness",
          "Anxiety",
          "Sadness",
          "Boredom",
          "Happiness",
          "Anger",
          "Neutral",
          "Anxiety",
          "Sadness",
          "Neutral",
          "Happiness",
          "Anxiety",
          "Anger",
          "Boredom",
          "Happiness",
          "Sadness",
          "Neutral",
          "Anxiety",
          "Happiness",
          "Anger",
          "Sadness",
          "Boredom",
          "Happiness",
          "Neutral",
          "Sadness",
          "Anxiety",
          "Boredom",
          "Happiness",
          "Anger",
          "Neutral",
          "Anxiety",
          "Sadness",
          "Happiness",
          "Anger",
          "Neutral",
          "Boredom",
          "Happiness",
          "Sadness",
          "Anxiety",
          "Neutral",
          "Boredom",
          "Happiness",
          "Anger",
          "Neutral",
          "Sadness",
          "Anxiety",
          "Anxiety",
          "Boredom",
          "Sadness",
          "Happiness",
          "Boredom",
          "Happiness",
          "Anger",
          "Neutral",
          "Anxiety",
          "Sadness",
          "Boredom",
          "Happiness",
          "Neutral",
          "Anxiety",
          "Sadness",
          "Happiness",
          "Boredom",
          "Neutral",
          "Anger",
          "Neutral",
          "Anxiety",
          "Happiness",
          "Sadness",
          "Anxiety",
          "Neutral",
          "Sadness",
          "Happiness",
          "Anger",
          "Neutral",
          "Boredom",
          "Anxiety",
          "Sadness",
          "Neutral",
          "Happiness",
          "Anxiety",
          "Boredom",
          "Anger",
          "Neutral",
          "Sadness",
          "Anxiety",
          "Boredom",
          "Neutral",
          "Happiness",
          "Anger",
          "Neutral",
          "Happiness",
          "Anger",
          "Neutral",
          "Anxiety",
          "Boredom",
          "Happiness",
          "Anger",
          "Sadness",
          "Neutral",
          "Happiness",
          "Anxiety",
          "Sadness",
          "Boredom",
          "Happiness",
          "Anger",
          "Neutral",
          "Anxiety",
          "Sadness",
          "Neutral",
          "Happiness",
          "Anxiety",
          "Anger",
          "Boredom",
          "Happiness",
          "Sadness",
          "Neutral",
          "Anxiety",
          "Happiness",
          "Anger",
          "Sadness",
          "Boredom",
          "Happiness",
          "Neutral",
          "Sadness",
          "Anxiety",
          "Boredom",
          "Happiness",
          "Anger",
          "Neutral",
          "Anxiety",
          "Sadness",
          "Happiness",
          "Anger",
          "Neutral",
          "Boredom",
          "Happiness",
          "Sadness",
          "Anxiety",
          "Neutral",
          "Boredom",
          "Happiness",
          "Anger",
          "Neutral",
          "Sadness",
          "Anxiety",
          "Anxiety",
          "Boredom",
          "Sadness",
          "Happiness",
          "Boredom",
          "Happiness",
          "Anger",
          "Neutral",
          "Anxiety",
          "Sadness",
          "Boredom",
          "Happiness",
          "Neutral",
          "Anxiety",
          "Sadness",
          "Happiness",
          "Boredom",
          "Neutral",
          "Anger",
          "Neutral",
          "Anxiety",
          "Happiness",
          "Sadness",
          "Anxiety",
          "Neutral",
          "Sadness",
          "Happiness",
          "Anger",
          "Neutral",
          "Boredom",
          "Anxiety",
          "Sadness",
          "Neutral",
          "Happiness",
          "Anxiety",
          "Boredom",
          "Anger",
          "Neutral",
          "Sadness",
          "Anxiety",
          "Boredom",
          "Neutral",
          "Happiness",
          "Anger",
          "Neutral",
          "Happiness",
          "Anger",
          "Neutral",
          "Anxiety",
          "Boredom",
          "Happiness",
          "Anger",
          "Sadness",
          "Neutral",
          "Happiness",
          "Anxiety",
          "Sadness",
          "Boredom",
          "Happiness",
          "Anger",
          "Neutral",
          "Anxiety",
          "Sadness",
          "Neutral",
          "Happiness",
          "Anxiety",
          "Anger",
          "Boredom",
          "Happiness",
          "Sadness",
          "Neutral",
          "Anxiety",
          "Happiness",
          "Anger",
          "Sadness",
          "Boredom",
          "Happiness",
          "Neutral",
          "Sadness",
          "Anxiety",
          "Boredom",
          "Happiness",
          "Anger",
          "Neutral",
          "Anxiety",
          "Sadness",
          "Happiness",
          "Anger",
          "Neutral",
          "Boredom",
          "Happiness",
          "Sadness",
          "Anxiety",
          "Neutral",
          "Boredom",
          "Happiness",
          "Anger",
          "Neutral",
          "Sadness",
          "Anxiety",
          "Anxiety",
          "Boredom",
          "Sadness",
          "Happiness",
          "Boredom",
          "Happiness",
          "Anger",
          "Neutral",
          "Anxiety",
          "Sadness",
          "Boredom",
          "Happiness",
          "Neutral",
          "Anxiety",
          "Sadness",
          "Happiness",
          "Boredom",
          "Neutral",
          "Anger",
          "Neutral",
          "Anxiety",
          "Happiness",
          "Sadness",
          "Anxiety",
          "Neutral",
          "Sadness",
          "Happiness",
          "Anger",
          "Neutral",
          "Boredom",
          "Anxiety",
          "Sadness",
          "Neutral",
          "Happiness",
          "Anxiety",
          "Boredom",
          "Anger",
          "Neutral",
          "Sadness",
          "Anxiety",
          "Boredom",
          "Neutral",
          "Happiness",
          "Anger",
          "Neutral",
          "Happiness",
          "Anger",
          "Neutral",
          "Anxiety",
          "Boredom",
          "Happiness",
          "Anger",
          "Sadness",
          "Neutral",
          "Happiness",
          "Anxiety",
          "Sadness",
          "Boredom",
          "Happiness",
          "Anger",
          "Neutral",
          "Anxiety",
          "Sadness",
          "Neutral",
          "Happiness",
          "Anxiety",
          "Anger",
          "Boredom",
          "Happiness",
          "Sadness",
          "Neutral",
          "Anxiety",
          "Happiness",
          "Anger",
          "Sadness",
          "Boredom",
          "Happiness",
          "Neutral",
          "Sadness",
          "Anxiety",
          "Boredom",
          "Happiness",
          "Anger",
          "Neutral",
          "Anxiety",
          "Sadness",
          "Happiness",
          "Anger",
          "Neutral",
          "Boredom",
          "Happiness",
          "Sadness",
          "Anxiety",
          "Neutral",
          "Boredom",
          "Happiness",
          "Anger",
          "Neutral",
          "Sadness",
          "Anxiety",
          "Anxiety",
          "Boredom",
          "Sadness",
          "Happiness",
          "Boredom",
          "Happiness",
          "Anger",
          "Neutral",
          "Anxiety",
          "Sadness",
          "Boredom",
          "Happiness",
          "Neutral",
          "Anxiety",
          "Sadness",
          "Happiness",
          "Boredom",
          "Neutral",
          "Anger",
          "Neutral",
          "Anxiety",
          "Happiness",
          "Sadness",
          "Anxiety",
          "Neutral",
          "Sadness",
          "Happiness",
          "Anger",
          "Neutral",
          "Boredom",
          "Anxiety",
          "Sadness",
          "Neutral",
          "Happiness",
          "Anxiety",
          "Boredom",
          "Anger",
          "Neutral",
          "Sadness",
          "Anxiety",
          "Boredom",
          "Neutral",
          "Happiness",
          "Anger",
          "Neutral",
          "Happiness",
          "Anger",
          "Neutral",
          "Anxiety",
          "Boredom",
          "Happiness",
          "Anger",
          "Sadness",
          "Neutral",
          "Happiness",
          "Anxiety",
          "Sadness",
          "Boredom",
          "Happiness",
          "Anger",
          "Neutral",
          "Anxiety",
          "Sadness",
          "Neutral",
          "Happiness",
          "Anxiety",
          "Anger",
          "Boredom",
          "Happiness",
          "Sadness",
          "Neutral",
          "Anxiety",
          "Happiness",
          "Anger",
          "Sadness",
          "Boredom",
          "Happiness",
          "Neutral",
          "Sadness",
          "Anxiety",
          "Boredom",
          "Happiness",
          "Anger",
          "Neutral",
          "Anxiety",
          "Sadness",
          "Happiness",
          "Anger",
          "Neutral",
          "Boredom",
          "Happiness",
          "Sadness",
          "Anxiety",
          "Neutral",
          "Boredom",
          "Happiness",
          "Anger",
          "Neutral",
          "Sadness",
          "Anxiety",
          "Anxiety",
          "Boredom",
          "Sadness",
          "Happiness",
          "Boredom",
          "Happiness",
          "Anger",
          "Neutral",
          "Anxiety",
          "Sadness",
          "Boredom",
          "Happiness",
          "Neutral",
          "Anxiety",
          "Sadness",
          "Happiness",
          "Boredom",
          "Neutral",
          "Anger",
          "Neutral",
          "Anxiety",
          "Happiness",
          "Sadness",
          "Anxiety",
          "Neutral",
          "Sadness",
          "Happiness",
          "Anger",
          "Neutral",
          "Boredom",
          "Anxiety",
          "Sadness",
          "Neutral",
          "Happiness",
          "Anxiety",
          "Boredom",
          "Anger",
          "Neutral",
          "Sadness",
          "Anxiety",
          "Boredom",
          "Neutral",
          "Happiness",
          "Anger",
          "Neutral",
          "Happiness",
          "Anger",
          "Neutral",
          "Anxiety",
          "Boredom",
          "Happiness",
          "Anger",
          "Sadness",
          "Neutral",
          "Happiness",
          "Anxiety",
          "Sadness",
          "Boredom",
          "Happiness",
          "Anger",
          "Neutral",
          "Anxiety",
          "Sadness",
          "Neutral",
          "Happiness",
          "Anxiety",
          "Anger",
          "Boredom",
          "Happiness",
          "Sadness",
          "Neutral",
          "Anxiety",
          "Happiness",
          "Anger",
          "Sadness",
          "Boredom",
          "Happiness",
          "Neutral",
          "Sadness",
          "Anxiety",
          "Boredom",
          "Happiness",
          "Anger",
          "Neutral",
          "Anxiety",
          "Sadness",
          "Happiness",
          "Anger",
          "Neutral",
          "Boredom",
          "Happiness",
          "Sadness",
          "Anxiety",
          "Neutral",
          "Boredom",
          "Happiness",
          "Anger",
          "Neutral",
          "Sadness",
          "Anxiety",
          "Anxiety",
          "Boredom",
          "Sadness",
          "Happiness",
          "Boredom",
          "Happiness",
          "Anger",
          "Neutral",
          "Anxiety",
          "Sadness",
          "Boredom",
          "Happiness",
          "Neutral",
          "Anxiety",
          "Sadness",
          "Happiness",
          "Boredom",
          "Neutral",
          "Anger",
          "Neutral",
          "Anxiety",
          "Happiness",
          "Sadness",
          "Anxiety",
          "Neutral",
          "Sadness",
          "Happiness",
          "Anger",
          "Neutral",
          "Boredom",
          "Anxiety",
          "Sadness",
          "Neutral",
          "Happiness",
          "Anxiety",
          "Boredom",
          "Anger",
          "Neutral",
          "Sadness",
          "Anxiety",
          "Boredom",
          "Neutral",
          "Happiness",
          "Anger",
          "Neutral",
          "Happiness",
          "Anger",
          "Neutral",
          "Anxiety",
          "Boredom",
          "Happiness",
          "Anger",
          "Sadness",
          "Neutral",
          "Happiness",
          "Anxiety",
          "Sadness",
          "Boredom",
          "Happiness",
          "Anger",
          "Neutral",
          "Anxiety",
          "Sadness",
          "Neutral",
          "Happiness",
          "Anxiety",
          "Anger",
          "Boredom",
          "Happiness",
          "Sadness",
          "Neutral",
          "Anxiety",
          "Happiness",
          "Anger",
          "Sadness",
          "Boredom",
          "Happiness",
          "Neutral",
          "Sadness",
          "Anxiety",
          "Boredom",
          "Happiness",
          "Anger",
          "Neutral",
          "Anxiety",
          "Sadness",
          "Happiness",
          "Anger",
          "Neutral",
          "Boredom",
          "Happiness",
          "Sadness",
          "Anxiety",
          "Neutral",
          "Boredom",
          "Happiness",
          "Anger",
          "Neutral",
          "Sadness",
          "Anxiety",
          "Anxiety",
          "Boredom",
          "Sadness",
          "Happiness",
          "Boredom",
          "Happiness",
          "Anger",
          "Neutral",
          "Anxiety",
          "Sadness",
          "Boredom",
          "Happiness",
          "Neutral",
          "Anxiety",
          "Sadness",
          "Happiness",
          "Boredom",
          "Neutral",
          "Anger",
          "Neutral",
          "Anxiety",
          "Happiness",
          "Sadness",
          "Anxiety",
          "Neutral",
          "Sadness",
          "Happiness",
          "Anger",
          "Neutral",
          "Boredom",
          "Anxiety",
          "Sadness",
          "Neutral",
          "Happiness",
          "Anxiety",
          "Boredom",
          "Anger",
          "Neutral",
          "Sadness",
          "Anxiety",
          "Boredom",
          "Neutral",
          "Happiness",
          "Anger",
          "Neutral"
         ],
         "legendgroup": "",
         "name": "",
         "showlegend": true,
         "type": "pie"
        }
       ],
       "layout": {
        "legend": {
         "tracegroupgap": 0
        },
        "template": {
         "data": {
          "bar": [
           {
            "error_x": {
             "color": "#2a3f5f"
            },
            "error_y": {
             "color": "#2a3f5f"
            },
            "marker": {
             "line": {
              "color": "#E5ECF6",
              "width": 0.5
             },
             "pattern": {
              "fillmode": "overlay",
              "size": 10,
              "solidity": 0.2
             }
            },
            "type": "bar"
           }
          ],
          "barpolar": [
           {
            "marker": {
             "line": {
              "color": "#E5ECF6",
              "width": 0.5
             },
             "pattern": {
              "fillmode": "overlay",
              "size": 10,
              "solidity": 0.2
             }
            },
            "type": "barpolar"
           }
          ],
          "carpet": [
           {
            "aaxis": {
             "endlinecolor": "#2a3f5f",
             "gridcolor": "white",
             "linecolor": "white",
             "minorgridcolor": "white",
             "startlinecolor": "#2a3f5f"
            },
            "baxis": {
             "endlinecolor": "#2a3f5f",
             "gridcolor": "white",
             "linecolor": "white",
             "minorgridcolor": "white",
             "startlinecolor": "#2a3f5f"
            },
            "type": "carpet"
           }
          ],
          "choropleth": [
           {
            "colorbar": {
             "outlinewidth": 0,
             "ticks": ""
            },
            "type": "choropleth"
           }
          ],
          "contour": [
           {
            "colorbar": {
             "outlinewidth": 0,
             "ticks": ""
            },
            "colorscale": [
             [
              0,
              "#0d0887"
             ],
             [
              0.1111111111111111,
              "#46039f"
             ],
             [
              0.2222222222222222,
              "#7201a8"
             ],
             [
              0.3333333333333333,
              "#9c179e"
             ],
             [
              0.4444444444444444,
              "#bd3786"
             ],
             [
              0.5555555555555556,
              "#d8576b"
             ],
             [
              0.6666666666666666,
              "#ed7953"
             ],
             [
              0.7777777777777778,
              "#fb9f3a"
             ],
             [
              0.8888888888888888,
              "#fdca26"
             ],
             [
              1,
              "#f0f921"
             ]
            ],
            "type": "contour"
           }
          ],
          "contourcarpet": [
           {
            "colorbar": {
             "outlinewidth": 0,
             "ticks": ""
            },
            "type": "contourcarpet"
           }
          ],
          "heatmap": [
           {
            "colorbar": {
             "outlinewidth": 0,
             "ticks": ""
            },
            "colorscale": [
             [
              0,
              "#0d0887"
             ],
             [
              0.1111111111111111,
              "#46039f"
             ],
             [
              0.2222222222222222,
              "#7201a8"
             ],
             [
              0.3333333333333333,
              "#9c179e"
             ],
             [
              0.4444444444444444,
              "#bd3786"
             ],
             [
              0.5555555555555556,
              "#d8576b"
             ],
             [
              0.6666666666666666,
              "#ed7953"
             ],
             [
              0.7777777777777778,
              "#fb9f3a"
             ],
             [
              0.8888888888888888,
              "#fdca26"
             ],
             [
              1,
              "#f0f921"
             ]
            ],
            "type": "heatmap"
           }
          ],
          "heatmapgl": [
           {
            "colorbar": {
             "outlinewidth": 0,
             "ticks": ""
            },
            "colorscale": [
             [
              0,
              "#0d0887"
             ],
             [
              0.1111111111111111,
              "#46039f"
             ],
             [
              0.2222222222222222,
              "#7201a8"
             ],
             [
              0.3333333333333333,
              "#9c179e"
             ],
             [
              0.4444444444444444,
              "#bd3786"
             ],
             [
              0.5555555555555556,
              "#d8576b"
             ],
             [
              0.6666666666666666,
              "#ed7953"
             ],
             [
              0.7777777777777778,
              "#fb9f3a"
             ],
             [
              0.8888888888888888,
              "#fdca26"
             ],
             [
              1,
              "#f0f921"
             ]
            ],
            "type": "heatmapgl"
           }
          ],
          "histogram": [
           {
            "marker": {
             "pattern": {
              "fillmode": "overlay",
              "size": 10,
              "solidity": 0.2
             }
            },
            "type": "histogram"
           }
          ],
          "histogram2d": [
           {
            "colorbar": {
             "outlinewidth": 0,
             "ticks": ""
            },
            "colorscale": [
             [
              0,
              "#0d0887"
             ],
             [
              0.1111111111111111,
              "#46039f"
             ],
             [
              0.2222222222222222,
              "#7201a8"
             ],
             [
              0.3333333333333333,
              "#9c179e"
             ],
             [
              0.4444444444444444,
              "#bd3786"
             ],
             [
              0.5555555555555556,
              "#d8576b"
             ],
             [
              0.6666666666666666,
              "#ed7953"
             ],
             [
              0.7777777777777778,
              "#fb9f3a"
             ],
             [
              0.8888888888888888,
              "#fdca26"
             ],
             [
              1,
              "#f0f921"
             ]
            ],
            "type": "histogram2d"
           }
          ],
          "histogram2dcontour": [
           {
            "colorbar": {
             "outlinewidth": 0,
             "ticks": ""
            },
            "colorscale": [
             [
              0,
              "#0d0887"
             ],
             [
              0.1111111111111111,
              "#46039f"
             ],
             [
              0.2222222222222222,
              "#7201a8"
             ],
             [
              0.3333333333333333,
              "#9c179e"
             ],
             [
              0.4444444444444444,
              "#bd3786"
             ],
             [
              0.5555555555555556,
              "#d8576b"
             ],
             [
              0.6666666666666666,
              "#ed7953"
             ],
             [
              0.7777777777777778,
              "#fb9f3a"
             ],
             [
              0.8888888888888888,
              "#fdca26"
             ],
             [
              1,
              "#f0f921"
             ]
            ],
            "type": "histogram2dcontour"
           }
          ],
          "mesh3d": [
           {
            "colorbar": {
             "outlinewidth": 0,
             "ticks": ""
            },
            "type": "mesh3d"
           }
          ],
          "parcoords": [
           {
            "line": {
             "colorbar": {
              "outlinewidth": 0,
              "ticks": ""
             }
            },
            "type": "parcoords"
           }
          ],
          "pie": [
           {
            "automargin": true,
            "type": "pie"
           }
          ],
          "scatter": [
           {
            "fillpattern": {
             "fillmode": "overlay",
             "size": 10,
             "solidity": 0.2
            },
            "type": "scatter"
           }
          ],
          "scatter3d": [
           {
            "line": {
             "colorbar": {
              "outlinewidth": 0,
              "ticks": ""
             }
            },
            "marker": {
             "colorbar": {
              "outlinewidth": 0,
              "ticks": ""
             }
            },
            "type": "scatter3d"
           }
          ],
          "scattercarpet": [
           {
            "marker": {
             "colorbar": {
              "outlinewidth": 0,
              "ticks": ""
             }
            },
            "type": "scattercarpet"
           }
          ],
          "scattergeo": [
           {
            "marker": {
             "colorbar": {
              "outlinewidth": 0,
              "ticks": ""
             }
            },
            "type": "scattergeo"
           }
          ],
          "scattergl": [
           {
            "marker": {
             "colorbar": {
              "outlinewidth": 0,
              "ticks": ""
             }
            },
            "type": "scattergl"
           }
          ],
          "scattermapbox": [
           {
            "marker": {
             "colorbar": {
              "outlinewidth": 0,
              "ticks": ""
             }
            },
            "type": "scattermapbox"
           }
          ],
          "scatterpolar": [
           {
            "marker": {
             "colorbar": {
              "outlinewidth": 0,
              "ticks": ""
             }
            },
            "type": "scatterpolar"
           }
          ],
          "scatterpolargl": [
           {
            "marker": {
             "colorbar": {
              "outlinewidth": 0,
              "ticks": ""
             }
            },
            "type": "scatterpolargl"
           }
          ],
          "scatterternary": [
           {
            "marker": {
             "colorbar": {
              "outlinewidth": 0,
              "ticks": ""
             }
            },
            "type": "scatterternary"
           }
          ],
          "surface": [
           {
            "colorbar": {
             "outlinewidth": 0,
             "ticks": ""
            },
            "colorscale": [
             [
              0,
              "#0d0887"
             ],
             [
              0.1111111111111111,
              "#46039f"
             ],
             [
              0.2222222222222222,
              "#7201a8"
             ],
             [
              0.3333333333333333,
              "#9c179e"
             ],
             [
              0.4444444444444444,
              "#bd3786"
             ],
             [
              0.5555555555555556,
              "#d8576b"
             ],
             [
              0.6666666666666666,
              "#ed7953"
             ],
             [
              0.7777777777777778,
              "#fb9f3a"
             ],
             [
              0.8888888888888888,
              "#fdca26"
             ],
             [
              1,
              "#f0f921"
             ]
            ],
            "type": "surface"
           }
          ],
          "table": [
           {
            "cells": {
             "fill": {
              "color": "#EBF0F8"
             },
             "line": {
              "color": "white"
             }
            },
            "header": {
             "fill": {
              "color": "#C8D4E3"
             },
             "line": {
              "color": "white"
             }
            },
            "type": "table"
           }
          ]
         },
         "layout": {
          "annotationdefaults": {
           "arrowcolor": "#2a3f5f",
           "arrowhead": 0,
           "arrowwidth": 1
          },
          "autotypenumbers": "strict",
          "coloraxis": {
           "colorbar": {
            "outlinewidth": 0,
            "ticks": ""
           }
          },
          "colorscale": {
           "diverging": [
            [
             0,
             "#8e0152"
            ],
            [
             0.1,
             "#c51b7d"
            ],
            [
             0.2,
             "#de77ae"
            ],
            [
             0.3,
             "#f1b6da"
            ],
            [
             0.4,
             "#fde0ef"
            ],
            [
             0.5,
             "#f7f7f7"
            ],
            [
             0.6,
             "#e6f5d0"
            ],
            [
             0.7,
             "#b8e186"
            ],
            [
             0.8,
             "#7fbc41"
            ],
            [
             0.9,
             "#4d9221"
            ],
            [
             1,
             "#276419"
            ]
           ],
           "sequential": [
            [
             0,
             "#0d0887"
            ],
            [
             0.1111111111111111,
             "#46039f"
            ],
            [
             0.2222222222222222,
             "#7201a8"
            ],
            [
             0.3333333333333333,
             "#9c179e"
            ],
            [
             0.4444444444444444,
             "#bd3786"
            ],
            [
             0.5555555555555556,
             "#d8576b"
            ],
            [
             0.6666666666666666,
             "#ed7953"
            ],
            [
             0.7777777777777778,
             "#fb9f3a"
            ],
            [
             0.8888888888888888,
             "#fdca26"
            ],
            [
             1,
             "#f0f921"
            ]
           ],
           "sequentialminus": [
            [
             0,
             "#0d0887"
            ],
            [
             0.1111111111111111,
             "#46039f"
            ],
            [
             0.2222222222222222,
             "#7201a8"
            ],
            [
             0.3333333333333333,
             "#9c179e"
            ],
            [
             0.4444444444444444,
             "#bd3786"
            ],
            [
             0.5555555555555556,
             "#d8576b"
            ],
            [
             0.6666666666666666,
             "#ed7953"
            ],
            [
             0.7777777777777778,
             "#fb9f3a"
            ],
            [
             0.8888888888888888,
             "#fdca26"
            ],
            [
             1,
             "#f0f921"
            ]
           ]
          },
          "colorway": [
           "#636efa",
           "#EF553B",
           "#00cc96",
           "#ab63fa",
           "#FFA15A",
           "#19d3f3",
           "#FF6692",
           "#B6E880",
           "#FF97FF",
           "#FECB52"
          ],
          "font": {
           "color": "#2a3f5f"
          },
          "geo": {
           "bgcolor": "white",
           "lakecolor": "white",
           "landcolor": "#E5ECF6",
           "showlakes": true,
           "showland": true,
           "subunitcolor": "white"
          },
          "hoverlabel": {
           "align": "left"
          },
          "hovermode": "closest",
          "mapbox": {
           "style": "light"
          },
          "paper_bgcolor": "white",
          "plot_bgcolor": "#E5ECF6",
          "polar": {
           "angularaxis": {
            "gridcolor": "white",
            "linecolor": "white",
            "ticks": ""
           },
           "bgcolor": "#E5ECF6",
           "radialaxis": {
            "gridcolor": "white",
            "linecolor": "white",
            "ticks": ""
           }
          },
          "scene": {
           "xaxis": {
            "backgroundcolor": "#E5ECF6",
            "gridcolor": "white",
            "gridwidth": 2,
            "linecolor": "white",
            "showbackground": true,
            "ticks": "",
            "zerolinecolor": "white"
           },
           "yaxis": {
            "backgroundcolor": "#E5ECF6",
            "gridcolor": "white",
            "gridwidth": 2,
            "linecolor": "white",
            "showbackground": true,
            "ticks": "",
            "zerolinecolor": "white"
           },
           "zaxis": {
            "backgroundcolor": "#E5ECF6",
            "gridcolor": "white",
            "gridwidth": 2,
            "linecolor": "white",
            "showbackground": true,
            "ticks": "",
            "zerolinecolor": "white"
           }
          },
          "shapedefaults": {
           "line": {
            "color": "#2a3f5f"
           }
          },
          "ternary": {
           "aaxis": {
            "gridcolor": "white",
            "linecolor": "white",
            "ticks": ""
           },
           "baxis": {
            "gridcolor": "white",
            "linecolor": "white",
            "ticks": ""
           },
           "bgcolor": "#E5ECF6",
           "caxis": {
            "gridcolor": "white",
            "linecolor": "white",
            "ticks": ""
           }
          },
          "title": {
           "x": 0.05
          },
          "xaxis": {
           "automargin": true,
           "gridcolor": "white",
           "linecolor": "white",
           "ticks": "",
           "title": {
            "standoff": 15
           },
           "zerolinecolor": "white",
           "zerolinewidth": 2
          },
          "yaxis": {
           "automargin": true,
           "gridcolor": "white",
           "linecolor": "white",
           "ticks": "",
           "title": {
            "standoff": 15
           },
           "zerolinecolor": "white",
           "zerolinewidth": 2
          }
         }
        },
        "title": {
         "text": "Dominant Emotion"
        }
       }
      }
     },
     "metadata": {},
     "output_type": "display_data"
    }
   ],
   "source": [
    "plt = px.pie(train_df, names='Dominant_Emotion', title = 'Dominant Emotion')\n",
    "plt.show()"
   ]
  },
  {
   "cell_type": "markdown",
   "metadata": {},
   "source": [
    "### Make scatter plot to check the data distribution for variables"
   ]
  },
  {
   "cell_type": "code",
   "execution_count": 77,
   "metadata": {},
   "outputs": [
    {
     "data": {
      "application/vnd.plotly.v1+json": {
       "config": {
        "plotlyServerURL": "https://plot.ly"
       },
       "data": [
        {
         "hovertemplate": "Dominant_Emotion=Happiness<br>Gender=1<br>Age=%{x}<br>Daily_Usage_Time (minutes)=%{y}<br>Likes_Received_Per_Day=%{z}<extra></extra>",
         "legendgroup": "Happiness, 1",
         "marker": {
          "color": "#636efa",
          "opacity": 0.7,
          "symbol": "circle"
         },
         "mode": "markers",
         "name": "Happiness, 1",
         "scene": "scene",
         "showlegend": true,
         "type": "scatter3d",
         "x": [
          25,
          22,
          32,
          25,
          33,
          25,
          28,
          30,
          24,
          32,
          25,
          25,
          22,
          32,
          25,
          33,
          25,
          28,
          30,
          24,
          32,
          25,
          25,
          22,
          32,
          25,
          33,
          25,
          25,
          25,
          22,
          32,
          25,
          33,
          25,
          28,
          30,
          24,
          32,
          25,
          25,
          22,
          32,
          25,
          33,
          25,
          28,
          30,
          24,
          32,
          25,
          25,
          22,
          32,
          25,
          33,
          25,
          28,
          30,
          24,
          32,
          25,
          25,
          22,
          32,
          25,
          33,
          25,
          28,
          30,
          24,
          32,
          25,
          25,
          22,
          32,
          25,
          33,
          25,
          25,
          25,
          22,
          32,
          25,
          33,
          25,
          28,
          30,
          24,
          32,
          25,
          25,
          22,
          32,
          25,
          33,
          25,
          28,
          30,
          24,
          32,
          25
         ],
         "y": [
          120,
          180,
          140,
          160,
          170,
          150,
          95,
          175,
          140,
          155,
          170,
          120,
          180,
          140,
          160,
          170,
          150,
          95,
          175,
          140,
          155,
          170,
          120,
          180,
          140,
          160,
          170,
          150,
          170,
          120,
          180,
          140,
          160,
          170,
          150,
          95,
          175,
          140,
          155,
          170,
          120,
          180,
          140,
          160,
          170,
          150,
          95,
          175,
          140,
          155,
          170,
          120,
          180,
          140,
          160,
          170,
          150,
          95,
          175,
          140,
          155,
          170,
          120,
          180,
          140,
          160,
          170,
          150,
          95,
          175,
          140,
          155,
          170,
          120,
          180,
          140,
          160,
          170,
          150,
          170,
          120,
          180,
          140,
          160,
          170,
          150,
          95,
          175,
          140,
          155,
          170,
          120,
          180,
          140,
          160,
          170,
          150,
          95,
          175,
          140,
          155,
          170
         ],
         "z": [
          45,
          90,
          70,
          85,
          90,
          80,
          45,
          70,
          60,
          72,
          78,
          50,
          100,
          75,
          85,
          95,
          90,
          48,
          72,
          65,
          75,
          83,
          50,
          100,
          75,
          85,
          95,
          90,
          83,
          50,
          100,
          75,
          85,
          95,
          90,
          48,
          72,
          65,
          75,
          83,
          50,
          100,
          75,
          85,
          95,
          90,
          48,
          72,
          65,
          75,
          83,
          50,
          100,
          75,
          85,
          95,
          90,
          48,
          72,
          65,
          75,
          83,
          50,
          100,
          75,
          85,
          95,
          90,
          48,
          72,
          65,
          75,
          83,
          50,
          100,
          75,
          85,
          95,
          90,
          83,
          50,
          100,
          75,
          85,
          95,
          90,
          48,
          72,
          65,
          75,
          83,
          50,
          100,
          75,
          85,
          95,
          90,
          48,
          72,
          65,
          75,
          83
         ]
        },
        {
         "hovertemplate": "Dominant_Emotion=Happiness<br>Gender=0<br>Age=%{x}<br>Daily_Usage_Time (minutes)=%{y}<br>Likes_Received_Per_Day=%{z}<extra></extra>",
         "legendgroup": "Happiness, 0",
         "marker": {
          "color": "#636efa",
          "opacity": 0.7,
          "symbol": "diamond"
         },
         "mode": "markers",
         "name": "Happiness, 0",
         "scene": "scene",
         "showlegend": true,
         "type": "scatter3d",
         "x": [
          21,
          31,
          28,
          30,
          27,
          28,
          35,
          21,
          31,
          28,
          30,
          27,
          28,
          35,
          21,
          31,
          28,
          30,
          35,
          21,
          31,
          28,
          30,
          27,
          28,
          35,
          21,
          31,
          28,
          30,
          27,
          28,
          35,
          21,
          31,
          28,
          30,
          27,
          28,
          35,
          21,
          31,
          28,
          30,
          27,
          28,
          35,
          21,
          31,
          28,
          30,
          35,
          21,
          31,
          28,
          30,
          27,
          28,
          35,
          21,
          31,
          28,
          30,
          27,
          28,
          35
         ],
         "y": [
          150,
          170,
          145,
          175,
          165,
          165,
          110,
          150,
          170,
          145,
          175,
          165,
          165,
          110,
          150,
          170,
          145,
          175,
          110,
          150,
          170,
          145,
          175,
          165,
          165,
          110,
          150,
          170,
          145,
          175,
          165,
          165,
          110,
          150,
          170,
          145,
          175,
          165,
          165,
          110,
          150,
          170,
          145,
          175,
          165,
          165,
          110,
          150,
          170,
          145,
          175,
          110,
          150,
          170,
          145,
          175,
          165,
          165,
          110,
          150,
          170,
          145,
          175,
          165,
          165,
          110
         ],
         "z": [
          60,
          80,
          75,
          85,
          78,
          75,
          45,
          65,
          90,
          80,
          100,
          85,
          78,
          50,
          65,
          90,
          80,
          100,
          50,
          65,
          90,
          80,
          100,
          85,
          78,
          50,
          65,
          90,
          80,
          100,
          85,
          78,
          50,
          65,
          90,
          80,
          100,
          85,
          78,
          50,
          65,
          90,
          80,
          100,
          85,
          78,
          50,
          65,
          90,
          80,
          100,
          50,
          65,
          90,
          80,
          100,
          85,
          78,
          50,
          65,
          90,
          80,
          100,
          85,
          78,
          50
         ]
        },
        {
         "hovertemplate": "Dominant_Emotion=Happiness<br>Gender=2<br>Age=%{x}<br>Daily_Usage_Time (minutes)=%{y}<br>Likes_Received_Per_Day=%{z}<extra></extra>",
         "legendgroup": "Happiness, 2",
         "marker": {
          "color": "#636efa",
          "opacity": 0.7,
          "symbol": "square"
         },
         "mode": "markers",
         "name": "Happiness, 2",
         "scene": "scene",
         "showlegend": true,
         "type": "scatter3d",
         "x": [
          33,
          24,
          33,
          24,
          33,
          33,
          24,
          33,
          24,
          33,
          24,
          33,
          24,
          33,
          33,
          24,
          33,
          24
         ],
         "y": [
          190,
          85,
          190,
          85,
          190,
          190,
          85,
          190,
          85,
          190,
          85,
          190,
          85,
          190,
          190,
          85,
          190,
          85
         ],
         "z": [
          95,
          30,
          105,
          33,
          105,
          105,
          33,
          105,
          33,
          105,
          33,
          105,
          33,
          105,
          105,
          33,
          105,
          33
         ]
        },
        {
         "hovertemplate": "Dominant_Emotion=Happiness<br>Gender=3<br>Age=%{x}<br>Daily_Usage_Time (minutes)=%{y}<br>Likes_Received_Per_Day=%{z}<extra></extra>",
         "legendgroup": "Happiness, 3",
         "marker": {
          "color": "#636efa",
          "opacity": 0.7,
          "symbol": "x"
         },
         "mode": "markers",
         "name": "Happiness, 3",
         "scene": "scene",
         "showlegend": true,
         "type": "scatter3d",
         "x": [
          27,
          27,
          27,
          27,
          27,
          27,
          27,
          27,
          27,
          27,
          27,
          27,
          27,
          27
         ],
         "y": [
          165,
          95,
          175,
          165,
          140,
          155,
          85,
          165,
          95,
          175,
          165,
          140,
          155,
          85
         ],
         "z": [
          85,
          48,
          72,
          78,
          65,
          75,
          33,
          85,
          48,
          72,
          78,
          65,
          75,
          33
         ]
        },
        {
         "hovertemplate": "Dominant_Emotion=Anger<br>Gender=1<br>Age=%{x}<br>Daily_Usage_Time (minutes)=%{y}<br>Likes_Received_Per_Day=%{z}<extra></extra>",
         "legendgroup": "Anger, 1",
         "marker": {
          "color": "#EF553B",
          "opacity": 0.7,
          "symbol": "circle"
         },
         "mode": "markers",
         "name": "Anger, 1",
         "scene": "scene",
         "showlegend": true,
         "type": "scatter3d",
         "x": [
          27,
          24,
          24,
          29,
          34,
          32,
          27,
          24,
          24,
          29,
          34,
          32,
          27,
          24,
          32,
          27,
          24,
          24,
          29,
          34,
          32,
          27,
          24,
          24,
          29,
          34,
          32,
          27,
          24,
          24,
          29,
          34,
          32,
          27,
          24,
          24,
          29,
          34,
          32,
          27,
          24,
          32,
          27,
          24,
          24,
          29,
          34,
          32,
          27,
          24,
          24,
          29,
          34,
          32
         ],
         "y": [
          85,
          105,
          75,
          90,
          120,
          105,
          85,
          105,
          75,
          90,
          120,
          105,
          85,
          105,
          105,
          85,
          105,
          75,
          90,
          120,
          105,
          85,
          105,
          75,
          90,
          120,
          105,
          85,
          105,
          75,
          90,
          120,
          105,
          85,
          105,
          75,
          90,
          120,
          105,
          85,
          105,
          105,
          85,
          105,
          75,
          90,
          120,
          105,
          85,
          105,
          75,
          90,
          120,
          105
         ],
         "z": [
          30,
          28,
          29,
          20,
          55,
          50,
          40,
          35,
          33,
          24,
          60,
          55,
          40,
          35,
          55,
          40,
          35,
          33,
          24,
          60,
          55,
          40,
          35,
          33,
          24,
          60,
          55,
          40,
          35,
          33,
          24,
          60,
          55,
          40,
          35,
          33,
          24,
          60,
          55,
          40,
          35,
          55,
          40,
          35,
          33,
          24,
          60,
          55,
          40,
          35,
          33,
          24,
          60,
          55
         ]
        },
        {
         "hovertemplate": "Dominant_Emotion=Anger<br>Gender=0<br>Age=%{x}<br>Daily_Usage_Time (minutes)=%{y}<br>Likes_Received_Per_Day=%{z}<extra></extra>",
         "legendgroup": "Anger, 0",
         "marker": {
          "color": "#EF553B",
          "opacity": 0.7,
          "symbol": "diamond"
         },
         "mode": "markers",
         "name": "Anger, 0",
         "scene": "scene",
         "showlegend": true,
         "type": "scatter3d",
         "x": [
          30,
          28,
          30,
          27,
          29,
          23,
          30,
          28,
          30,
          27,
          29,
          23,
          30,
          28,
          30,
          27,
          29,
          30,
          28,
          30,
          27,
          29,
          23,
          30,
          28,
          30,
          27,
          29,
          23,
          30,
          28,
          30,
          27,
          29,
          23,
          30,
          28,
          30,
          27,
          29,
          23,
          30,
          28,
          30,
          27,
          29,
          30,
          28,
          30,
          27,
          29,
          23,
          30,
          28,
          30,
          27,
          29,
          23
         ],
         "y": [
          90,
          100,
          90,
          85,
          95,
          70,
          90,
          100,
          90,
          85,
          95,
          70,
          90,
          100,
          90,
          85,
          95,
          90,
          100,
          90,
          85,
          95,
          70,
          90,
          100,
          90,
          85,
          95,
          70,
          90,
          100,
          90,
          85,
          95,
          70,
          90,
          100,
          90,
          85,
          95,
          70,
          90,
          100,
          90,
          85,
          95,
          90,
          100,
          90,
          85,
          95,
          70,
          90,
          100,
          90,
          85,
          95,
          70
         ],
         "z": [
          20,
          40,
          38,
          35,
          40,
          20,
          30,
          50,
          43,
          45,
          50,
          22,
          30,
          50,
          43,
          45,
          50,
          30,
          50,
          43,
          45,
          50,
          22,
          30,
          50,
          43,
          45,
          50,
          22,
          30,
          50,
          43,
          45,
          50,
          22,
          30,
          50,
          43,
          45,
          50,
          22,
          30,
          50,
          43,
          45,
          50,
          30,
          50,
          43,
          45,
          50,
          22,
          30,
          50,
          43,
          45,
          50,
          22
         ]
        },
        {
         "hovertemplate": "Dominant_Emotion=Anger<br>Gender=2<br>Age=%{x}<br>Daily_Usage_Time (minutes)=%{y}<br>Likes_Received_Per_Day=%{z}<extra></extra>",
         "legendgroup": "Anger, 2",
         "marker": {
          "color": "#EF553B",
          "opacity": 0.7,
          "symbol": "square"
         },
         "mode": "markers",
         "name": "Anger, 2",
         "scene": "scene",
         "showlegend": true,
         "type": "scatter3d",
         "x": [
          28,
          28,
          28,
          28,
          28,
          28,
          28,
          28,
          28,
          28
         ],
         "y": [
          60,
          60,
          60,
          60,
          60,
          60,
          60,
          60,
          60,
          60
         ],
         "z": [
          15,
          18,
          18,
          18,
          18,
          18,
          18,
          18,
          18,
          18
         ]
        },
        {
         "hovertemplate": "Dominant_Emotion=Anger<br>Gender=3<br>Age=%{x}<br>Daily_Usage_Time (minutes)=%{y}<br>Likes_Received_Per_Day=%{z}<extra></extra>",
         "legendgroup": "Anger, 3",
         "marker": {
          "color": "#EF553B",
          "opacity": 0.7,
          "symbol": "x"
         },
         "mode": "markers",
         "name": "Anger, 3",
         "scene": "scene",
         "showlegend": true,
         "type": "scatter3d",
         "x": [
          27,
          27,
          27,
          27,
          27,
          27,
          27,
          27
         ],
         "y": [
          75,
          70,
          90,
          120,
          75,
          70,
          90,
          120
         ],
         "z": [
          33,
          22,
          24,
          60,
          33,
          22,
          24,
          60
         ]
        },
        {
         "hovertemplate": "Dominant_Emotion=Neutral<br>Gender=1<br>Age=%{x}<br>Daily_Usage_Time (minutes)=%{y}<br>Likes_Received_Per_Day=%{z}<extra></extra>",
         "legendgroup": "Neutral, 1",
         "marker": {
          "color": "#00cc96",
          "opacity": 0.7,
          "symbol": "circle"
         },
         "mode": "markers",
         "name": "Neutral, 1",
         "scene": "scene",
         "showlegend": true,
         "type": "scatter3d",
         "x": [
          29,
          22,
          31,
          27,
          22,
          27,
          29,
          22,
          31,
          27,
          22,
          27,
          29,
          22,
          22,
          27,
          29,
          22,
          31,
          27,
          22,
          27,
          29,
          22,
          31,
          27,
          22,
          27,
          29,
          22,
          31,
          27,
          22,
          27,
          29,
          22,
          31,
          27,
          22,
          27,
          29,
          22,
          22,
          27,
          29,
          22,
          31,
          27,
          22,
          27,
          29,
          22,
          31,
          27,
          22,
          27
         ],
         "y": [
          55,
          115,
          65,
          90,
          70,
          120,
          55,
          115,
          65,
          90,
          70,
          120,
          55,
          115,
          70,
          120,
          55,
          115,
          65,
          90,
          70,
          120,
          55,
          115,
          65,
          90,
          70,
          120,
          55,
          115,
          65,
          90,
          70,
          120,
          55,
          115,
          65,
          90,
          70,
          120,
          55,
          115,
          70,
          120,
          55,
          115,
          65,
          90,
          70,
          120,
          55,
          115,
          65,
          90,
          70,
          120
         ],
         "z": [
          10,
          55,
          25,
          35,
          12,
          38,
          15,
          60,
          27,
          37,
          14,
          40,
          15,
          60,
          14,
          40,
          15,
          60,
          27,
          37,
          14,
          40,
          15,
          60,
          27,
          37,
          14,
          40,
          15,
          60,
          27,
          37,
          14,
          40,
          15,
          60,
          27,
          37,
          14,
          40,
          15,
          60,
          14,
          40,
          15,
          60,
          27,
          37,
          14,
          40,
          15,
          60,
          27,
          37,
          14,
          40
         ]
        },
        {
         "hovertemplate": "Dominant_Emotion=Neutral<br>Gender=0<br>Age=%{x}<br>Daily_Usage_Time (minutes)=%{y}<br>Likes_Received_Per_Day=%{z}<extra></extra>",
         "legendgroup": "Neutral, 0",
         "marker": {
          "color": "#00cc96",
          "opacity": 0.7,
          "symbol": "diamond"
         },
         "mode": "markers",
         "name": "Neutral, 0",
         "scene": "scene",
         "showlegend": true,
         "type": "scatter3d",
         "x": [
          31,
          32,
          25,
          22,
          24,
          31,
          32,
          25,
          22,
          24,
          31,
          32,
          24,
          31,
          32,
          25,
          22,
          24,
          31,
          32,
          25,
          22,
          24,
          31,
          32,
          25,
          22,
          24,
          31,
          32,
          25,
          22,
          24,
          31,
          32,
          24,
          31,
          32,
          25,
          22,
          24,
          31,
          32,
          25,
          22,
          24
         ],
         "y": [
          80,
          130,
          80,
          70,
          75,
          80,
          130,
          80,
          70,
          75,
          80,
          130,
          75,
          80,
          130,
          80,
          70,
          75,
          80,
          130,
          80,
          70,
          75,
          80,
          130,
          80,
          70,
          75,
          80,
          130,
          80,
          70,
          75,
          80,
          130,
          75,
          80,
          130,
          80,
          70,
          75,
          80,
          130,
          80,
          70,
          75
         ],
         "z": [
          18,
          70,
          28,
          20,
          33,
          20,
          80,
          30,
          22,
          37,
          20,
          80,
          37,
          20,
          80,
          30,
          22,
          37,
          20,
          80,
          30,
          22,
          37,
          20,
          80,
          30,
          22,
          37,
          20,
          80,
          30,
          22,
          37,
          20,
          80,
          37,
          20,
          80,
          30,
          22,
          37,
          20,
          80,
          30,
          22,
          37
         ]
        },
        {
         "hovertemplate": "Dominant_Emotion=Neutral<br>Gender=2<br>Age=%{x}<br>Daily_Usage_Time (minutes)=%{y}<br>Likes_Received_Per_Day=%{z}<extra></extra>",
         "legendgroup": "Neutral, 2",
         "marker": {
          "color": "#00cc96",
          "opacity": 0.7,
          "symbol": "square"
         },
         "mode": "markers",
         "name": "Neutral, 2",
         "scene": "scene",
         "showlegend": true,
         "type": "scatter3d",
         "x": [
          22,
          21,
          23,
          23,
          23,
          29,
          34,
          21,
          21,
          22,
          21,
          23,
          23,
          23,
          29,
          34,
          21,
          21,
          22,
          21,
          23,
          23,
          23,
          22,
          21,
          23,
          23,
          23,
          29,
          34,
          21,
          21,
          22,
          21,
          23,
          23,
          23,
          29,
          34,
          21,
          21,
          22,
          21,
          23,
          23,
          23,
          29,
          34,
          21,
          21,
          22,
          21,
          23,
          23,
          23,
          29,
          34,
          21,
          21,
          22,
          21,
          23,
          23,
          23,
          22,
          21,
          23,
          23,
          23,
          29,
          34,
          21,
          21,
          22,
          21,
          23,
          23,
          23,
          29,
          34,
          21,
          21
         ],
         "y": [
          60,
          40,
          50,
          70,
          105,
          85,
          80,
          55,
          60,
          60,
          40,
          50,
          70,
          105,
          85,
          80,
          55,
          60,
          60,
          40,
          50,
          70,
          105,
          60,
          40,
          50,
          70,
          105,
          85,
          80,
          55,
          60,
          60,
          40,
          50,
          70,
          105,
          85,
          80,
          55,
          60,
          60,
          40,
          50,
          70,
          105,
          85,
          80,
          55,
          60,
          60,
          40,
          50,
          70,
          105,
          85,
          80,
          55,
          60,
          60,
          40,
          50,
          70,
          105,
          60,
          40,
          50,
          70,
          105,
          85,
          80,
          55,
          60,
          60,
          40,
          50,
          70,
          105,
          85,
          80,
          55,
          60
         ],
         "z": [
          15,
          5,
          8,
          27,
          20,
          25,
          18,
          15,
          15,
          20,
          10,
          12,
          30,
          25,
          27,
          21,
          17,
          18,
          20,
          10,
          12,
          30,
          25,
          20,
          10,
          12,
          30,
          25,
          27,
          21,
          17,
          18,
          20,
          10,
          12,
          30,
          25,
          27,
          21,
          17,
          18,
          20,
          10,
          12,
          30,
          25,
          27,
          21,
          17,
          18,
          20,
          10,
          12,
          30,
          25,
          27,
          21,
          17,
          18,
          20,
          10,
          12,
          30,
          25,
          20,
          10,
          12,
          30,
          25,
          27,
          21,
          17,
          18,
          20,
          10,
          12,
          30,
          25,
          27,
          21,
          17,
          18
         ]
        },
        {
         "hovertemplate": "Dominant_Emotion=Neutral<br>Gender=3<br>Age=%{x}<br>Daily_Usage_Time (minutes)=%{y}<br>Likes_Received_Per_Day=%{z}<extra></extra>",
         "legendgroup": "Neutral, 3",
         "marker": {
          "color": "#00cc96",
          "opacity": 0.7,
          "symbol": "x"
         },
         "mode": "markers",
         "name": "Neutral, 3",
         "scene": "scene",
         "showlegend": true,
         "type": "scatter3d",
         "x": [
          27,
          27,
          27,
          27,
          27,
          27,
          27,
          27,
          27,
          27,
          27,
          27,
          27,
          27,
          27,
          27
         ],
         "y": [
          85,
          80,
          65,
          55,
          80,
          90,
          70,
          60,
          85,
          80,
          65,
          55,
          80,
          90,
          70,
          60
         ],
         "z": [
          27,
          21,
          27,
          17,
          30,
          37,
          22,
          18,
          27,
          21,
          27,
          17,
          30,
          37,
          22,
          18
         ]
        },
        {
         "hovertemplate": "Dominant_Emotion=Anxiety<br>Gender=1<br>Age=%{x}<br>Daily_Usage_Time (minutes)=%{y}<br>Likes_Received_Per_Day=%{z}<extra></extra>",
         "legendgroup": "Anxiety, 1",
         "marker": {
          "color": "#ab63fa",
          "opacity": 0.7,
          "symbol": "circle"
         },
         "mode": "markers",
         "name": "Anxiety, 1",
         "scene": "scene",
         "showlegend": true,
         "type": "scatter3d",
         "x": [
          28,
          23,
          35,
          22,
          26,
          28,
          28,
          23,
          35,
          22,
          26,
          28,
          28,
          23,
          35,
          28,
          23,
          35,
          22,
          26,
          28,
          28,
          23,
          35,
          22,
          26,
          28,
          28,
          23,
          35,
          22,
          26,
          28,
          28,
          23,
          35,
          22,
          26,
          28,
          28,
          23,
          35,
          28,
          23,
          35,
          22,
          26,
          28,
          28,
          23,
          35,
          22,
          26,
          28
         ],
         "y": [
          200,
          75,
          125,
          70,
          120,
          100,
          200,
          75,
          125,
          70,
          120,
          100,
          200,
          75,
          125,
          200,
          75,
          125,
          70,
          120,
          100,
          200,
          75,
          125,
          70,
          120,
          100,
          200,
          75,
          125,
          70,
          120,
          100,
          200,
          75,
          125,
          70,
          120,
          100,
          200,
          75,
          125,
          200,
          75,
          125,
          70,
          120,
          100,
          200,
          75,
          125,
          70,
          120,
          100
         ],
         "z": [
          100,
          35,
          55,
          40,
          50,
          35,
          110,
          45,
          65,
          42,
          55,
          37,
          110,
          45,
          65,
          110,
          45,
          65,
          42,
          55,
          37,
          110,
          45,
          65,
          42,
          55,
          37,
          110,
          45,
          65,
          42,
          55,
          37,
          110,
          45,
          65,
          42,
          55,
          37,
          110,
          45,
          65,
          110,
          45,
          65,
          42,
          55,
          37,
          110,
          45,
          65,
          42,
          55,
          37
         ]
        },
        {
         "hovertemplate": "Dominant_Emotion=Anxiety<br>Gender=0<br>Age=%{x}<br>Daily_Usage_Time (minutes)=%{y}<br>Likes_Received_Per_Day=%{z}<extra></extra>",
         "legendgroup": "Anxiety, 0",
         "marker": {
          "color": "#ab63fa",
          "opacity": 0.7,
          "symbol": "diamond"
         },
         "mode": "markers",
         "name": "Anxiety, 0",
         "scene": "scene",
         "showlegend": true,
         "type": "scatter3d",
         "x": [
          26,
          29,
          31,
          27,
          30,
          26,
          26,
          29,
          31,
          27,
          30,
          26,
          26,
          29,
          30,
          26,
          26,
          29,
          31,
          27,
          30,
          26,
          26,
          29,
          31,
          27,
          30,
          26,
          26,
          29,
          31,
          27,
          30,
          26,
          26,
          29,
          31,
          27,
          30,
          26,
          26,
          29,
          30,
          26,
          26,
          29,
          31,
          27,
          30,
          26,
          26,
          29,
          31,
          27,
          30,
          26
         ],
         "y": [
          75,
          65,
          60,
          105,
          70,
          150,
          75,
          65,
          60,
          105,
          70,
          150,
          75,
          65,
          70,
          150,
          75,
          65,
          60,
          105,
          70,
          150,
          75,
          65,
          60,
          105,
          70,
          150,
          75,
          65,
          60,
          105,
          70,
          150,
          75,
          65,
          60,
          105,
          70,
          150,
          75,
          65,
          70,
          150,
          75,
          65,
          60,
          105,
          70,
          150,
          75,
          65,
          60,
          105,
          70,
          150
         ],
         "z": [
          25,
          22,
          10,
          45,
          28,
          65,
          30,
          27,
          15,
          48,
          30,
          70,
          30,
          27,
          30,
          70,
          30,
          27,
          15,
          48,
          30,
          70,
          30,
          27,
          15,
          48,
          30,
          70,
          30,
          27,
          15,
          48,
          30,
          70,
          30,
          27,
          15,
          48,
          30,
          70,
          30,
          27,
          30,
          70,
          30,
          27,
          15,
          48,
          30,
          70,
          30,
          27,
          15,
          48,
          30,
          70
         ]
        },
        {
         "hovertemplate": "Dominant_Emotion=Anxiety<br>Gender=2<br>Age=%{x}<br>Daily_Usage_Time (minutes)=%{y}<br>Likes_Received_Per_Day=%{z}<extra></extra>",
         "legendgroup": "Anxiety, 2",
         "marker": {
          "color": "#ab63fa",
          "opacity": 0.7,
          "symbol": "square"
         },
         "mode": "markers",
         "name": "Anxiety, 2",
         "scene": "scene",
         "showlegend": true,
         "type": "scatter3d",
         "x": [
          27,
          28,
          26,
          28,
          33,
          27,
          28,
          26,
          28,
          33,
          27,
          28,
          26,
          27,
          28,
          26,
          28,
          33,
          27,
          28,
          26,
          28,
          33,
          27,
          28,
          26,
          28,
          33,
          27,
          28,
          26,
          28,
          33,
          27,
          28,
          26,
          27,
          28,
          26,
          28,
          33,
          27,
          28,
          26,
          28,
          33
         ],
         "y": [
          55,
          100,
          75,
          115,
          65,
          55,
          100,
          75,
          115,
          65,
          55,
          100,
          75,
          55,
          100,
          75,
          115,
          65,
          55,
          100,
          75,
          115,
          65,
          55,
          100,
          75,
          115,
          65,
          55,
          100,
          75,
          115,
          65,
          55,
          100,
          75,
          55,
          100,
          75,
          115,
          65,
          55,
          100,
          75,
          115,
          65
         ],
         "z": [
          9,
          18,
          28,
          36,
          12,
          12,
          22,
          30,
          38,
          13,
          12,
          22,
          30,
          12,
          22,
          30,
          38,
          13,
          12,
          22,
          30,
          38,
          13,
          12,
          22,
          30,
          38,
          13,
          12,
          22,
          30,
          38,
          13,
          12,
          22,
          30,
          12,
          22,
          30,
          38,
          13,
          12,
          22,
          30,
          38,
          13
         ]
        },
        {
         "hovertemplate": "Dominant_Emotion=Anxiety<br>Gender=3<br>Age=%{x}<br>Daily_Usage_Time (minutes)=%{y}<br>Likes_Received_Per_Day=%{z}<extra></extra>",
         "legendgroup": "Anxiety, 3",
         "marker": {
          "color": "#ab63fa",
          "opacity": 0.7,
          "symbol": "x"
         },
         "mode": "markers",
         "name": "Anxiety, 3",
         "scene": "scene",
         "showlegend": true,
         "type": "scatter3d",
         "x": [
          27,
          27,
          27,
          27,
          27,
          27,
          27,
          27,
          27,
          27,
          27,
          27,
          27,
          27
         ],
         "y": [
          60,
          70,
          120,
          105,
          115,
          65,
          100,
          60,
          70,
          120,
          105,
          115,
          65,
          100
         ],
         "z": [
          15,
          42,
          55,
          48,
          38,
          13,
          37,
          15,
          42,
          55,
          48,
          38,
          13,
          37
         ]
        },
        {
         "hovertemplate": "Dominant_Emotion=Boredom<br>Gender=1<br>Age=%{x}<br>Daily_Usage_Time (minutes)=%{y}<br>Likes_Received_Per_Day=%{z}<extra></extra>",
         "legendgroup": "Boredom, 1",
         "marker": {
          "color": "#FFA15A",
          "opacity": 0.7,
          "symbol": "circle"
         },
         "mode": "markers",
         "name": "Boredom, 1",
         "scene": "scene",
         "showlegend": true,
         "type": "scatter3d",
         "x": [
          34,
          35,
          28,
          34,
          35,
          28,
          34,
          35,
          28,
          34,
          35,
          28,
          34,
          35,
          28,
          34,
          35,
          28,
          34,
          35,
          28,
          34,
          35,
          28,
          34,
          35,
          28,
          34,
          35,
          28
         ],
         "y": [
          65,
          60,
          55,
          65,
          60,
          55,
          65,
          60,
          55,
          65,
          60,
          55,
          65,
          60,
          55,
          65,
          60,
          55,
          65,
          60,
          55,
          65,
          60,
          55,
          65,
          60,
          55,
          65,
          60,
          55
         ],
         "z": [
          13,
          12,
          8,
          17,
          15,
          12,
          17,
          15,
          12,
          17,
          15,
          12,
          17,
          15,
          12,
          17,
          15,
          12,
          17,
          15,
          12,
          17,
          15,
          12,
          17,
          15,
          12,
          17,
          15,
          12
         ]
        },
        {
         "hovertemplate": "Dominant_Emotion=Boredom<br>Gender=0<br>Age=%{x}<br>Daily_Usage_Time (minutes)=%{y}<br>Likes_Received_Per_Day=%{z}<extra></extra>",
         "legendgroup": "Boredom, 0",
         "marker": {
          "color": "#FFA15A",
          "opacity": 0.7,
          "symbol": "diamond"
         },
         "mode": "markers",
         "name": "Boredom, 0",
         "scene": "scene",
         "showlegend": true,
         "type": "scatter3d",
         "x": [
          33,
          34,
          29,
          25,
          27,
          35,
          33,
          34,
          29,
          25,
          27,
          35,
          33,
          34,
          29,
          33,
          34,
          29,
          25,
          27,
          35,
          33,
          34,
          29,
          25,
          27,
          35,
          33,
          34,
          29,
          25,
          27,
          35,
          33,
          34,
          29,
          25,
          27,
          35,
          33,
          34,
          29,
          33,
          34,
          29,
          25,
          27,
          35,
          33,
          34,
          29,
          25,
          27,
          35
         ],
         "y": [
          45,
          65,
          60,
          90,
          60,
          70,
          45,
          65,
          60,
          90,
          60,
          70,
          45,
          65,
          60,
          45,
          65,
          60,
          90,
          60,
          70,
          45,
          65,
          60,
          90,
          60,
          70,
          45,
          65,
          60,
          90,
          60,
          70,
          45,
          65,
          60,
          90,
          60,
          70,
          45,
          65,
          60,
          45,
          65,
          60,
          90,
          60,
          70,
          45,
          65,
          60,
          90,
          60,
          70
         ],
         "z": [
          5,
          12,
          11,
          20,
          10,
          12,
          10,
          14,
          17,
          22,
          12,
          13,
          10,
          14,
          17,
          10,
          14,
          17,
          22,
          12,
          13,
          10,
          14,
          17,
          22,
          12,
          13,
          10,
          14,
          17,
          22,
          12,
          13,
          10,
          14,
          17,
          22,
          12,
          13,
          10,
          14,
          17,
          10,
          14,
          17,
          22,
          12,
          13,
          10,
          14,
          17,
          22,
          12,
          13
         ]
        },
        {
         "hovertemplate": "Dominant_Emotion=Boredom<br>Gender=2<br>Age=%{x}<br>Daily_Usage_Time (minutes)=%{y}<br>Likes_Received_Per_Day=%{z}<extra></extra>",
         "legendgroup": "Boredom, 2",
         "marker": {
          "color": "#FFA15A",
          "opacity": 0.7,
          "symbol": "square"
         },
         "mode": "markers",
         "name": "Boredom, 2",
         "scene": "scene",
         "showlegend": true,
         "type": "scatter3d",
         "x": [
          24,
          29,
          29,
          27,
          33,
          24,
          29,
          29,
          27,
          33,
          24,
          27,
          33,
          24,
          29,
          29,
          27,
          33,
          24,
          29,
          29,
          27,
          33,
          24,
          29,
          29,
          27,
          33,
          24,
          29,
          29,
          27,
          33,
          24,
          27,
          33,
          24,
          29,
          29,
          27,
          33,
          24,
          29,
          29,
          27,
          33
         ],
         "y": [
          55,
          60,
          75,
          50,
          85,
          55,
          60,
          75,
          50,
          85,
          55,
          50,
          85,
          55,
          60,
          75,
          50,
          85,
          55,
          60,
          75,
          50,
          85,
          55,
          60,
          75,
          50,
          85,
          55,
          60,
          75,
          50,
          85,
          55,
          50,
          85,
          55,
          60,
          75,
          50,
          85,
          55,
          60,
          75,
          50,
          85
         ],
         "z": [
          10,
          8,
          18,
          8,
          30,
          11,
          12,
          20,
          10,
          35,
          11,
          10,
          35,
          11,
          12,
          20,
          10,
          35,
          11,
          12,
          20,
          10,
          35,
          11,
          12,
          20,
          10,
          35,
          11,
          12,
          20,
          10,
          35,
          11,
          10,
          35,
          11,
          12,
          20,
          10,
          35,
          11,
          12,
          20,
          10,
          35
         ]
        },
        {
         "hovertemplate": "Dominant_Emotion=Boredom<br>Gender=3<br>Age=%{x}<br>Daily_Usage_Time (minutes)=%{y}<br>Likes_Received_Per_Day=%{z}<extra></extra>",
         "legendgroup": "Boredom, 3",
         "marker": {
          "color": "#FFA15A",
          "opacity": 0.7,
          "symbol": "x"
         },
         "mode": "markers",
         "name": "Boredom, 3",
         "scene": "scene",
         "showlegend": true,
         "type": "scatter3d",
         "x": [
          27,
          27,
          27,
          27,
          27,
          27,
          27,
          27,
          27,
          27
         ],
         "y": [
          90,
          60,
          60,
          70,
          75,
          90,
          60,
          60,
          70,
          75
         ],
         "z": [
          22,
          12,
          12,
          13,
          20,
          22,
          12,
          12,
          13,
          20
         ]
        },
        {
         "hovertemplate": "Dominant_Emotion=Sadness<br>Gender=1<br>Age=%{x}<br>Daily_Usage_Time (minutes)=%{y}<br>Likes_Received_Per_Day=%{z}<extra></extra>",
         "legendgroup": "Sadness, 1",
         "marker": {
          "color": "#19d3f3",
          "opacity": 0.7,
          "symbol": "circle"
         },
         "mode": "markers",
         "name": "Sadness, 1",
         "scene": "scene",
         "showlegend": true,
         "type": "scatter3d",
         "x": [
          22,
          21,
          21,
          33,
          29,
          22,
          21,
          21,
          33,
          29,
          22,
          21,
          21,
          29,
          22,
          21,
          21,
          33,
          29,
          22,
          21,
          21,
          33,
          29,
          22,
          21,
          21,
          33,
          29,
          22,
          21,
          21,
          33,
          29,
          22,
          21,
          21,
          29,
          22,
          21,
          21,
          33,
          29,
          22,
          21,
          21,
          33,
          29
         ],
         "y": [
          70,
          130,
          90,
          145,
          95,
          70,
          130,
          90,
          145,
          95,
          70,
          130,
          90,
          95,
          70,
          130,
          90,
          145,
          95,
          70,
          130,
          90,
          145,
          95,
          70,
          130,
          90,
          145,
          95,
          70,
          130,
          90,
          145,
          95,
          70,
          130,
          90,
          95,
          70,
          130,
          90,
          145,
          95,
          70,
          130,
          90,
          145,
          95
         ],
         "z": [
          20,
          88,
          33,
          60,
          20,
          25,
          95,
          37,
          65,
          23,
          25,
          95,
          37,
          23,
          25,
          95,
          37,
          65,
          23,
          25,
          95,
          37,
          65,
          23,
          25,
          95,
          37,
          65,
          23,
          25,
          95,
          37,
          65,
          23,
          25,
          95,
          37,
          23,
          25,
          95,
          37,
          65,
          23,
          25,
          95,
          37,
          65,
          23
         ]
        },
        {
         "hovertemplate": "Dominant_Emotion=Sadness<br>Gender=0<br>Age=%{x}<br>Daily_Usage_Time (minutes)=%{y}<br>Likes_Received_Per_Day=%{z}<extra></extra>",
         "legendgroup": "Sadness, 0",
         "marker": {
          "color": "#19d3f3",
          "opacity": 0.7,
          "symbol": "diamond"
         },
         "mode": "markers",
         "name": "Sadness, 0",
         "scene": "scene",
         "showlegend": true,
         "type": "scatter3d",
         "x": [
          27,
          31,
          25,
          26,
          31,
          31,
          27,
          31,
          25,
          26,
          31,
          31,
          27,
          31,
          27,
          31,
          25,
          26,
          31,
          31,
          27,
          31,
          25,
          26,
          31,
          31,
          27,
          31,
          25,
          26,
          31,
          31,
          27,
          31,
          25,
          26,
          31,
          31,
          27,
          31,
          27,
          31,
          25,
          26,
          31,
          31,
          27,
          31,
          25,
          26,
          31,
          31
         ],
         "y": [
          90,
          45,
          90,
          75,
          50,
          85,
          90,
          45,
          90,
          75,
          50,
          85,
          90,
          45,
          90,
          45,
          90,
          75,
          50,
          85,
          90,
          45,
          90,
          75,
          50,
          85,
          90,
          45,
          90,
          75,
          50,
          85,
          90,
          45,
          90,
          75,
          50,
          85,
          90,
          45,
          90,
          45,
          90,
          75,
          50,
          85,
          90,
          45,
          90,
          75,
          50,
          85
         ],
         "z": [
          33,
          6,
          40,
          22,
          18,
          40,
          40,
          9,
          42,
          23,
          20,
          45,
          40,
          9,
          40,
          9,
          42,
          23,
          20,
          45,
          40,
          9,
          42,
          23,
          20,
          45,
          40,
          9,
          42,
          23,
          20,
          45,
          40,
          9,
          42,
          23,
          20,
          45,
          40,
          9,
          40,
          9,
          42,
          23,
          20,
          45,
          40,
          9,
          42,
          23,
          20,
          45
         ]
        },
        {
         "hovertemplate": "Dominant_Emotion=Sadness<br>Gender=2<br>Age=%{x}<br>Daily_Usage_Time (minutes)=%{y}<br>Likes_Received_Per_Day=%{z}<extra></extra>",
         "legendgroup": "Sadness, 2",
         "marker": {
          "color": "#19d3f3",
          "opacity": 0.7,
          "symbol": "square"
         },
         "mode": "markers",
         "name": "Sadness, 2",
         "scene": "scene",
         "showlegend": true,
         "type": "scatter3d",
         "x": [
          24,
          26,
          26,
          29,
          22,
          24,
          26,
          26,
          29,
          22,
          24,
          26,
          26,
          24,
          26,
          26,
          29,
          22,
          24,
          26,
          26,
          29,
          22,
          24,
          26,
          26,
          29,
          22,
          24,
          26,
          26,
          29,
          22,
          24,
          26,
          26,
          24,
          26,
          26,
          29,
          22,
          24,
          26,
          26,
          29,
          22
         ],
         "y": [
          110,
          95,
          45,
          50,
          75,
          110,
          95,
          45,
          50,
          75,
          110,
          95,
          45,
          110,
          95,
          45,
          50,
          75,
          110,
          95,
          45,
          50,
          75,
          110,
          95,
          45,
          50,
          75,
          110,
          95,
          45,
          50,
          75,
          110,
          95,
          45,
          110,
          95,
          45,
          50,
          75,
          110,
          95,
          45,
          50,
          75
         ],
         "z": [
          25,
          20,
          6,
          15,
          18,
          35,
          30,
          8,
          18,
          21,
          35,
          30,
          8,
          35,
          30,
          8,
          18,
          21,
          35,
          30,
          8,
          18,
          21,
          35,
          30,
          8,
          18,
          21,
          35,
          30,
          8,
          18,
          21,
          35,
          30,
          8,
          35,
          30,
          8,
          18,
          21,
          35,
          30,
          8,
          18,
          21
         ]
        },
        {
         "hovertemplate": "Dominant_Emotion=Sadness<br>Gender=3<br>Age=%{x}<br>Daily_Usage_Time (minutes)=%{y}<br>Likes_Received_Per_Day=%{z}<extra></extra>",
         "legendgroup": "Sadness, 3",
         "marker": {
          "color": "#19d3f3",
          "opacity": 0.7,
          "symbol": "x"
         },
         "mode": "markers",
         "name": "Sadness, 3",
         "scene": "scene",
         "showlegend": true,
         "type": "scatter3d",
         "x": [
          27,
          27,
          27,
          27,
          27,
          27,
          27,
          27,
          27,
          27,
          27,
          27,
          27,
          27
         ],
         "y": [
          145,
          50,
          90,
          75,
          75,
          50,
          85,
          145,
          50,
          90,
          75,
          75,
          50,
          85
         ],
         "z": [
          65,
          18,
          42,
          21,
          23,
          20,
          45,
          65,
          18,
          42,
          21,
          23,
          20,
          45
         ]
        }
       ],
       "layout": {
        "legend": {
         "title": {
          "text": "Dominant_Emotion, Gender"
         },
         "tracegroupgap": 0
        },
        "margin": {
         "b": 0,
         "l": 0,
         "r": 0,
         "t": 0
        },
        "scene": {
         "domain": {
          "x": [
           0,
           1
          ],
          "y": [
           0,
           1
          ]
         },
         "xaxis": {
          "title": {
           "text": "Age"
          }
         },
         "yaxis": {
          "title": {
           "text": "Daily_Usage_Time (minutes)"
          }
         },
         "zaxis": {
          "title": {
           "text": "Likes_Received_Per_Day"
          }
         }
        },
        "template": {
         "data": {
          "bar": [
           {
            "error_x": {
             "color": "#2a3f5f"
            },
            "error_y": {
             "color": "#2a3f5f"
            },
            "marker": {
             "line": {
              "color": "#E5ECF6",
              "width": 0.5
             },
             "pattern": {
              "fillmode": "overlay",
              "size": 10,
              "solidity": 0.2
             }
            },
            "type": "bar"
           }
          ],
          "barpolar": [
           {
            "marker": {
             "line": {
              "color": "#E5ECF6",
              "width": 0.5
             },
             "pattern": {
              "fillmode": "overlay",
              "size": 10,
              "solidity": 0.2
             }
            },
            "type": "barpolar"
           }
          ],
          "carpet": [
           {
            "aaxis": {
             "endlinecolor": "#2a3f5f",
             "gridcolor": "white",
             "linecolor": "white",
             "minorgridcolor": "white",
             "startlinecolor": "#2a3f5f"
            },
            "baxis": {
             "endlinecolor": "#2a3f5f",
             "gridcolor": "white",
             "linecolor": "white",
             "minorgridcolor": "white",
             "startlinecolor": "#2a3f5f"
            },
            "type": "carpet"
           }
          ],
          "choropleth": [
           {
            "colorbar": {
             "outlinewidth": 0,
             "ticks": ""
            },
            "type": "choropleth"
           }
          ],
          "contour": [
           {
            "colorbar": {
             "outlinewidth": 0,
             "ticks": ""
            },
            "colorscale": [
             [
              0,
              "#0d0887"
             ],
             [
              0.1111111111111111,
              "#46039f"
             ],
             [
              0.2222222222222222,
              "#7201a8"
             ],
             [
              0.3333333333333333,
              "#9c179e"
             ],
             [
              0.4444444444444444,
              "#bd3786"
             ],
             [
              0.5555555555555556,
              "#d8576b"
             ],
             [
              0.6666666666666666,
              "#ed7953"
             ],
             [
              0.7777777777777778,
              "#fb9f3a"
             ],
             [
              0.8888888888888888,
              "#fdca26"
             ],
             [
              1,
              "#f0f921"
             ]
            ],
            "type": "contour"
           }
          ],
          "contourcarpet": [
           {
            "colorbar": {
             "outlinewidth": 0,
             "ticks": ""
            },
            "type": "contourcarpet"
           }
          ],
          "heatmap": [
           {
            "colorbar": {
             "outlinewidth": 0,
             "ticks": ""
            },
            "colorscale": [
             [
              0,
              "#0d0887"
             ],
             [
              0.1111111111111111,
              "#46039f"
             ],
             [
              0.2222222222222222,
              "#7201a8"
             ],
             [
              0.3333333333333333,
              "#9c179e"
             ],
             [
              0.4444444444444444,
              "#bd3786"
             ],
             [
              0.5555555555555556,
              "#d8576b"
             ],
             [
              0.6666666666666666,
              "#ed7953"
             ],
             [
              0.7777777777777778,
              "#fb9f3a"
             ],
             [
              0.8888888888888888,
              "#fdca26"
             ],
             [
              1,
              "#f0f921"
             ]
            ],
            "type": "heatmap"
           }
          ],
          "heatmapgl": [
           {
            "colorbar": {
             "outlinewidth": 0,
             "ticks": ""
            },
            "colorscale": [
             [
              0,
              "#0d0887"
             ],
             [
              0.1111111111111111,
              "#46039f"
             ],
             [
              0.2222222222222222,
              "#7201a8"
             ],
             [
              0.3333333333333333,
              "#9c179e"
             ],
             [
              0.4444444444444444,
              "#bd3786"
             ],
             [
              0.5555555555555556,
              "#d8576b"
             ],
             [
              0.6666666666666666,
              "#ed7953"
             ],
             [
              0.7777777777777778,
              "#fb9f3a"
             ],
             [
              0.8888888888888888,
              "#fdca26"
             ],
             [
              1,
              "#f0f921"
             ]
            ],
            "type": "heatmapgl"
           }
          ],
          "histogram": [
           {
            "marker": {
             "pattern": {
              "fillmode": "overlay",
              "size": 10,
              "solidity": 0.2
             }
            },
            "type": "histogram"
           }
          ],
          "histogram2d": [
           {
            "colorbar": {
             "outlinewidth": 0,
             "ticks": ""
            },
            "colorscale": [
             [
              0,
              "#0d0887"
             ],
             [
              0.1111111111111111,
              "#46039f"
             ],
             [
              0.2222222222222222,
              "#7201a8"
             ],
             [
              0.3333333333333333,
              "#9c179e"
             ],
             [
              0.4444444444444444,
              "#bd3786"
             ],
             [
              0.5555555555555556,
              "#d8576b"
             ],
             [
              0.6666666666666666,
              "#ed7953"
             ],
             [
              0.7777777777777778,
              "#fb9f3a"
             ],
             [
              0.8888888888888888,
              "#fdca26"
             ],
             [
              1,
              "#f0f921"
             ]
            ],
            "type": "histogram2d"
           }
          ],
          "histogram2dcontour": [
           {
            "colorbar": {
             "outlinewidth": 0,
             "ticks": ""
            },
            "colorscale": [
             [
              0,
              "#0d0887"
             ],
             [
              0.1111111111111111,
              "#46039f"
             ],
             [
              0.2222222222222222,
              "#7201a8"
             ],
             [
              0.3333333333333333,
              "#9c179e"
             ],
             [
              0.4444444444444444,
              "#bd3786"
             ],
             [
              0.5555555555555556,
              "#d8576b"
             ],
             [
              0.6666666666666666,
              "#ed7953"
             ],
             [
              0.7777777777777778,
              "#fb9f3a"
             ],
             [
              0.8888888888888888,
              "#fdca26"
             ],
             [
              1,
              "#f0f921"
             ]
            ],
            "type": "histogram2dcontour"
           }
          ],
          "mesh3d": [
           {
            "colorbar": {
             "outlinewidth": 0,
             "ticks": ""
            },
            "type": "mesh3d"
           }
          ],
          "parcoords": [
           {
            "line": {
             "colorbar": {
              "outlinewidth": 0,
              "ticks": ""
             }
            },
            "type": "parcoords"
           }
          ],
          "pie": [
           {
            "automargin": true,
            "type": "pie"
           }
          ],
          "scatter": [
           {
            "fillpattern": {
             "fillmode": "overlay",
             "size": 10,
             "solidity": 0.2
            },
            "type": "scatter"
           }
          ],
          "scatter3d": [
           {
            "line": {
             "colorbar": {
              "outlinewidth": 0,
              "ticks": ""
             }
            },
            "marker": {
             "colorbar": {
              "outlinewidth": 0,
              "ticks": ""
             }
            },
            "type": "scatter3d"
           }
          ],
          "scattercarpet": [
           {
            "marker": {
             "colorbar": {
              "outlinewidth": 0,
              "ticks": ""
             }
            },
            "type": "scattercarpet"
           }
          ],
          "scattergeo": [
           {
            "marker": {
             "colorbar": {
              "outlinewidth": 0,
              "ticks": ""
             }
            },
            "type": "scattergeo"
           }
          ],
          "scattergl": [
           {
            "marker": {
             "colorbar": {
              "outlinewidth": 0,
              "ticks": ""
             }
            },
            "type": "scattergl"
           }
          ],
          "scattermapbox": [
           {
            "marker": {
             "colorbar": {
              "outlinewidth": 0,
              "ticks": ""
             }
            },
            "type": "scattermapbox"
           }
          ],
          "scatterpolar": [
           {
            "marker": {
             "colorbar": {
              "outlinewidth": 0,
              "ticks": ""
             }
            },
            "type": "scatterpolar"
           }
          ],
          "scatterpolargl": [
           {
            "marker": {
             "colorbar": {
              "outlinewidth": 0,
              "ticks": ""
             }
            },
            "type": "scatterpolargl"
           }
          ],
          "scatterternary": [
           {
            "marker": {
             "colorbar": {
              "outlinewidth": 0,
              "ticks": ""
             }
            },
            "type": "scatterternary"
           }
          ],
          "surface": [
           {
            "colorbar": {
             "outlinewidth": 0,
             "ticks": ""
            },
            "colorscale": [
             [
              0,
              "#0d0887"
             ],
             [
              0.1111111111111111,
              "#46039f"
             ],
             [
              0.2222222222222222,
              "#7201a8"
             ],
             [
              0.3333333333333333,
              "#9c179e"
             ],
             [
              0.4444444444444444,
              "#bd3786"
             ],
             [
              0.5555555555555556,
              "#d8576b"
             ],
             [
              0.6666666666666666,
              "#ed7953"
             ],
             [
              0.7777777777777778,
              "#fb9f3a"
             ],
             [
              0.8888888888888888,
              "#fdca26"
             ],
             [
              1,
              "#f0f921"
             ]
            ],
            "type": "surface"
           }
          ],
          "table": [
           {
            "cells": {
             "fill": {
              "color": "#EBF0F8"
             },
             "line": {
              "color": "white"
             }
            },
            "header": {
             "fill": {
              "color": "#C8D4E3"
             },
             "line": {
              "color": "white"
             }
            },
            "type": "table"
           }
          ]
         },
         "layout": {
          "annotationdefaults": {
           "arrowcolor": "#2a3f5f",
           "arrowhead": 0,
           "arrowwidth": 1
          },
          "autotypenumbers": "strict",
          "coloraxis": {
           "colorbar": {
            "outlinewidth": 0,
            "ticks": ""
           }
          },
          "colorscale": {
           "diverging": [
            [
             0,
             "#8e0152"
            ],
            [
             0.1,
             "#c51b7d"
            ],
            [
             0.2,
             "#de77ae"
            ],
            [
             0.3,
             "#f1b6da"
            ],
            [
             0.4,
             "#fde0ef"
            ],
            [
             0.5,
             "#f7f7f7"
            ],
            [
             0.6,
             "#e6f5d0"
            ],
            [
             0.7,
             "#b8e186"
            ],
            [
             0.8,
             "#7fbc41"
            ],
            [
             0.9,
             "#4d9221"
            ],
            [
             1,
             "#276419"
            ]
           ],
           "sequential": [
            [
             0,
             "#0d0887"
            ],
            [
             0.1111111111111111,
             "#46039f"
            ],
            [
             0.2222222222222222,
             "#7201a8"
            ],
            [
             0.3333333333333333,
             "#9c179e"
            ],
            [
             0.4444444444444444,
             "#bd3786"
            ],
            [
             0.5555555555555556,
             "#d8576b"
            ],
            [
             0.6666666666666666,
             "#ed7953"
            ],
            [
             0.7777777777777778,
             "#fb9f3a"
            ],
            [
             0.8888888888888888,
             "#fdca26"
            ],
            [
             1,
             "#f0f921"
            ]
           ],
           "sequentialminus": [
            [
             0,
             "#0d0887"
            ],
            [
             0.1111111111111111,
             "#46039f"
            ],
            [
             0.2222222222222222,
             "#7201a8"
            ],
            [
             0.3333333333333333,
             "#9c179e"
            ],
            [
             0.4444444444444444,
             "#bd3786"
            ],
            [
             0.5555555555555556,
             "#d8576b"
            ],
            [
             0.6666666666666666,
             "#ed7953"
            ],
            [
             0.7777777777777778,
             "#fb9f3a"
            ],
            [
             0.8888888888888888,
             "#fdca26"
            ],
            [
             1,
             "#f0f921"
            ]
           ]
          },
          "colorway": [
           "#636efa",
           "#EF553B",
           "#00cc96",
           "#ab63fa",
           "#FFA15A",
           "#19d3f3",
           "#FF6692",
           "#B6E880",
           "#FF97FF",
           "#FECB52"
          ],
          "font": {
           "color": "#2a3f5f"
          },
          "geo": {
           "bgcolor": "white",
           "lakecolor": "white",
           "landcolor": "#E5ECF6",
           "showlakes": true,
           "showland": true,
           "subunitcolor": "white"
          },
          "hoverlabel": {
           "align": "left"
          },
          "hovermode": "closest",
          "mapbox": {
           "style": "light"
          },
          "paper_bgcolor": "white",
          "plot_bgcolor": "#E5ECF6",
          "polar": {
           "angularaxis": {
            "gridcolor": "white",
            "linecolor": "white",
            "ticks": ""
           },
           "bgcolor": "#E5ECF6",
           "radialaxis": {
            "gridcolor": "white",
            "linecolor": "white",
            "ticks": ""
           }
          },
          "scene": {
           "xaxis": {
            "backgroundcolor": "#E5ECF6",
            "gridcolor": "white",
            "gridwidth": 2,
            "linecolor": "white",
            "showbackground": true,
            "ticks": "",
            "zerolinecolor": "white"
           },
           "yaxis": {
            "backgroundcolor": "#E5ECF6",
            "gridcolor": "white",
            "gridwidth": 2,
            "linecolor": "white",
            "showbackground": true,
            "ticks": "",
            "zerolinecolor": "white"
           },
           "zaxis": {
            "backgroundcolor": "#E5ECF6",
            "gridcolor": "white",
            "gridwidth": 2,
            "linecolor": "white",
            "showbackground": true,
            "ticks": "",
            "zerolinecolor": "white"
           }
          },
          "shapedefaults": {
           "line": {
            "color": "#2a3f5f"
           }
          },
          "ternary": {
           "aaxis": {
            "gridcolor": "white",
            "linecolor": "white",
            "ticks": ""
           },
           "baxis": {
            "gridcolor": "white",
            "linecolor": "white",
            "ticks": ""
           },
           "bgcolor": "#E5ECF6",
           "caxis": {
            "gridcolor": "white",
            "linecolor": "white",
            "ticks": ""
           }
          },
          "title": {
           "x": 0.05
          },
          "xaxis": {
           "automargin": true,
           "gridcolor": "white",
           "linecolor": "white",
           "ticks": "",
           "title": {
            "standoff": 15
           },
           "zerolinecolor": "white",
           "zerolinewidth": 2
          },
          "yaxis": {
           "automargin": true,
           "gridcolor": "white",
           "linecolor": "white",
           "ticks": "",
           "title": {
            "standoff": 15
           },
           "zerolinecolor": "white",
           "zerolinewidth": 2
          }
         }
        }
       }
      }
     },
     "metadata": {},
     "output_type": "display_data"
    }
   ],
   "source": [
    "# Create a customized 3D scatter plot\n",
    "fig = px.scatter_3d(train_df, x='Age', y='Daily_Usage_Time (minutes)', z='Likes_Received_Per_Day',color='Dominant_Emotion', symbol='Gender', size_max=20, opacity=0.7)\n",
    "\n",
    "# Set a tight layout\n",
    "fig.update_layout(margin=dict(l=0, r=0, b=0, t=0))\n",
    "fig.show()"
   ]
  },
  {
   "cell_type": "markdown",
   "metadata": {
    "id": "4rAkclFqVB3f"
   },
   "source": [
    "### Calculate the correlation Coefficient and check it's significance"
   ]
  },
  {
   "cell_type": "markdown",
   "metadata": {},
   "source": [
    "#### Changing the values for Gender, Platform and Dominant Emotion collumns"
   ]
  },
  {
   "cell_type": "code",
   "execution_count": 50,
   "metadata": {},
   "outputs": [],
   "source": [
    "train_df['Gender'] = train_df['Gender'].replace({'Male': 0, 'Female': 1, 'Non-binary': 2, 'Unknown' : 3})\n",
    "train_df['Platform'] = train_df['Platform'].replace({'Instagram': 0, 'Twitter': 1, 'Facebook': 2, 'LinkedIn' : 3, 'Whatsapp' : 4, 'Telegram' : 5, 'Snapchat' : 6})\n",
    "train_df['Dominant_Emotion'] = train_df['Dominant_Emotion'].replace({'Happiness': 0, 'Neutral': 1, 'Anxiety': 2, 'Sadness' : 3, 'Boredom' : 4, 'Anger' : 5})"
   ]
  },
  {
   "cell_type": "code",
   "execution_count": 51,
   "metadata": {},
   "outputs": [
    {
     "name": "stdout",
     "output_type": "stream",
     "text": [
      "<class 'pandas.core.frame.DataFrame'>\n",
      "Int64Index: 1000 entries, 0 to 1000\n",
      "Data columns (total 10 columns):\n",
      " #   Column                      Non-Null Count  Dtype  \n",
      "---  ------                      --------------  -----  \n",
      " 0   User_ID                     1000 non-null   object \n",
      " 1   Age                         1000 non-null   float64\n",
      " 2   Gender                      1000 non-null   int64  \n",
      " 3   Platform                    1000 non-null   int64  \n",
      " 4   Daily_Usage_Time (minutes)  1000 non-null   float64\n",
      " 5   Posts_Per_Day               1000 non-null   float64\n",
      " 6   Likes_Received_Per_Day      1000 non-null   float64\n",
      " 7   Comments_Received_Per_Day   1000 non-null   float64\n",
      " 8   Messages_Sent_Per_Day       1000 non-null   float64\n",
      " 9   Dominant_Emotion            1000 non-null   int64  \n",
      "dtypes: float64(6), int64(3), object(1)\n",
      "memory usage: 85.9+ KB\n"
     ]
    }
   ],
   "source": [
    "train_df.info()"
   ]
  },
  {
   "cell_type": "markdown",
   "metadata": {},
   "source": [
    "#### Coefficients"
   ]
  },
  {
   "cell_type": "code",
   "execution_count": 52,
   "metadata": {
    "id": "7TxtamHPVJcK"
   },
   "outputs": [
    {
     "name": "stdout",
     "output_type": "stream",
     "text": [
      "Correlation Coefficient = 0.889\n",
      "p-value = 0.000\n",
      "Significant Correlation\n"
     ]
    }
   ],
   "source": [
    "corr_coef, p_value = st.pearsonr(train_df['Daily_Usage_Time (minutes)'], train_df['Posts_Per_Day'])\n",
    "\n",
    "print('Correlation Coefficient = {:0.3f}'.format(corr_coef)) \n",
    "print('p-value = {:0.3f}'.format(p_value))\n",
    "\n",
    "# If p-value <= 0.05 the correlation is significant\n",
    "if p_value <= 0.05:\n",
    "    print('Significant Correlation')\n",
    "else:\n",
    "    print('Insignificant Correlation')"
   ]
  },
  {
   "cell_type": "code",
   "execution_count": 53,
   "metadata": {},
   "outputs": [
    {
     "name": "stdout",
     "output_type": "stream",
     "text": [
      "Correlation Coefficient = 0.941\n",
      "p-value = 0.000\n",
      "Significant Correlation\n"
     ]
    }
   ],
   "source": [
    "corr_coef, p_value = st.pearsonr(train_df['Daily_Usage_Time (minutes)'], train_df['Likes_Received_Per_Day'])\n",
    "\n",
    "print('Correlation Coefficient = {:0.3f}'.format(corr_coef)) \n",
    "print('p-value = {:0.3f}'.format(p_value))\n",
    "\n",
    "# If p-value <= 0.05 the correlation is significant\n",
    "if p_value <= 0.05:\n",
    "    print('Significant Correlation')\n",
    "else:\n",
    "    print('Insignificant Correlation')"
   ]
  },
  {
   "cell_type": "code",
   "execution_count": 54,
   "metadata": {},
   "outputs": [
    {
     "name": "stdout",
     "output_type": "stream",
     "text": [
      "Correlation Coefficient = 0.897\n",
      "p-value = 0.000\n",
      "Significant Correlation\n"
     ]
    }
   ],
   "source": [
    "corr_coef, p_value = st.pearsonr(train_df['Daily_Usage_Time (minutes)'], train_df['Comments_Received_Per_Day'])\n",
    "\n",
    "print('Correlation Coefficient = {:0.3f}'.format(corr_coef)) \n",
    "print('p-value = {:0.3f}'.format(p_value))\n",
    "\n",
    "# If p-value <= 0.05 the correlation is significant\n",
    "if p_value <= 0.05:\n",
    "    print('Significant Correlation')\n",
    "else:\n",
    "    print('Insignificant Correlation')"
   ]
  },
  {
   "cell_type": "code",
   "execution_count": 55,
   "metadata": {},
   "outputs": [
    {
     "name": "stdout",
     "output_type": "stream",
     "text": [
      "Correlation Coefficient = -0.480\n",
      "p-value = 0.000\n",
      "Significant Correlation\n"
     ]
    }
   ],
   "source": [
    "corr_coef, p_value = st.pearsonr(train_df['Daily_Usage_Time (minutes)'], train_df['Dominant_Emotion'])\n",
    "\n",
    "print('Correlation Coefficient = {:0.3f}'.format(corr_coef)) \n",
    "print('p-value = {:0.3f}'.format(p_value))\n",
    "\n",
    "# If p-value <= 0.05 the correlation is significant\n",
    "if p_value <= 0.05:\n",
    "    print('Significant Correlation')\n",
    "else:\n",
    "    print('Insignificant Correlation')"
   ]
  },
  {
   "cell_type": "code",
   "execution_count": 56,
   "metadata": {},
   "outputs": [
    {
     "name": "stdout",
     "output_type": "stream",
     "text": [
      "Correlation Coefficient = -0.358\n",
      "p-value = 0.000\n",
      "Significant Correlation\n"
     ]
    }
   ],
   "source": [
    "corr_coef, p_value = st.pearsonr(train_df['Posts_Per_Day'], train_df['Dominant_Emotion'])\n",
    "\n",
    "print('Correlation Coefficient = {:0.3f}'.format(corr_coef)) \n",
    "print('p-value = {:0.3f}'.format(p_value))\n",
    "\n",
    "# If p-value <= 0.05 the correlation is significant\n",
    "if p_value <= 0.05:\n",
    "    print('Significant Correlation')\n",
    "else:\n",
    "    print('Insignificant Correlation')"
   ]
  },
  {
   "cell_type": "code",
   "execution_count": 57,
   "metadata": {},
   "outputs": [
    {
     "name": "stdout",
     "output_type": "stream",
     "text": [
      "Correlation Coefficient = 0.080\n",
      "p-value = 0.012\n",
      "Significant Correlation\n"
     ]
    }
   ],
   "source": [
    "corr_coef, p_value = st.pearsonr(train_df['Age'], train_df['Daily_Usage_Time (minutes)'])\n",
    "\n",
    "print('Correlation Coefficient = {:0.3f}'.format(corr_coef)) \n",
    "print('p-value = {:0.3f}'.format(p_value))\n",
    "\n",
    "# If p-value <= 0.05 the correlation is significant\n",
    "if p_value <= 0.05:\n",
    "    print('Significant Correlation')\n",
    "else:\n",
    "    print('Insignificant Correlation')"
   ]
  },
  {
   "cell_type": "code",
   "execution_count": 58,
   "metadata": {},
   "outputs": [
    {
     "name": "stdout",
     "output_type": "stream",
     "text": [
      "Correlation Coefficient = 0.030\n",
      "p-value = 0.350\n",
      "Insignificant Correlation\n"
     ]
    }
   ],
   "source": [
    "corr_coef, p_value = st.pearsonr(train_df['Age'], train_df['Posts_Per_Day'])\n",
    "\n",
    "print('Correlation Coefficient = {:0.3f}'.format(corr_coef)) \n",
    "print('p-value = {:0.3f}'.format(p_value))\n",
    "\n",
    "# If p-value <= 0.05 the correlation is significant\n",
    "if p_value <= 0.05:\n",
    "    print('Significant Correlation')\n",
    "else:\n",
    "    print('Insignificant Correlation')"
   ]
  },
  {
   "cell_type": "code",
   "execution_count": 59,
   "metadata": {},
   "outputs": [
    {
     "name": "stdout",
     "output_type": "stream",
     "text": [
      "Correlation Coefficient = -0.143\n",
      "p-value = 0.000\n",
      "Significant Correlation\n"
     ]
    }
   ],
   "source": [
    "corr_coef, p_value = st.pearsonr(train_df['Gender'], train_df['Daily_Usage_Time (minutes)'])\n",
    "\n",
    "print('Correlation Coefficient = {:0.3f}'.format(corr_coef)) \n",
    "print('p-value = {:0.3f}'.format(p_value))\n",
    "\n",
    "# If p-value <= 0.05 the correlation is significant\n",
    "if p_value <= 0.05:\n",
    "    print('Significant Correlation')\n",
    "else:\n",
    "    print('Insignificant Correlation')"
   ]
  },
  {
   "cell_type": "code",
   "execution_count": 60,
   "metadata": {},
   "outputs": [
    {
     "name": "stdout",
     "output_type": "stream",
     "text": [
      "Correlation Coefficient = -0.179\n",
      "p-value = 0.000\n",
      "Significant Correlation\n"
     ]
    }
   ],
   "source": [
    "corr_coef, p_value = st.pearsonr(train_df['Gender'], train_df['Posts_Per_Day'])\n",
    "\n",
    "print('Correlation Coefficient = {:0.3f}'.format(corr_coef)) \n",
    "print('p-value = {:0.3f}'.format(p_value))\n",
    "\n",
    "# If p-value <= 0.05 the correlation is significant\n",
    "if p_value <= 0.05:\n",
    "    print('Significant Correlation')\n",
    "else:\n",
    "    print('Insignificant Correlation')"
   ]
  },
  {
   "cell_type": "code",
   "execution_count": 61,
   "metadata": {},
   "outputs": [],
   "source": [
    "train_df = train_df.drop('User_ID', axis=1)"
   ]
  },
  {
   "cell_type": "code",
   "execution_count": 62,
   "metadata": {},
   "outputs": [
    {
     "name": "stdout",
     "output_type": "stream",
     "text": [
      "<class 'pandas.core.frame.DataFrame'>\n",
      "Int64Index: 1000 entries, 0 to 1000\n",
      "Data columns (total 9 columns):\n",
      " #   Column                      Non-Null Count  Dtype  \n",
      "---  ------                      --------------  -----  \n",
      " 0   Age                         1000 non-null   float64\n",
      " 1   Gender                      1000 non-null   int64  \n",
      " 2   Platform                    1000 non-null   int64  \n",
      " 3   Daily_Usage_Time (minutes)  1000 non-null   float64\n",
      " 4   Posts_Per_Day               1000 non-null   float64\n",
      " 5   Likes_Received_Per_Day      1000 non-null   float64\n",
      " 6   Comments_Received_Per_Day   1000 non-null   float64\n",
      " 7   Messages_Sent_Per_Day       1000 non-null   float64\n",
      " 8   Dominant_Emotion            1000 non-null   int64  \n",
      "dtypes: float64(6), int64(3)\n",
      "memory usage: 78.1 KB\n"
     ]
    }
   ],
   "source": [
    "train_df.info()"
   ]
  },
  {
   "cell_type": "code",
   "execution_count": 63,
   "metadata": {},
   "outputs": [],
   "source": [
    "import matplotlib.pyplot as plt"
   ]
  },
  {
   "cell_type": "markdown",
   "metadata": {},
   "source": [
    "### Visualization using HeatMap"
   ]
  },
  {
   "cell_type": "code",
   "execution_count": 64,
   "metadata": {},
   "outputs": [
    {
     "data": {
      "image/png": "[encoded data removed]",
      "text/plain": [
       "<Figure size 1000x800 with 2 Axes>"
      ]
     },
     "metadata": {},
     "output_type": "display_data"
    }
   ],
   "source": [
    "# Calculate the correlation matrix\n",
    "corr_matrix = train_df.corr()\n",
    "\n",
    "# Create a heatmap\n",
    "plt.figure(figsize=(10, 8))\n",
    "sns.heatmap(corr_matrix, annot=True, cmap='coolwarm', square=True)\n",
    "plt.title('Correlation Heatmap')\n",
    "plt.show()"
   ]
  },
  {
   "cell_type": "markdown",
   "metadata": {
    "id": "lXweaUzDLpNk"
   },
   "source": [
    "### Loading the dataset"
   ]
  },
  {
   "cell_type": "code",
   "execution_count": 65,
   "metadata": {},
   "outputs": [
    {
     "name": "stdout",
     "output_type": "stream",
     "text": [
      "<class 'pandas.core.frame.DataFrame'>\n",
      "Int64Index: 1000 entries, 0 to 1000\n",
      "Data columns (total 9 columns):\n",
      " #   Column                      Non-Null Count  Dtype  \n",
      "---  ------                      --------------  -----  \n",
      " 0   Age                         1000 non-null   float64\n",
      " 1   Gender                      1000 non-null   int64  \n",
      " 2   Platform                    1000 non-null   int64  \n",
      " 3   Daily_Usage_Time (minutes)  1000 non-null   float64\n",
      " 4   Posts_Per_Day               1000 non-null   float64\n",
      " 5   Likes_Received_Per_Day      1000 non-null   float64\n",
      " 6   Comments_Received_Per_Day   1000 non-null   float64\n",
      " 7   Messages_Sent_Per_Day       1000 non-null   float64\n",
      " 8   Dominant_Emotion            1000 non-null   int64  \n",
      "dtypes: float64(6), int64(3)\n",
      "memory usage: 78.1 KB\n"
     ]
    }
   ],
   "source": [
    "train_df.info()"
   ]
  },
  {
   "cell_type": "code",
   "execution_count": 66,
   "metadata": {},
   "outputs": [],
   "source": [
    "train_df['Dominant_Emotion'] = train_df['Dominant_Emotion'].astype('int64')"
   ]
  },
  {
   "cell_type": "markdown",
   "metadata": {},
   "source": [
    "0 -> Happiness\n",
    "\n",
    "1 -> Neutral\n",
    "\n",
    "2 -> Anxiety\n",
    "\n",
    "3 -> Sadness \n",
    "\n",
    "4 -> Boredom\n",
    "\n",
    "5 -> Anger\n",
    "\n"
   ]
  },
  {
   "cell_type": "code",
   "execution_count": 68,
   "metadata": {},
   "outputs": [
    {
     "data": {
      "application/vnd.plotly.v1+json": {
       "config": {
        "plotlyServerURL": "https://plot.ly"
       },
       "data": [
        {
         "hovertemplate": "Likes_Received_Per_Day=%{x}<br>Dominant_Emotion=%{y}<extra></extra>",
         "legendgroup": "",
         "marker": {
          "color": "#636efa",
          "symbol": "circle"
         },
         "mode": "markers",
         "name": "",
         "orientation": "v",
         "showlegend": false,
         "type": "scatter",
         "x": [
          45,
          20,
          15,
          100,
          5,
          60,
          30,
          25,
          10,
          80,
          35,
          20,
          12,
          90,
          40,
          5,
          55,
          33,
          8,
          70,
          25,
          28,
          11,
          95,
          20,
          18,
          9,
          85,
          38,
          6,
          13,
          75,
          27,
          88,
          22,
          10,
          90,
          35,
          55,
          18,
          6,
          80,
          40,
          20,
          12,
          85,
          33,
          28,
          70,
          8,
          78,
          29,
          25,
          60,
          10,
          40,
          20,
          15,
          45,
          10,
          70,
          20,
          18,
          50,
          40,
          8,
          75,
          25,
          45,
          18,
          60,
          12,
          15,
          20,
          28,
          36,
          72,
          22,
          12,
          35,
          18,
          30,
          55,
          20,
          18,
          35,
          40,
          15,
          78,
          28,
          8,
          50,
          33,
          20,
          65,
          30,
          12,
          45,
          15,
          38,
          50,
          30,
          20,
          110,
          10,
          65,
          40,
          35,
          15,
          90,
          45,
          30,
          14,
          100,
          50,
          10,
          65,
          40,
          12,
          75,
          30,
          35,
          17,
          105,
          25,
          20,
          12,
          85,
          43,
          8,
          17,
          80,
          30,
          95,
          27,
          11,
          95,
          45,
          60,
          22,
          9,
          90,
          50,
          25,
          15,
          100,
          37,
          30,
          80,
          12,
          85,
          33,
          27,
          65,
          15,
          42,
          22,
          18,
          48,
          12,
          72,
          22,
          21,
          55,
          42,
          12,
          78,
          27,
          48,
          21,
          65,
          13,
          17,
          24,
          30,
          38,
          75,
          23,
          13,
          37,
          20,
          33,
          60,
          22,
          20,
          37,
          45,
          18,
          83,
          30,
          10,
          55,
          37,
          23,
          70,
          35,
          14,
          50,
          18,
          40,
          50,
          30,
          20,
          110,
          10,
          65,
          40,
          35,
          15,
          90,
          45,
          30,
          14,
          100,
          50,
          10,
          65,
          40,
          12,
          75,
          30,
          35,
          17,
          105,
          25,
          20,
          12,
          85,
          43,
          8,
          17,
          80,
          30,
          95,
          27,
          11,
          95,
          45,
          60,
          22,
          9,
          90,
          50,
          25,
          15,
          100,
          37,
          30,
          80,
          12,
          85,
          33,
          27,
          65,
          15,
          42,
          22,
          18,
          48,
          12,
          72,
          22,
          21,
          55,
          42,
          12,
          78,
          27,
          48,
          21,
          65,
          13,
          17,
          24,
          30,
          38,
          75,
          23,
          13,
          37,
          20,
          33,
          60,
          22,
          20,
          37,
          45,
          18,
          83,
          30,
          10,
          55,
          37,
          23,
          70,
          35,
          14,
          50,
          18,
          40,
          50,
          30,
          20,
          110,
          10,
          65,
          40,
          35,
          15,
          90,
          45,
          30,
          14,
          100,
          50,
          10,
          65,
          40,
          12,
          75,
          30,
          35,
          17,
          105,
          25,
          20,
          12,
          85,
          43,
          8,
          17,
          80,
          30,
          95,
          27,
          11,
          95,
          45,
          60,
          22,
          9,
          90,
          50,
          25,
          15,
          100,
          37,
          30,
          80,
          12,
          85,
          33,
          27,
          65,
          15,
          42,
          22,
          18,
          48,
          12,
          72,
          22,
          21,
          55,
          42,
          12,
          78,
          27,
          48,
          21,
          65,
          13,
          17,
          24,
          30,
          38,
          75,
          23,
          13,
          37,
          20,
          33,
          60,
          22,
          20,
          37,
          45,
          18,
          83,
          30,
          10,
          55,
          37,
          23,
          70,
          35,
          14,
          50,
          18,
          40,
          50,
          30,
          20,
          110,
          10,
          65,
          40,
          35,
          15,
          90,
          45,
          30,
          14,
          100,
          50,
          10,
          65,
          40,
          12,
          75,
          30,
          35,
          17,
          105,
          25,
          20,
          12,
          85,
          43,
          8,
          17,
          80,
          30,
          95,
          27,
          11,
          95,
          45,
          60,
          22,
          9,
          90,
          50,
          25,
          15,
          100,
          37,
          30,
          80,
          12,
          85,
          33,
          27,
          65,
          15,
          42,
          22,
          18,
          48,
          12,
          72,
          22,
          21,
          55,
          42,
          12,
          78,
          27,
          48,
          21,
          65,
          13,
          17,
          24,
          30,
          38,
          75,
          23,
          13,
          37,
          20,
          33,
          60,
          22,
          20,
          37,
          45,
          18,
          83,
          30,
          10,
          55,
          37,
          23,
          70,
          35,
          14,
          50,
          18,
          40,
          50,
          30,
          20,
          110,
          10,
          65,
          40,
          35,
          15,
          90,
          45,
          30,
          14,
          100,
          50,
          10,
          65,
          40,
          12,
          75,
          30,
          35,
          17,
          105,
          25,
          20,
          12,
          85,
          43,
          8,
          17,
          80,
          30,
          95,
          27,
          11,
          95,
          45,
          60,
          22,
          9,
          90,
          50,
          25,
          15,
          100,
          37,
          30,
          80,
          12,
          85,
          33,
          27,
          65,
          15,
          42,
          22,
          18,
          48,
          12,
          72,
          22,
          21,
          55,
          42,
          12,
          78,
          27,
          48,
          21,
          65,
          13,
          17,
          24,
          30,
          38,
          75,
          23,
          13,
          37,
          20,
          33,
          60,
          22,
          20,
          37,
          45,
          18,
          83,
          30,
          10,
          55,
          37,
          23,
          70,
          35,
          14,
          50,
          18,
          40,
          50,
          30,
          20,
          110,
          10,
          65,
          40,
          35,
          15,
          90,
          45,
          30,
          14,
          100,
          50,
          10,
          65,
          40,
          12,
          75,
          30,
          35,
          17,
          105,
          25,
          20,
          12,
          85,
          43,
          8,
          17,
          80,
          30,
          95,
          27,
          11,
          95,
          45,
          60,
          22,
          9,
          90,
          50,
          25,
          15,
          100,
          37,
          30,
          80,
          12,
          85,
          33,
          27,
          65,
          15,
          42,
          22,
          18,
          48,
          12,
          72,
          22,
          21,
          55,
          42,
          12,
          78,
          27,
          48,
          21,
          65,
          13,
          17,
          24,
          30,
          38,
          75,
          23,
          13,
          37,
          20,
          33,
          60,
          22,
          20,
          37,
          45,
          18,
          83,
          30,
          10,
          55,
          37,
          23,
          70,
          35,
          14,
          50,
          18,
          40,
          50,
          30,
          20,
          110,
          10,
          65,
          40,
          35,
          15,
          90,
          45,
          30,
          14,
          100,
          50,
          10,
          65,
          40,
          12,
          75,
          30,
          35,
          17,
          105,
          25,
          20,
          12,
          85,
          43,
          8,
          17,
          80,
          30,
          95,
          27,
          11,
          95,
          45,
          60,
          22,
          9,
          90,
          50,
          25,
          15,
          100,
          37,
          30,
          80,
          12,
          85,
          33,
          27,
          65,
          15,
          42,
          22,
          18,
          48,
          12,
          72,
          22,
          21,
          55,
          42,
          12,
          78,
          27,
          48,
          21,
          65,
          13,
          17,
          24,
          30,
          38,
          75,
          23,
          13,
          37,
          20,
          33,
          60,
          22,
          20,
          37,
          45,
          18,
          83,
          30,
          10,
          55,
          37,
          23,
          70,
          35,
          14,
          50,
          18,
          40,
          50,
          30,
          20,
          110,
          10,
          65,
          40,
          35,
          15,
          90,
          45,
          30,
          14,
          100,
          50,
          10,
          65,
          40,
          12,
          75,
          30,
          35,
          17,
          105,
          25,
          20,
          12,
          85,
          43,
          8,
          17,
          80,
          30,
          95,
          27,
          11,
          95,
          45,
          60,
          22,
          9,
          90,
          50,
          25,
          15,
          100,
          37,
          30,
          80,
          12,
          85,
          33,
          27,
          65,
          15,
          42,
          22,
          18,
          48,
          12,
          72,
          22,
          21,
          55,
          42,
          12,
          78,
          27,
          48,
          21,
          65,
          13,
          17,
          24,
          30,
          38,
          75,
          23,
          13,
          37,
          20,
          33,
          60,
          22,
          20,
          37,
          45,
          18,
          83,
          30,
          10,
          55,
          37,
          23,
          70,
          35,
          14,
          50,
          18,
          40,
          50,
          30,
          20,
          110,
          10,
          65,
          40,
          35,
          15,
          90,
          45,
          30,
          14,
          100,
          50,
          10,
          65,
          40,
          12,
          75,
          30,
          35,
          17,
          105,
          25,
          20,
          12,
          85,
          43,
          8,
          17,
          80,
          30,
          95,
          27,
          11,
          95,
          45,
          60,
          22,
          9,
          90,
          50,
          25,
          15,
          100,
          37,
          30,
          80,
          12,
          85,
          33,
          27,
          65,
          15,
          42,
          22,
          18,
          48,
          12,
          72,
          22,
          21,
          55,
          42,
          12,
          78,
          27,
          48,
          21,
          65,
          13,
          17,
          24,
          30,
          38,
          75,
          23,
          13,
          37,
          20,
          33,
          60,
          22,
          20,
          37,
          45,
          18,
          83,
          30,
          10,
          55,
          37,
          23,
          70,
          35,
          14,
          50,
          18,
          40
         ],
         "xaxis": "x",
         "y": [
          0,
          5,
          1,
          2,
          4,
          0,
          5,
          3,
          1,
          0,
          2,
          3,
          4,
          0,
          5,
          1,
          2,
          3,
          1,
          0,
          2,
          5,
          4,
          0,
          3,
          1,
          2,
          0,
          5,
          3,
          4,
          0,
          1,
          3,
          2,
          4,
          0,
          5,
          1,
          2,
          3,
          0,
          5,
          1,
          4,
          0,
          3,
          2,
          1,
          4,
          0,
          5,
          1,
          3,
          2,
          2,
          4,
          3,
          0,
          4,
          0,
          5,
          1,
          2,
          3,
          4,
          0,
          1,
          2,
          3,
          0,
          4,
          1,
          5,
          1,
          2,
          0,
          3,
          2,
          1,
          3,
          0,
          5,
          1,
          4,
          2,
          3,
          1,
          0,
          2,
          4,
          5,
          1,
          3,
          2,
          4,
          1,
          0,
          5,
          1,
          0,
          5,
          1,
          2,
          4,
          0,
          5,
          3,
          1,
          0,
          2,
          3,
          4,
          0,
          5,
          1,
          2,
          3,
          1,
          0,
          2,
          5,
          4,
          0,
          3,
          1,
          2,
          0,
          5,
          3,
          4,
          0,
          1,
          3,
          2,
          4,
          0,
          5,
          1,
          2,
          3,
          0,
          5,
          1,
          4,
          0,
          3,
          2,
          1,
          4,
          0,
          5,
          1,
          3,
          2,
          2,
          4,
          3,
          0,
          4,
          0,
          5,
          1,
          2,
          3,
          4,
          0,
          1,
          2,
          3,
          0,
          4,
          1,
          5,
          1,
          2,
          0,
          3,
          2,
          1,
          3,
          0,
          5,
          1,
          4,
          2,
          3,
          1,
          0,
          2,
          4,
          5,
          1,
          3,
          2,
          4,
          1,
          0,
          5,
          1,
          0,
          5,
          1,
          2,
          4,
          0,
          5,
          3,
          1,
          0,
          2,
          3,
          4,
          0,
          5,
          1,
          2,
          3,
          1,
          0,
          2,
          5,
          4,
          0,
          3,
          1,
          2,
          0,
          5,
          3,
          4,
          0,
          1,
          3,
          2,
          4,
          0,
          5,
          1,
          2,
          3,
          0,
          5,
          1,
          4,
          0,
          3,
          2,
          1,
          4,
          0,
          5,
          1,
          3,
          2,
          2,
          4,
          3,
          0,
          4,
          0,
          5,
          1,
          2,
          3,
          4,
          0,
          1,
          2,
          3,
          0,
          4,
          1,
          5,
          1,
          2,
          0,
          3,
          2,
          1,
          3,
          0,
          5,
          1,
          4,
          2,
          3,
          1,
          0,
          2,
          4,
          5,
          1,
          3,
          2,
          4,
          1,
          0,
          5,
          1,
          0,
          5,
          1,
          2,
          4,
          0,
          5,
          3,
          1,
          0,
          2,
          3,
          4,
          0,
          5,
          1,
          2,
          3,
          1,
          0,
          2,
          5,
          4,
          0,
          3,
          1,
          2,
          0,
          5,
          3,
          4,
          0,
          1,
          3,
          2,
          4,
          0,
          5,
          1,
          2,
          3,
          0,
          5,
          1,
          4,
          0,
          3,
          2,
          1,
          4,
          0,
          5,
          1,
          3,
          2,
          2,
          4,
          3,
          0,
          4,
          0,
          5,
          1,
          2,
          3,
          4,
          0,
          1,
          2,
          3,
          0,
          4,
          1,
          5,
          1,
          2,
          0,
          3,
          2,
          1,
          3,
          0,
          5,
          1,
          4,
          2,
          3,
          1,
          0,
          2,
          4,
          5,
          1,
          3,
          2,
          4,
          1,
          0,
          5,
          1,
          0,
          5,
          1,
          2,
          4,
          0,
          5,
          3,
          1,
          0,
          2,
          3,
          4,
          0,
          5,
          1,
          2,
          3,
          1,
          0,
          2,
          5,
          4,
          0,
          3,
          1,
          2,
          0,
          5,
          3,
          4,
          0,
          1,
          3,
          2,
          4,
          0,
          5,
          1,
          2,
          3,
          0,
          5,
          1,
          4,
          0,
          3,
          2,
          1,
          4,
          0,
          5,
          1,
          3,
          2,
          2,
          4,
          3,
          0,
          4,
          0,
          5,
          1,
          2,
          3,
          4,
          0,
          1,
          2,
          3,
          0,
          4,
          1,
          5,
          1,
          2,
          0,
          3,
          2,
          1,
          3,
          0,
          5,
          1,
          4,
          2,
          3,
          1,
          0,
          2,
          4,
          5,
          1,
          3,
          2,
          4,
          1,
          0,
          5,
          1,
          0,
          5,
          1,
          2,
          4,
          0,
          5,
          3,
          1,
          0,
          2,
          3,
          4,
          0,
          5,
          1,
          2,
          3,
          1,
          0,
          2,
          5,
          4,
          0,
          3,
          1,
          2,
          0,
          5,
          3,
          4,
          0,
          1,
          3,
          2,
          4,
          0,
          5,
          1,
          2,
          3,
          0,
          5,
          1,
          4,
          0,
          3,
          2,
          1,
          4,
          0,
          5,
          1,
          3,
          2,
          2,
          4,
          3,
          0,
          4,
          0,
          5,
          1,
          2,
          3,
          4,
          0,
          1,
          2,
          3,
          0,
          4,
          1,
          5,
          1,
          2,
          0,
          3,
          2,
          1,
          3,
          0,
          5,
          1,
          4,
          2,
          3,
          1,
          0,
          2,
          4,
          5,
          1,
          3,
          2,
          4,
          1,
          0,
          5,
          1,
          0,
          5,
          1,
          2,
          4,
          0,
          5,
          3,
          1,
          0,
          2,
          3,
          4,
          0,
          5,
          1,
          2,
          3,
          1,
          0,
          2,
          5,
          4,
          0,
          3,
          1,
          2,
          0,
          5,
          3,
          4,
          0,
          1,
          3,
          2,
          4,
          0,
          5,
          1,
          2,
          3,
          0,
          5,
          1,
          4,
          0,
          3,
          2,
          1,
          4,
          0,
          5,
          1,
          3,
          2,
          2,
          4,
          3,
          0,
          4,
          0,
          5,
          1,
          2,
          3,
          4,
          0,
          1,
          2,
          3,
          0,
          4,
          1,
          5,
          1,
          2,
          0,
          3,
          2,
          1,
          3,
          0,
          5,
          1,
          4,
          2,
          3,
          1,
          0,
          2,
          4,
          5,
          1,
          3,
          2,
          4,
          1,
          0,
          5,
          1,
          0,
          5,
          1,
          2,
          4,
          0,
          5,
          3,
          1,
          0,
          2,
          3,
          4,
          0,
          5,
          1,
          2,
          3,
          1,
          0,
          2,
          5,
          4,
          0,
          3,
          1,
          2,
          0,
          5,
          3,
          4,
          0,
          1,
          3,
          2,
          4,
          0,
          5,
          1,
          2,
          3,
          0,
          5,
          1,
          4,
          0,
          3,
          2,
          1,
          4,
          0,
          5,
          1,
          3,
          2,
          2,
          4,
          3,
          0,
          4,
          0,
          5,
          1,
          2,
          3,
          4,
          0,
          1,
          2,
          3,
          0,
          4,
          1,
          5,
          1,
          2,
          0,
          3,
          2,
          1,
          3,
          0,
          5,
          1,
          4,
          2,
          3,
          1,
          0,
          2,
          4,
          5,
          1,
          3,
          2,
          4,
          1,
          0,
          5,
          1,
          0,
          5,
          1,
          2,
          4,
          0,
          5,
          3,
          1,
          0,
          2,
          3,
          4,
          0,
          5,
          1,
          2,
          3,
          1,
          0,
          2,
          5,
          4,
          0,
          3,
          1,
          2,
          0,
          5,
          3,
          4,
          0,
          1,
          3,
          2,
          4,
          0,
          5,
          1,
          2,
          3,
          0,
          5,
          1,
          4,
          0,
          3,
          2,
          1,
          4,
          0,
          5,
          1,
          3,
          2,
          2,
          4,
          3,
          0,
          4,
          0,
          5,
          1,
          2,
          3,
          4,
          0,
          1,
          2,
          3,
          0,
          4,
          1,
          5,
          1,
          2,
          0,
          3,
          2,
          1,
          3,
          0,
          5,
          1,
          4,
          2,
          3,
          1,
          0,
          2,
          4,
          5,
          1,
          3,
          2,
          4,
          1,
          0,
          5,
          1,
          0,
          5,
          1,
          2,
          4,
          0,
          5,
          3,
          1,
          0,
          2,
          3,
          4,
          0,
          5,
          1,
          2,
          3,
          1,
          0,
          2,
          5,
          4,
          0,
          3,
          1,
          2,
          0,
          5,
          3,
          4,
          0,
          1,
          3,
          2,
          4,
          0,
          5,
          1,
          2,
          3,
          0,
          5,
          1,
          4,
          0,
          3,
          2,
          1,
          4,
          0,
          5,
          1,
          3,
          2,
          2,
          4,
          3,
          0,
          4,
          0,
          5,
          1,
          2,
          3,
          4,
          0,
          1,
          2,
          3,
          0,
          4,
          1,
          5,
          1,
          2,
          0,
          3,
          2,
          1,
          3,
          0,
          5,
          1,
          4,
          2,
          3,
          1,
          0,
          2,
          4,
          5,
          1,
          3,
          2,
          4,
          1,
          0,
          5,
          1
         ],
         "yaxis": "y"
        },
        {
         "hovertemplate": "<b>OLS trendline</b><br>Dominant_Emotion = -0.0294243 * Likes_Received_Per_Day + 3.40397<br>R<sup>2</sup>=0.212378<br><br>Likes_Received_Per_Day=%{x}<br>Dominant_Emotion=%{y} <b>(trend)</b><extra></extra>",
         "legendgroup": "",
         "marker": {
          "color": "#636efa",
          "symbol": "circle"
         },
         "mode": "lines",
         "name": "",
         "showlegend": false,
         "type": "scatter",
         "x": [
          5,
          5,
          6,
          6,
          8,
          8,
          8,
          8,
          8,
          8,
          8,
          8,
          8,
          8,
          8,
          8,
          8,
          9,
          9,
          9,
          9,
          9,
          9,
          9,
          9,
          9,
          9,
          10,
          10,
          10,
          10,
          10,
          10,
          10,
          10,
          10,
          10,
          10,
          10,
          10,
          10,
          10,
          10,
          10,
          10,
          10,
          10,
          10,
          10,
          10,
          10,
          10,
          10,
          10,
          10,
          10,
          10,
          10,
          11,
          11,
          11,
          11,
          11,
          11,
          11,
          11,
          11,
          11,
          12,
          12,
          12,
          12,
          12,
          12,
          12,
          12,
          12,
          12,
          12,
          12,
          12,
          12,
          12,
          12,
          12,
          12,
          12,
          12,
          12,
          12,
          12,
          12,
          12,
          12,
          12,
          12,
          12,
          12,
          12,
          12,
          12,
          12,
          12,
          12,
          12,
          12,
          12,
          12,
          12,
          12,
          12,
          12,
          12,
          12,
          12,
          12,
          12,
          12,
          13,
          13,
          13,
          13,
          13,
          13,
          13,
          13,
          13,
          13,
          13,
          13,
          13,
          13,
          13,
          13,
          13,
          13,
          13,
          14,
          14,
          14,
          14,
          14,
          14,
          14,
          14,
          14,
          14,
          14,
          14,
          14,
          14,
          14,
          14,
          14,
          14,
          15,
          15,
          15,
          15,
          15,
          15,
          15,
          15,
          15,
          15,
          15,
          15,
          15,
          15,
          15,
          15,
          15,
          15,
          15,
          15,
          15,
          15,
          15,
          15,
          15,
          15,
          15,
          15,
          15,
          15,
          15,
          15,
          17,
          17,
          17,
          17,
          17,
          17,
          17,
          17,
          17,
          17,
          17,
          17,
          17,
          17,
          17,
          17,
          17,
          17,
          17,
          17,
          17,
          17,
          17,
          17,
          17,
          17,
          17,
          18,
          18,
          18,
          18,
          18,
          18,
          18,
          18,
          18,
          18,
          18,
          18,
          18,
          18,
          18,
          18,
          18,
          18,
          18,
          18,
          18,
          18,
          18,
          18,
          18,
          18,
          18,
          18,
          18,
          18,
          18,
          18,
          18,
          20,
          20,
          20,
          20,
          20,
          20,
          20,
          20,
          20,
          20,
          20,
          20,
          20,
          20,
          20,
          20,
          20,
          20,
          20,
          20,
          20,
          20,
          20,
          20,
          20,
          20,
          20,
          20,
          20,
          20,
          20,
          20,
          20,
          20,
          20,
          20,
          20,
          20,
          20,
          20,
          20,
          20,
          20,
          20,
          20,
          21,
          21,
          21,
          21,
          21,
          21,
          21,
          21,
          21,
          21,
          21,
          21,
          21,
          21,
          21,
          21,
          21,
          21,
          22,
          22,
          22,
          22,
          22,
          22,
          22,
          22,
          22,
          22,
          22,
          22,
          22,
          22,
          22,
          22,
          22,
          22,
          22,
          22,
          22,
          22,
          22,
          22,
          22,
          22,
          22,
          22,
          22,
          22,
          22,
          22,
          22,
          22,
          22,
          22,
          22,
          22,
          23,
          23,
          23,
          23,
          23,
          23,
          23,
          23,
          23,
          23,
          23,
          23,
          23,
          23,
          23,
          23,
          23,
          23,
          24,
          24,
          24,
          24,
          24,
          24,
          24,
          24,
          24,
          25,
          25,
          25,
          25,
          25,
          25,
          25,
          25,
          25,
          25,
          25,
          25,
          25,
          25,
          25,
          25,
          25,
          25,
          25,
          25,
          25,
          25,
          27,
          27,
          27,
          27,
          27,
          27,
          27,
          27,
          27,
          27,
          27,
          27,
          27,
          27,
          27,
          27,
          27,
          27,
          27,
          27,
          27,
          27,
          27,
          27,
          27,
          27,
          27,
          27,
          28,
          28,
          28,
          28,
          29,
          30,
          30,
          30,
          30,
          30,
          30,
          30,
          30,
          30,
          30,
          30,
          30,
          30,
          30,
          30,
          30,
          30,
          30,
          30,
          30,
          30,
          30,
          30,
          30,
          30,
          30,
          30,
          30,
          30,
          30,
          30,
          30,
          30,
          30,
          30,
          30,
          30,
          30,
          30,
          30,
          30,
          30,
          30,
          30,
          30,
          30,
          30,
          30,
          30,
          30,
          30,
          30,
          30,
          30,
          30,
          30,
          30,
          30,
          30,
          30,
          30,
          30,
          30,
          30,
          30,
          30,
          33,
          33,
          33,
          33,
          33,
          33,
          33,
          33,
          33,
          33,
          33,
          33,
          33,
          33,
          33,
          33,
          33,
          33,
          33,
          33,
          33,
          35,
          35,
          35,
          35,
          35,
          35,
          35,
          35,
          35,
          35,
          35,
          35,
          35,
          35,
          35,
          35,
          35,
          35,
          35,
          35,
          35,
          35,
          35,
          35,
          35,
          35,
          35,
          35,
          35,
          35,
          35,
          36,
          37,
          37,
          37,
          37,
          37,
          37,
          37,
          37,
          37,
          37,
          37,
          37,
          37,
          37,
          37,
          37,
          37,
          37,
          37,
          37,
          37,
          37,
          37,
          37,
          37,
          37,
          37,
          37,
          37,
          37,
          37,
          37,
          37,
          37,
          37,
          37,
          38,
          38,
          38,
          38,
          38,
          38,
          38,
          38,
          38,
          38,
          38,
          40,
          40,
          40,
          40,
          40,
          40,
          40,
          40,
          40,
          40,
          40,
          40,
          40,
          40,
          40,
          40,
          40,
          40,
          40,
          40,
          40,
          40,
          40,
          40,
          40,
          40,
          40,
          40,
          40,
          40,
          40,
          40,
          42,
          42,
          42,
          42,
          42,
          42,
          42,
          42,
          42,
          42,
          42,
          42,
          42,
          42,
          42,
          42,
          42,
          42,
          43,
          43,
          43,
          43,
          43,
          43,
          43,
          43,
          43,
          45,
          45,
          45,
          45,
          45,
          45,
          45,
          45,
          45,
          45,
          45,
          45,
          45,
          45,
          45,
          45,
          45,
          45,
          45,
          45,
          45,
          45,
          45,
          45,
          45,
          45,
          45,
          45,
          45,
          45,
          45,
          48,
          48,
          48,
          48,
          48,
          48,
          48,
          48,
          48,
          48,
          48,
          48,
          48,
          48,
          48,
          48,
          48,
          48,
          50,
          50,
          50,
          50,
          50,
          50,
          50,
          50,
          50,
          50,
          50,
          50,
          50,
          50,
          50,
          50,
          50,
          50,
          50,
          50,
          50,
          50,
          50,
          50,
          50,
          50,
          50,
          50,
          50,
          50,
          50,
          50,
          50,
          50,
          50,
          50,
          50,
          50,
          55,
          55,
          55,
          55,
          55,
          55,
          55,
          55,
          55,
          55,
          55,
          55,
          55,
          55,
          55,
          55,
          55,
          55,
          55,
          55,
          55,
          60,
          60,
          60,
          60,
          60,
          60,
          60,
          60,
          60,
          60,
          60,
          60,
          60,
          60,
          60,
          60,
          60,
          60,
          60,
          60,
          60,
          65,
          65,
          65,
          65,
          65,
          65,
          65,
          65,
          65,
          65,
          65,
          65,
          65,
          65,
          65,
          65,
          65,
          65,
          65,
          65,
          65,
          65,
          65,
          65,
          65,
          65,
          65,
          65,
          65,
          65,
          65,
          65,
          65,
          65,
          65,
          65,
          65,
          70,
          70,
          70,
          70,
          70,
          70,
          70,
          70,
          70,
          70,
          70,
          70,
          72,
          72,
          72,
          72,
          72,
          72,
          72,
          72,
          72,
          72,
          75,
          75,
          75,
          75,
          75,
          75,
          75,
          75,
          75,
          75,
          75,
          75,
          75,
          75,
          75,
          75,
          75,
          75,
          75,
          75,
          78,
          78,
          78,
          78,
          78,
          78,
          78,
          78,
          78,
          78,
          78,
          80,
          80,
          80,
          80,
          80,
          80,
          80,
          80,
          80,
          80,
          80,
          80,
          80,
          80,
          80,
          80,
          80,
          80,
          80,
          80,
          83,
          83,
          83,
          83,
          83,
          83,
          83,
          83,
          83,
          85,
          85,
          85,
          85,
          85,
          85,
          85,
          85,
          85,
          85,
          85,
          85,
          85,
          85,
          85,
          85,
          85,
          85,
          85,
          85,
          88,
          90,
          90,
          90,
          90,
          90,
          90,
          90,
          90,
          90,
          90,
          90,
          90,
          90,
          90,
          90,
          90,
          90,
          90,
          90,
          90,
          95,
          95,
          95,
          95,
          95,
          95,
          95,
          95,
          95,
          95,
          95,
          95,
          95,
          95,
          95,
          95,
          95,
          95,
          95,
          100,
          100,
          100,
          100,
          100,
          100,
          100,
          100,
          100,
          100,
          100,
          100,
          100,
          100,
          100,
          100,
          100,
          100,
          100,
          105,
          105,
          105,
          105,
          105,
          105,
          105,
          105,
          105,
          110,
          110,
          110,
          110,
          110,
          110,
          110,
          110,
          110
         ],
         "xaxis": "x",
         "y": [
          3.2568494493306575,
          3.2568494493306575,
          3.227425142799319,
          3.227425142799319,
          3.168576529736642,
          3.168576529736642,
          3.168576529736642,
          3.168576529736642,
          3.168576529736642,
          3.168576529736642,
          3.168576529736642,
          3.168576529736642,
          3.168576529736642,
          3.168576529736642,
          3.168576529736642,
          3.168576529736642,
          3.168576529736642,
          3.1391522232053033,
          3.1391522232053033,
          3.1391522232053033,
          3.1391522232053033,
          3.1391522232053033,
          3.1391522232053033,
          3.1391522232053033,
          3.1391522232053033,
          3.1391522232053033,
          3.1391522232053033,
          3.1097279166739646,
          3.1097279166739646,
          3.1097279166739646,
          3.1097279166739646,
          3.1097279166739646,
          3.1097279166739646,
          3.1097279166739646,
          3.1097279166739646,
          3.1097279166739646,
          3.1097279166739646,
          3.1097279166739646,
          3.1097279166739646,
          3.1097279166739646,
          3.1097279166739646,
          3.1097279166739646,
          3.1097279166739646,
          3.1097279166739646,
          3.1097279166739646,
          3.1097279166739646,
          3.1097279166739646,
          3.1097279166739646,
          3.1097279166739646,
          3.1097279166739646,
          3.1097279166739646,
          3.1097279166739646,
          3.1097279166739646,
          3.1097279166739646,
          3.1097279166739646,
          3.1097279166739646,
          3.1097279166739646,
          3.1097279166739646,
          3.0803036101426264,
          3.0803036101426264,
          3.0803036101426264,
          3.0803036101426264,
          3.0803036101426264,
          3.0803036101426264,
          3.0803036101426264,
          3.0803036101426264,
          3.0803036101426264,
          3.0803036101426264,
          3.050879303611288,
          3.050879303611288,
          3.050879303611288,
          3.050879303611288,
          3.050879303611288,
          3.050879303611288,
          3.050879303611288,
          3.050879303611288,
          3.050879303611288,
          3.050879303611288,
          3.050879303611288,
          3.050879303611288,
          3.050879303611288,
          3.050879303611288,
          3.050879303611288,
          3.050879303611288,
          3.050879303611288,
          3.050879303611288,
          3.050879303611288,
          3.050879303611288,
          3.050879303611288,
          3.050879303611288,
          3.050879303611288,
          3.050879303611288,
          3.050879303611288,
          3.050879303611288,
          3.050879303611288,
          3.050879303611288,
          3.050879303611288,
          3.050879303611288,
          3.050879303611288,
          3.050879303611288,
          3.050879303611288,
          3.050879303611288,
          3.050879303611288,
          3.050879303611288,
          3.050879303611288,
          3.050879303611288,
          3.050879303611288,
          3.050879303611288,
          3.050879303611288,
          3.050879303611288,
          3.050879303611288,
          3.050879303611288,
          3.050879303611288,
          3.050879303611288,
          3.050879303611288,
          3.050879303611288,
          3.050879303611288,
          3.050879303611288,
          3.021454997079949,
          3.021454997079949,
          3.021454997079949,
          3.021454997079949,
          3.021454997079949,
          3.021454997079949,
          3.021454997079949,
          3.021454997079949,
          3.021454997079949,
          3.021454997079949,
          3.021454997079949,
          3.021454997079949,
          3.021454997079949,
          3.021454997079949,
          3.021454997079949,
          3.021454997079949,
          3.021454997079949,
          3.021454997079949,
          3.021454997079949,
          2.992030690548611,
          2.992030690548611,
          2.992030690548611,
          2.992030690548611,
          2.992030690548611,
          2.992030690548611,
          2.992030690548611,
          2.992030690548611,
          2.992030690548611,
          2.992030690548611,
          2.992030690548611,
          2.992030690548611,
          2.992030690548611,
          2.992030690548611,
          2.992030690548611,
          2.992030690548611,
          2.992030690548611,
          2.992030690548611,
          2.9626063840172723,
          2.9626063840172723,
          2.9626063840172723,
          2.9626063840172723,
          2.9626063840172723,
          2.9626063840172723,
          2.9626063840172723,
          2.9626063840172723,
          2.9626063840172723,
          2.9626063840172723,
          2.9626063840172723,
          2.9626063840172723,
          2.9626063840172723,
          2.9626063840172723,
          2.9626063840172723,
          2.9626063840172723,
          2.9626063840172723,
          2.9626063840172723,
          2.9626063840172723,
          2.9626063840172723,
          2.9626063840172723,
          2.9626063840172723,
          2.9626063840172723,
          2.9626063840172723,
          2.9626063840172723,
          2.9626063840172723,
          2.9626063840172723,
          2.9626063840172723,
          2.9626063840172723,
          2.9626063840172723,
          2.9626063840172723,
          2.9626063840172723,
          2.9037577709545954,
          2.9037577709545954,
          2.9037577709545954,
          2.9037577709545954,
          2.9037577709545954,
          2.9037577709545954,
          2.9037577709545954,
          2.9037577709545954,
          2.9037577709545954,
          2.9037577709545954,
          2.9037577709545954,
          2.9037577709545954,
          2.9037577709545954,
          2.9037577709545954,
          2.9037577709545954,
          2.9037577709545954,
          2.9037577709545954,
          2.9037577709545954,
          2.9037577709545954,
          2.9037577709545954,
          2.9037577709545954,
          2.9037577709545954,
          2.9037577709545954,
          2.9037577709545954,
          2.9037577709545954,
          2.9037577709545954,
          2.9037577709545954,
          2.8743334644232568,
          2.8743334644232568,
          2.8743334644232568,
          2.8743334644232568,
          2.8743334644232568,
          2.8743334644232568,
          2.8743334644232568,
          2.8743334644232568,
          2.8743334644232568,
          2.8743334644232568,
          2.8743334644232568,
          2.8743334644232568,
          2.8743334644232568,
          2.8743334644232568,
          2.8743334644232568,
          2.8743334644232568,
          2.8743334644232568,
          2.8743334644232568,
          2.8743334644232568,
          2.8743334644232568,
          2.8743334644232568,
          2.8743334644232568,
          2.8743334644232568,
          2.8743334644232568,
          2.8743334644232568,
          2.8743334644232568,
          2.8743334644232568,
          2.8743334644232568,
          2.8743334644232568,
          2.8743334644232568,
          2.8743334644232568,
          2.8743334644232568,
          2.8743334644232568,
          2.81548485136058,
          2.81548485136058,
          2.81548485136058,
          2.81548485136058,
          2.81548485136058,
          2.81548485136058,
          2.81548485136058,
          2.81548485136058,
          2.81548485136058,
          2.81548485136058,
          2.81548485136058,
          2.81548485136058,
          2.81548485136058,
          2.81548485136058,
          2.81548485136058,
          2.81548485136058,
          2.81548485136058,
          2.81548485136058,
          2.81548485136058,
          2.81548485136058,
          2.81548485136058,
          2.81548485136058,
          2.81548485136058,
          2.81548485136058,
          2.81548485136058,
          2.81548485136058,
          2.81548485136058,
          2.81548485136058,
          2.81548485136058,
          2.81548485136058,
          2.81548485136058,
          2.81548485136058,
          2.81548485136058,
          2.81548485136058,
          2.81548485136058,
          2.81548485136058,
          2.81548485136058,
          2.81548485136058,
          2.81548485136058,
          2.81548485136058,
          2.81548485136058,
          2.81548485136058,
          2.81548485136058,
          2.81548485136058,
          2.81548485136058,
          2.7860605448292413,
          2.7860605448292413,
          2.7860605448292413,
          2.7860605448292413,
          2.7860605448292413,
          2.7860605448292413,
          2.7860605448292413,
          2.7860605448292413,
          2.7860605448292413,
          2.7860605448292413,
          2.7860605448292413,
          2.7860605448292413,
          2.7860605448292413,
          2.7860605448292413,
          2.7860605448292413,
          2.7860605448292413,
          2.7860605448292413,
          2.7860605448292413,
          2.7566362382979026,
          2.7566362382979026,
          2.7566362382979026,
          2.7566362382979026,
          2.7566362382979026,
          2.7566362382979026,
          2.7566362382979026,
          2.7566362382979026,
          2.7566362382979026,
          2.7566362382979026,
          2.7566362382979026,
          2.7566362382979026,
          2.7566362382979026,
          2.7566362382979026,
          2.7566362382979026,
          2.7566362382979026,
          2.7566362382979026,
          2.7566362382979026,
          2.7566362382979026,
          2.7566362382979026,
          2.7566362382979026,
          2.7566362382979026,
          2.7566362382979026,
          2.7566362382979026,
          2.7566362382979026,
          2.7566362382979026,
          2.7566362382979026,
          2.7566362382979026,
          2.7566362382979026,
          2.7566362382979026,
          2.7566362382979026,
          2.7566362382979026,
          2.7566362382979026,
          2.7566362382979026,
          2.7566362382979026,
          2.7566362382979026,
          2.7566362382979026,
          2.7566362382979026,
          2.7272119317665644,
          2.7272119317665644,
          2.7272119317665644,
          2.7272119317665644,
          2.7272119317665644,
          2.7272119317665644,
          2.7272119317665644,
          2.7272119317665644,
          2.7272119317665644,
          2.7272119317665644,
          2.7272119317665644,
          2.7272119317665644,
          2.7272119317665644,
          2.7272119317665644,
          2.7272119317665644,
          2.7272119317665644,
          2.7272119317665644,
          2.7272119317665644,
          2.6977876252352258,
          2.6977876252352258,
          2.6977876252352258,
          2.6977876252352258,
          2.6977876252352258,
          2.6977876252352258,
          2.6977876252352258,
          2.6977876252352258,
          2.6977876252352258,
          2.6683633187038875,
          2.6683633187038875,
          2.6683633187038875,
          2.6683633187038875,
          2.6683633187038875,
          2.6683633187038875,
          2.6683633187038875,
          2.6683633187038875,
          2.6683633187038875,
          2.6683633187038875,
          2.6683633187038875,
          2.6683633187038875,
          2.6683633187038875,
          2.6683633187038875,
          2.6683633187038875,
          2.6683633187038875,
          2.6683633187038875,
          2.6683633187038875,
          2.6683633187038875,
          2.6683633187038875,
          2.6683633187038875,
          2.6683633187038875,
          2.6095147056412102,
          2.6095147056412102,
          2.6095147056412102,
          2.6095147056412102,
          2.6095147056412102,
          2.6095147056412102,
          2.6095147056412102,
          2.6095147056412102,
          2.6095147056412102,
          2.6095147056412102,
          2.6095147056412102,
          2.6095147056412102,
          2.6095147056412102,
          2.6095147056412102,
          2.6095147056412102,
          2.6095147056412102,
          2.6095147056412102,
          2.6095147056412102,
          2.6095147056412102,
          2.6095147056412102,
          2.6095147056412102,
          2.6095147056412102,
          2.6095147056412102,
          2.6095147056412102,
          2.6095147056412102,
          2.6095147056412102,
          2.6095147056412102,
          2.6095147056412102,
          2.5800903991098716,
          2.5800903991098716,
          2.5800903991098716,
          2.5800903991098716,
          2.5506660925785334,
          2.5212417860471947,
          2.5212417860471947,
          2.5212417860471947,
          2.5212417860471947,
          2.5212417860471947,
          2.5212417860471947,
          2.5212417860471947,
          2.5212417860471947,
          2.5212417860471947,
          2.5212417860471947,
          2.5212417860471947,
          2.5212417860471947,
          2.5212417860471947,
          2.5212417860471947,
          2.5212417860471947,
          2.5212417860471947,
          2.5212417860471947,
          2.5212417860471947,
          2.5212417860471947,
          2.5212417860471947,
          2.5212417860471947,
          2.5212417860471947,
          2.5212417860471947,
          2.5212417860471947,
          2.5212417860471947,
          2.5212417860471947,
          2.5212417860471947,
          2.5212417860471947,
          2.5212417860471947,
          2.5212417860471947,
          2.5212417860471947,
          2.5212417860471947,
          2.5212417860471947,
          2.5212417860471947,
          2.5212417860471947,
          2.5212417860471947,
          2.5212417860471947,
          2.5212417860471947,
          2.5212417860471947,
          2.5212417860471947,
          2.5212417860471947,
          2.5212417860471947,
          2.5212417860471947,
          2.5212417860471947,
          2.5212417860471947,
          2.5212417860471947,
          2.5212417860471947,
          2.5212417860471947,
          2.5212417860471947,
          2.5212417860471947,
          2.5212417860471947,
          2.5212417860471947,
          2.5212417860471947,
          2.5212417860471947,
          2.5212417860471947,
          2.5212417860471947,
          2.5212417860471947,
          2.5212417860471947,
          2.5212417860471947,
          2.5212417860471947,
          2.5212417860471947,
          2.5212417860471947,
          2.5212417860471947,
          2.5212417860471947,
          2.5212417860471947,
          2.5212417860471947,
          2.4329688664531792,
          2.4329688664531792,
          2.4329688664531792,
          2.4329688664531792,
          2.4329688664531792,
          2.4329688664531792,
          2.4329688664531792,
          2.4329688664531792,
          2.4329688664531792,
          2.4329688664531792,
          2.4329688664531792,
          2.4329688664531792,
          2.4329688664531792,
          2.4329688664531792,
          2.4329688664531792,
          2.4329688664531792,
          2.4329688664531792,
          2.4329688664531792,
          2.4329688664531792,
          2.4329688664531792,
          2.4329688664531792,
          2.3741202533905024,
          2.3741202533905024,
          2.3741202533905024,
          2.3741202533905024,
          2.3741202533905024,
          2.3741202533905024,
          2.3741202533905024,
          2.3741202533905024,
          2.3741202533905024,
          2.3741202533905024,
          2.3741202533905024,
          2.3741202533905024,
          2.3741202533905024,
          2.3741202533905024,
          2.3741202533905024,
          2.3741202533905024,
          2.3741202533905024,
          2.3741202533905024,
          2.3741202533905024,
          2.3741202533905024,
          2.3741202533905024,
          2.3741202533905024,
          2.3741202533905024,
          2.3741202533905024,
          2.3741202533905024,
          2.3741202533905024,
          2.3741202533905024,
          2.3741202533905024,
          2.3741202533905024,
          2.3741202533905024,
          2.3741202533905024,
          2.3446959468591637,
          2.3152716403278255,
          2.3152716403278255,
          2.3152716403278255,
          2.3152716403278255,
          2.3152716403278255,
          2.3152716403278255,
          2.3152716403278255,
          2.3152716403278255,
          2.3152716403278255,
          2.3152716403278255,
          2.3152716403278255,
          2.3152716403278255,
          2.3152716403278255,
          2.3152716403278255,
          2.3152716403278255,
          2.3152716403278255,
          2.3152716403278255,
          2.3152716403278255,
          2.3152716403278255,
          2.3152716403278255,
          2.3152716403278255,
          2.3152716403278255,
          2.3152716403278255,
          2.3152716403278255,
          2.3152716403278255,
          2.3152716403278255,
          2.3152716403278255,
          2.3152716403278255,
          2.3152716403278255,
          2.3152716403278255,
          2.3152716403278255,
          2.3152716403278255,
          2.3152716403278255,
          2.3152716403278255,
          2.3152716403278255,
          2.3152716403278255,
          2.285847333796487,
          2.285847333796487,
          2.285847333796487,
          2.285847333796487,
          2.285847333796487,
          2.285847333796487,
          2.285847333796487,
          2.285847333796487,
          2.285847333796487,
          2.285847333796487,
          2.285847333796487,
          2.2269987207338096,
          2.2269987207338096,
          2.2269987207338096,
          2.2269987207338096,
          2.2269987207338096,
          2.2269987207338096,
          2.2269987207338096,
          2.2269987207338096,
          2.2269987207338096,
          2.2269987207338096,
          2.2269987207338096,
          2.2269987207338096,
          2.2269987207338096,
          2.2269987207338096,
          2.2269987207338096,
          2.2269987207338096,
          2.2269987207338096,
          2.2269987207338096,
          2.2269987207338096,
          2.2269987207338096,
          2.2269987207338096,
          2.2269987207338096,
          2.2269987207338096,
          2.2269987207338096,
          2.2269987207338096,
          2.2269987207338096,
          2.2269987207338096,
          2.2269987207338096,
          2.2269987207338096,
          2.2269987207338096,
          2.2269987207338096,
          2.2269987207338096,
          2.1681501076711327,
          2.1681501076711327,
          2.1681501076711327,
          2.1681501076711327,
          2.1681501076711327,
          2.1681501076711327,
          2.1681501076711327,
          2.1681501076711327,
          2.1681501076711327,
          2.1681501076711327,
          2.1681501076711327,
          2.1681501076711327,
          2.1681501076711327,
          2.1681501076711327,
          2.1681501076711327,
          2.1681501076711327,
          2.1681501076711327,
          2.1681501076711327,
          2.1387258011397945,
          2.1387258011397945,
          2.1387258011397945,
          2.1387258011397945,
          2.1387258011397945,
          2.1387258011397945,
          2.1387258011397945,
          2.1387258011397945,
          2.1387258011397945,
          2.079877188077117,
          2.079877188077117,
          2.079877188077117,
          2.079877188077117,
          2.079877188077117,
          2.079877188077117,
          2.079877188077117,
          2.079877188077117,
          2.079877188077117,
          2.079877188077117,
          2.079877188077117,
          2.079877188077117,
          2.079877188077117,
          2.079877188077117,
          2.079877188077117,
          2.079877188077117,
          2.079877188077117,
          2.079877188077117,
          2.079877188077117,
          2.079877188077117,
          2.079877188077117,
          2.079877188077117,
          2.079877188077117,
          2.079877188077117,
          2.079877188077117,
          2.079877188077117,
          2.079877188077117,
          2.079877188077117,
          2.079877188077117,
          2.079877188077117,
          2.079877188077117,
          1.9916042684831017,
          1.9916042684831017,
          1.9916042684831017,
          1.9916042684831017,
          1.9916042684831017,
          1.9916042684831017,
          1.9916042684831017,
          1.9916042684831017,
          1.9916042684831017,
          1.9916042684831017,
          1.9916042684831017,
          1.9916042684831017,
          1.9916042684831017,
          1.9916042684831017,
          1.9916042684831017,
          1.9916042684831017,
          1.9916042684831017,
          1.9916042684831017,
          1.9327556554204248,
          1.9327556554204248,
          1.9327556554204248,
          1.9327556554204248,
          1.9327556554204248,
          1.9327556554204248,
          1.9327556554204248,
          1.9327556554204248,
          1.9327556554204248,
          1.9327556554204248,
          1.9327556554204248,
          1.9327556554204248,
          1.9327556554204248,
          1.9327556554204248,
          1.9327556554204248,
          1.9327556554204248,
          1.9327556554204248,
          1.9327556554204248,
          1.9327556554204248,
          1.9327556554204248,
          1.9327556554204248,
          1.9327556554204248,
          1.9327556554204248,
          1.9327556554204248,
          1.9327556554204248,
          1.9327556554204248,
          1.9327556554204248,
          1.9327556554204248,
          1.9327556554204248,
          1.9327556554204248,
          1.9327556554204248,
          1.9327556554204248,
          1.9327556554204248,
          1.9327556554204248,
          1.9327556554204248,
          1.9327556554204248,
          1.9327556554204248,
          1.9327556554204248,
          1.7856341227637322,
          1.7856341227637322,
          1.7856341227637322,
          1.7856341227637322,
          1.7856341227637322,
          1.7856341227637322,
          1.7856341227637322,
          1.7856341227637322,
          1.7856341227637322,
          1.7856341227637322,
          1.7856341227637322,
          1.7856341227637322,
          1.7856341227637322,
          1.7856341227637322,
          1.7856341227637322,
          1.7856341227637322,
          1.7856341227637322,
          1.7856341227637322,
          1.7856341227637322,
          1.7856341227637322,
          1.7856341227637322,
          1.6385125901070396,
          1.6385125901070396,
          1.6385125901070396,
          1.6385125901070396,
          1.6385125901070396,
          1.6385125901070396,
          1.6385125901070396,
          1.6385125901070396,
          1.6385125901070396,
          1.6385125901070396,
          1.6385125901070396,
          1.6385125901070396,
          1.6385125901070396,
          1.6385125901070396,
          1.6385125901070396,
          1.6385125901070396,
          1.6385125901070396,
          1.6385125901070396,
          1.6385125901070396,
          1.6385125901070396,
          1.6385125901070396,
          1.4913910574503473,
          1.4913910574503473,
          1.4913910574503473,
          1.4913910574503473,
          1.4913910574503473,
          1.4913910574503473,
          1.4913910574503473,
          1.4913910574503473,
          1.4913910574503473,
          1.4913910574503473,
          1.4913910574503473,
          1.4913910574503473,
          1.4913910574503473,
          1.4913910574503473,
          1.4913910574503473,
          1.4913910574503473,
          1.4913910574503473,
          1.4913910574503473,
          1.4913910574503473,
          1.4913910574503473,
          1.4913910574503473,
          1.4913910574503473,
          1.4913910574503473,
          1.4913910574503473,
          1.4913910574503473,
          1.4913910574503473,
          1.4913910574503473,
          1.4913910574503473,
          1.4913910574503473,
          1.4913910574503473,
          1.4913910574503473,
          1.4913910574503473,
          1.4913910574503473,
          1.4913910574503473,
          1.4913910574503473,
          1.4913910574503473,
          1.4913910574503473,
          1.344269524793655,
          1.344269524793655,
          1.344269524793655,
          1.344269524793655,
          1.344269524793655,
          1.344269524793655,
          1.344269524793655,
          1.344269524793655,
          1.344269524793655,
          1.344269524793655,
          1.344269524793655,
          1.344269524793655,
          1.2854209117309776,
          1.2854209117309776,
          1.2854209117309776,
          1.2854209117309776,
          1.2854209117309776,
          1.2854209117309776,
          1.2854209117309776,
          1.2854209117309776,
          1.2854209117309776,
          1.2854209117309776,
          1.197147992136962,
          1.197147992136962,
          1.197147992136962,
          1.197147992136962,
          1.197147992136962,
          1.197147992136962,
          1.197147992136962,
          1.197147992136962,
          1.197147992136962,
          1.197147992136962,
          1.197147992136962,
          1.197147992136962,
          1.197147992136962,
          1.197147992136962,
          1.197147992136962,
          1.197147992136962,
          1.197147992136962,
          1.197147992136962,
          1.197147992136962,
          1.197147992136962,
          1.1088750725429466,
          1.1088750725429466,
          1.1088750725429466,
          1.1088750725429466,
          1.1088750725429466,
          1.1088750725429466,
          1.1088750725429466,
          1.1088750725429466,
          1.1088750725429466,
          1.1088750725429466,
          1.1088750725429466,
          1.0500264594802697,
          1.0500264594802697,
          1.0500264594802697,
          1.0500264594802697,
          1.0500264594802697,
          1.0500264594802697,
          1.0500264594802697,
          1.0500264594802697,
          1.0500264594802697,
          1.0500264594802697,
          1.0500264594802697,
          1.0500264594802697,
          1.0500264594802697,
          1.0500264594802697,
          1.0500264594802697,
          1.0500264594802697,
          1.0500264594802697,
          1.0500264594802697,
          1.0500264594802697,
          1.0500264594802697,
          0.9617535398862542,
          0.9617535398862542,
          0.9617535398862542,
          0.9617535398862542,
          0.9617535398862542,
          0.9617535398862542,
          0.9617535398862542,
          0.9617535398862542,
          0.9617535398862542,
          0.9029049268235774,
          0.9029049268235774,
          0.9029049268235774,
          0.9029049268235774,
          0.9029049268235774,
          0.9029049268235774,
          0.9029049268235774,
          0.9029049268235774,
          0.9029049268235774,
          0.9029049268235774,
          0.9029049268235774,
          0.9029049268235774,
          0.9029049268235774,
          0.9029049268235774,
          0.9029049268235774,
          0.9029049268235774,
          0.9029049268235774,
          0.9029049268235774,
          0.9029049268235774,
          0.9029049268235774,
          0.8146320072295619,
          0.7557833941668846,
          0.7557833941668846,
          0.7557833941668846,
          0.7557833941668846,
          0.7557833941668846,
          0.7557833941668846,
          0.7557833941668846,
          0.7557833941668846,
          0.7557833941668846,
          0.7557833941668846,
          0.7557833941668846,
          0.7557833941668846,
          0.7557833941668846,
          0.7557833941668846,
          0.7557833941668846,
          0.7557833941668846,
          0.7557833941668846,
          0.7557833941668846,
          0.7557833941668846,
          0.7557833941668846,
          0.6086618615101922,
          0.6086618615101922,
          0.6086618615101922,
          0.6086618615101922,
          0.6086618615101922,
          0.6086618615101922,
          0.6086618615101922,
          0.6086618615101922,
          0.6086618615101922,
          0.6086618615101922,
          0.6086618615101922,
          0.6086618615101922,
          0.6086618615101922,
          0.6086618615101922,
          0.6086618615101922,
          0.6086618615101922,
          0.6086618615101922,
          0.6086618615101922,
          0.6086618615101922,
          0.4615403288534998,
          0.4615403288534998,
          0.4615403288534998,
          0.4615403288534998,
          0.4615403288534998,
          0.4615403288534998,
          0.4615403288534998,
          0.4615403288534998,
          0.4615403288534998,
          0.4615403288534998,
          0.4615403288534998,
          0.4615403288534998,
          0.4615403288534998,
          0.4615403288534998,
          0.4615403288534998,
          0.4615403288534998,
          0.4615403288534998,
          0.4615403288534998,
          0.4615403288534998,
          0.314418796196807,
          0.314418796196807,
          0.314418796196807,
          0.314418796196807,
          0.314418796196807,
          0.314418796196807,
          0.314418796196807,
          0.314418796196807,
          0.314418796196807,
          0.16729726354011465,
          0.16729726354011465,
          0.16729726354011465,
          0.16729726354011465,
          0.16729726354011465,
          0.16729726354011465,
          0.16729726354011465,
          0.16729726354011465,
          0.16729726354011465
         ],
         "yaxis": "y"
        }
       ],
       "layout": {
        "legend": {
         "tracegroupgap": 0
        },
        "margin": {
         "t": 60
        },
        "template": {
         "data": {
          "bar": [
           {
            "error_x": {
             "color": "#2a3f5f"
            },
            "error_y": {
             "color": "#2a3f5f"
            },
            "marker": {
             "line": {
              "color": "#E5ECF6",
              "width": 0.5
             },
             "pattern": {
              "fillmode": "overlay",
              "size": 10,
              "solidity": 0.2
             }
            },
            "type": "bar"
           }
          ],
          "barpolar": [
           {
            "marker": {
             "line": {
              "color": "#E5ECF6",
              "width": 0.5
             },
             "pattern": {
              "fillmode": "overlay",
              "size": 10,
              "solidity": 0.2
             }
            },
            "type": "barpolar"
           }
          ],
          "carpet": [
           {
            "aaxis": {
             "endlinecolor": "#2a3f5f",
             "gridcolor": "white",
             "linecolor": "white",
             "minorgridcolor": "white",
             "startlinecolor": "#2a3f5f"
            },
            "baxis": {
             "endlinecolor": "#2a3f5f",
             "gridcolor": "white",
             "linecolor": "white",
             "minorgridcolor": "white",
             "startlinecolor": "#2a3f5f"
            },
            "type": "carpet"
           }
          ],
          "choropleth": [
           {
            "colorbar": {
             "outlinewidth": 0,
             "ticks": ""
            },
            "type": "choropleth"
           }
          ],
          "contour": [
           {
            "colorbar": {
             "outlinewidth": 0,
             "ticks": ""
            },
            "colorscale": [
             [
              0,
              "#0d0887"
             ],
             [
              0.1111111111111111,
              "#46039f"
             ],
             [
              0.2222222222222222,
              "#7201a8"
             ],
             [
              0.3333333333333333,
              "#9c179e"
             ],
             [
              0.4444444444444444,
              "#bd3786"
             ],
             [
              0.5555555555555556,
              "#d8576b"
             ],
             [
              0.6666666666666666,
              "#ed7953"
             ],
             [
              0.7777777777777778,
              "#fb9f3a"
             ],
             [
              0.8888888888888888,
              "#fdca26"
             ],
             [
              1,
              "#f0f921"
             ]
            ],
            "type": "contour"
           }
          ],
          "contourcarpet": [
           {
            "colorbar": {
             "outlinewidth": 0,
             "ticks": ""
            },
            "type": "contourcarpet"
           }
          ],
          "heatmap": [
           {
            "colorbar": {
             "outlinewidth": 0,
             "ticks": ""
            },
            "colorscale": [
             [
              0,
              "#0d0887"
             ],
             [
              0.1111111111111111,
              "#46039f"
             ],
             [
              0.2222222222222222,
              "#7201a8"
             ],
             [
              0.3333333333333333,
              "#9c179e"
             ],
             [
              0.4444444444444444,
              "#bd3786"
             ],
             [
              0.5555555555555556,
              "#d8576b"
             ],
             [
              0.6666666666666666,
              "#ed7953"
             ],
             [
              0.7777777777777778,
              "#fb9f3a"
             ],
             [
              0.8888888888888888,
              "#fdca26"
             ],
             [
              1,
              "#f0f921"
             ]
            ],
            "type": "heatmap"
           }
          ],
          "heatmapgl": [
           {
            "colorbar": {
             "outlinewidth": 0,
             "ticks": ""
            },
            "colorscale": [
             [
              0,
              "#0d0887"
             ],
             [
              0.1111111111111111,
              "#46039f"
             ],
             [
              0.2222222222222222,
              "#7201a8"
             ],
             [
              0.3333333333333333,
              "#9c179e"
             ],
             [
              0.4444444444444444,
              "#bd3786"
             ],
             [
              0.5555555555555556,
              "#d8576b"
             ],
             [
              0.6666666666666666,
              "#ed7953"
             ],
             [
              0.7777777777777778,
              "#fb9f3a"
             ],
             [
              0.8888888888888888,
              "#fdca26"
             ],
             [
              1,
              "#f0f921"
             ]
            ],
            "type": "heatmapgl"
           }
          ],
          "histogram": [
           {
            "marker": {
             "pattern": {
              "fillmode": "overlay",
              "size": 10,
              "solidity": 0.2
             }
            },
            "type": "histogram"
           }
          ],
          "histogram2d": [
           {
            "colorbar": {
             "outlinewidth": 0,
             "ticks": ""
            },
            "colorscale": [
             [
              0,
              "#0d0887"
             ],
             [
              0.1111111111111111,
              "#46039f"
             ],
             [
              0.2222222222222222,
              "#7201a8"
             ],
             [
              0.3333333333333333,
              "#9c179e"
             ],
             [
              0.4444444444444444,
              "#bd3786"
             ],
             [
              0.5555555555555556,
              "#d8576b"
             ],
             [
              0.6666666666666666,
              "#ed7953"
             ],
             [
              0.7777777777777778,
              "#fb9f3a"
             ],
             [
              0.8888888888888888,
              "#fdca26"
             ],
             [
              1,
              "#f0f921"
             ]
            ],
            "type": "histogram2d"
           }
          ],
          "histogram2dcontour": [
           {
            "colorbar": {
             "outlinewidth": 0,
             "ticks": ""
            },
            "colorscale": [
             [
              0,
              "#0d0887"
             ],
             [
              0.1111111111111111,
              "#46039f"
             ],
             [
              0.2222222222222222,
              "#7201a8"
             ],
             [
              0.3333333333333333,
              "#9c179e"
             ],
             [
              0.4444444444444444,
              "#bd3786"
             ],
             [
              0.5555555555555556,
              "#d8576b"
             ],
             [
              0.6666666666666666,
              "#ed7953"
             ],
             [
              0.7777777777777778,
              "#fb9f3a"
             ],
             [
              0.8888888888888888,
              "#fdca26"
             ],
             [
              1,
              "#f0f921"
             ]
            ],
            "type": "histogram2dcontour"
           }
          ],
          "mesh3d": [
           {
            "colorbar": {
             "outlinewidth": 0,
             "ticks": ""
            },
            "type": "mesh3d"
           }
          ],
          "parcoords": [
           {
            "line": {
             "colorbar": {
              "outlinewidth": 0,
              "ticks": ""
             }
            },
            "type": "parcoords"
           }
          ],
          "pie": [
           {
            "automargin": true,
            "type": "pie"
           }
          ],
          "scatter": [
           {
            "fillpattern": {
             "fillmode": "overlay",
             "size": 10,
             "solidity": 0.2
            },
            "type": "scatter"
           }
          ],
          "scatter3d": [
           {
            "line": {
             "colorbar": {
              "outlinewidth": 0,
              "ticks": ""
             }
            },
            "marker": {
             "colorbar": {
              "outlinewidth": 0,
              "ticks": ""
             }
            },
            "type": "scatter3d"
           }
          ],
          "scattercarpet": [
           {
            "marker": {
             "colorbar": {
              "outlinewidth": 0,
              "ticks": ""
             }
            },
            "type": "scattercarpet"
           }
          ],
          "scattergeo": [
           {
            "marker": {
             "colorbar": {
              "outlinewidth": 0,
              "ticks": ""
             }
            },
            "type": "scattergeo"
           }
          ],
          "scattergl": [
           {
            "marker": {
             "colorbar": {
              "outlinewidth": 0,
              "ticks": ""
             }
            },
            "type": "scattergl"
           }
          ],
          "scattermapbox": [
           {
            "marker": {
             "colorbar": {
              "outlinewidth": 0,
              "ticks": ""
             }
            },
            "type": "scattermapbox"
           }
          ],
          "scatterpolar": [
           {
            "marker": {
             "colorbar": {
              "outlinewidth": 0,
              "ticks": ""
             }
            },
            "type": "scatterpolar"
           }
          ],
          "scatterpolargl": [
           {
            "marker": {
             "colorbar": {
              "outlinewidth": 0,
              "ticks": ""
             }
            },
            "type": "scatterpolargl"
           }
          ],
          "scatterternary": [
           {
            "marker": {
             "colorbar": {
              "outlinewidth": 0,
              "ticks": ""
             }
            },
            "type": "scatterternary"
           }
          ],
          "surface": [
           {
            "colorbar": {
             "outlinewidth": 0,
             "ticks": ""
            },
            "colorscale": [
             [
              0,
              "#0d0887"
             ],
             [
              0.1111111111111111,
              "#46039f"
             ],
             [
              0.2222222222222222,
              "#7201a8"
             ],
             [
              0.3333333333333333,
              "#9c179e"
             ],
             [
              0.4444444444444444,
              "#bd3786"
             ],
             [
              0.5555555555555556,
              "#d8576b"
             ],
             [
              0.6666666666666666,
              "#ed7953"
             ],
             [
              0.7777777777777778,
              "#fb9f3a"
             ],
             [
              0.8888888888888888,
              "#fdca26"
             ],
             [
              1,
              "#f0f921"
             ]
            ],
            "type": "surface"
           }
          ],
          "table": [
           {
            "cells": {
             "fill": {
              "color": "#EBF0F8"
             },
             "line": {
              "color": "white"
             }
            },
            "header": {
             "fill": {
              "color": "#C8D4E3"
             },
             "line": {
              "color": "white"
             }
            },
            "type": "table"
           }
          ]
         },
         "layout": {
          "annotationdefaults": {
           "arrowcolor": "#2a3f5f",
           "arrowhead": 0,
           "arrowwidth": 1
          },
          "autotypenumbers": "strict",
          "coloraxis": {
           "colorbar": {
            "outlinewidth": 0,
            "ticks": ""
           }
          },
          "colorscale": {
           "diverging": [
            [
             0,
             "#8e0152"
            ],
            [
             0.1,
             "#c51b7d"
            ],
            [
             0.2,
             "#de77ae"
            ],
            [
             0.3,
             "#f1b6da"
            ],
            [
             0.4,
             "#fde0ef"
            ],
            [
             0.5,
             "#f7f7f7"
            ],
            [
             0.6,
             "#e6f5d0"
            ],
            [
             0.7,
             "#b8e186"
            ],
            [
             0.8,
             "#7fbc41"
            ],
            [
             0.9,
             "#4d9221"
            ],
            [
             1,
             "#276419"
            ]
           ],
           "sequential": [
            [
             0,
             "#0d0887"
            ],
            [
             0.1111111111111111,
             "#46039f"
            ],
            [
             0.2222222222222222,
             "#7201a8"
            ],
            [
             0.3333333333333333,
             "#9c179e"
            ],
            [
             0.4444444444444444,
             "#bd3786"
            ],
            [
             0.5555555555555556,
             "#d8576b"
            ],
            [
             0.6666666666666666,
             "#ed7953"
            ],
            [
             0.7777777777777778,
             "#fb9f3a"
            ],
            [
             0.8888888888888888,
             "#fdca26"
            ],
            [
             1,
             "#f0f921"
            ]
           ],
           "sequentialminus": [
            [
             0,
             "#0d0887"
            ],
            [
             0.1111111111111111,
             "#46039f"
            ],
            [
             0.2222222222222222,
             "#7201a8"
            ],
            [
             0.3333333333333333,
             "#9c179e"
            ],
            [
             0.4444444444444444,
             "#bd3786"
            ],
            [
             0.5555555555555556,
             "#d8576b"
            ],
            [
             0.6666666666666666,
             "#ed7953"
            ],
            [
             0.7777777777777778,
             "#fb9f3a"
            ],
            [
             0.8888888888888888,
             "#fdca26"
            ],
            [
             1,
             "#f0f921"
            ]
           ]
          },
          "colorway": [
           "#636efa",
           "#EF553B",
           "#00cc96",
           "#ab63fa",
           "#FFA15A",
           "#19d3f3",
           "#FF6692",
           "#B6E880",
           "#FF97FF",
           "#FECB52"
          ],
          "font": {
           "color": "#2a3f5f"
          },
          "geo": {
           "bgcolor": "white",
           "lakecolor": "white",
           "landcolor": "#E5ECF6",
           "showlakes": true,
           "showland": true,
           "subunitcolor": "white"
          },
          "hoverlabel": {
           "align": "left"
          },
          "hovermode": "closest",
          "mapbox": {
           "style": "light"
          },
          "paper_bgcolor": "white",
          "plot_bgcolor": "#E5ECF6",
          "polar": {
           "angularaxis": {
            "gridcolor": "white",
            "linecolor": "white",
            "ticks": ""
           },
           "bgcolor": "#E5ECF6",
           "radialaxis": {
            "gridcolor": "white",
            "linecolor": "white",
            "ticks": ""
           }
          },
          "scene": {
           "xaxis": {
            "backgroundcolor": "#E5ECF6",
            "gridcolor": "white",
            "gridwidth": 2,
            "linecolor": "white",
            "showbackground": true,
            "ticks": "",
            "zerolinecolor": "white"
           },
           "yaxis": {
            "backgroundcolor": "#E5ECF6",
            "gridcolor": "white",
            "gridwidth": 2,
            "linecolor": "white",
            "showbackground": true,
            "ticks": "",
            "zerolinecolor": "white"
           },
           "zaxis": {
            "backgroundcolor": "#E5ECF6",
            "gridcolor": "white",
            "gridwidth": 2,
            "linecolor": "white",
            "showbackground": true,
            "ticks": "",
            "zerolinecolor": "white"
           }
          },
          "shapedefaults": {
           "line": {
            "color": "#2a3f5f"
           }
          },
          "ternary": {
           "aaxis": {
            "gridcolor": "white",
            "linecolor": "white",
            "ticks": ""
           },
           "baxis": {
            "gridcolor": "white",
            "linecolor": "white",
            "ticks": ""
           },
           "bgcolor": "#E5ECF6",
           "caxis": {
            "gridcolor": "white",
            "linecolor": "white",
            "ticks": ""
           }
          },
          "title": {
           "x": 0.05
          },
          "xaxis": {
           "automargin": true,
           "gridcolor": "white",
           "linecolor": "white",
           "ticks": "",
           "title": {
            "standoff": 15
           },
           "zerolinecolor": "white",
           "zerolinewidth": 2
          },
          "yaxis": {
           "automargin": true,
           "gridcolor": "white",
           "linecolor": "white",
           "ticks": "",
           "title": {
            "standoff": 15
           },
           "zerolinecolor": "white",
           "zerolinewidth": 2
          }
         }
        },
        "xaxis": {
         "anchor": "y",
         "domain": [
          0,
          1
         ],
         "title": {
          "text": "Likes_Received_Per_Day"
         }
        },
        "yaxis": {
         "anchor": "x",
         "domain": [
          0,
          1
         ],
         "title": {
          "text": "Dominant_Emotion"
         }
        }
       }
      }
     },
     "metadata": {},
     "output_type": "display_data"
    }
   ],
   "source": [
    "fig = px.scatter(train_df, x=\"Likes_Received_Per_Day\", y=\"Dominant_Emotion\", trendline=\"ols\")\n",
    "fig.show()"
   ]
  },
  {
   "cell_type": "markdown",
   "metadata": {
    "id": "HI5gGdauOK8z"
   },
   "source": [
    "### Make the regression Equation"
   ]
  },
  {
   "cell_type": "code",
   "execution_count": 69,
   "metadata": {},
   "outputs": [],
   "source": [
    "regression_result = st.linregress(train_df['Likes_Received_Per_Day'], train_df['Dominant_Emotion'])"
   ]
  },
  {
   "cell_type": "code",
   "execution_count": 70,
   "metadata": {},
   "outputs": [
    {
     "name": "stdout",
     "output_type": "stream",
     "text": [
      "Correlation Coefficient: -0.461\n",
      "Coefficient of Determination: 0.212\n",
      "Regression Equation: y = -0.029 X + 3.404\n",
      "p-value: 0.000\n"
     ]
    }
   ],
   "source": [
    "# Calculate slope and intercept of regression equation\n",
    "slope, intercept, r, p_value, std_err = st.linregress(train_df['Likes_Received_Per_Day'], train_df['Dominant_Emotion'])\n",
    "\n",
    "print(\"Correlation Coefficient: {:0.3f}\".format(r))\n",
    "print(\"Coefficient of Determination: {:0.3f}\".format(np.power(r, 2)))\n",
    "\n",
    "print(\"Regression Equation: y = {0:0.3f} X + {1:0.3f}\".format(slope, intercept))\n",
    "print(\"p-value: {:0.3f}\".format(p_value))"
   ]
  },
  {
   "cell_type": "code",
   "execution_count": 82,
   "metadata": {},
   "outputs": [
    {
     "name": "stdout",
     "output_type": "stream",
     "text": [
      "If the like count exceeds -5, then we expect the emotion is Boredom.\n"
     ]
    }
   ],
   "source": [
    "X = \n",
    "y_pred = slope * X + intercept\n",
    "\n",
    "emotion_index = round(y_pred)\n",
    "emotion_mapping = {\n",
    "    0: \"Happiness\",\n",
    "    1: \"Neutral\",\n",
    "    2: \"Anxiety\",\n",
    "    3: \"Sadness\",\n",
    "    4: \"Boredom\",\n",
    "    5: \"Anger\"\n",
    "}\n",
    "\n",
    "emotion = emotion_mapping.get(emotion_index, \"Unknown\")\n",
    "print(f\"If the like count exceeds {X}, then we expect the emotion is {emotion}.\")"
   ]
  }
 ],
 "metadata": {
  "colab": {
   "collapsed_sections": [],
   "name": "Week 10 Correlation and Linear Regression.ipynb",
   "provenance": [],
   "toc_visible": true
  },
  "interpreter": {
   "hash": "d02b5a409cd03c37a3e8c86a2e989a5a7de1557959b5a1a376713baad4a452fb"
  },
  "kernelspec": {
   "display_name": "Python 3 (ipykernel)",
   "language": "python",
   "name": "python3"
  },
  "language_info": {
   "codemirror_mode": {
    "name": "ipython",
    "version": 3
   },
   "file_extension": ".py",
   "mimetype": "text/x-python",
   "name": "python",
   "nbconvert_exporter": "python",
   "pygments_lexer": "ipython3",
   "version": "undefined.undefined.undefined"
  }
 },
 "nbformat": 4,
 "nbformat_minor": 1
}
